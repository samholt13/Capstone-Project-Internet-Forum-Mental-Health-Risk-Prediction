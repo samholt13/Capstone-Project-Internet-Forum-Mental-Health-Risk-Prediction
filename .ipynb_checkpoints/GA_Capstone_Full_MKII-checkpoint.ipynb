{
 "cells": [
  {
   "cell_type": "code",
   "execution_count": 5,
   "metadata": {
    "ExecuteTime": {
     "end_time": "2020-06-01T19:30:37.089933Z",
     "start_time": "2020-06-01T19:30:37.015808Z"
    }
   },
   "outputs": [],
   "source": [
    "import pandas as pd\n",
    "import datetime as dt\n",
    "import seaborn as sns\n",
    "import matplotlib.pyplot as plt\n",
    "import numpy as np\n",
    "import scipy as scipy\n",
    "from tqdm import tqdm\n",
    "from scipy.sparse import csr_matrix\n",
    "from pandas.api.types import CategoricalDtype\n",
    "\n",
    "from sklearn.preprocessing import StandardScaler, MaxAbsScaler\n",
    "from sklearn.model_selection import train_test_split,cross_val_score, StratifiedKFold, GridSearchCV, KFold\n",
    "from sklearn.metrics import classification_report, confusion_matrix, accuracy_score, recall_score\n",
    "\n",
    "from sklearn.utils import resample\n",
    "\n",
    "from sklearn.linear_model import LogisticRegression \n",
    "from sklearn.neighbors import KNeighborsClassifier\n",
    "from sklearn.tree import DecisionTreeClassifier\n",
    "from sklearn.ensemble import BaggingClassifier, RandomForestClassifier, AdaBoostClassifier, GradientBoostingClassifier\n",
    "from sklearn.svm import LinearSVC, SVC\n",
    "from sklearn.neural_network import MLPClassifier\n",
    "from sklearn.naive_bayes import MultinomialNB\n",
    "\n",
    "\n",
    "from sklearn.metrics import plot_confusion_matrix"
   ]
  },
  {
   "cell_type": "markdown",
   "metadata": {},
   "source": [
    "#### Data Import & Initial Munging\n",
    "* Data was pulled from the bigquery pushshift.io dataset via SQL, with author, subreddit and count of number of posts from 2018\n",
    "* Full SQL query:\n",
    "    * SELECT author, subreddit, count(subreddit) FROM [fh-bigquery.reddit_posts.2018_12] WHERE author != \"[deleted]\" AND subreddit IS NOT NULL GROUP BY author, subreddit\n",
    "* Included all months for 2018 within SQL query\n"
   ]
  },
  {
   "cell_type": "code",
   "execution_count": 6,
   "metadata": {
    "ExecuteTime": {
     "end_time": "2020-06-01T19:31:18.409141Z",
     "start_time": "2020-06-01T19:30:37.092168Z"
    }
   },
   "outputs": [],
   "source": [
    "#import data, 3 files with all 2018 posts split into between\n",
    "raw_data_1 = pd.read_csv('/Users/samholt/GA/Capstone_Data_MKII/Capstone_MKII_Data_1.csv', sep = \",\")\n",
    "raw_data_2 = pd.read_csv('/Users/samholt/GA/Capstone_Data_MKII/Capstone_MKII_Data_2.csv', sep = \",\")\n",
    "raw_data_3 = pd.read_csv('/Users/samholt/GA/Capstone_Data_MKII/Capstone_MKII_Data_3.csv', sep = \",\")"
   ]
  },
  {
   "cell_type": "code",
   "execution_count": 7,
   "metadata": {
    "ExecuteTime": {
     "end_time": "2020-06-01T19:35:07.569692Z",
     "start_time": "2020-06-01T19:31:18.418877Z"
    }
   },
   "outputs": [],
   "source": [
    "# merge dataframe\n",
    "df_first = pd.merge(raw_data_1, raw_data_2, on=[\"author\", \"subreddit\"], how= \"outer\" )\n",
    "df= pd.merge(raw_data_3, df_first, on=[\"author\", \"subreddit\"], how= \"outer\" )"
   ]
  },
  {
   "cell_type": "code",
   "execution_count": 8,
   "metadata": {
    "ExecuteTime": {
     "end_time": "2020-06-01T19:35:07.829579Z",
     "start_time": "2020-06-01T19:35:07.589955Z"
    }
   },
   "outputs": [
    {
     "data": {
      "text/html": [
       "<div>\n",
       "<style scoped>\n",
       "    .dataframe tbody tr th:only-of-type {\n",
       "        vertical-align: middle;\n",
       "    }\n",
       "\n",
       "    .dataframe tbody tr th {\n",
       "        vertical-align: top;\n",
       "    }\n",
       "\n",
       "    .dataframe thead th {\n",
       "        text-align: right;\n",
       "    }\n",
       "</style>\n",
       "<table border=\"1\" class=\"dataframe\">\n",
       "  <thead>\n",
       "    <tr style=\"text-align: right;\">\n",
       "      <th></th>\n",
       "      <th>author</th>\n",
       "      <th>subreddit</th>\n",
       "      <th>f0_</th>\n",
       "      <th>f0__x</th>\n",
       "      <th>f0__y</th>\n",
       "    </tr>\n",
       "  </thead>\n",
       "  <tbody>\n",
       "    <tr>\n",
       "      <th>0</th>\n",
       "      <td>businessbrand121</td>\n",
       "      <td>business</td>\n",
       "      <td>8.0</td>\n",
       "      <td>NaN</td>\n",
       "      <td>NaN</td>\n",
       "    </tr>\n",
       "    <tr>\n",
       "      <th>1</th>\n",
       "      <td>GenericManChild</td>\n",
       "      <td>starbound</td>\n",
       "      <td>9.0</td>\n",
       "      <td>1.0</td>\n",
       "      <td>1.0</td>\n",
       "    </tr>\n",
       "    <tr>\n",
       "      <th>2</th>\n",
       "      <td>AutoModerator</td>\n",
       "      <td>AroundTheNFL</td>\n",
       "      <td>9.0</td>\n",
       "      <td>8.0</td>\n",
       "      <td>9.0</td>\n",
       "    </tr>\n",
       "    <tr>\n",
       "      <th>3</th>\n",
       "      <td>sleepinzombie</td>\n",
       "      <td>iphone</td>\n",
       "      <td>8.0</td>\n",
       "      <td>1.0</td>\n",
       "      <td>NaN</td>\n",
       "    </tr>\n",
       "    <tr>\n",
       "      <th>4</th>\n",
       "      <td>switchnbitch</td>\n",
       "      <td>GonewildAudible</td>\n",
       "      <td>8.0</td>\n",
       "      <td>NaN</td>\n",
       "      <td>7.0</td>\n",
       "    </tr>\n",
       "  </tbody>\n",
       "</table>\n",
       "</div>"
      ],
      "text/plain": [
       "             author        subreddit  f0_  f0__x  f0__y\n",
       "0  businessbrand121         business  8.0    NaN    NaN\n",
       "1   GenericManChild        starbound  9.0    1.0    1.0\n",
       "2     AutoModerator     AroundTheNFL  9.0    8.0    9.0\n",
       "3     sleepinzombie           iphone  8.0    1.0    NaN\n",
       "4      switchnbitch  GonewildAudible  8.0    NaN    7.0"
      ]
     },
     "execution_count": 8,
     "metadata": {},
     "output_type": "execute_result"
    }
   ],
   "source": [
    "#  checking to see how the merge has gone, need to deal with null values\n",
    "df.head()"
   ]
  },
  {
   "cell_type": "code",
   "execution_count": 9,
   "metadata": {
    "ExecuteTime": {
     "end_time": "2020-06-01T19:35:30.572131Z",
     "start_time": "2020-06-01T19:35:07.833019Z"
    }
   },
   "outputs": [],
   "source": [
    "#dealing with null values with 0 as they mean a user hasn't posted to that subreddit in one of the three periods\n",
    "df.fillna(0, inplace= True)"
   ]
  },
  {
   "cell_type": "code",
   "execution_count": 10,
   "metadata": {
    "ExecuteTime": {
     "end_time": "2020-06-01T19:35:30.640846Z",
     "start_time": "2020-06-01T19:35:30.578278Z"
    }
   },
   "outputs": [
    {
     "data": {
      "text/html": [
       "<div>\n",
       "<style scoped>\n",
       "    .dataframe tbody tr th:only-of-type {\n",
       "        vertical-align: middle;\n",
       "    }\n",
       "\n",
       "    .dataframe tbody tr th {\n",
       "        vertical-align: top;\n",
       "    }\n",
       "\n",
       "    .dataframe thead th {\n",
       "        text-align: right;\n",
       "    }\n",
       "</style>\n",
       "<table border=\"1\" class=\"dataframe\">\n",
       "  <thead>\n",
       "    <tr style=\"text-align: right;\">\n",
       "      <th></th>\n",
       "      <th>author</th>\n",
       "      <th>subreddit</th>\n",
       "      <th>f0_</th>\n",
       "      <th>f0__x</th>\n",
       "      <th>f0__y</th>\n",
       "    </tr>\n",
       "  </thead>\n",
       "  <tbody>\n",
       "    <tr>\n",
       "      <th>0</th>\n",
       "      <td>businessbrand121</td>\n",
       "      <td>business</td>\n",
       "      <td>8.0</td>\n",
       "      <td>0.0</td>\n",
       "      <td>0.0</td>\n",
       "    </tr>\n",
       "    <tr>\n",
       "      <th>1</th>\n",
       "      <td>GenericManChild</td>\n",
       "      <td>starbound</td>\n",
       "      <td>9.0</td>\n",
       "      <td>1.0</td>\n",
       "      <td>1.0</td>\n",
       "    </tr>\n",
       "    <tr>\n",
       "      <th>2</th>\n",
       "      <td>AutoModerator</td>\n",
       "      <td>AroundTheNFL</td>\n",
       "      <td>9.0</td>\n",
       "      <td>8.0</td>\n",
       "      <td>9.0</td>\n",
       "    </tr>\n",
       "    <tr>\n",
       "      <th>3</th>\n",
       "      <td>sleepinzombie</td>\n",
       "      <td>iphone</td>\n",
       "      <td>8.0</td>\n",
       "      <td>1.0</td>\n",
       "      <td>0.0</td>\n",
       "    </tr>\n",
       "    <tr>\n",
       "      <th>4</th>\n",
       "      <td>switchnbitch</td>\n",
       "      <td>GonewildAudible</td>\n",
       "      <td>8.0</td>\n",
       "      <td>0.0</td>\n",
       "      <td>7.0</td>\n",
       "    </tr>\n",
       "    <tr>\n",
       "      <th>...</th>\n",
       "      <td>...</td>\n",
       "      <td>...</td>\n",
       "      <td>...</td>\n",
       "      <td>...</td>\n",
       "      <td>...</td>\n",
       "    </tr>\n",
       "    <tr>\n",
       "      <th>40347429</th>\n",
       "      <td>RadiationDM</td>\n",
       "      <td>thanosdidnothingwrong</td>\n",
       "      <td>0.0</td>\n",
       "      <td>0.0</td>\n",
       "      <td>7.0</td>\n",
       "    </tr>\n",
       "    <tr>\n",
       "      <th>40347430</th>\n",
       "      <td>MrMQuackens</td>\n",
       "      <td>thanosdidnothingwrong</td>\n",
       "      <td>0.0</td>\n",
       "      <td>0.0</td>\n",
       "      <td>7.0</td>\n",
       "    </tr>\n",
       "    <tr>\n",
       "      <th>40347431</th>\n",
       "      <td>shahkabra</td>\n",
       "      <td>thanosdidnothingwrong</td>\n",
       "      <td>0.0</td>\n",
       "      <td>0.0</td>\n",
       "      <td>7.0</td>\n",
       "    </tr>\n",
       "    <tr>\n",
       "      <th>40347432</th>\n",
       "      <td>himanxk</td>\n",
       "      <td>thanosdidnothingwrong</td>\n",
       "      <td>0.0</td>\n",
       "      <td>0.0</td>\n",
       "      <td>7.0</td>\n",
       "    </tr>\n",
       "    <tr>\n",
       "      <th>40347433</th>\n",
       "      <td>BeyondDoggyHorror</td>\n",
       "      <td>thanosdidnothingwrong</td>\n",
       "      <td>0.0</td>\n",
       "      <td>0.0</td>\n",
       "      <td>7.0</td>\n",
       "    </tr>\n",
       "  </tbody>\n",
       "</table>\n",
       "<p>40347434 rows × 5 columns</p>\n",
       "</div>"
      ],
      "text/plain": [
       "                     author              subreddit  f0_  f0__x  f0__y\n",
       "0          businessbrand121               business  8.0    0.0    0.0\n",
       "1           GenericManChild              starbound  9.0    1.0    1.0\n",
       "2             AutoModerator           AroundTheNFL  9.0    8.0    9.0\n",
       "3             sleepinzombie                 iphone  8.0    1.0    0.0\n",
       "4              switchnbitch        GonewildAudible  8.0    0.0    7.0\n",
       "...                     ...                    ...  ...    ...    ...\n",
       "40347429        RadiationDM  thanosdidnothingwrong  0.0    0.0    7.0\n",
       "40347430        MrMQuackens  thanosdidnothingwrong  0.0    0.0    7.0\n",
       "40347431          shahkabra  thanosdidnothingwrong  0.0    0.0    7.0\n",
       "40347432            himanxk  thanosdidnothingwrong  0.0    0.0    7.0\n",
       "40347433  BeyondDoggyHorror  thanosdidnothingwrong  0.0    0.0    7.0\n",
       "\n",
       "[40347434 rows x 5 columns]"
      ]
     },
     "execution_count": 10,
     "metadata": {},
     "output_type": "execute_result"
    }
   ],
   "source": [
    "df"
   ]
  },
  {
   "cell_type": "code",
   "execution_count": 11,
   "metadata": {
    "ExecuteTime": {
     "end_time": "2020-06-01T19:35:32.141777Z",
     "start_time": "2020-06-01T19:35:30.642779Z"
    }
   },
   "outputs": [],
   "source": [
    "# create one variable with overall count of posts per subreddit per user\n",
    "df[\"posts\"] = df[\"f0_\"] + df[\"f0__x\"] + df[\"f0__y\"]"
   ]
  },
  {
   "cell_type": "code",
   "execution_count": 12,
   "metadata": {
    "ExecuteTime": {
     "end_time": "2020-06-01T19:36:36.100396Z",
     "start_time": "2020-06-01T19:35:32.144135Z"
    }
   },
   "outputs": [],
   "source": [
    "#drop the remaining variables\n",
    "df.drop(labels= ['f0_', 'f0__x', 'f0__y'], inplace= True, axis= 1)"
   ]
  },
  {
   "cell_type": "code",
   "execution_count": 13,
   "metadata": {
    "ExecuteTime": {
     "end_time": "2020-06-01T19:36:36.196456Z",
     "start_time": "2020-06-01T19:36:36.125627Z"
    }
   },
   "outputs": [
    {
     "name": "stdout",
     "output_type": "stream",
     "text": [
      "<class 'pandas.core.frame.DataFrame'>\n",
      "Int64Index: 40347434 entries, 0 to 40347433\n",
      "Data columns (total 3 columns):\n",
      " #   Column     Dtype  \n",
      "---  ------     -----  \n",
      " 0   author     object \n",
      " 1   subreddit  object \n",
      " 2   posts      float64\n",
      "dtypes: float64(1), object(2)\n",
      "memory usage: 1.2+ GB\n"
     ]
    }
   ],
   "source": [
    "#check for null values, \n",
    "df.info()"
   ]
  },
  {
   "cell_type": "code",
   "execution_count": 14,
   "metadata": {
    "ExecuteTime": {
     "end_time": "2020-06-01T19:36:42.945619Z",
     "start_time": "2020-06-01T19:36:36.200172Z"
    }
   },
   "outputs": [],
   "source": [
    "# overwrite raw_data to save on memory usage\n",
    "raw_data_1 = []\n",
    "raw_data_2 = []\n",
    "raw_data_3 = []"
   ]
  },
  {
   "cell_type": "code",
   "execution_count": 15,
   "metadata": {
    "ExecuteTime": {
     "end_time": "2020-06-01T19:37:15.892640Z",
     "start_time": "2020-06-01T19:36:42.948661Z"
    }
   },
   "outputs": [],
   "source": [
    "num_authors = len(df[\"author\"].unique())\n",
    "num_subreddits = len(df[\"subreddit\"].unique())\n",
    "num_posts = df[\"posts\"].sum()"
   ]
  },
  {
   "cell_type": "code",
   "execution_count": 16,
   "metadata": {
    "ExecuteTime": {
     "end_time": "2020-06-01T19:37:16.959462Z",
     "start_time": "2020-06-01T19:37:15.904440Z"
    }
   },
   "outputs": [
    {
     "data": {
      "image/png": "[encoded data removed]",
      "text/plain": [
       "<Figure size 576x576 with 1 Axes>"
      ]
     },
     "metadata": {
      "needs_background": "light"
     },
     "output_type": "display_data"
    }
   ],
   "source": [
    "labels = [num_authors, num_subreddits, num_posts]\n",
    "plt.rcParams.update({'font.size': 16})\n",
    "fig, ax = plt.subplots(figsize = (8, 8))\n",
    "plt.bar(x = [\"Users\", \"Subreddits\", \"Posts\"], height= labels, log = True)\n",
    "ax.set_ylabel(\"Unique Counts\")\n",
    "plt.show()\n"
   ]
  },
  {
   "cell_type": "markdown",
   "metadata": {},
   "source": [
    "#### Convert Authors to Numerical Key\n",
    "* As we don't want to delve into individual tastes, and to save on any issues with memory converting authors to a numerical key"
   ]
  },
  {
   "cell_type": "code",
   "execution_count": 17,
   "metadata": {
    "ExecuteTime": {
     "end_time": "2020-06-01T19:37:45.781529Z",
     "start_time": "2020-06-01T19:37:16.963077Z"
    }
   },
   "outputs": [
    {
     "data": {
      "text/plain": [
       "12196808"
      ]
     },
     "execution_count": 17,
     "metadata": {},
     "output_type": "execute_result"
    }
   ],
   "source": [
    "# get list of unique authors\n",
    "authors = df[\"author\"].unique()\n",
    "len(authors)"
   ]
  },
  {
   "cell_type": "code",
   "execution_count": 18,
   "metadata": {
    "ExecuteTime": {
     "end_time": "2020-06-01T19:37:58.073115Z",
     "start_time": "2020-06-01T19:37:45.787400Z"
    }
   },
   "outputs": [],
   "source": [
    "# creating dictionary in order to assign numerical value per author\n",
    "authors_dict = {}\n",
    "counter = 0\n",
    "for i in authors:\n",
    "    authors_dict[i] = counter\n",
    "    counter +=1"
   ]
  },
  {
   "cell_type": "code",
   "execution_count": 19,
   "metadata": {
    "ExecuteTime": {
     "end_time": "2020-06-01T19:39:53.616360Z",
     "start_time": "2020-06-01T19:37:58.085536Z"
    }
   },
   "outputs": [],
   "source": [
    "# replace authors with created numerical key\n",
    "df[\"author\"] = [authors_dict[i] for i in df[\"author\"]]"
   ]
  },
  {
   "cell_type": "code",
   "execution_count": 20,
   "metadata": {
    "ExecuteTime": {
     "end_time": "2020-06-01T19:40:07.739928Z",
     "start_time": "2020-06-01T19:39:53.634938Z"
    }
   },
   "outputs": [],
   "source": [
    "# delete dict to save memory\n",
    "del authors_dict\n",
    "del authors"
   ]
  },
  {
   "cell_type": "markdown",
   "metadata": {},
   "source": [
    "#### Checking for outliers\n",
    "* Visualisation of the data shows a number of outliers in terms of number of posts per user; high posters were often bots or spam and were removed\n"
   ]
  },
  {
   "cell_type": "code",
   "execution_count": 21,
   "metadata": {
    "ExecuteTime": {
     "end_time": "2020-06-01T19:40:15.434951Z",
     "start_time": "2020-06-01T19:40:07.754553Z"
    }
   },
   "outputs": [
    {
     "data": {
      "text/html": [
       "<div>\n",
       "<style scoped>\n",
       "    .dataframe tbody tr th:only-of-type {\n",
       "        vertical-align: middle;\n",
       "    }\n",
       "\n",
       "    .dataframe tbody tr th {\n",
       "        vertical-align: top;\n",
       "    }\n",
       "\n",
       "    .dataframe thead th {\n",
       "        text-align: right;\n",
       "    }\n",
       "</style>\n",
       "<table border=\"1\" class=\"dataframe\">\n",
       "  <thead>\n",
       "    <tr style=\"text-align: right;\">\n",
       "      <th></th>\n",
       "      <th>author</th>\n",
       "      <th>posts</th>\n",
       "    </tr>\n",
       "  </thead>\n",
       "  <tbody>\n",
       "    <tr>\n",
       "      <th>count</th>\n",
       "      <td>40347434.000000</td>\n",
       "      <td>40347434.000000</td>\n",
       "    </tr>\n",
       "    <tr>\n",
       "      <th>mean</th>\n",
       "      <td>4137176.743367</td>\n",
       "      <td>3.102450</td>\n",
       "    </tr>\n",
       "    <tr>\n",
       "      <th>std</th>\n",
       "      <td>3368923.448197</td>\n",
       "      <td>420.571889</td>\n",
       "    </tr>\n",
       "    <tr>\n",
       "      <th>min</th>\n",
       "      <td>0.000000</td>\n",
       "      <td>1.000000</td>\n",
       "    </tr>\n",
       "    <tr>\n",
       "      <th>25%</th>\n",
       "      <td>1122532.000000</td>\n",
       "      <td>1.000000</td>\n",
       "    </tr>\n",
       "    <tr>\n",
       "      <th>50%</th>\n",
       "      <td>3310141.000000</td>\n",
       "      <td>1.000000</td>\n",
       "    </tr>\n",
       "    <tr>\n",
       "      <th>75%</th>\n",
       "      <td>6514580.750000</td>\n",
       "      <td>2.000000</td>\n",
       "    </tr>\n",
       "    <tr>\n",
       "      <th>max</th>\n",
       "      <td>12196807.000000</td>\n",
       "      <td>2243748.000000</td>\n",
       "    </tr>\n",
       "  </tbody>\n",
       "</table>\n",
       "</div>"
      ],
      "text/plain": [
       "               author           posts\n",
       "count 40347434.000000 40347434.000000\n",
       "mean   4137176.743367        3.102450\n",
       "std    3368923.448197      420.571889\n",
       "min          0.000000        1.000000\n",
       "25%    1122532.000000        1.000000\n",
       "50%    3310141.000000        1.000000\n",
       "75%    6514580.750000        2.000000\n",
       "max   12196807.000000  2243748.000000"
      ]
     },
     "execution_count": 21,
     "metadata": {},
     "output_type": "execute_result"
    }
   ],
   "source": [
    "# every user has posted at least once to a specific subreddit, though seem to be a curiously high number of posts in some instances\n",
    "pd.set_option('float_format', '{:f}'.format)\n",
    "df.describe()"
   ]
  },
  {
   "cell_type": "code",
   "execution_count": 22,
   "metadata": {
    "ExecuteTime": {
     "end_time": "2020-06-01T19:40:27.898274Z",
     "start_time": "2020-06-01T19:40:15.440272Z"
    }
   },
   "outputs": [
    {
     "data": {
      "image/png": "[encoded data removed]",
      "text/plain": [
       "<Figure size 720x360 with 1 Axes>"
      ]
     },
     "metadata": {
      "needs_background": "light"
     },
     "output_type": "display_data"
    }
   ],
   "source": [
    "# check distribution of data, we see a high number of outliers which indicate strange behaviour\n",
    "\n",
    "fig, ax = plt.subplots(figsize=(10, 5))\n",
    "plt.rcParams.update({'font.size': 16})\n",
    "sns.boxplot(data=df[\"posts\"], orient='h', fliersize=5, linewidth=3,\n",
    "            saturation=0.5, ax=ax)\n",
    "\n",
    "ax.set_title('Distribution of Posts')\n",
    "ax.set_xscale(\"log\")\n",
    "plt.show()"
   ]
  },
  {
   "cell_type": "code",
   "execution_count": 23,
   "metadata": {
    "ExecuteTime": {
     "end_time": "2020-06-01T19:40:40.003281Z",
     "start_time": "2020-06-01T19:40:27.900292Z"
    }
   },
   "outputs": [
    {
     "data": {
      "text/html": [
       "<div>\n",
       "<style scoped>\n",
       "    .dataframe tbody tr th:only-of-type {\n",
       "        vertical-align: middle;\n",
       "    }\n",
       "\n",
       "    .dataframe tbody tr th {\n",
       "        vertical-align: top;\n",
       "    }\n",
       "\n",
       "    .dataframe thead th {\n",
       "        text-align: right;\n",
       "    }\n",
       "</style>\n",
       "<table border=\"1\" class=\"dataframe\">\n",
       "  <thead>\n",
       "    <tr style=\"text-align: right;\">\n",
       "      <th></th>\n",
       "      <th>author</th>\n",
       "      <th>subreddit</th>\n",
       "      <th>posts</th>\n",
       "    </tr>\n",
       "  </thead>\n",
       "  <tbody>\n",
       "    <tr>\n",
       "      <th>3993</th>\n",
       "      <td>3932</td>\n",
       "      <td>AutoNewspaper</td>\n",
       "      <td>2243748.000000</td>\n",
       "    </tr>\n",
       "    <tr>\n",
       "      <th>2848</th>\n",
       "      <td>2821</td>\n",
       "      <td>newsbotbot</td>\n",
       "      <td>819895.000000</td>\n",
       "    </tr>\n",
       "    <tr>\n",
       "      <th>4211710</th>\n",
       "      <td>2661946</td>\n",
       "      <td>TranscribersOfReddit</td>\n",
       "      <td>359610.000000</td>\n",
       "    </tr>\n",
       "    <tr>\n",
       "      <th>1702860</th>\n",
       "      <td>1321537</td>\n",
       "      <td>forexhome</td>\n",
       "      <td>345320.000000</td>\n",
       "    </tr>\n",
       "    <tr>\n",
       "      <th>2542328</th>\n",
       "      <td>1822605</td>\n",
       "      <td>removalbot</td>\n",
       "      <td>327779.000000</td>\n",
       "    </tr>\n",
       "    <tr>\n",
       "      <th>...</th>\n",
       "      <td>...</td>\n",
       "      <td>...</td>\n",
       "      <td>...</td>\n",
       "    </tr>\n",
       "    <tr>\n",
       "      <th>17058605</th>\n",
       "      <td>3681505</td>\n",
       "      <td>KotakuInAction</td>\n",
       "      <td>1.000000</td>\n",
       "    </tr>\n",
       "    <tr>\n",
       "      <th>17058604</th>\n",
       "      <td>5070668</td>\n",
       "      <td>BoJackHorseman</td>\n",
       "      <td>1.000000</td>\n",
       "    </tr>\n",
       "    <tr>\n",
       "      <th>17058603</th>\n",
       "      <td>3003823</td>\n",
       "      <td>BipolarSOs</td>\n",
       "      <td>1.000000</td>\n",
       "    </tr>\n",
       "    <tr>\n",
       "      <th>17058602</th>\n",
       "      <td>6964174</td>\n",
       "      <td>AskDocs</td>\n",
       "      <td>1.000000</td>\n",
       "    </tr>\n",
       "    <tr>\n",
       "      <th>20173717</th>\n",
       "      <td>5421151</td>\n",
       "      <td>Blackops4</td>\n",
       "      <td>1.000000</td>\n",
       "    </tr>\n",
       "  </tbody>\n",
       "</table>\n",
       "<p>40347434 rows × 3 columns</p>\n",
       "</div>"
      ],
      "text/plain": [
       "           author             subreddit          posts\n",
       "3993         3932         AutoNewspaper 2243748.000000\n",
       "2848         2821            newsbotbot  819895.000000\n",
       "4211710   2661946  TranscribersOfReddit  359610.000000\n",
       "1702860   1321537             forexhome  345320.000000\n",
       "2542328   1822605            removalbot  327779.000000\n",
       "...           ...                   ...            ...\n",
       "17058605  3681505        KotakuInAction       1.000000\n",
       "17058604  5070668        BoJackHorseman       1.000000\n",
       "17058603  3003823            BipolarSOs       1.000000\n",
       "17058602  6964174               AskDocs       1.000000\n",
       "20173717  5421151             Blackops4       1.000000\n",
       "\n",
       "[40347434 rows x 3 columns]"
      ]
     },
     "execution_count": 23,
     "metadata": {},
     "output_type": "execute_result"
    }
   ],
   "source": [
    "# we see there are a lot of bots included with these outliers which we will need to remove\n",
    "df.sort_values(by = \"posts\", axis= 0, ascending= False)"
   ]
  },
  {
   "cell_type": "code",
   "execution_count": 24,
   "metadata": {
    "ExecuteTime": {
     "end_time": "2020-06-01T19:40:40.244930Z",
     "start_time": "2020-06-01T19:40:40.008365Z"
    }
   },
   "outputs": [],
   "source": [
    "# checking how many rows are more than 4 standard deviations from the mean number of posts\n",
    "df_mean = df[\"posts\"].mean()\n",
    "df_std = df[\"posts\"].std()\n",
    "df_outliers = df[df[\"posts\"] > df_mean + (df_std * 4)]"
   ]
  },
  {
   "cell_type": "code",
   "execution_count": 25,
   "metadata": {
    "ExecuteTime": {
     "end_time": "2020-06-01T19:40:40.261797Z",
     "start_time": "2020-06-01T19:40:40.246670Z"
    }
   },
   "outputs": [
    {
     "data": {
      "text/html": [
       "<div>\n",
       "<style scoped>\n",
       "    .dataframe tbody tr th:only-of-type {\n",
       "        vertical-align: middle;\n",
       "    }\n",
       "\n",
       "    .dataframe tbody tr th {\n",
       "        vertical-align: top;\n",
       "    }\n",
       "\n",
       "    .dataframe thead th {\n",
       "        text-align: right;\n",
       "    }\n",
       "</style>\n",
       "<table border=\"1\" class=\"dataframe\">\n",
       "  <thead>\n",
       "    <tr style=\"text-align: right;\">\n",
       "      <th></th>\n",
       "      <th>author</th>\n",
       "      <th>subreddit</th>\n",
       "      <th>posts</th>\n",
       "    </tr>\n",
       "  </thead>\n",
       "  <tbody>\n",
       "    <tr>\n",
       "      <th>488</th>\n",
       "      <td>485</td>\n",
       "      <td>BakaNewsJP</td>\n",
       "      <td>2008.000000</td>\n",
       "    </tr>\n",
       "    <tr>\n",
       "      <th>540</th>\n",
       "      <td>537</td>\n",
       "      <td>IceCells</td>\n",
       "      <td>2560.000000</td>\n",
       "    </tr>\n",
       "    <tr>\n",
       "      <th>677</th>\n",
       "      <td>674</td>\n",
       "      <td>de</td>\n",
       "      <td>3326.000000</td>\n",
       "    </tr>\n",
       "    <tr>\n",
       "      <th>890</th>\n",
       "      <td>883</td>\n",
       "      <td>SteamTradingCards</td>\n",
       "      <td>5218.000000</td>\n",
       "    </tr>\n",
       "    <tr>\n",
       "      <th>1341</th>\n",
       "      <td>959</td>\n",
       "      <td>nsfw</td>\n",
       "      <td>2073.000000</td>\n",
       "    </tr>\n",
       "    <tr>\n",
       "      <th>...</th>\n",
       "      <td>...</td>\n",
       "      <td>...</td>\n",
       "      <td>...</td>\n",
       "    </tr>\n",
       "    <tr>\n",
       "      <th>38347910</th>\n",
       "      <td>11873591</td>\n",
       "      <td>u_dof42704</td>\n",
       "      <td>1957.000000</td>\n",
       "    </tr>\n",
       "    <tr>\n",
       "      <th>38348341</th>\n",
       "      <td>11873676</td>\n",
       "      <td>battlemaps</td>\n",
       "      <td>2487.000000</td>\n",
       "    </tr>\n",
       "    <tr>\n",
       "      <th>38348692</th>\n",
       "      <td>11046393</td>\n",
       "      <td>russianworldcup2018</td>\n",
       "      <td>2484.000000</td>\n",
       "    </tr>\n",
       "    <tr>\n",
       "      <th>38349636</th>\n",
       "      <td>5519691</td>\n",
       "      <td>AskRedditUL</td>\n",
       "      <td>2222.000000</td>\n",
       "    </tr>\n",
       "    <tr>\n",
       "      <th>38349805</th>\n",
       "      <td>11873958</td>\n",
       "      <td>TopPicsNSFW</td>\n",
       "      <td>3542.000000</td>\n",
       "    </tr>\n",
       "  </tbody>\n",
       "</table>\n",
       "<p>2207 rows × 3 columns</p>\n",
       "</div>"
      ],
      "text/plain": [
       "            author            subreddit       posts\n",
       "488            485           BakaNewsJP 2008.000000\n",
       "540            537             IceCells 2560.000000\n",
       "677            674                   de 3326.000000\n",
       "890            883    SteamTradingCards 5218.000000\n",
       "1341           959                 nsfw 2073.000000\n",
       "...            ...                  ...         ...\n",
       "38347910  11873591           u_dof42704 1957.000000\n",
       "38348341  11873676           battlemaps 2487.000000\n",
       "38348692  11046393  russianworldcup2018 2484.000000\n",
       "38349636   5519691          AskRedditUL 2222.000000\n",
       "38349805  11873958          TopPicsNSFW 3542.000000\n",
       "\n",
       "[2207 rows x 3 columns]"
      ]
     },
     "execution_count": 25,
     "metadata": {},
     "output_type": "execute_result"
    }
   ],
   "source": [
    "df_outliers"
   ]
  },
  {
   "cell_type": "code",
   "execution_count": 26,
   "metadata": {
    "ExecuteTime": {
     "end_time": "2020-06-01T19:40:45.977917Z",
     "start_time": "2020-06-01T19:40:40.263226Z"
    }
   },
   "outputs": [],
   "source": [
    "# as a large number of posters significantly higher than the mean appear to be bots or marketers, dropping them from the dataset\n",
    "df = df[df[\"posts\"] < df_mean + (df_std * 4)].copy()"
   ]
  },
  {
   "cell_type": "code",
   "execution_count": 27,
   "metadata": {
    "ExecuteTime": {
     "end_time": "2020-06-01T19:40:56.824178Z",
     "start_time": "2020-06-01T19:40:45.981815Z"
    }
   },
   "outputs": [
    {
     "data": {
      "image/png": "[encoded data removed]",
      "text/plain": [
       "<Figure size 720x360 with 1 Axes>"
      ]
     },
     "metadata": {
      "needs_background": "light"
     },
     "output_type": "display_data"
    }
   ],
   "source": [
    "# after dropping outliers we see a more even distribution of data, though still a large number of outliers\n",
    "\n",
    "fig, ax = plt.subplots(figsize=(10, 5))\n",
    "plt.rcParams.update({'font.size': 16})\n",
    "sns.boxplot(data=df[\"posts\"], orient='h', fliersize=5, linewidth=3,\n",
    "            saturation=0.5, ax=ax)\n",
    "\n",
    "ax.set_title('Distribution of Posts')\n",
    "ax.set_xscale(\"log\")\n",
    "plt.show()"
   ]
  },
  {
   "cell_type": "code",
   "execution_count": 28,
   "metadata": {
    "ExecuteTime": {
     "end_time": "2020-06-01T19:40:56.836348Z",
     "start_time": "2020-06-01T19:40:56.825831Z"
    }
   },
   "outputs": [
    {
     "name": "stdout",
     "output_type": "stream",
     "text": [
      "<class 'pandas.core.frame.DataFrame'>\n",
      "Int64Index: 40345227 entries, 0 to 40347433\n",
      "Data columns (total 3 columns):\n",
      " #   Column     Dtype  \n",
      "---  ------     -----  \n",
      " 0   author     int64  \n",
      " 1   subreddit  object \n",
      " 2   posts      float64\n",
      "dtypes: float64(1), int64(1), object(1)\n",
      "memory usage: 1.2+ GB\n"
     ]
    }
   ],
   "source": [
    "df.info()"
   ]
  },
  {
   "cell_type": "markdown",
   "metadata": {},
   "source": [
    "#### Understand Subreddit Usage per User\n",
    "* Additionally, the majority of users only post to a small number of subreddits, any user who posts to less than 10 subreddits was dropped from the analyses\n"
   ]
  },
  {
   "cell_type": "code",
   "execution_count": 30,
   "metadata": {
    "ExecuteTime": {
     "end_time": "2020-06-01T19:41:15.146705Z",
     "start_time": "2020-06-01T19:40:56.914126Z"
    }
   },
   "outputs": [
    {
     "data": {
      "image/png": "[encoded data removed]",
      "text/plain": [
       "<Figure size 720x360 with 1 Axes>"
      ]
     },
     "metadata": {
      "needs_background": "light"
     },
     "output_type": "display_data"
    }
   ],
   "source": [
    "# log scale\n",
    "fig, ax = plt.subplots(figsize=(10, 5))\n",
    "plt.rcParams.update({'font.size': 16})\n",
    "df[\"author\"].value_counts().plot(kind='hist', bins=4000, title='Distribution of Subreddits per User')\n",
    "plt.xlabel('Author')\n",
    "plt.ylabel('Frequency')\n",
    "ax.set_xscale(\"log\")\n",
    "plt.show()"
   ]
  },
  {
   "cell_type": "code",
   "execution_count": 31,
   "metadata": {
    "ExecuteTime": {
     "end_time": "2020-06-01T19:41:56.526932Z",
     "start_time": "2020-06-01T19:41:15.167064Z"
    }
   },
   "outputs": [],
   "source": [
    "#get dict of unique counts \n",
    "author_count = df[\"author\"].value_counts().to_dict()\n",
    "\n",
    "# add column for frequency of users\n",
    "df[\"freq\"] = [author_count[i] for i in df[\"author\"]]\n"
   ]
  },
  {
   "cell_type": "code",
   "execution_count": 32,
   "metadata": {
    "ExecuteTime": {
     "end_time": "2020-06-01T19:42:04.969400Z",
     "start_time": "2020-06-01T19:41:56.562451Z"
    }
   },
   "outputs": [],
   "source": [
    "# drop users who have posted to less than 10 subreddits, will not be useful for analysis\n",
    "df = df[df[\"freq\"] > 9].copy()\n",
    "\n",
    "# drop frequncy column\n",
    "df.drop(labels = \"freq\", axis= 1, inplace= True)\n",
    "\n",
    "# del author_count to save memory\n",
    "del author_count"
   ]
  },
  {
   "cell_type": "code",
   "execution_count": 33,
   "metadata": {
    "ExecuteTime": {
     "end_time": "2020-06-01T19:42:14.096349Z",
     "start_time": "2020-06-01T19:42:04.971070Z"
    }
   },
   "outputs": [
    {
     "data": {
      "image/png": "[encoded data removed]",
      "text/plain": [
       "<Figure size 720x360 with 1 Axes>"
      ]
     },
     "metadata": {
      "needs_background": "light"
     },
     "output_type": "display_data"
    }
   ],
   "source": [
    "# log scale\n",
    "fig, ax = plt.subplots(figsize=(10, 5))\n",
    "plt.rcParams.update({'font.size': 16})\n",
    "df[\"author\"].value_counts().plot(kind='hist', bins=4000, title='Distribution of Subreddits per User')\n",
    "plt.xlabel('Author')\n",
    "plt.ylabel('Frequency')\n",
    "ax.set_xscale(\"log\")\n",
    "plt.show()"
   ]
  },
  {
   "cell_type": "code",
   "execution_count": 34,
   "metadata": {
    "ExecuteTime": {
     "end_time": "2020-06-01T19:42:14.109114Z",
     "start_time": "2020-06-01T19:42:14.097799Z"
    }
   },
   "outputs": [
    {
     "data": {
      "text/html": [
       "<div>\n",
       "<style scoped>\n",
       "    .dataframe tbody tr th:only-of-type {\n",
       "        vertical-align: middle;\n",
       "    }\n",
       "\n",
       "    .dataframe tbody tr th {\n",
       "        vertical-align: top;\n",
       "    }\n",
       "\n",
       "    .dataframe thead th {\n",
       "        text-align: right;\n",
       "    }\n",
       "</style>\n",
       "<table border=\"1\" class=\"dataframe\">\n",
       "  <thead>\n",
       "    <tr style=\"text-align: right;\">\n",
       "      <th></th>\n",
       "      <th>author</th>\n",
       "      <th>subreddit</th>\n",
       "      <th>posts</th>\n",
       "    </tr>\n",
       "  </thead>\n",
       "  <tbody>\n",
       "    <tr>\n",
       "      <th>1</th>\n",
       "      <td>1</td>\n",
       "      <td>starbound</td>\n",
       "      <td>11.000000</td>\n",
       "    </tr>\n",
       "    <tr>\n",
       "      <th>2</th>\n",
       "      <td>2</td>\n",
       "      <td>AroundTheNFL</td>\n",
       "      <td>26.000000</td>\n",
       "    </tr>\n",
       "    <tr>\n",
       "      <th>3</th>\n",
       "      <td>3</td>\n",
       "      <td>iphone</td>\n",
       "      <td>9.000000</td>\n",
       "    </tr>\n",
       "    <tr>\n",
       "      <th>4</th>\n",
       "      <td>4</td>\n",
       "      <td>GonewildAudible</td>\n",
       "      <td>15.000000</td>\n",
       "    </tr>\n",
       "    <tr>\n",
       "      <th>5</th>\n",
       "      <td>5</td>\n",
       "      <td>news</td>\n",
       "      <td>15.000000</td>\n",
       "    </tr>\n",
       "    <tr>\n",
       "      <th>...</th>\n",
       "      <td>...</td>\n",
       "      <td>...</td>\n",
       "      <td>...</td>\n",
       "    </tr>\n",
       "    <tr>\n",
       "      <th>40347429</th>\n",
       "      <td>258854</td>\n",
       "      <td>thanosdidnothingwrong</td>\n",
       "      <td>7.000000</td>\n",
       "    </tr>\n",
       "    <tr>\n",
       "      <th>40347430</th>\n",
       "      <td>3021827</td>\n",
       "      <td>thanosdidnothingwrong</td>\n",
       "      <td>7.000000</td>\n",
       "    </tr>\n",
       "    <tr>\n",
       "      <th>40347431</th>\n",
       "      <td>218376</td>\n",
       "      <td>thanosdidnothingwrong</td>\n",
       "      <td>7.000000</td>\n",
       "    </tr>\n",
       "    <tr>\n",
       "      <th>40347432</th>\n",
       "      <td>268449</td>\n",
       "      <td>thanosdidnothingwrong</td>\n",
       "      <td>7.000000</td>\n",
       "    </tr>\n",
       "    <tr>\n",
       "      <th>40347433</th>\n",
       "      <td>1128992</td>\n",
       "      <td>thanosdidnothingwrong</td>\n",
       "      <td>7.000000</td>\n",
       "    </tr>\n",
       "  </tbody>\n",
       "</table>\n",
       "<p>15277324 rows × 3 columns</p>\n",
       "</div>"
      ],
      "text/plain": [
       "           author              subreddit     posts\n",
       "1               1              starbound 11.000000\n",
       "2               2           AroundTheNFL 26.000000\n",
       "3               3                 iphone  9.000000\n",
       "4               4        GonewildAudible 15.000000\n",
       "5               5                   news 15.000000\n",
       "...           ...                    ...       ...\n",
       "40347429   258854  thanosdidnothingwrong  7.000000\n",
       "40347430  3021827  thanosdidnothingwrong  7.000000\n",
       "40347431   218376  thanosdidnothingwrong  7.000000\n",
       "40347432   268449  thanosdidnothingwrong  7.000000\n",
       "40347433  1128992  thanosdidnothingwrong  7.000000\n",
       "\n",
       "[15277324 rows x 3 columns]"
      ]
     },
     "execution_count": 34,
     "metadata": {},
     "output_type": "execute_result"
    }
   ],
   "source": [
    "df"
   ]
  },
  {
   "cell_type": "markdown",
   "metadata": {},
   "source": [
    "\n",
    "#### Combine mental health related subreddits for target variable\n",
    "* Create target variable\n",
    "* Turn into boolean, 1 for posting to mental health subreddits"
   ]
  },
  {
   "cell_type": "code",
   "execution_count": 35,
   "metadata": {
    "ExecuteTime": {
     "end_time": "2020-06-01T19:42:14.114601Z",
     "start_time": "2020-06-01T19:42:14.110941Z"
    }
   },
   "outputs": [],
   "source": [
    "#target reddits identified from r/anxiety related subreddits\n",
    "string= \"\"\"/r/mentalhealth/r/Anxiety/r/SuicideWatch/r/bipolar/r/bipolarreddit/r/depression/r/detachmentdisorder/r/dpdr/r/GFD/r/MentalHealth/r/mentalillness/r/stopselfharm/r/Agoraphobia/r/anxietydepression/r/HealthAnxiety/r/socialanxiety/r/Anxietyhelp\"\"\"\n",
    "target_reddits = string.split(\"/r/\")[1:]\n"
   ]
  },
  {
   "cell_type": "code",
   "execution_count": 36,
   "metadata": {
    "ExecuteTime": {
     "end_time": "2020-06-01T19:42:15.018006Z",
     "start_time": "2020-06-01T19:42:14.116633Z"
    }
   },
   "outputs": [
    {
     "data": {
      "text/html": [
       "<div>\n",
       "<style scoped>\n",
       "    .dataframe tbody tr th:only-of-type {\n",
       "        vertical-align: middle;\n",
       "    }\n",
       "\n",
       "    .dataframe tbody tr th {\n",
       "        vertical-align: top;\n",
       "    }\n",
       "\n",
       "    .dataframe thead th {\n",
       "        text-align: right;\n",
       "    }\n",
       "</style>\n",
       "<table border=\"1\" class=\"dataframe\">\n",
       "  <thead>\n",
       "    <tr style=\"text-align: right;\">\n",
       "      <th></th>\n",
       "      <th>author</th>\n",
       "      <th>subreddit</th>\n",
       "      <th>posts</th>\n",
       "    </tr>\n",
       "  </thead>\n",
       "  <tbody>\n",
       "    <tr>\n",
       "      <th>470</th>\n",
       "      <td>469</td>\n",
       "      <td>depression</td>\n",
       "      <td>44.000000</td>\n",
       "    </tr>\n",
       "    <tr>\n",
       "      <th>1232</th>\n",
       "      <td>1224</td>\n",
       "      <td>depression</td>\n",
       "      <td>10.000000</td>\n",
       "    </tr>\n",
       "    <tr>\n",
       "      <th>4581</th>\n",
       "      <td>4495</td>\n",
       "      <td>depression</td>\n",
       "      <td>28.000000</td>\n",
       "    </tr>\n",
       "    <tr>\n",
       "      <th>5125</th>\n",
       "      <td>5021</td>\n",
       "      <td>depression</td>\n",
       "      <td>16.000000</td>\n",
       "    </tr>\n",
       "    <tr>\n",
       "      <th>6345</th>\n",
       "      <td>6204</td>\n",
       "      <td>depression</td>\n",
       "      <td>17.000000</td>\n",
       "    </tr>\n",
       "    <tr>\n",
       "      <th>...</th>\n",
       "      <td>...</td>\n",
       "      <td>...</td>\n",
       "      <td>...</td>\n",
       "    </tr>\n",
       "    <tr>\n",
       "      <th>40262160</th>\n",
       "      <td>191693</td>\n",
       "      <td>depression</td>\n",
       "      <td>4.000000</td>\n",
       "    </tr>\n",
       "    <tr>\n",
       "      <th>40274874</th>\n",
       "      <td>2745368</td>\n",
       "      <td>depression</td>\n",
       "      <td>6.000000</td>\n",
       "    </tr>\n",
       "    <tr>\n",
       "      <th>40275600</th>\n",
       "      <td>3518907</td>\n",
       "      <td>depression</td>\n",
       "      <td>6.000000</td>\n",
       "    </tr>\n",
       "    <tr>\n",
       "      <th>40276406</th>\n",
       "      <td>2486550</td>\n",
       "      <td>depression</td>\n",
       "      <td>6.000000</td>\n",
       "    </tr>\n",
       "    <tr>\n",
       "      <th>40277455</th>\n",
       "      <td>6772860</td>\n",
       "      <td>depression</td>\n",
       "      <td>6.000000</td>\n",
       "    </tr>\n",
       "  </tbody>\n",
       "</table>\n",
       "<p>19119 rows × 3 columns</p>\n",
       "</div>"
      ],
      "text/plain": [
       "           author   subreddit     posts\n",
       "470           469  depression 44.000000\n",
       "1232         1224  depression 10.000000\n",
       "4581         4495  depression 28.000000\n",
       "5125         5021  depression 16.000000\n",
       "6345         6204  depression 17.000000\n",
       "...           ...         ...       ...\n",
       "40262160   191693  depression  4.000000\n",
       "40274874  2745368  depression  6.000000\n",
       "40275600  3518907  depression  6.000000\n",
       "40276406  2486550  depression  6.000000\n",
       "40277455  6772860  depression  6.000000\n",
       "\n",
       "[19119 rows x 3 columns]"
      ]
     },
     "execution_count": 36,
     "metadata": {},
     "output_type": "execute_result"
    }
   ],
   "source": [
    "df[df[\"subreddit\"] == \"depression\"]"
   ]
  },
  {
   "cell_type": "code",
   "execution_count": 37,
   "metadata": {
    "ExecuteTime": {
     "end_time": "2020-06-01T19:42:16.609025Z",
     "start_time": "2020-06-01T19:42:15.019875Z"
    }
   },
   "outputs": [
    {
     "data": {
      "text/plain": [
       "369632"
      ]
     },
     "execution_count": 37,
     "metadata": {},
     "output_type": "execute_result"
    }
   ],
   "source": [
    "#get list of unique subreddits\n",
    "subreddits = df[\"subreddit\"].unique()\n",
    "len(subreddits)"
   ]
  },
  {
   "cell_type": "code",
   "execution_count": 38,
   "metadata": {
    "ExecuteTime": {
     "end_time": "2020-06-01T19:42:22.731980Z",
     "start_time": "2020-06-01T19:42:16.610729Z"
    }
   },
   "outputs": [
    {
     "data": {
      "text/html": [
       "<div>\n",
       "<style scoped>\n",
       "    .dataframe tbody tr th:only-of-type {\n",
       "        vertical-align: middle;\n",
       "    }\n",
       "\n",
       "    .dataframe tbody tr th {\n",
       "        vertical-align: top;\n",
       "    }\n",
       "\n",
       "    .dataframe thead th {\n",
       "        text-align: right;\n",
       "    }\n",
       "</style>\n",
       "<table border=\"1\" class=\"dataframe\">\n",
       "  <thead>\n",
       "    <tr style=\"text-align: right;\">\n",
       "      <th></th>\n",
       "      <th>author</th>\n",
       "      <th>subreddit</th>\n",
       "      <th>posts</th>\n",
       "    </tr>\n",
       "  </thead>\n",
       "  <tbody>\n",
       "    <tr>\n",
       "      <th>470</th>\n",
       "      <td>469</td>\n",
       "      <td>df_target</td>\n",
       "      <td>44.000000</td>\n",
       "    </tr>\n",
       "    <tr>\n",
       "      <th>1232</th>\n",
       "      <td>1224</td>\n",
       "      <td>df_target</td>\n",
       "      <td>10.000000</td>\n",
       "    </tr>\n",
       "    <tr>\n",
       "      <th>4581</th>\n",
       "      <td>4495</td>\n",
       "      <td>df_target</td>\n",
       "      <td>28.000000</td>\n",
       "    </tr>\n",
       "    <tr>\n",
       "      <th>5125</th>\n",
       "      <td>5021</td>\n",
       "      <td>df_target</td>\n",
       "      <td>16.000000</td>\n",
       "    </tr>\n",
       "    <tr>\n",
       "      <th>6300</th>\n",
       "      <td>6159</td>\n",
       "      <td>df_target</td>\n",
       "      <td>28.000000</td>\n",
       "    </tr>\n",
       "    <tr>\n",
       "      <th>...</th>\n",
       "      <td>...</td>\n",
       "      <td>...</td>\n",
       "      <td>...</td>\n",
       "    </tr>\n",
       "    <tr>\n",
       "      <th>40274874</th>\n",
       "      <td>2745368</td>\n",
       "      <td>df_target</td>\n",
       "      <td>6.000000</td>\n",
       "    </tr>\n",
       "    <tr>\n",
       "      <th>40275600</th>\n",
       "      <td>3518907</td>\n",
       "      <td>df_target</td>\n",
       "      <td>6.000000</td>\n",
       "    </tr>\n",
       "    <tr>\n",
       "      <th>40276406</th>\n",
       "      <td>2486550</td>\n",
       "      <td>df_target</td>\n",
       "      <td>6.000000</td>\n",
       "    </tr>\n",
       "    <tr>\n",
       "      <th>40277455</th>\n",
       "      <td>6772860</td>\n",
       "      <td>df_target</td>\n",
       "      <td>6.000000</td>\n",
       "    </tr>\n",
       "    <tr>\n",
       "      <th>40278719</th>\n",
       "      <td>2562325</td>\n",
       "      <td>df_target</td>\n",
       "      <td>7.000000</td>\n",
       "    </tr>\n",
       "  </tbody>\n",
       "</table>\n",
       "<p>50928 rows × 3 columns</p>\n",
       "</div>"
      ],
      "text/plain": [
       "           author  subreddit     posts\n",
       "470           469  df_target 44.000000\n",
       "1232         1224  df_target 10.000000\n",
       "4581         4495  df_target 28.000000\n",
       "5125         5021  df_target 16.000000\n",
       "6300         6159  df_target 28.000000\n",
       "...           ...        ...       ...\n",
       "40274874  2745368  df_target  6.000000\n",
       "40275600  3518907  df_target  6.000000\n",
       "40276406  2486550  df_target  6.000000\n",
       "40277455  6772860  df_target  6.000000\n",
       "40278719  2562325  df_target  7.000000\n",
       "\n",
       "[50928 rows x 3 columns]"
      ]
     },
     "execution_count": 38,
     "metadata": {},
     "output_type": "execute_result"
    }
   ],
   "source": [
    "# group together target variable\n",
    "df[\"subreddit\"] = [\"df_target\" if i in target_reddits else i for i in df[\"subreddit\"]]\n",
    "\n",
    "df[df[\"subreddit\"] == \"df_target\"]"
   ]
  },
  {
   "cell_type": "code",
   "execution_count": 39,
   "metadata": {
    "ExecuteTime": {
     "end_time": "2020-06-01T19:42:24.469056Z",
     "start_time": "2020-06-01T19:42:22.733783Z"
    }
   },
   "outputs": [
    {
     "data": {
      "text/html": [
       "<div>\n",
       "<style scoped>\n",
       "    .dataframe tbody tr th:only-of-type {\n",
       "        vertical-align: middle;\n",
       "    }\n",
       "\n",
       "    .dataframe tbody tr th {\n",
       "        vertical-align: top;\n",
       "    }\n",
       "\n",
       "    .dataframe thead th {\n",
       "        text-align: right;\n",
       "    }\n",
       "</style>\n",
       "<table border=\"1\" class=\"dataframe\">\n",
       "  <thead>\n",
       "    <tr style=\"text-align: right;\">\n",
       "      <th></th>\n",
       "      <th>author</th>\n",
       "      <th>subreddit</th>\n",
       "      <th>posts</th>\n",
       "    </tr>\n",
       "  </thead>\n",
       "  <tbody>\n",
       "    <tr>\n",
       "      <th>470</th>\n",
       "      <td>469</td>\n",
       "      <td>df_target</td>\n",
       "      <td>1.000000</td>\n",
       "    </tr>\n",
       "    <tr>\n",
       "      <th>1232</th>\n",
       "      <td>1224</td>\n",
       "      <td>df_target</td>\n",
       "      <td>1.000000</td>\n",
       "    </tr>\n",
       "    <tr>\n",
       "      <th>4581</th>\n",
       "      <td>4495</td>\n",
       "      <td>df_target</td>\n",
       "      <td>1.000000</td>\n",
       "    </tr>\n",
       "    <tr>\n",
       "      <th>5125</th>\n",
       "      <td>5021</td>\n",
       "      <td>df_target</td>\n",
       "      <td>1.000000</td>\n",
       "    </tr>\n",
       "    <tr>\n",
       "      <th>6300</th>\n",
       "      <td>6159</td>\n",
       "      <td>df_target</td>\n",
       "      <td>1.000000</td>\n",
       "    </tr>\n",
       "    <tr>\n",
       "      <th>...</th>\n",
       "      <td>...</td>\n",
       "      <td>...</td>\n",
       "      <td>...</td>\n",
       "    </tr>\n",
       "    <tr>\n",
       "      <th>40274874</th>\n",
       "      <td>2745368</td>\n",
       "      <td>df_target</td>\n",
       "      <td>1.000000</td>\n",
       "    </tr>\n",
       "    <tr>\n",
       "      <th>40275600</th>\n",
       "      <td>3518907</td>\n",
       "      <td>df_target</td>\n",
       "      <td>1.000000</td>\n",
       "    </tr>\n",
       "    <tr>\n",
       "      <th>40276406</th>\n",
       "      <td>2486550</td>\n",
       "      <td>df_target</td>\n",
       "      <td>1.000000</td>\n",
       "    </tr>\n",
       "    <tr>\n",
       "      <th>40277455</th>\n",
       "      <td>6772860</td>\n",
       "      <td>df_target</td>\n",
       "      <td>1.000000</td>\n",
       "    </tr>\n",
       "    <tr>\n",
       "      <th>40278719</th>\n",
       "      <td>2562325</td>\n",
       "      <td>df_target</td>\n",
       "      <td>1.000000</td>\n",
       "    </tr>\n",
       "  </tbody>\n",
       "</table>\n",
       "<p>50928 rows × 3 columns</p>\n",
       "</div>"
      ],
      "text/plain": [
       "           author  subreddit    posts\n",
       "470           469  df_target 1.000000\n",
       "1232         1224  df_target 1.000000\n",
       "4581         4495  df_target 1.000000\n",
       "5125         5021  df_target 1.000000\n",
       "6300         6159  df_target 1.000000\n",
       "...           ...        ...      ...\n",
       "40274874  2745368  df_target 1.000000\n",
       "40275600  3518907  df_target 1.000000\n",
       "40276406  2486550  df_target 1.000000\n",
       "40277455  6772860  df_target 1.000000\n",
       "40278719  2562325  df_target 1.000000\n",
       "\n",
       "[50928 rows x 3 columns]"
      ]
     },
     "execution_count": 39,
     "metadata": {},
     "output_type": "execute_result"
    }
   ],
   "source": [
    "#turn to boolean for prediction\n",
    "df.loc[df[\"subreddit\"] == \"df_target\", [\"posts\"]] = 1 \n",
    "df[df[\"subreddit\"] == \"df_target\"]"
   ]
  },
  {
   "cell_type": "code",
   "execution_count": 40,
   "metadata": {
    "ExecuteTime": {
     "end_time": "2020-06-01T19:42:25.305968Z",
     "start_time": "2020-06-01T19:42:24.470622Z"
    }
   },
   "outputs": [
    {
     "data": {
      "text/plain": [
       "470         False\n",
       "1232        False\n",
       "4581        False\n",
       "5125        False\n",
       "6300        False\n",
       "            ...  \n",
       "40274874    False\n",
       "40275600    False\n",
       "40276406     True\n",
       "40277455     True\n",
       "40278719     True\n",
       "Length: 50928, dtype: bool"
      ]
     },
     "execution_count": 40,
     "metadata": {},
     "output_type": "execute_result"
    }
   ],
   "source": [
    "#check for duplicates, boolean now so can remove\n",
    "df[df[\"subreddit\"] == \"df_target\"].duplicated()"
   ]
  },
  {
   "cell_type": "code",
   "execution_count": 41,
   "metadata": {
    "ExecuteTime": {
     "end_time": "2020-06-01T19:42:31.678369Z",
     "start_time": "2020-06-01T19:42:25.307380Z"
    }
   },
   "outputs": [],
   "source": [
    "df.drop_duplicates(inplace= True)"
   ]
  },
  {
   "cell_type": "code",
   "execution_count": 42,
   "metadata": {
    "ExecuteTime": {
     "end_time": "2020-06-01T19:42:32.578699Z",
     "start_time": "2020-06-01T19:42:31.682998Z"
    }
   },
   "outputs": [
    {
     "data": {
      "text/html": [
       "<div>\n",
       "<style scoped>\n",
       "    .dataframe tbody tr th:only-of-type {\n",
       "        vertical-align: middle;\n",
       "    }\n",
       "\n",
       "    .dataframe tbody tr th {\n",
       "        vertical-align: top;\n",
       "    }\n",
       "\n",
       "    .dataframe thead th {\n",
       "        text-align: right;\n",
       "    }\n",
       "</style>\n",
       "<table border=\"1\" class=\"dataframe\">\n",
       "  <thead>\n",
       "    <tr style=\"text-align: right;\">\n",
       "      <th></th>\n",
       "      <th>author</th>\n",
       "      <th>subreddit</th>\n",
       "      <th>posts</th>\n",
       "    </tr>\n",
       "  </thead>\n",
       "  <tbody>\n",
       "    <tr>\n",
       "      <th>470</th>\n",
       "      <td>469</td>\n",
       "      <td>df_target</td>\n",
       "      <td>1.000000</td>\n",
       "    </tr>\n",
       "    <tr>\n",
       "      <th>1232</th>\n",
       "      <td>1224</td>\n",
       "      <td>df_target</td>\n",
       "      <td>1.000000</td>\n",
       "    </tr>\n",
       "    <tr>\n",
       "      <th>4581</th>\n",
       "      <td>4495</td>\n",
       "      <td>df_target</td>\n",
       "      <td>1.000000</td>\n",
       "    </tr>\n",
       "    <tr>\n",
       "      <th>5125</th>\n",
       "      <td>5021</td>\n",
       "      <td>df_target</td>\n",
       "      <td>1.000000</td>\n",
       "    </tr>\n",
       "    <tr>\n",
       "      <th>6300</th>\n",
       "      <td>6159</td>\n",
       "      <td>df_target</td>\n",
       "      <td>1.000000</td>\n",
       "    </tr>\n",
       "    <tr>\n",
       "      <th>...</th>\n",
       "      <td>...</td>\n",
       "      <td>...</td>\n",
       "      <td>...</td>\n",
       "    </tr>\n",
       "    <tr>\n",
       "      <th>40261395</th>\n",
       "      <td>862669</td>\n",
       "      <td>df_target</td>\n",
       "      <td>1.000000</td>\n",
       "    </tr>\n",
       "    <tr>\n",
       "      <th>40262160</th>\n",
       "      <td>191693</td>\n",
       "      <td>df_target</td>\n",
       "      <td>1.000000</td>\n",
       "    </tr>\n",
       "    <tr>\n",
       "      <th>40271243</th>\n",
       "      <td>2268526</td>\n",
       "      <td>df_target</td>\n",
       "      <td>1.000000</td>\n",
       "    </tr>\n",
       "    <tr>\n",
       "      <th>40274874</th>\n",
       "      <td>2745368</td>\n",
       "      <td>df_target</td>\n",
       "      <td>1.000000</td>\n",
       "    </tr>\n",
       "    <tr>\n",
       "      <th>40275600</th>\n",
       "      <td>3518907</td>\n",
       "      <td>df_target</td>\n",
       "      <td>1.000000</td>\n",
       "    </tr>\n",
       "  </tbody>\n",
       "</table>\n",
       "<p>40212 rows × 3 columns</p>\n",
       "</div>"
      ],
      "text/plain": [
       "           author  subreddit    posts\n",
       "470           469  df_target 1.000000\n",
       "1232         1224  df_target 1.000000\n",
       "4581         4495  df_target 1.000000\n",
       "5125         5021  df_target 1.000000\n",
       "6300         6159  df_target 1.000000\n",
       "...           ...        ...      ...\n",
       "40261395   862669  df_target 1.000000\n",
       "40262160   191693  df_target 1.000000\n",
       "40271243  2268526  df_target 1.000000\n",
       "40274874  2745368  df_target 1.000000\n",
       "40275600  3518907  df_target 1.000000\n",
       "\n",
       "[40212 rows x 3 columns]"
      ]
     },
     "execution_count": 42,
     "metadata": {},
     "output_type": "execute_result"
    }
   ],
   "source": [
    "df[df[\"subreddit\"] == \"df_target\"]"
   ]
  },
  {
   "cell_type": "markdown",
   "metadata": {},
   "source": [
    "#### Merge Tiny Subreddits\n",
    "* High number of subreddits have less than 10 posters, often related to personal usernames, merging these into one feature \n"
   ]
  },
  {
   "cell_type": "code",
   "execution_count": 43,
   "metadata": {
    "ExecuteTime": {
     "end_time": "2020-06-01T19:42:38.826670Z",
     "start_time": "2020-06-01T19:42:32.584969Z"
    }
   },
   "outputs": [
    {
     "data": {
      "text/html": [
       "<div>\n",
       "<style scoped>\n",
       "    .dataframe tbody tr th:only-of-type {\n",
       "        vertical-align: middle;\n",
       "    }\n",
       "\n",
       "    .dataframe tbody tr th {\n",
       "        vertical-align: top;\n",
       "    }\n",
       "\n",
       "    .dataframe thead th {\n",
       "        text-align: right;\n",
       "    }\n",
       "</style>\n",
       "<table border=\"1\" class=\"dataframe\">\n",
       "  <thead>\n",
       "    <tr style=\"text-align: right;\">\n",
       "      <th></th>\n",
       "      <th>author</th>\n",
       "      <th>posts</th>\n",
       "    </tr>\n",
       "    <tr>\n",
       "      <th>subreddit</th>\n",
       "      <th></th>\n",
       "      <th></th>\n",
       "    </tr>\n",
       "  </thead>\n",
       "  <tbody>\n",
       "    <tr>\n",
       "      <th>*polhold00214</th>\n",
       "      <td>1</td>\n",
       "      <td>1</td>\n",
       "    </tr>\n",
       "    <tr>\n",
       "      <th>000000000000O0000000</th>\n",
       "      <td>1</td>\n",
       "      <td>1</td>\n",
       "    </tr>\n",
       "    <tr>\n",
       "      <th>001</th>\n",
       "      <td>1</td>\n",
       "      <td>1</td>\n",
       "    </tr>\n",
       "    <tr>\n",
       "      <th>0010000010000011001</th>\n",
       "      <td>1</td>\n",
       "      <td>1</td>\n",
       "    </tr>\n",
       "    <tr>\n",
       "      <th>0011110000110011</th>\n",
       "      <td>2</td>\n",
       "      <td>2</td>\n",
       "    </tr>\n",
       "    <tr>\n",
       "      <th>...</th>\n",
       "      <td>...</td>\n",
       "      <td>...</td>\n",
       "    </tr>\n",
       "    <tr>\n",
       "      <th>zzz</th>\n",
       "      <td>1</td>\n",
       "      <td>1</td>\n",
       "    </tr>\n",
       "    <tr>\n",
       "      <th>zzzCOLDPIZZAzzz</th>\n",
       "      <td>1</td>\n",
       "      <td>1</td>\n",
       "    </tr>\n",
       "    <tr>\n",
       "      <th>zzzz</th>\n",
       "      <td>2</td>\n",
       "      <td>2</td>\n",
       "    </tr>\n",
       "    <tr>\n",
       "      <th>zzzzz</th>\n",
       "      <td>1</td>\n",
       "      <td>1</td>\n",
       "    </tr>\n",
       "    <tr>\n",
       "      <th>zzzzzzzzzzzzzzzzzzzz</th>\n",
       "      <td>6</td>\n",
       "      <td>6</td>\n",
       "    </tr>\n",
       "  </tbody>\n",
       "</table>\n",
       "<p>317769 rows × 2 columns</p>\n",
       "</div>"
      ],
      "text/plain": [
       "                      author  posts\n",
       "subreddit                          \n",
       "*polhold00214              1      1\n",
       "000000000000O0000000       1      1\n",
       "001                        1      1\n",
       "0010000010000011001        1      1\n",
       "0011110000110011           2      2\n",
       "...                      ...    ...\n",
       "zzz                        1      1\n",
       "zzzCOLDPIZZAzzz            1      1\n",
       "zzzz                       2      2\n",
       "zzzzz                      1      1\n",
       "zzzzzzzzzzzzzzzzzzzz       6      6\n",
       "\n",
       "[317769 rows x 2 columns]"
      ]
     },
     "execution_count": 43,
     "metadata": {},
     "output_type": "execute_result"
    }
   ],
   "source": [
    "# we see over 1 million subreddits which only have one user, merging these into \"single_user_reddits\"\n",
    "single_df = df.groupby(\"subreddit\").count()[df.groupby(\"subreddit\").count()[\"author\"] < 11]\n",
    "single_df"
   ]
  },
  {
   "cell_type": "code",
   "execution_count": 44,
   "metadata": {
    "ExecuteTime": {
     "end_time": "2020-06-01T19:42:38.831379Z",
     "start_time": "2020-06-01T19:42:38.827971Z"
    }
   },
   "outputs": [],
   "source": [
    "single_user_subreddits = single_df.index"
   ]
  },
  {
   "cell_type": "code",
   "execution_count": 45,
   "metadata": {
    "ExecuteTime": {
     "end_time": "2020-06-01T19:42:49.616908Z",
     "start_time": "2020-06-01T19:42:38.832859Z"
    }
   },
   "outputs": [],
   "source": [
    "# renaming single user subreddits to one variable\n",
    "df[\"subreddit\"] = [\"single_user_subreddits\" if i in single_user_subreddits else i for i in df[\"subreddit\"]]\n",
    "\n",
    "# delete for memory\n",
    "del single_user_subreddits\n",
    "del single_df"
   ]
  },
  {
   "cell_type": "code",
   "execution_count": 273,
   "metadata": {
    "ExecuteTime": {
     "end_time": "2020-05-20T20:27:19.104706Z",
     "start_time": "2020-05-20T20:26:40.549625Z"
    }
   },
   "outputs": [],
   "source": [
    "#final file to take through for processing\n",
    "df.to_csv(\"/Users/samholt/GA/DSI12-lessons/projects/Capstone_Project/Capstone_MKII_DataFinal.csv'\")"
   ]
  },
  {
   "cell_type": "markdown",
   "metadata": {
    "ExecuteTime": {
     "end_time": "2020-05-09T09:56:53.528071Z",
     "start_time": "2020-05-09T09:56:45.208506Z"
    }
   },
   "source": [
    "#### Understand correlation with target and top subreddits\n",
    "* Given large number of subreddits, only looking at those which are the highest in terms of number of posts\n",
    "* Overall correlation is low with the target variable for the majority of top subreddits, though some increase in correlation with subreddits centred around advice\n",
    "* In the majority of instances correlation is very low (between -5 to 5% correlation with positive target)\n",
    "    * Unsurprising given the significant imbalance within our target class and the fact that these are the most popular subreddits overall\n"
   ]
  },
  {
   "cell_type": "code",
   "execution_count": 274,
   "metadata": {
    "ExecuteTime": {
     "end_time": "2020-05-20T20:27:29.719192Z",
     "start_time": "2020-05-20T20:27:19.111729Z"
    }
   },
   "outputs": [],
   "source": [
    "# check correlation with top subreddits and target\n",
    "\n",
    "#get top subreddits\n",
    "top_reddits = df[\"subreddit\"].value_counts(ascending= False)[:100].index.to_list()\n",
    "\n",
    "# append target\n",
    "top_reddits.append(\"df_target\")\n",
    "\n",
    "#pivot table \n",
    "top_pivot = pd.pivot_table(df[df[\"subreddit\"].isin(top_reddits)][[\"author\",\"subreddit\", \"posts\"]], values = \"posts\", index = \"author\", columns = \"subreddit\", aggfunc= \"sum\")\n",
    "\n"
   ]
  },
  {
   "cell_type": "code",
   "execution_count": 275,
   "metadata": {
    "ExecuteTime": {
     "end_time": "2020-05-20T20:27:32.284010Z",
     "start_time": "2020-05-20T20:27:29.720906Z"
    }
   },
   "outputs": [],
   "source": [
    "top_pivot.fillna(0, inplace= True)"
   ]
  },
  {
   "cell_type": "code",
   "execution_count": 276,
   "metadata": {
    "ExecuteTime": {
     "end_time": "2020-05-20T20:30:49.009022Z",
     "start_time": "2020-05-20T20:27:32.287034Z"
    }
   },
   "outputs": [
    {
     "data": {
      "image/png": "[encoded data removed]",
      "text/plain": [
       "<Figure size 576x1440 with 2 Axes>"
      ]
     },
     "metadata": {
      "needs_background": "light"
     },
     "output_type": "display_data"
    }
   ],
   "source": [
    "# Overall correlation is low with the target variable for the majority of top subreddits\n",
    "# though some increase in correlation with subreddits centred around advice\n",
    "\n",
    "f, ax = plt.subplots(figsize = (8, 20))\n",
    "plt.rcParams.update({'font.size': 7})\n",
    "sns.heatmap(top_pivot.corr()[[\"df_target\"]],cmap=sns.diverging_palette(20, 220, n=200), xticklabels= True, yticklabels= True).set_title(\"Correlation of Top Subreddits with Posting to Target Subreddits\")\n",
    "plt.show()"
   ]
  },
  {
   "cell_type": "code",
   "execution_count": 277,
   "metadata": {
    "ExecuteTime": {
     "end_time": "2020-05-20T20:34:09.031476Z",
     "start_time": "2020-05-20T20:30:49.013996Z"
    }
   },
   "outputs": [
    {
     "data": {
      "text/html": [
       "<div>\n",
       "<style scoped>\n",
       "    .dataframe tbody tr th:only-of-type {\n",
       "        vertical-align: middle;\n",
       "    }\n",
       "\n",
       "    .dataframe tbody tr th {\n",
       "        vertical-align: top;\n",
       "    }\n",
       "\n",
       "    .dataframe thead th {\n",
       "        text-align: right;\n",
       "    }\n",
       "</style>\n",
       "<table border=\"1\" class=\"dataframe\">\n",
       "  <thead>\n",
       "    <tr style=\"text-align: right;\">\n",
       "      <th>subreddit</th>\n",
       "      <th>df_target</th>\n",
       "    </tr>\n",
       "    <tr>\n",
       "      <th>subreddit</th>\n",
       "      <th></th>\n",
       "    </tr>\n",
       "  </thead>\n",
       "  <tbody>\n",
       "    <tr>\n",
       "      <th>2meirl4meirl</th>\n",
       "      <td>0.028903</td>\n",
       "    </tr>\n",
       "    <tr>\n",
       "      <th>Advice</th>\n",
       "      <td>0.094318</td>\n",
       "    </tr>\n",
       "    <tr>\n",
       "      <th>Android</th>\n",
       "      <td>-0.001625</td>\n",
       "    </tr>\n",
       "    <tr>\n",
       "      <th>Art</th>\n",
       "      <td>0.000442</td>\n",
       "    </tr>\n",
       "    <tr>\n",
       "      <th>AskDocs</th>\n",
       "      <td>0.085297</td>\n",
       "    </tr>\n",
       "    <tr>\n",
       "      <th>...</th>\n",
       "      <td>...</td>\n",
       "    </tr>\n",
       "    <tr>\n",
       "      <th>woooosh</th>\n",
       "      <td>-0.005775</td>\n",
       "    </tr>\n",
       "    <tr>\n",
       "      <th>worldnews</th>\n",
       "      <td>-0.003227</td>\n",
       "    </tr>\n",
       "    <tr>\n",
       "      <th>wow</th>\n",
       "      <td>0.002852</td>\n",
       "    </tr>\n",
       "    <tr>\n",
       "      <th>xboxone</th>\n",
       "      <td>0.000601</td>\n",
       "    </tr>\n",
       "    <tr>\n",
       "      <th>youtube</th>\n",
       "      <td>0.000257</td>\n",
       "    </tr>\n",
       "  </tbody>\n",
       "</table>\n",
       "<p>100 rows × 1 columns</p>\n",
       "</div>"
      ],
      "text/plain": [
       "subreddit     df_target\n",
       "subreddit              \n",
       "2meirl4meirl   0.028903\n",
       "Advice         0.094318\n",
       "Android       -0.001625\n",
       "Art            0.000442\n",
       "AskDocs        0.085297\n",
       "...                 ...\n",
       "woooosh       -0.005775\n",
       "worldnews     -0.003227\n",
       "wow            0.002852\n",
       "xboxone        0.000601\n",
       "youtube        0.000257\n",
       "\n",
       "[100 rows x 1 columns]"
      ]
     },
     "execution_count": 277,
     "metadata": {},
     "output_type": "execute_result"
    }
   ],
   "source": [
    "top_pivot.corr()[[\"df_target\"]]"
   ]
  },
  {
   "cell_type": "code",
   "execution_count": 278,
   "metadata": {
    "ExecuteTime": {
     "end_time": "2020-05-20T20:34:09.097766Z",
     "start_time": "2020-05-20T20:34:09.036089Z"
    }
   },
   "outputs": [],
   "source": [
    "# delete for memory\n",
    "del top_pivot\n",
    "del df"
   ]
  },
  {
   "cell_type": "markdown",
   "metadata": {},
   "source": [
    "#### Create Sparse Dataframe\n",
    "* Data is far to large to convert into normal dataframe\n",
    "* Requires creation of a sparse pivot, authors for rows, subreddits for columns & number of posts as variable"
   ]
  },
  {
   "cell_type": "code",
   "execution_count": 279,
   "metadata": {
    "ExecuteTime": {
     "end_time": "2020-05-20T20:34:21.432259Z",
     "start_time": "2020-05-20T20:34:09.102057Z"
    }
   },
   "outputs": [],
   "source": [
    "df = pd.read_csv(\"/Users/samholt/GA/DSI12-lessons/projects/Capstone_Project/Capstone_MKII_DataFinal.csv'\")"
   ]
  },
  {
   "cell_type": "code",
   "execution_count": 280,
   "metadata": {
    "ExecuteTime": {
     "end_time": "2020-05-20T20:34:21.863051Z",
     "start_time": "2020-05-20T20:34:21.437762Z"
    }
   },
   "outputs": [],
   "source": [
    "#set index to unnamed\n",
    "df.drop(\"Unnamed: 0\", axis= 1, inplace= True)"
   ]
  },
  {
   "cell_type": "code",
   "execution_count": 281,
   "metadata": {
    "ExecuteTime": {
     "end_time": "2020-05-20T20:34:23.626472Z",
     "start_time": "2020-05-20T20:34:21.867968Z"
    }
   },
   "outputs": [],
   "source": [
    "# creating unique list of subreddits with target as the last value for ease of data manipulation\n",
    "unique_subs = list(df[\"subreddit\"].unique())\n",
    "unique_subs.remove(\"df_target\")\n",
    "unique_subs.append(\"df_target\")"
   ]
  },
  {
   "cell_type": "code",
   "execution_count": 282,
   "metadata": {
    "ExecuteTime": {
     "end_time": "2020-05-20T20:34:23.666173Z",
     "start_time": "2020-05-20T20:34:23.632862Z"
    }
   },
   "outputs": [],
   "source": [
    "# data is to large for a pandas pivot table, creating a function to create a sparse version \n",
    "\n",
    "def create_sparse_pivot(rows, cols, data, values):\n",
    "    ### function creates a sparse pivot table from large datasets\n",
    "    r = CategoricalDtype(sorted(data[rows].unique()), ordered=True)\n",
    "    c = CategoricalDtype(unique_subs)\n",
    "\n",
    "    row = data[rows].astype(r).cat.codes\n",
    "    col = data[cols].astype(c).cat.codes\n",
    "    sparse_matrix = csr_matrix((df[values], (row, col)), \\\n",
    "                           shape=(r.categories.size, c.categories.size))\n",
    "    \n",
    "    return sparse_matrix, col\n"
   ]
  },
  {
   "cell_type": "code",
   "execution_count": 283,
   "metadata": {
    "ExecuteTime": {
     "end_time": "2020-05-20T20:34:28.916528Z",
     "start_time": "2020-05-20T20:34:23.670132Z"
    }
   },
   "outputs": [],
   "source": [
    "# create sparse df & column references\n",
    "sparse_df, df_refr = create_sparse_pivot(\"author\", \"subreddit\", df, \"posts\")"
   ]
  },
  {
   "cell_type": "code",
   "execution_count": 284,
   "metadata": {
    "ExecuteTime": {
     "end_time": "2020-05-20T20:34:28.934211Z",
     "start_time": "2020-05-20T20:34:28.919248Z"
    }
   },
   "outputs": [
    {
     "data": {
      "text/plain": [
       "(100000, 51854)"
      ]
     },
     "execution_count": 284,
     "metadata": {},
     "output_type": "execute_result"
    }
   ],
   "source": [
    "sample_df.shape"
   ]
  },
  {
   "cell_type": "code",
   "execution_count": 285,
   "metadata": {
    "ExecuteTime": {
     "end_time": "2020-05-20T20:34:29.036936Z",
     "start_time": "2020-05-20T20:34:28.936591Z"
    }
   },
   "outputs": [
    {
     "data": {
      "text/plain": [
       "0.000000   0.949768\n",
       "1.000000   0.050232\n",
       "Name: 0, dtype: float64"
      ]
     },
     "execution_count": 285,
     "metadata": {},
     "output_type": "execute_result"
    }
   ],
   "source": [
    "# baseline of 97%, high chance of overestimating the non-MH class\n",
    "baseline = pd.DataFrame(sparse_df[:, -1].todense())[0].value_counts(normalize= True)\n",
    "baseline"
   ]
  },
  {
   "cell_type": "code",
   "execution_count": 286,
   "metadata": {
    "ExecuteTime": {
     "end_time": "2020-05-20T20:34:29.088274Z",
     "start_time": "2020-05-20T20:34:29.039517Z"
    }
   },
   "outputs": [],
   "source": [
    "# create sample dataframe for proof of concept modelling\n",
    "sample_df = resample(sparse_df, n_samples = 100000, random_state = 13)"
   ]
  },
  {
   "cell_type": "code",
   "execution_count": 287,
   "metadata": {
    "ExecuteTime": {
     "end_time": "2020-05-20T20:34:29.115368Z",
     "start_time": "2020-05-20T20:34:29.091810Z"
    }
   },
   "outputs": [
    {
     "data": {
      "text/plain": [
       "0.000000   0.950340\n",
       "1.000000   0.049660\n",
       "Name: 0, dtype: float64"
      ]
     },
     "execution_count": 287,
     "metadata": {},
     "output_type": "execute_result"
    }
   ],
   "source": [
    "# baseline of 97%, high chance of overestimating the non-MH class- similar to the main sample\n",
    "baseline = pd.DataFrame(sample_df[:, -1].todense())[0].value_counts(normalize= True)\n",
    "baseline"
   ]
  },
  {
   "cell_type": "markdown",
   "metadata": {},
   "source": [
    "#### Proof of Concept modelling\n",
    "* Testing models on sampled data ahead of porting to AWS for greater computational power\n",
    "* Creating class function to assess various resampling methods on our data"
   ]
  },
  {
   "cell_type": "code",
   "execution_count": 288,
   "metadata": {
    "ExecuteTime": {
     "end_time": "2020-05-20T20:34:29.186674Z",
     "start_time": "2020-05-20T20:34:29.118187Z"
    },
    "scrolled": true
   },
   "outputs": [
    {
     "data": {
      "text/plain": [
       "100000"
      ]
     },
     "execution_count": 288,
     "metadata": {},
     "output_type": "execute_result"
    }
   ],
   "source": [
    "# split sample into target and predictor variables\n",
    "X = sample_df[:,:-1]\n",
    "y = sample_df[:, -1].toarray().ravel()\n",
    "\n",
    "X\n",
    "len(y)"
   ]
  },
  {
   "cell_type": "code",
   "execution_count": 289,
   "metadata": {
    "ExecuteTime": {
     "end_time": "2020-05-20T20:34:29.486251Z",
     "start_time": "2020-05-20T20:34:29.189383Z"
    }
   },
   "outputs": [],
   "source": [
    "# create train test split\n",
    "X_train, X_test, y_train, y_test = train_test_split(X, y, test_size=0.3, stratify= y, random_state=13)\n",
    "\n",
    "# standardize data, maxabsscaler as to work on sparse data \n",
    "scaler = MaxAbsScaler()\n",
    "X_train = scaler.fit_transform(X_train)\n",
    "X_test = scaler.transform(X_test)"
   ]
  },
  {
   "cell_type": "code",
   "execution_count": 290,
   "metadata": {
    "ExecuteTime": {
     "end_time": "2020-05-20T20:34:29.543717Z",
     "start_time": "2020-05-20T20:34:29.489613Z"
    }
   },
   "outputs": [],
   "source": [
    "# create dataframe to track params & scoring\n",
    "cols = [\"phase\", \"model_type\", \"cv_score\", \"training_score\", \"precision\", \"recall\", \"f1-score\", \"TP\", \"FP\", \"TN\", \"FN\"]\n",
    "model_tracker = pd.DataFrame(columns= cols)"
   ]
  },
  {
   "cell_type": "code",
   "execution_count": 291,
   "metadata": {
    "ExecuteTime": {
     "end_time": "2020-05-20T20:34:29.556787Z",
     "start_time": "2020-05-20T20:34:29.546365Z"
    }
   },
   "outputs": [
    {
     "data": {
      "text/html": [
       "<div>\n",
       "<style scoped>\n",
       "    .dataframe tbody tr th:only-of-type {\n",
       "        vertical-align: middle;\n",
       "    }\n",
       "\n",
       "    .dataframe tbody tr th {\n",
       "        vertical-align: top;\n",
       "    }\n",
       "\n",
       "    .dataframe thead th {\n",
       "        text-align: right;\n",
       "    }\n",
       "</style>\n",
       "<table border=\"1\" class=\"dataframe\">\n",
       "  <thead>\n",
       "    <tr style=\"text-align: right;\">\n",
       "      <th></th>\n",
       "      <th>phase</th>\n",
       "      <th>model_type</th>\n",
       "      <th>cv_score</th>\n",
       "      <th>training_score</th>\n",
       "      <th>precision</th>\n",
       "      <th>recall</th>\n",
       "      <th>f1-score</th>\n",
       "      <th>TP</th>\n",
       "      <th>FP</th>\n",
       "      <th>TN</th>\n",
       "      <th>FN</th>\n",
       "    </tr>\n",
       "  </thead>\n",
       "  <tbody>\n",
       "  </tbody>\n",
       "</table>\n",
       "</div>"
      ],
      "text/plain": [
       "Empty DataFrame\n",
       "Columns: [phase, model_type, cv_score, training_score, precision, recall, f1-score, TP, FP, TN, FN]\n",
       "Index: []"
      ]
     },
     "execution_count": 291,
     "metadata": {},
     "output_type": "execute_result"
    }
   ],
   "source": [
    "model_tracker"
   ]
  },
  {
   "cell_type": "code",
   "execution_count": 292,
   "metadata": {
    "ExecuteTime": {
     "end_time": "2020-05-20T20:34:29.580435Z",
     "start_time": "2020-05-20T20:34:29.560011Z"
    }
   },
   "outputs": [],
   "source": [
    "#create function to run different models\n",
    "def model_run(model):\n",
    "    \"\"\"returns average score, training score, class report metrics and confusion matrix outputs\"\"\"\n",
    "    scores = cross_val_score(model, X_train, y_train, cv=5)\n",
    "    # get cross val score\n",
    "    scores = cross_val_score(model, X_train, y_train, cv=5)\n",
    "\n",
    "    # get training score\n",
    "    model.fit(X_train, y_train)\n",
    "    training_score = model.score(X_train, y_train)\n",
    "\n",
    "    # predict and get classification report & confusion matrix info\n",
    "    predictions = model.predict(X_test)\n",
    "    class_report = classification_report(y_test, predictions, output_dict= True)\n",
    "    tn, fp, fn, tp = confusion_matrix(y_test, predictions).ravel()\n",
    "    \n",
    "    print(\"Model run complete\")\n",
    "    return scores, training_score, class_report, tn, fp, fn, tp"
   ]
  },
  {
   "cell_type": "code",
   "execution_count": 294,
   "metadata": {
    "ExecuteTime": {
     "end_time": "2020-05-20T20:35:51.119612Z",
     "start_time": "2020-05-20T20:35:00.066553Z"
    }
   },
   "outputs": [
    {
     "name": "stdout",
     "output_type": "stream",
     "text": [
      "Model run complete\n"
     ]
    }
   ],
   "source": [
    "# logistic regression, base model\n",
    "model = LogisticRegression(class_weight= \"balanced\", solver = \"sag\", max_iter= 800)\n",
    "\n",
    "scores, training_score, class_report, tn, fp, fn, tp = model_run(model)\n",
    "\n",
    "# append to model tracker\n",
    "results = pd.Series([\"PoC\", \"log_reg\", scores.mean(), training_score, class_report[\"1.0\"][\"precision\"], class_report[\"1.0\"][\"recall\"], class_report[\"1.0\"][\"f1-score\"],tp, fp, tn, fn], index= model_tracker.columns)\n",
    "model_tracker = model_tracker.append(results, ignore_index= True)"
   ]
  },
  {
   "cell_type": "code",
   "execution_count": 295,
   "metadata": {
    "ExecuteTime": {
     "end_time": "2020-05-20T20:42:55.058315Z",
     "start_time": "2020-05-20T20:35:51.177440Z"
    }
   },
   "outputs": [
    {
     "name": "stdout",
     "output_type": "stream",
     "text": [
      "Model run complete\n"
     ]
    }
   ],
   "source": [
    "# KNN, base model\n",
    "model = KNeighborsClassifier()\n",
    "\n",
    "scores, training_score, class_report, tn, fp, fn, tp = model_run(model)\n",
    "\n",
    "results = pd.Series([\"PoC\", \"KNN\", scores.mean(), training_score, class_report[\"1.0\"][\"precision\"], class_report[\"1.0\"][\"recall\"], class_report[\"1.0\"][\"f1-score\"],tp, fp, tn, fn], index= model_tracker.columns)\n",
    "model_tracker = model_tracker.append(results, ignore_index= True)"
   ]
  },
  {
   "cell_type": "code",
   "execution_count": 296,
   "metadata": {
    "ExecuteTime": {
     "end_time": "2020-05-20T20:49:41.588890Z",
     "start_time": "2020-05-20T20:42:55.086437Z"
    }
   },
   "outputs": [
    {
     "name": "stdout",
     "output_type": "stream",
     "text": [
      "Model run complete\n"
     ]
    }
   ],
   "source": [
    "# Decision tree, base model\n",
    "model = DecisionTreeClassifier(min_samples_split= 50)\n",
    "\n",
    "scores, training_score, class_report, tn, fp, fn, tp = model_run(model)\n",
    "\n",
    "results = pd.Series([\"PoC\", \"D_Tree\", scores.mean(), training_score, class_report[\"1.0\"][\"precision\"], class_report[\"1.0\"][\"recall\"], class_report[\"1.0\"][\"f1-score\"],tp, fp, tn, fn], index= model_tracker.columns)\n",
    "model_tracker = model_tracker.append(results, ignore_index= True)"
   ]
  },
  {
   "cell_type": "code",
   "execution_count": 297,
   "metadata": {
    "ExecuteTime": {
     "end_time": "2020-05-20T21:20:24.888603Z",
     "start_time": "2020-05-20T20:49:41.594350Z"
    }
   },
   "outputs": [
    {
     "name": "stdout",
     "output_type": "stream",
     "text": [
      "Model run complete\n"
     ]
    }
   ],
   "source": [
    "# Random forest, basic model\n",
    "model = RandomForestClassifier(n_estimators= 100, n_jobs= 2)\n",
    "\n",
    "scores, training_score, class_report, tn, fp, fn, tp = model_run(model)\n",
    "\n",
    "results = pd.Series([\"PoC\", \"Rand_Fr\", scores.mean(), training_score, class_report[\"1.0\"][\"precision\"], class_report[\"1.0\"][\"recall\"], class_report[\"1.0\"][\"f1-score\"],tp, fp, tn, fn], index= model_tracker.columns)\n",
    "model_tracker = model_tracker.append(results, ignore_index= True)"
   ]
  },
  {
   "cell_type": "code",
   "execution_count": 298,
   "metadata": {
    "ExecuteTime": {
     "end_time": "2020-05-20T21:42:29.745916Z",
     "start_time": "2020-05-20T21:20:24.900254Z"
    }
   },
   "outputs": [
    {
     "name": "stdout",
     "output_type": "stream",
     "text": [
      "Model run complete\n"
     ]
    }
   ],
   "source": [
    "# Gradient boost, basic model\n",
    "model = model = GradientBoostingClassifier(n_estimators=100, max_depth=3, learning_rate=0.1, random_state=1)\n",
    "\n",
    "scores, training_score, class_report, tn, fp, fn, tp = model_run(model)\n",
    "\n",
    "results = pd.Series([\"PoC\", \"Grad_Bst\", scores.mean(), training_score, class_report[\"1.0\"][\"precision\"], class_report[\"1.0\"][\"recall\"], class_report[\"1.0\"][\"f1-score\"],tp, fp, tn, fn], index= model_tracker.columns)\n",
    "model_tracker = model_tracker.append(results, ignore_index= True)"
   ]
  },
  {
   "cell_type": "code",
   "execution_count": 299,
   "metadata": {
    "ExecuteTime": {
     "end_time": "2020-05-20T21:42:30.193590Z",
     "start_time": "2020-05-20T21:42:29.751549Z"
    }
   },
   "outputs": [
    {
     "name": "stdout",
     "output_type": "stream",
     "text": [
      "Model run complete\n"
     ]
    }
   ],
   "source": [
    "# Naive bayes, basic model\n",
    "model = MultinomialNB()\n",
    "\n",
    "scores, training_score, class_report, tn, fp, fn, tp = model_run(model)\n",
    "\n",
    "results = pd.Series([\"PoC\", \"M_NB\", scores.mean(), training_score, class_report[\"1.0\"][\"precision\"], class_report[\"1.0\"][\"recall\"], class_report[\"1.0\"][\"f1-score\"],tp, fp, tn, fn], index= model_tracker.columns)\n",
    "model_tracker = model_tracker.append(results, ignore_index= True)"
   ]
  },
  {
   "cell_type": "code",
   "execution_count": 300,
   "metadata": {
    "ExecuteTime": {
     "end_time": "2020-05-20T21:42:44.984586Z",
     "start_time": "2020-05-20T21:42:30.196474Z"
    }
   },
   "outputs": [
    {
     "name": "stdout",
     "output_type": "stream",
     "text": [
      "Model run complete\n"
     ]
    }
   ],
   "source": [
    "# Linear SVC, basic model\n",
    "model = LinearSVC()\n",
    "\n",
    "scores, training_score, class_report, tn, fp, fn, tp = model_run(model)\n",
    "\n",
    "results = pd.Series([\"PoC\", \"SVC\", scores.mean(), training_score, class_report[\"1.0\"][\"precision\"], class_report[\"1.0\"][\"recall\"], class_report[\"1.0\"][\"f1-score\"],tp, fp, tn, fn], index= model_tracker.columns)\n",
    "model_tracker = model_tracker.append(results, ignore_index= True)"
   ]
  },
  {
   "cell_type": "code",
   "execution_count": 301,
   "metadata": {
    "ExecuteTime": {
     "end_time": "2020-05-20T21:42:45.024563Z",
     "start_time": "2020-05-20T21:42:44.987341Z"
    }
   },
   "outputs": [
    {
     "data": {
      "text/html": [
       "<div>\n",
       "<style scoped>\n",
       "    .dataframe tbody tr th:only-of-type {\n",
       "        vertical-align: middle;\n",
       "    }\n",
       "\n",
       "    .dataframe tbody tr th {\n",
       "        vertical-align: top;\n",
       "    }\n",
       "\n",
       "    .dataframe thead th {\n",
       "        text-align: right;\n",
       "    }\n",
       "</style>\n",
       "<table border=\"1\" class=\"dataframe\">\n",
       "  <thead>\n",
       "    <tr style=\"text-align: right;\">\n",
       "      <th></th>\n",
       "      <th>phase</th>\n",
       "      <th>model_type</th>\n",
       "      <th>cv_score</th>\n",
       "      <th>training_score</th>\n",
       "      <th>precision</th>\n",
       "      <th>recall</th>\n",
       "      <th>f1-score</th>\n",
       "      <th>TP</th>\n",
       "      <th>FP</th>\n",
       "      <th>TN</th>\n",
       "      <th>FN</th>\n",
       "    </tr>\n",
       "  </thead>\n",
       "  <tbody>\n",
       "    <tr>\n",
       "      <th>0</th>\n",
       "      <td>PoC</td>\n",
       "      <td>log_reg</td>\n",
       "      <td>0.895300</td>\n",
       "      <td>0.933814</td>\n",
       "      <td>0.191219</td>\n",
       "      <td>0.403356</td>\n",
       "      <td>0.259443</td>\n",
       "      <td>601</td>\n",
       "      <td>2542</td>\n",
       "      <td>25968</td>\n",
       "      <td>889</td>\n",
       "    </tr>\n",
       "    <tr>\n",
       "      <th>1</th>\n",
       "      <td>PoC</td>\n",
       "      <td>log_reg</td>\n",
       "      <td>0.895257</td>\n",
       "      <td>0.933814</td>\n",
       "      <td>0.191219</td>\n",
       "      <td>0.403356</td>\n",
       "      <td>0.259443</td>\n",
       "      <td>601</td>\n",
       "      <td>2542</td>\n",
       "      <td>25968</td>\n",
       "      <td>889</td>\n",
       "    </tr>\n",
       "    <tr>\n",
       "      <th>2</th>\n",
       "      <td>PoC</td>\n",
       "      <td>KNN</td>\n",
       "      <td>0.949343</td>\n",
       "      <td>0.952971</td>\n",
       "      <td>0.308271</td>\n",
       "      <td>0.027517</td>\n",
       "      <td>0.050524</td>\n",
       "      <td>41</td>\n",
       "      <td>92</td>\n",
       "      <td>28418</td>\n",
       "      <td>1449</td>\n",
       "    </tr>\n",
       "    <tr>\n",
       "      <th>3</th>\n",
       "      <td>PoC</td>\n",
       "      <td>D_Tree</td>\n",
       "      <td>0.937329</td>\n",
       "      <td>0.980143</td>\n",
       "      <td>0.317181</td>\n",
       "      <td>0.193289</td>\n",
       "      <td>0.240200</td>\n",
       "      <td>288</td>\n",
       "      <td>620</td>\n",
       "      <td>27890</td>\n",
       "      <td>1202</td>\n",
       "    </tr>\n",
       "    <tr>\n",
       "      <th>4</th>\n",
       "      <td>PoC</td>\n",
       "      <td>Rand_Fr</td>\n",
       "      <td>0.953357</td>\n",
       "      <td>0.999971</td>\n",
       "      <td>0.933333</td>\n",
       "      <td>0.093960</td>\n",
       "      <td>0.170732</td>\n",
       "      <td>140</td>\n",
       "      <td>10</td>\n",
       "      <td>28500</td>\n",
       "      <td>1350</td>\n",
       "    </tr>\n",
       "    <tr>\n",
       "      <th>5</th>\n",
       "      <td>PoC</td>\n",
       "      <td>Grad_Bst</td>\n",
       "      <td>0.951100</td>\n",
       "      <td>0.953914</td>\n",
       "      <td>0.683824</td>\n",
       "      <td>0.062416</td>\n",
       "      <td>0.114391</td>\n",
       "      <td>93</td>\n",
       "      <td>43</td>\n",
       "      <td>28467</td>\n",
       "      <td>1397</td>\n",
       "    </tr>\n",
       "    <tr>\n",
       "      <th>6</th>\n",
       "      <td>PoC</td>\n",
       "      <td>M_NB</td>\n",
       "      <td>0.938586</td>\n",
       "      <td>0.954029</td>\n",
       "      <td>0.075594</td>\n",
       "      <td>0.046980</td>\n",
       "      <td>0.057947</td>\n",
       "      <td>70</td>\n",
       "      <td>856</td>\n",
       "      <td>27654</td>\n",
       "      <td>1420</td>\n",
       "    </tr>\n",
       "    <tr>\n",
       "      <th>7</th>\n",
       "      <td>PoC</td>\n",
       "      <td>SVC</td>\n",
       "      <td>0.945857</td>\n",
       "      <td>0.974257</td>\n",
       "      <td>0.287958</td>\n",
       "      <td>0.147651</td>\n",
       "      <td>0.195209</td>\n",
       "      <td>220</td>\n",
       "      <td>544</td>\n",
       "      <td>27966</td>\n",
       "      <td>1270</td>\n",
       "    </tr>\n",
       "  </tbody>\n",
       "</table>\n",
       "</div>"
      ],
      "text/plain": [
       "  phase model_type  cv_score  training_score  precision   recall  f1-score  \\\n",
       "0   PoC    log_reg  0.895300        0.933814   0.191219 0.403356  0.259443   \n",
       "1   PoC    log_reg  0.895257        0.933814   0.191219 0.403356  0.259443   \n",
       "2   PoC        KNN  0.949343        0.952971   0.308271 0.027517  0.050524   \n",
       "3   PoC     D_Tree  0.937329        0.980143   0.317181 0.193289  0.240200   \n",
       "4   PoC    Rand_Fr  0.953357        0.999971   0.933333 0.093960  0.170732   \n",
       "5   PoC   Grad_Bst  0.951100        0.953914   0.683824 0.062416  0.114391   \n",
       "6   PoC       M_NB  0.938586        0.954029   0.075594 0.046980  0.057947   \n",
       "7   PoC        SVC  0.945857        0.974257   0.287958 0.147651  0.195209   \n",
       "\n",
       "    TP    FP     TN    FN  \n",
       "0  601  2542  25968   889  \n",
       "1  601  2542  25968   889  \n",
       "2   41    92  28418  1449  \n",
       "3  288   620  27890  1202  \n",
       "4  140    10  28500  1350  \n",
       "5   93    43  28467  1397  \n",
       "6   70   856  27654  1420  \n",
       "7  220   544  27966  1270  "
      ]
     },
     "execution_count": 301,
     "metadata": {},
     "output_type": "execute_result"
    }
   ],
   "source": [
    "model_tracker"
   ]
  },
  {
   "cell_type": "markdown",
   "metadata": {},
   "source": [
    "#### Assess Optimal Sampling Technique with Various Models\n",
    "* To improve the models in terms of identifying the minority class, several under and oversampling methodologies were applied to the training set\n"
   ]
  },
  {
   "cell_type": "code",
   "execution_count": 304,
   "metadata": {
    "ExecuteTime": {
     "end_time": "2020-05-20T21:42:54.004205Z",
     "start_time": "2020-05-20T21:42:53.992675Z"
    }
   },
   "outputs": [],
   "source": [
    "from imblearn.under_sampling import (RandomUnderSampler, \n",
    "                                     ClusterCentroids,\n",
    "                                     TomekLinks,\n",
    "                                     NeighbourhoodCleaningRule,\n",
    "                                     NearMiss)\n",
    "from imblearn.over_sampling import SMOTE, RandomOverSampler, ADASYN"
   ]
  },
  {
   "cell_type": "code",
   "execution_count": 305,
   "metadata": {
    "ExecuteTime": {
     "end_time": "2020-05-20T21:42:54.064783Z",
     "start_time": "2020-05-20T21:42:54.011038Z"
    }
   },
   "outputs": [],
   "source": [
    "# create dataframe to track params & scoring\n",
    "cols = [\"Model\", \"Method\", \"cv_score\", \"training_score\", \"accuracy\", \"precision\", \"recall\", \"f1-score\", \"TP\", \"FP\", \"TN\", \"FN\"]\n",
    "model_tracker = pd.DataFrame(columns= cols)"
   ]
  },
  {
   "cell_type": "code",
   "execution_count": 306,
   "metadata": {
    "ExecuteTime": {
     "end_time": "2020-05-20T21:42:54.339673Z",
     "start_time": "2020-05-20T21:42:54.075670Z"
    }
   },
   "outputs": [],
   "source": [
    "# creating class called tiny target which will evaluate several different sampling techniques on a user selected model\n",
    "class tiny_target:\n",
    "    def __init__(self, X, y, scaler= MaxAbsScaler(), model= LogisticRegression(), sampling_strategy= 0.5, train_size = 0.3, run_all = True, cv_scoring = \"recall\", stratify = y, cv= 5, tracker = None, name = \"model\"):\n",
    "        if tracker is not None:\n",
    "            self.tracker = tracker\n",
    "        else:\n",
    "            cols = [\"Model\", \"Method\", \"cv_score\", \"training_score\", \"accuracy\", \"precision\", \"recall\", \"f1-score\", \"TP\", \"FP\", \"TN\", \"FN\"]\n",
    "            model_tracker = pd.DataFrame(columns= cols)\n",
    "            self.tracker = model_tracker\n",
    "            \n",
    "        self.X = X\n",
    "        self.y = y\n",
    "        self.model = model\n",
    "        self.sampling_strategy = sampling_strategy\n",
    "        self.train_size = train_size\n",
    "        self.stratify = stratify\n",
    "        self.cv = cv\n",
    "        self.name = name\n",
    "        self.cv_scoring = cv_scoring\n",
    "        self.tracker = tracker\n",
    "    \n",
    "    def model_runner(self):\n",
    "        \"\"\"runs models and appends various scoring metrics (y target focused) to model tracker\"\"\"\n",
    "        self.model.fit(self.X_train_new, self.y_train_new)\n",
    "        self.scores = cross_val_score(self.model, self.X_train_new, self.y_train_new, cv= self.cv, scoring = self.cv_scoring)\n",
    "        self.training_score = self.model.score(self.X_train_new, self.y_train_new)\n",
    "\n",
    "        # predict and get classification report & confusion matrix info\n",
    "        self.predictions = self.model.predict(self.X_test)\n",
    "        self.class_report = classification_report(self.y_test, self.predictions, output_dict= True)\n",
    "        self.tn, self.fp, self.fn, self.tp = confusion_matrix(self.y_test, self.predictions).ravel()\n",
    "        \n",
    "        self.model_tracker()\n",
    "        \n",
    "    def model_tracker(self):\n",
    "        self.results = pd.DataFrame({'Model': self.name, 'Method': self.method, 'cv_score': self.scores.mean(), \n",
    "                                'training_score': self.training_score,'accuracy': self.class_report[\"accuracy\"],\n",
    "                                'precision': self.class_report[\"1.0\"][\"precision\"], 'recall': self.class_report[\"1.0\"][\"recall\"],\n",
    "                                'f1-score': self.class_report[\"1.0\"][\"f1-score\"], 'TP': self.tp, 'FP': self.fp,\n",
    "                                'TN': self.tn, 'FN': self.fn}, index=[len(model_tracker.index)])\n",
    "        self.tracker =  pd.concat([self.tracker, self.results])\n",
    "    \n",
    "    def run_all(self):\n",
    "        self.random_under()\n",
    "        \n",
    "        self.tomeklinks()\n",
    "        self.neighbourhoodclean()\n",
    "        self.nearmiss()\n",
    "        self.smote_upsample()\n",
    "        self.random_over()\n",
    "        self.adasyn()\n",
    "        return self.tracker\n",
    "    \n",
    "    def random_under(self):\n",
    "        \"\"\"Randomly undersamples the predictor class. Can lead to loss of information \n",
    "        unless the majority class is relatively uniform\"\"\"\n",
    "        \n",
    "        self.sampler = RandomUnderSampler(sampling_strategy= self.sampling_strategy, random_state= 13)\n",
    "        \n",
    "        self.X_train, self.X_test, self.y_train , self.y_test = train_test_split( \\\n",
    "            self.X, self.y, train_size=self.train_size, stratify=self.stratify, random_state=13)\n",
    "        self.X_train_new, self.y_train_new = self.sampler.fit_resample(self.X_train, self.y_train)\n",
    "        self.method = \"Random Under\"\n",
    "        self.model_runner() \n",
    "        print(\"Random undersample run complete\")\n",
    "        return self.tracker\n",
    "    \n",
    "    def clustercentroids(self):\n",
    "        \"\"\"This method undersamples the majority class by replacing a cluster of majority samples. \n",
    "        Clusters of majority class found with K-mean algorithms. Then it keeps the cluster centroids of the \n",
    "        N clusters as the new majority samples\"\"\"\n",
    "        self.sampler = ClusterCentroids(sampling_strategy= self.sampling_strategy, random_state= 13)\n",
    "        \n",
    "        self.X_train, self.X_test, self.y_train , self.y_test = train_test_split(self.X, self.y, train_size=self.train_size, stratify=self.stratify, random_state=13)\n",
    "        self.X_train_new, self.y_train_new = self.sampler.fit_resample(self.X_train, self.y_train)\n",
    "        self.method = \"Cluster Centroids\"\n",
    "        self.model_runner()\n",
    "        \n",
    "        print(\"Cluster centroids run complete\")\n",
    "        return self.tracker\n",
    "    \n",
    "    def tomeklinks(self):\n",
    "        \"\"\"Finds samples near the borderline of the two classess. Given two instances, a & b seperated by distance\n",
    "        d(a,b) the pair is called a Tomek link if there is no instance c such that d(a,c) < d(a,b) or d(b,c) < d(a,b)\n",
    "        Instances within Tomek links are considered noise or borderline and are thus removed\"\"\"\n",
    "        \n",
    "        self.sampler = TomekLinks()\n",
    "        \n",
    "        self.X_train, self.X_test, self.y_train , self.y_test = train_test_split(self.X, self.y, train_size=self.train_size, stratify=self.stratify, random_state=13)\n",
    "        self.X_train_new, self.y_train_new = self.sampler.fit_resample(self.X_train, self.y_train)\n",
    "        self.method = \"Tomek Links\"\n",
    "        self.model_runner()\n",
    "        \n",
    "        print(\"TomekLinks run complete\")\n",
    "        return self.tracker\n",
    "    \n",
    "    def neighbourhoodclean(self):\n",
    "        \"\"\" Edited Nearest Neighbor Rule (ENN) to remove any instance whose class label is different from the class\n",
    "        of at least two of its three nearest neighbors. Neighbourhood cleaning rule uses ENN to remove majority samples\n",
    "        Finds three nearest neighbors for each training set instance, if majority class and opposite to its neighbours \n",
    "        it is removed. If belongs to the target class than the neighbours are removed\"\"\"\n",
    "        \n",
    "        self.sampler = NeighbourhoodCleaningRule()\n",
    "        \n",
    "        self.X_train, self.X_test, self.y_train , self.y_test = train_test_split(self.X, self.y, train_size=self.train_size, stratify=self.stratify, random_state=13)\n",
    "        self.X_train_new, self.y_train_new = self.sampler.fit_resample(self.X_train, self.y_train)\n",
    "        self.method = \"Neighbourhood Clean\"\n",
    "        self.model_runner()\n",
    "        \n",
    "        print(\"Neighbourhood Cleaning run complete\")\n",
    "        return self.tracker\n",
    "    \n",
    "    def nearmiss(self):\n",
    "        \"\"\"Calculates distances between all instance of majority and minority classes. K instances of the majority\n",
    "        class with smallest distances to minority are selected and removed\"\"\"\n",
    "        \n",
    "        self.sampler = NearMiss(sampling_strategy= self.sampling_strategy)\n",
    "        \n",
    "        self.X_train, self.X_test, self.y_train , self.y_test = train_test_split(self.X, self.y, train_size=self.train_size, stratify=self.stratify, random_state=13)\n",
    "        self.X_train_new, self.y_train_new = self.sampler.fit_resample(self.X_train, self.y_train)\n",
    "        self.method = \"Near Miss\"\n",
    "        self.model_runner()\n",
    "       \n",
    "        print(\"Near Miss run complete\")\n",
    "        return self.tracker\n",
    "        \n",
    "    \n",
    "    def smote_upsample(self, k_neighbors = 5):\n",
    "        self.k_neighbors = k_neighbors\n",
    "        self.sampler = SMOTE(sampling_strategy= self.sampling_strategy, random_state= 13, k_neighbors= self.k_neighbors)\n",
    "        self.X_train, self.X_test, self.y_train , self.y_test = train_test_split(self.X, self.y, train_size=self.train_size, stratify=self.stratify, random_state=13)\n",
    "\n",
    "        cv = KFold(n_splits=5, shuffle = True)\n",
    "        self.scores = np.array([])\n",
    "        for train_fold_index, val_fold_index in cv.split(self.X_train, self.y_train):\n",
    "         \n",
    "             # Get the training data\n",
    "            X_train_fold, y_train_fold = self.X_train[train_fold_index], self.y_train[train_fold_index]\n",
    "        # Get the validation data\n",
    "            X_val_fold, y_val_fold = self.X_train[val_fold_index], self.y_train[val_fold_index]\n",
    "\n",
    "        # Upsample only the data in the training section\n",
    "            X_train_fold_upsample, y_train_fold_upsample = self.sampler.fit_resample(X_train_fold,\n",
    "                                                                           y_train_fold)\n",
    "            model_obj = self.model.fit(X_train_fold_upsample, y_train_fold_upsample)\n",
    "            score = recall_score(y_val_fold, model_obj.predict(X_val_fold))\n",
    "            self.scores = np.append(self.scores, score)  \n",
    "        \n",
    "        self.X_train_new, self.y_train_new = self.sampler.fit_resample(self.X_train, self.y_train)\n",
    "        self.model.fit(self.X_train_new, self.y_train_new)\n",
    "        self.training_score = self.model.score(self.X_train_new, self.y_train_new)\n",
    "\n",
    "        # predict and get classification report & confusion matrix info\n",
    "        self.predictions = self.model.predict(self.X_test)\n",
    "        self.class_report = classification_report(self.y_test, self.predictions, output_dict= True)\n",
    "        self.tn, self.fp, self.fn, self.tp = confusion_matrix(self.y_test, self.predictions).ravel()\n",
    "        self.method = \"SMOTE\"\n",
    "        self.model_tracker()\n",
    "        \n",
    "        print(\"SMOTE run complete\")\n",
    "        return self.tracker\n",
    "    \n",
    "    def random_over(self):\n",
    "        self.sampler = RandomOverSampler(sampling_strategy= self.sampling_strategy, random_state= 13)\n",
    "        self.X_train, self.X_test, self.y_train , self.y_test = train_test_split(self.X, self.y, train_size=self.train_size, stratify=self.stratify, random_state=13)\n",
    "\n",
    "        cv = KFold(n_splits=5, shuffle = True)\n",
    "        self.scores = np.array([])\n",
    "        for train_fold_index, val_fold_index in cv.split(self.X_train, self.y_train):\n",
    "         \n",
    "             # Get the training data\n",
    "            X_train_fold, y_train_fold = self.X_train[train_fold_index], self.y_train[train_fold_index]\n",
    "        # Get the validation data\n",
    "            X_val_fold, y_val_fold = self.X_train[val_fold_index], self.y_train[val_fold_index]\n",
    "\n",
    "        # Upsample only the data in the training section\n",
    "            X_train_fold_upsample, y_train_fold_upsample = self.sampler.fit_resample(X_train_fold,\n",
    "                                                                           y_train_fold)\n",
    "            model_obj = self.model.fit(X_train_fold_upsample, y_train_fold_upsample)\n",
    "            score = recall_score(y_val_fold, model_obj.predict(X_val_fold))\n",
    "            self.scores = np.append(self.scores, score)  \n",
    "        \n",
    "        self.X_train_new, self.y_train_new = self.sampler.fit_resample(self.X_train, self.y_train)\n",
    "        self.model.fit(self.X_train_new, self.y_train_new)\n",
    "        self.training_score = self.model.score(self.X_train_new, self.y_train_new)\n",
    "      \n",
    "\n",
    "        # predict and get classification report & confusion matrix info\n",
    "        self.predictions = self.model.predict(self.X_test)\n",
    "        self.class_report = classification_report(self.y_test, self.predictions, output_dict= True)\n",
    "        self.tn, self.fp, self.fn, self.tp = confusion_matrix(self.y_test, self.predictions).ravel()\n",
    "        self.method = \"Random oversample\"\n",
    "        self.model_tracker()\n",
    "        \n",
    "        print(\"Random oversample run complete\")\n",
    "        return self.tracker\n",
    "        \n",
    "\n",
    "        \n",
    "    def adasyn(self, n_neighbors = 5):\n",
    "        self.n_neighbors = n_neighbors\n",
    "        self.sampler = ADASYN(sampling_strategy= self.sampling_strategy, random_state= 13, n_neighbors= self.n_neighbors)\n",
    "        self.X_train, self.X_test, self.y_train , self.y_test = train_test_split(self.X, self.y, train_size=self.train_size, stratify=self.stratify, random_state=13)\n",
    "\n",
    "        cv = KFold(n_splits=5, shuffle = True)\n",
    "        self.scores = np.array([])\n",
    "        for train_fold_index, val_fold_index in cv.split(self.X_train, self.y_train):\n",
    "         \n",
    "             # Get the training data\n",
    "            X_train_fold, y_train_fold = self.X_train[train_fold_index], self.y_train[train_fold_index]\n",
    "        # Get the validation data\n",
    "            X_val_fold, y_val_fold = self.X_train[val_fold_index], self.y_train[val_fold_index]\n",
    "\n",
    "        # Upsample only the data in the training section\n",
    "            X_train_fold_upsample, y_train_fold_upsample = self.sampler.fit_resample(X_train_fold,\n",
    "                                                                           y_train_fold)\n",
    "            model_obj = self.model.fit(X_train_fold_upsample, y_train_fold_upsample)\n",
    "            score = recall_score(y_val_fold, model_obj.predict(X_val_fold))\n",
    "            self.scores = np.append(self.scores, score)  \n",
    "        \n",
    "        self.X_train_new, self.y_train_new = self.sampler.fit_resample(self.X_train, self.y_train)\n",
    "        self.model.fit(self.X_train_new, self.y_train_new)\n",
    "        self.training_score = self.model.score(self.X_train_new, self.y_train_new)\n",
    "\n",
    "        # predict and get classification report & confusion matrix info\n",
    "        self.predictions = self.model.predict(self.X_test)\n",
    "        self.class_report = classification_report(self.y_test, self.predictions, output_dict= True)\n",
    "        self.tn, self.fp, self.fn, self.tp = confusion_matrix(self.y_test, self.predictions).ravel()\n",
    "        self.method = \"ADASYN\"\n",
    "        self.model_tracker()\n",
    "        \n",
    "        print(\"ADASYN run complete\")\n",
    "        return self.tracker\n",
    "        "
   ]
  },
  {
   "cell_type": "markdown",
   "metadata": {},
   "source": [
    "#### Prioritising for Recall"
   ]
  },
  {
   "cell_type": "code",
   "execution_count": 307,
   "metadata": {
    "ExecuteTime": {
     "end_time": "2020-05-20T21:42:54.354976Z",
     "start_time": "2020-05-20T21:42:54.342748Z"
    }
   },
   "outputs": [],
   "source": [
    "# create dataframe to track params & scoring\n",
    "cols = [\"Model\", \"Method\", \"cv_score\", \"training_score\", \"accuracy\", \"precision\", \"recall\", \"f1-score\", \"TP\", \"FP\", \"TN\", \"FN\"]\n",
    "model_tracker = pd.DataFrame(columns= cols)"
   ]
  },
  {
   "cell_type": "code",
   "execution_count": 308,
   "metadata": {
    "ExecuteTime": {
     "end_time": "2020-05-20T22:21:19.103692Z",
     "start_time": "2020-05-20T21:42:54.357924Z"
    },
    "scrolled": true
   },
   "outputs": [
    {
     "name": "stdout",
     "output_type": "stream",
     "text": [
      "Random undersample run complete\n",
      "TomekLinks run complete\n",
      "Neighbourhood Cleaning run complete\n",
      "Near Miss run complete\n",
      "SMOTE run complete\n",
      "Random oversample run complete\n",
      "ADASYN run complete\n"
     ]
    },
    {
     "data": {
      "text/html": [
       "<div>\n",
       "<style scoped>\n",
       "    .dataframe tbody tr th:only-of-type {\n",
       "        vertical-align: middle;\n",
       "    }\n",
       "\n",
       "    .dataframe tbody tr th {\n",
       "        vertical-align: top;\n",
       "    }\n",
       "\n",
       "    .dataframe thead th {\n",
       "        text-align: right;\n",
       "    }\n",
       "</style>\n",
       "<table border=\"1\" class=\"dataframe\">\n",
       "  <thead>\n",
       "    <tr style=\"text-align: right;\">\n",
       "      <th></th>\n",
       "      <th>Model</th>\n",
       "      <th>Method</th>\n",
       "      <th>cv_score</th>\n",
       "      <th>training_score</th>\n",
       "      <th>accuracy</th>\n",
       "      <th>precision</th>\n",
       "      <th>recall</th>\n",
       "      <th>f1-score</th>\n",
       "      <th>TP</th>\n",
       "      <th>FP</th>\n",
       "      <th>TN</th>\n",
       "      <th>FN</th>\n",
       "    </tr>\n",
       "  </thead>\n",
       "  <tbody>\n",
       "    <tr>\n",
       "      <th>0</th>\n",
       "      <td>log_reg</td>\n",
       "      <td>Random Under</td>\n",
       "      <td>0.514765</td>\n",
       "      <td>0.851678</td>\n",
       "      <td>0.820614</td>\n",
       "      <td>0.141096</td>\n",
       "      <td>0.513521</td>\n",
       "      <td>0.221368</td>\n",
       "      <td>1785</td>\n",
       "      <td>10866</td>\n",
       "      <td>55658</td>\n",
       "      <td>1691</td>\n",
       "    </tr>\n",
       "    <tr>\n",
       "      <th>0</th>\n",
       "      <td>log_reg</td>\n",
       "      <td>Tomek Links</td>\n",
       "      <td>0.071141</td>\n",
       "      <td>0.952814</td>\n",
       "      <td>0.948271</td>\n",
       "      <td>0.391629</td>\n",
       "      <td>0.075374</td>\n",
       "      <td>0.126417</td>\n",
       "      <td>262</td>\n",
       "      <td>407</td>\n",
       "      <td>66117</td>\n",
       "      <td>3214</td>\n",
       "    </tr>\n",
       "    <tr>\n",
       "      <th>0</th>\n",
       "      <td>log_reg</td>\n",
       "      <td>Neighbourhood Clean</td>\n",
       "      <td>0.112752</td>\n",
       "      <td>0.949648</td>\n",
       "      <td>0.944586</td>\n",
       "      <td>0.333333</td>\n",
       "      <td>0.115938</td>\n",
       "      <td>0.172038</td>\n",
       "      <td>403</td>\n",
       "      <td>806</td>\n",
       "      <td>65718</td>\n",
       "      <td>3073</td>\n",
       "    </tr>\n",
       "    <tr>\n",
       "      <th>0</th>\n",
       "      <td>log_reg</td>\n",
       "      <td>Near Miss</td>\n",
       "      <td>0.677852</td>\n",
       "      <td>0.846756</td>\n",
       "      <td>0.631571</td>\n",
       "      <td>0.088849</td>\n",
       "      <td>0.693613</td>\n",
       "      <td>0.157520</td>\n",
       "      <td>2411</td>\n",
       "      <td>24725</td>\n",
       "      <td>41799</td>\n",
       "      <td>1065</td>\n",
       "    </tr>\n",
       "    <tr>\n",
       "      <th>0</th>\n",
       "      <td>log_reg</td>\n",
       "      <td>SMOTE</td>\n",
       "      <td>0.382733</td>\n",
       "      <td>0.872863</td>\n",
       "      <td>0.889229</td>\n",
       "      <td>0.196510</td>\n",
       "      <td>0.398446</td>\n",
       "      <td>0.263208</td>\n",
       "      <td>1385</td>\n",
       "      <td>5663</td>\n",
       "      <td>60861</td>\n",
       "      <td>2091</td>\n",
       "    </tr>\n",
       "    <tr>\n",
       "      <th>0</th>\n",
       "      <td>log_reg</td>\n",
       "      <td>Random oversample</td>\n",
       "      <td>0.414007</td>\n",
       "      <td>0.849924</td>\n",
       "      <td>0.878886</td>\n",
       "      <td>0.184456</td>\n",
       "      <td>0.420598</td>\n",
       "      <td>0.256446</td>\n",
       "      <td>1462</td>\n",
       "      <td>6464</td>\n",
       "      <td>60060</td>\n",
       "      <td>2014</td>\n",
       "    </tr>\n",
       "    <tr>\n",
       "      <th>0</th>\n",
       "      <td>log_reg</td>\n",
       "      <td>ADASYN</td>\n",
       "      <td>0.385167</td>\n",
       "      <td>0.868746</td>\n",
       "      <td>0.885343</td>\n",
       "      <td>0.190223</td>\n",
       "      <td>0.401899</td>\n",
       "      <td>0.258226</td>\n",
       "      <td>1397</td>\n",
       "      <td>5947</td>\n",
       "      <td>60577</td>\n",
       "      <td>2079</td>\n",
       "    </tr>\n",
       "  </tbody>\n",
       "</table>\n",
       "</div>"
      ],
      "text/plain": [
       "     Model               Method  cv_score  training_score  accuracy  \\\n",
       "0  log_reg         Random Under  0.514765        0.851678  0.820614   \n",
       "0  log_reg          Tomek Links  0.071141        0.952814  0.948271   \n",
       "0  log_reg  Neighbourhood Clean  0.112752        0.949648  0.944586   \n",
       "0  log_reg            Near Miss  0.677852        0.846756  0.631571   \n",
       "0  log_reg                SMOTE  0.382733        0.872863  0.889229   \n",
       "0  log_reg    Random oversample  0.414007        0.849924  0.878886   \n",
       "0  log_reg               ADASYN  0.385167        0.868746  0.885343   \n",
       "\n",
       "   precision   recall  f1-score    TP     FP     TN    FN  \n",
       "0   0.141096 0.513521  0.221368  1785  10866  55658  1691  \n",
       "0   0.391629 0.075374  0.126417   262    407  66117  3214  \n",
       "0   0.333333 0.115938  0.172038   403    806  65718  3073  \n",
       "0   0.088849 0.693613  0.157520  2411  24725  41799  1065  \n",
       "0   0.196510 0.398446  0.263208  1385   5663  60861  2091  \n",
       "0   0.184456 0.420598  0.256446  1462   6464  60060  2014  \n",
       "0   0.190223 0.401899  0.258226  1397   5947  60577  2079  "
      ]
     },
     "execution_count": 308,
     "metadata": {},
     "output_type": "execute_result"
    }
   ],
   "source": [
    "# fit log reg instance of tiny target\n",
    "tt = tiny_target(X,y, model= LogisticRegression(solver = \"sag\", max_iter = 10000), tracker = model_tracker, name = \"log_reg\")\n",
    "model_tracker.append(tt.run_all())"
   ]
  },
  {
   "cell_type": "code",
   "execution_count": 309,
   "metadata": {
    "ExecuteTime": {
     "end_time": "2020-05-20T22:21:19.122947Z",
     "start_time": "2020-05-20T22:21:19.110291Z"
    }
   },
   "outputs": [
    {
     "data": {
      "text/plain": [
       "0.3851666862922905"
      ]
     },
     "execution_count": 309,
     "metadata": {},
     "output_type": "execute_result"
    }
   ],
   "source": [
    "tt.scores.mean()"
   ]
  },
  {
   "cell_type": "code",
   "execution_count": 310,
   "metadata": {
    "ExecuteTime": {
     "end_time": "2020-05-20T22:21:19.141816Z",
     "start_time": "2020-05-20T22:21:19.126775Z"
    }
   },
   "outputs": [
    {
     "data": {
      "text/html": [
       "<div>\n",
       "<style scoped>\n",
       "    .dataframe tbody tr th:only-of-type {\n",
       "        vertical-align: middle;\n",
       "    }\n",
       "\n",
       "    .dataframe tbody tr th {\n",
       "        vertical-align: top;\n",
       "    }\n",
       "\n",
       "    .dataframe thead th {\n",
       "        text-align: right;\n",
       "    }\n",
       "</style>\n",
       "<table border=\"1\" class=\"dataframe\">\n",
       "  <thead>\n",
       "    <tr style=\"text-align: right;\">\n",
       "      <th></th>\n",
       "      <th>Model</th>\n",
       "      <th>Method</th>\n",
       "      <th>cv_score</th>\n",
       "      <th>training_score</th>\n",
       "      <th>accuracy</th>\n",
       "      <th>precision</th>\n",
       "      <th>recall</th>\n",
       "      <th>f1-score</th>\n",
       "      <th>TP</th>\n",
       "      <th>FP</th>\n",
       "      <th>TN</th>\n",
       "      <th>FN</th>\n",
       "    </tr>\n",
       "  </thead>\n",
       "  <tbody>\n",
       "  </tbody>\n",
       "</table>\n",
       "</div>"
      ],
      "text/plain": [
       "Empty DataFrame\n",
       "Columns: [Model, Method, cv_score, training_score, accuracy, precision, recall, f1-score, TP, FP, TN, FN]\n",
       "Index: []"
      ]
     },
     "execution_count": 310,
     "metadata": {},
     "output_type": "execute_result"
    }
   ],
   "source": [
    "model_tracker"
   ]
  },
  {
   "cell_type": "code",
   "execution_count": 311,
   "metadata": {
    "ExecuteTime": {
     "end_time": "2020-05-20T22:34:10.256835Z",
     "start_time": "2020-05-20T22:21:19.145548Z"
    }
   },
   "outputs": [
    {
     "name": "stdout",
     "output_type": "stream",
     "text": [
      "Random undersample run complete\n",
      "TomekLinks run complete\n",
      "Neighbourhood Cleaning run complete\n",
      "Near Miss run complete\n",
      "SMOTE run complete\n",
      "Random oversample run complete\n",
      "ADASYN run complete\n"
     ]
    }
   ],
   "source": [
    "# fit KNN instance of tiny target\n",
    "tt = tiny_target(X,y, model= KNeighborsClassifier(), tracker = model_tracker, name = \"KNN\")\n",
    "model_tracker = model_tracker.append(tt.run_all())"
   ]
  },
  {
   "cell_type": "code",
   "execution_count": 312,
   "metadata": {
    "ExecuteTime": {
     "end_time": "2020-05-20T22:34:10.312258Z",
     "start_time": "2020-05-20T22:34:10.269372Z"
    }
   },
   "outputs": [
    {
     "data": {
      "text/html": [
       "<div>\n",
       "<style scoped>\n",
       "    .dataframe tbody tr th:only-of-type {\n",
       "        vertical-align: middle;\n",
       "    }\n",
       "\n",
       "    .dataframe tbody tr th {\n",
       "        vertical-align: top;\n",
       "    }\n",
       "\n",
       "    .dataframe thead th {\n",
       "        text-align: right;\n",
       "    }\n",
       "</style>\n",
       "<table border=\"1\" class=\"dataframe\">\n",
       "  <thead>\n",
       "    <tr style=\"text-align: right;\">\n",
       "      <th></th>\n",
       "      <th>Model</th>\n",
       "      <th>Method</th>\n",
       "      <th>cv_score</th>\n",
       "      <th>training_score</th>\n",
       "      <th>accuracy</th>\n",
       "      <th>precision</th>\n",
       "      <th>recall</th>\n",
       "      <th>f1-score</th>\n",
       "      <th>TP</th>\n",
       "      <th>FP</th>\n",
       "      <th>TN</th>\n",
       "      <th>FN</th>\n",
       "    </tr>\n",
       "  </thead>\n",
       "  <tbody>\n",
       "    <tr>\n",
       "      <th>0</th>\n",
       "      <td>KNN</td>\n",
       "      <td>Random Under</td>\n",
       "      <td>0.512081</td>\n",
       "      <td>0.729306</td>\n",
       "      <td>0.624129</td>\n",
       "      <td>0.067601</td>\n",
       "      <td>0.513521</td>\n",
       "      <td>0.119474</td>\n",
       "      <td>1785</td>\n",
       "      <td>24620</td>\n",
       "      <td>41904</td>\n",
       "      <td>1691</td>\n",
       "    </tr>\n",
       "    <tr>\n",
       "      <th>0</th>\n",
       "      <td>KNN</td>\n",
       "      <td>Tomek Links</td>\n",
       "      <td>0.059060</td>\n",
       "      <td>0.945490</td>\n",
       "      <td>0.929600</td>\n",
       "      <td>0.104144</td>\n",
       "      <td>0.054948</td>\n",
       "      <td>0.071940</td>\n",
       "      <td>191</td>\n",
       "      <td>1643</td>\n",
       "      <td>64881</td>\n",
       "      <td>3285</td>\n",
       "    </tr>\n",
       "    <tr>\n",
       "      <th>0</th>\n",
       "      <td>KNN</td>\n",
       "      <td>Neighbourhood Clean</td>\n",
       "      <td>0.216779</td>\n",
       "      <td>0.929440</td>\n",
       "      <td>0.863186</td>\n",
       "      <td>0.092560</td>\n",
       "      <td>0.199367</td>\n",
       "      <td>0.126425</td>\n",
       "      <td>693</td>\n",
       "      <td>6794</td>\n",
       "      <td>59730</td>\n",
       "      <td>2783</td>\n",
       "    </tr>\n",
       "    <tr>\n",
       "      <th>0</th>\n",
       "      <td>KNN</td>\n",
       "      <td>Near Miss</td>\n",
       "      <td>0.288591</td>\n",
       "      <td>0.765996</td>\n",
       "      <td>0.801286</td>\n",
       "      <td>0.076954</td>\n",
       "      <td>0.273015</td>\n",
       "      <td>0.120066</td>\n",
       "      <td>949</td>\n",
       "      <td>11383</td>\n",
       "      <td>55141</td>\n",
       "      <td>2527</td>\n",
       "    </tr>\n",
       "    <tr>\n",
       "      <th>0</th>\n",
       "      <td>KNN</td>\n",
       "      <td>SMOTE</td>\n",
       "      <td>0.570444</td>\n",
       "      <td>0.746685</td>\n",
       "      <td>0.549043</td>\n",
       "      <td>0.061530</td>\n",
       "      <td>0.567031</td>\n",
       "      <td>0.111014</td>\n",
       "      <td>1971</td>\n",
       "      <td>30062</td>\n",
       "      <td>36462</td>\n",
       "      <td>1505</td>\n",
       "    </tr>\n",
       "    <tr>\n",
       "      <th>0</th>\n",
       "      <td>KNN</td>\n",
       "      <td>Random oversample</td>\n",
       "      <td>0.338899</td>\n",
       "      <td>0.905881</td>\n",
       "      <td>0.776114</td>\n",
       "      <td>0.082615</td>\n",
       "      <td>0.347238</td>\n",
       "      <td>0.133473</td>\n",
       "      <td>1207</td>\n",
       "      <td>13403</td>\n",
       "      <td>53121</td>\n",
       "      <td>2269</td>\n",
       "    </tr>\n",
       "    <tr>\n",
       "      <th>0</th>\n",
       "      <td>KNN</td>\n",
       "      <td>ADASYN</td>\n",
       "      <td>0.587643</td>\n",
       "      <td>0.742510</td>\n",
       "      <td>0.537571</td>\n",
       "      <td>0.060454</td>\n",
       "      <td>0.571634</td>\n",
       "      <td>0.109344</td>\n",
       "      <td>1987</td>\n",
       "      <td>30881</td>\n",
       "      <td>35643</td>\n",
       "      <td>1489</td>\n",
       "    </tr>\n",
       "  </tbody>\n",
       "</table>\n",
       "</div>"
      ],
      "text/plain": [
       "  Model               Method  cv_score  training_score  accuracy  precision  \\\n",
       "0   KNN         Random Under  0.512081        0.729306  0.624129   0.067601   \n",
       "0   KNN          Tomek Links  0.059060        0.945490  0.929600   0.104144   \n",
       "0   KNN  Neighbourhood Clean  0.216779        0.929440  0.863186   0.092560   \n",
       "0   KNN            Near Miss  0.288591        0.765996  0.801286   0.076954   \n",
       "0   KNN                SMOTE  0.570444        0.746685  0.549043   0.061530   \n",
       "0   KNN    Random oversample  0.338899        0.905881  0.776114   0.082615   \n",
       "0   KNN               ADASYN  0.587643        0.742510  0.537571   0.060454   \n",
       "\n",
       "    recall  f1-score    TP     FP     TN    FN  \n",
       "0 0.513521  0.119474  1785  24620  41904  1691  \n",
       "0 0.054948  0.071940   191   1643  64881  3285  \n",
       "0 0.199367  0.126425   693   6794  59730  2783  \n",
       "0 0.273015  0.120066   949  11383  55141  2527  \n",
       "0 0.567031  0.111014  1971  30062  36462  1505  \n",
       "0 0.347238  0.133473  1207  13403  53121  2269  \n",
       "0 0.571634  0.109344  1987  30881  35643  1489  "
      ]
     },
     "execution_count": 312,
     "metadata": {},
     "output_type": "execute_result"
    }
   ],
   "source": [
    "model_tracker"
   ]
  },
  {
   "cell_type": "code",
   "execution_count": 313,
   "metadata": {
    "ExecuteTime": {
     "end_time": "2020-05-20T22:39:22.893722Z",
     "start_time": "2020-05-20T22:34:10.317341Z"
    }
   },
   "outputs": [
    {
     "name": "stdout",
     "output_type": "stream",
     "text": [
      "Random undersample run complete\n",
      "TomekLinks run complete\n",
      "Neighbourhood Cleaning run complete\n",
      "Near Miss run complete\n",
      "SMOTE run complete\n",
      "Random oversample run complete\n",
      "ADASYN run complete\n"
     ]
    }
   ],
   "source": [
    "# fit decision tree instance of tiny target\n",
    "tt = tiny_target(X,y, model= DecisionTreeClassifier(min_samples_split= 50), tracker = model_tracker, name = \"Dec_Tree\")\n",
    "model_tracker = model_tracker.append(tt.run_all())"
   ]
  },
  {
   "cell_type": "code",
   "execution_count": 314,
   "metadata": {
    "ExecuteTime": {
     "end_time": "2020-05-20T23:06:05.343871Z",
     "start_time": "2020-05-20T22:39:22.896004Z"
    }
   },
   "outputs": [
    {
     "name": "stdout",
     "output_type": "stream",
     "text": [
      "Random undersample run complete\n",
      "TomekLinks run complete\n",
      "Neighbourhood Cleaning run complete\n",
      "Near Miss run complete\n",
      "SMOTE run complete\n",
      "Random oversample run complete\n",
      "ADASYN run complete\n"
     ]
    }
   ],
   "source": [
    "# fit random forest instance of tiny target\n",
    "tt = tiny_target(X,y, model= RandomForestClassifier(n_estimators= 100, n_jobs= 2), tracker = model_tracker, name = \"Ran_FR\")\n",
    "model_tracker = model_tracker.append(tt.run_all())"
   ]
  },
  {
   "cell_type": "code",
   "execution_count": 315,
   "metadata": {
    "ExecuteTime": {
     "end_time": "2020-05-20T23:41:20.802444Z",
     "start_time": "2020-05-20T23:06:05.350923Z"
    }
   },
   "outputs": [
    {
     "name": "stdout",
     "output_type": "stream",
     "text": [
      "Random undersample run complete\n",
      "TomekLinks run complete\n",
      "Neighbourhood Cleaning run complete\n",
      "Near Miss run complete\n",
      "SMOTE run complete\n",
      "Random oversample run complete\n",
      "ADASYN run complete\n"
     ]
    }
   ],
   "source": [
    "# fit grad boost instance of tiny target\n",
    "tt = tiny_target(X,y, model= GradientBoostingClassifier(n_estimators=100, max_depth=3, learning_rate=0.1, random_state=1), tracker = model_tracker, name = \"GB\")\n",
    "model_tracker = model_tracker.append(tt.run_all())"
   ]
  },
  {
   "cell_type": "code",
   "execution_count": 316,
   "metadata": {
    "ExecuteTime": {
     "end_time": "2020-05-20T23:42:14.543169Z",
     "start_time": "2020-05-20T23:41:20.808947Z"
    }
   },
   "outputs": [
    {
     "name": "stdout",
     "output_type": "stream",
     "text": [
      "Random undersample run complete\n",
      "TomekLinks run complete\n",
      "Neighbourhood Cleaning run complete\n",
      "Near Miss run complete\n",
      "SMOTE run complete\n",
      "Random oversample run complete\n",
      "ADASYN run complete\n"
     ]
    }
   ],
   "source": [
    "# fit multinomial bayes instance of tiny target\n",
    "tt = tiny_target(X,y, model= MultinomialNB(), tracker = model_tracker, name = \"M_NB\")\n",
    "model_tracker = model_tracker.append(tt.run_all())"
   ]
  },
  {
   "cell_type": "code",
   "execution_count": 318,
   "metadata": {
    "ExecuteTime": {
     "end_time": "2020-05-20T23:42:14.647039Z",
     "start_time": "2020-05-20T23:42:14.604429Z"
    }
   },
   "outputs": [
    {
     "data": {
      "text/html": [
       "<div>\n",
       "<style scoped>\n",
       "    .dataframe tbody tr th:only-of-type {\n",
       "        vertical-align: middle;\n",
       "    }\n",
       "\n",
       "    .dataframe tbody tr th {\n",
       "        vertical-align: top;\n",
       "    }\n",
       "\n",
       "    .dataframe thead th {\n",
       "        text-align: right;\n",
       "    }\n",
       "</style>\n",
       "<table border=\"1\" class=\"dataframe\">\n",
       "  <thead>\n",
       "    <tr style=\"text-align: right;\">\n",
       "      <th></th>\n",
       "      <th>Model</th>\n",
       "      <th>Method</th>\n",
       "      <th>cv_score</th>\n",
       "      <th>training_score</th>\n",
       "      <th>accuracy</th>\n",
       "      <th>precision</th>\n",
       "      <th>recall</th>\n",
       "      <th>f1-score</th>\n",
       "      <th>TP</th>\n",
       "      <th>FP</th>\n",
       "      <th>TN</th>\n",
       "      <th>FN</th>\n",
       "    </tr>\n",
       "  </thead>\n",
       "  <tbody>\n",
       "    <tr>\n",
       "      <th>0</th>\n",
       "      <td>KNN</td>\n",
       "      <td>ADASYN</td>\n",
       "      <td>0.587643</td>\n",
       "      <td>0.742510</td>\n",
       "      <td>0.537571</td>\n",
       "      <td>0.060454</td>\n",
       "      <td>0.571634</td>\n",
       "      <td>0.109344</td>\n",
       "      <td>1987</td>\n",
       "      <td>30881</td>\n",
       "      <td>35643</td>\n",
       "      <td>1489</td>\n",
       "    </tr>\n",
       "    <tr>\n",
       "      <th>7</th>\n",
       "      <td>Dec_Tree</td>\n",
       "      <td>Random Under</td>\n",
       "      <td>0.526174</td>\n",
       "      <td>0.921924</td>\n",
       "      <td>0.784057</td>\n",
       "      <td>0.119558</td>\n",
       "      <td>0.526180</td>\n",
       "      <td>0.194844</td>\n",
       "      <td>1829</td>\n",
       "      <td>13469</td>\n",
       "      <td>53055</td>\n",
       "      <td>1647</td>\n",
       "    </tr>\n",
       "    <tr>\n",
       "      <th>7</th>\n",
       "      <td>Dec_Tree</td>\n",
       "      <td>Tomek Links</td>\n",
       "      <td>0.136242</td>\n",
       "      <td>0.977527</td>\n",
       "      <td>0.936329</td>\n",
       "      <td>0.243596</td>\n",
       "      <td>0.134062</td>\n",
       "      <td>0.172945</td>\n",
       "      <td>466</td>\n",
       "      <td>1447</td>\n",
       "      <td>65077</td>\n",
       "      <td>3010</td>\n",
       "    </tr>\n",
       "    <tr>\n",
       "      <th>7</th>\n",
       "      <td>Dec_Tree</td>\n",
       "      <td>Neighbourhood Clean</td>\n",
       "      <td>0.164430</td>\n",
       "      <td>0.975614</td>\n",
       "      <td>0.933500</td>\n",
       "      <td>0.243584</td>\n",
       "      <td>0.161105</td>\n",
       "      <td>0.193939</td>\n",
       "      <td>560</td>\n",
       "      <td>1739</td>\n",
       "      <td>64785</td>\n",
       "      <td>2916</td>\n",
       "    </tr>\n",
       "    <tr>\n",
       "      <th>7</th>\n",
       "      <td>Dec_Tree</td>\n",
       "      <td>Near Miss</td>\n",
       "      <td>0.663087</td>\n",
       "      <td>0.940268</td>\n",
       "      <td>0.544157</td>\n",
       "      <td>0.068635</td>\n",
       "      <td>0.650748</td>\n",
       "      <td>0.124173</td>\n",
       "      <td>2262</td>\n",
       "      <td>30695</td>\n",
       "      <td>35829</td>\n",
       "      <td>1214</td>\n",
       "    </tr>\n",
       "    <tr>\n",
       "      <th>7</th>\n",
       "      <td>Dec_Tree</td>\n",
       "      <td>SMOTE</td>\n",
       "      <td>0.153017</td>\n",
       "      <td>0.979750</td>\n",
       "      <td>0.926414</td>\n",
       "      <td>0.219242</td>\n",
       "      <td>0.188147</td>\n",
       "      <td>0.202508</td>\n",
       "      <td>654</td>\n",
       "      <td>2329</td>\n",
       "      <td>64195</td>\n",
       "      <td>2822</td>\n",
       "    </tr>\n",
       "    <tr>\n",
       "      <th>7</th>\n",
       "      <td>Dec_Tree</td>\n",
       "      <td>Random oversample</td>\n",
       "      <td>0.275975</td>\n",
       "      <td>0.966725</td>\n",
       "      <td>0.885757</td>\n",
       "      <td>0.161754</td>\n",
       "      <td>0.310990</td>\n",
       "      <td>0.212816</td>\n",
       "      <td>1081</td>\n",
       "      <td>5602</td>\n",
       "      <td>60922</td>\n",
       "      <td>2395</td>\n",
       "    </tr>\n",
       "    <tr>\n",
       "      <th>7</th>\n",
       "      <td>Dec_Tree</td>\n",
       "      <td>ADASYN</td>\n",
       "      <td>0.151043</td>\n",
       "      <td>0.980656</td>\n",
       "      <td>0.926857</td>\n",
       "      <td>0.222297</td>\n",
       "      <td>0.189298</td>\n",
       "      <td>0.204475</td>\n",
       "      <td>658</td>\n",
       "      <td>2302</td>\n",
       "      <td>64222</td>\n",
       "      <td>2818</td>\n",
       "    </tr>\n",
       "    <tr>\n",
       "      <th>0</th>\n",
       "      <td>KNN</td>\n",
       "      <td>Random Under</td>\n",
       "      <td>0.512081</td>\n",
       "      <td>0.729306</td>\n",
       "      <td>0.624129</td>\n",
       "      <td>0.067601</td>\n",
       "      <td>0.513521</td>\n",
       "      <td>0.119474</td>\n",
       "      <td>1785</td>\n",
       "      <td>24620</td>\n",
       "      <td>41904</td>\n",
       "      <td>1691</td>\n",
       "    </tr>\n",
       "    <tr>\n",
       "      <th>0</th>\n",
       "      <td>KNN</td>\n",
       "      <td>Tomek Links</td>\n",
       "      <td>0.059060</td>\n",
       "      <td>0.945490</td>\n",
       "      <td>0.929600</td>\n",
       "      <td>0.104144</td>\n",
       "      <td>0.054948</td>\n",
       "      <td>0.071940</td>\n",
       "      <td>191</td>\n",
       "      <td>1643</td>\n",
       "      <td>64881</td>\n",
       "      <td>3285</td>\n",
       "    </tr>\n",
       "    <tr>\n",
       "      <th>0</th>\n",
       "      <td>KNN</td>\n",
       "      <td>Neighbourhood Clean</td>\n",
       "      <td>0.216779</td>\n",
       "      <td>0.929440</td>\n",
       "      <td>0.863186</td>\n",
       "      <td>0.092560</td>\n",
       "      <td>0.199367</td>\n",
       "      <td>0.126425</td>\n",
       "      <td>693</td>\n",
       "      <td>6794</td>\n",
       "      <td>59730</td>\n",
       "      <td>2783</td>\n",
       "    </tr>\n",
       "    <tr>\n",
       "      <th>0</th>\n",
       "      <td>KNN</td>\n",
       "      <td>Near Miss</td>\n",
       "      <td>0.288591</td>\n",
       "      <td>0.765996</td>\n",
       "      <td>0.801286</td>\n",
       "      <td>0.076954</td>\n",
       "      <td>0.273015</td>\n",
       "      <td>0.120066</td>\n",
       "      <td>949</td>\n",
       "      <td>11383</td>\n",
       "      <td>55141</td>\n",
       "      <td>2527</td>\n",
       "    </tr>\n",
       "    <tr>\n",
       "      <th>0</th>\n",
       "      <td>KNN</td>\n",
       "      <td>SMOTE</td>\n",
       "      <td>0.570444</td>\n",
       "      <td>0.746685</td>\n",
       "      <td>0.549043</td>\n",
       "      <td>0.061530</td>\n",
       "      <td>0.567031</td>\n",
       "      <td>0.111014</td>\n",
       "      <td>1971</td>\n",
       "      <td>30062</td>\n",
       "      <td>36462</td>\n",
       "      <td>1505</td>\n",
       "    </tr>\n",
       "    <tr>\n",
       "      <th>0</th>\n",
       "      <td>KNN</td>\n",
       "      <td>Random oversample</td>\n",
       "      <td>0.338899</td>\n",
       "      <td>0.905881</td>\n",
       "      <td>0.776114</td>\n",
       "      <td>0.082615</td>\n",
       "      <td>0.347238</td>\n",
       "      <td>0.133473</td>\n",
       "      <td>1207</td>\n",
       "      <td>13403</td>\n",
       "      <td>53121</td>\n",
       "      <td>2269</td>\n",
       "    </tr>\n",
       "    <tr>\n",
       "      <th>0</th>\n",
       "      <td>KNN</td>\n",
       "      <td>ADASYN</td>\n",
       "      <td>0.587643</td>\n",
       "      <td>0.742510</td>\n",
       "      <td>0.537571</td>\n",
       "      <td>0.060454</td>\n",
       "      <td>0.571634</td>\n",
       "      <td>0.109344</td>\n",
       "      <td>1987</td>\n",
       "      <td>30881</td>\n",
       "      <td>35643</td>\n",
       "      <td>1489</td>\n",
       "    </tr>\n",
       "    <tr>\n",
       "      <th>0</th>\n",
       "      <td>KNN</td>\n",
       "      <td>Random Under</td>\n",
       "      <td>0.512081</td>\n",
       "      <td>0.729306</td>\n",
       "      <td>0.624129</td>\n",
       "      <td>0.067601</td>\n",
       "      <td>0.513521</td>\n",
       "      <td>0.119474</td>\n",
       "      <td>1785</td>\n",
       "      <td>24620</td>\n",
       "      <td>41904</td>\n",
       "      <td>1691</td>\n",
       "    </tr>\n",
       "    <tr>\n",
       "      <th>0</th>\n",
       "      <td>KNN</td>\n",
       "      <td>Tomek Links</td>\n",
       "      <td>0.059060</td>\n",
       "      <td>0.945490</td>\n",
       "      <td>0.929600</td>\n",
       "      <td>0.104144</td>\n",
       "      <td>0.054948</td>\n",
       "      <td>0.071940</td>\n",
       "      <td>191</td>\n",
       "      <td>1643</td>\n",
       "      <td>64881</td>\n",
       "      <td>3285</td>\n",
       "    </tr>\n",
       "    <tr>\n",
       "      <th>0</th>\n",
       "      <td>KNN</td>\n",
       "      <td>Neighbourhood Clean</td>\n",
       "      <td>0.216779</td>\n",
       "      <td>0.929440</td>\n",
       "      <td>0.863186</td>\n",
       "      <td>0.092560</td>\n",
       "      <td>0.199367</td>\n",
       "      <td>0.126425</td>\n",
       "      <td>693</td>\n",
       "      <td>6794</td>\n",
       "      <td>59730</td>\n",
       "      <td>2783</td>\n",
       "    </tr>\n",
       "    <tr>\n",
       "      <th>0</th>\n",
       "      <td>KNN</td>\n",
       "      <td>Near Miss</td>\n",
       "      <td>0.288591</td>\n",
       "      <td>0.765996</td>\n",
       "      <td>0.801286</td>\n",
       "      <td>0.076954</td>\n",
       "      <td>0.273015</td>\n",
       "      <td>0.120066</td>\n",
       "      <td>949</td>\n",
       "      <td>11383</td>\n",
       "      <td>55141</td>\n",
       "      <td>2527</td>\n",
       "    </tr>\n",
       "    <tr>\n",
       "      <th>0</th>\n",
       "      <td>KNN</td>\n",
       "      <td>SMOTE</td>\n",
       "      <td>0.570444</td>\n",
       "      <td>0.746685</td>\n",
       "      <td>0.549043</td>\n",
       "      <td>0.061530</td>\n",
       "      <td>0.567031</td>\n",
       "      <td>0.111014</td>\n",
       "      <td>1971</td>\n",
       "      <td>30062</td>\n",
       "      <td>36462</td>\n",
       "      <td>1505</td>\n",
       "    </tr>\n",
       "    <tr>\n",
       "      <th>0</th>\n",
       "      <td>KNN</td>\n",
       "      <td>Random oversample</td>\n",
       "      <td>0.338899</td>\n",
       "      <td>0.905881</td>\n",
       "      <td>0.776114</td>\n",
       "      <td>0.082615</td>\n",
       "      <td>0.347238</td>\n",
       "      <td>0.133473</td>\n",
       "      <td>1207</td>\n",
       "      <td>13403</td>\n",
       "      <td>53121</td>\n",
       "      <td>2269</td>\n",
       "    </tr>\n",
       "    <tr>\n",
       "      <th>0</th>\n",
       "      <td>KNN</td>\n",
       "      <td>ADASYN</td>\n",
       "      <td>0.587643</td>\n",
       "      <td>0.742510</td>\n",
       "      <td>0.537571</td>\n",
       "      <td>0.060454</td>\n",
       "      <td>0.571634</td>\n",
       "      <td>0.109344</td>\n",
       "      <td>1987</td>\n",
       "      <td>30881</td>\n",
       "      <td>35643</td>\n",
       "      <td>1489</td>\n",
       "    </tr>\n",
       "    <tr>\n",
       "      <th>7</th>\n",
       "      <td>Dec_Tree</td>\n",
       "      <td>Random Under</td>\n",
       "      <td>0.526174</td>\n",
       "      <td>0.921924</td>\n",
       "      <td>0.784057</td>\n",
       "      <td>0.119558</td>\n",
       "      <td>0.526180</td>\n",
       "      <td>0.194844</td>\n",
       "      <td>1829</td>\n",
       "      <td>13469</td>\n",
       "      <td>53055</td>\n",
       "      <td>1647</td>\n",
       "    </tr>\n",
       "    <tr>\n",
       "      <th>7</th>\n",
       "      <td>Dec_Tree</td>\n",
       "      <td>Tomek Links</td>\n",
       "      <td>0.136242</td>\n",
       "      <td>0.977527</td>\n",
       "      <td>0.936329</td>\n",
       "      <td>0.243596</td>\n",
       "      <td>0.134062</td>\n",
       "      <td>0.172945</td>\n",
       "      <td>466</td>\n",
       "      <td>1447</td>\n",
       "      <td>65077</td>\n",
       "      <td>3010</td>\n",
       "    </tr>\n",
       "    <tr>\n",
       "      <th>7</th>\n",
       "      <td>Dec_Tree</td>\n",
       "      <td>Neighbourhood Clean</td>\n",
       "      <td>0.164430</td>\n",
       "      <td>0.975614</td>\n",
       "      <td>0.933500</td>\n",
       "      <td>0.243584</td>\n",
       "      <td>0.161105</td>\n",
       "      <td>0.193939</td>\n",
       "      <td>560</td>\n",
       "      <td>1739</td>\n",
       "      <td>64785</td>\n",
       "      <td>2916</td>\n",
       "    </tr>\n",
       "    <tr>\n",
       "      <th>7</th>\n",
       "      <td>Dec_Tree</td>\n",
       "      <td>Near Miss</td>\n",
       "      <td>0.663087</td>\n",
       "      <td>0.940268</td>\n",
       "      <td>0.544157</td>\n",
       "      <td>0.068635</td>\n",
       "      <td>0.650748</td>\n",
       "      <td>0.124173</td>\n",
       "      <td>2262</td>\n",
       "      <td>30695</td>\n",
       "      <td>35829</td>\n",
       "      <td>1214</td>\n",
       "    </tr>\n",
       "    <tr>\n",
       "      <th>7</th>\n",
       "      <td>Dec_Tree</td>\n",
       "      <td>SMOTE</td>\n",
       "      <td>0.153017</td>\n",
       "      <td>0.979750</td>\n",
       "      <td>0.926414</td>\n",
       "      <td>0.219242</td>\n",
       "      <td>0.188147</td>\n",
       "      <td>0.202508</td>\n",
       "      <td>654</td>\n",
       "      <td>2329</td>\n",
       "      <td>64195</td>\n",
       "      <td>2822</td>\n",
       "    </tr>\n",
       "    <tr>\n",
       "      <th>7</th>\n",
       "      <td>Dec_Tree</td>\n",
       "      <td>Random oversample</td>\n",
       "      <td>0.275975</td>\n",
       "      <td>0.966725</td>\n",
       "      <td>0.885757</td>\n",
       "      <td>0.161754</td>\n",
       "      <td>0.310990</td>\n",
       "      <td>0.212816</td>\n",
       "      <td>1081</td>\n",
       "      <td>5602</td>\n",
       "      <td>60922</td>\n",
       "      <td>2395</td>\n",
       "    </tr>\n",
       "    <tr>\n",
       "      <th>7</th>\n",
       "      <td>Dec_Tree</td>\n",
       "      <td>ADASYN</td>\n",
       "      <td>0.151043</td>\n",
       "      <td>0.980656</td>\n",
       "      <td>0.926857</td>\n",
       "      <td>0.222297</td>\n",
       "      <td>0.189298</td>\n",
       "      <td>0.204475</td>\n",
       "      <td>658</td>\n",
       "      <td>2302</td>\n",
       "      <td>64222</td>\n",
       "      <td>2818</td>\n",
       "    </tr>\n",
       "    <tr>\n",
       "      <th>21</th>\n",
       "      <td>Ran_FR</td>\n",
       "      <td>Random Under</td>\n",
       "      <td>0.389262</td>\n",
       "      <td>1.000000</td>\n",
       "      <td>0.911786</td>\n",
       "      <td>0.264855</td>\n",
       "      <td>0.437284</td>\n",
       "      <td>0.329897</td>\n",
       "      <td>1520</td>\n",
       "      <td>4219</td>\n",
       "      <td>62305</td>\n",
       "      <td>1956</td>\n",
       "    </tr>\n",
       "    <tr>\n",
       "      <th>21</th>\n",
       "      <td>Ran_FR</td>\n",
       "      <td>Tomek Links</td>\n",
       "      <td>0.036242</td>\n",
       "      <td>0.999967</td>\n",
       "      <td>0.952243</td>\n",
       "      <td>0.875706</td>\n",
       "      <td>0.044591</td>\n",
       "      <td>0.084862</td>\n",
       "      <td>155</td>\n",
       "      <td>22</td>\n",
       "      <td>66502</td>\n",
       "      <td>3321</td>\n",
       "    </tr>\n",
       "    <tr>\n",
       "      <th>21</th>\n",
       "      <td>Ran_FR</td>\n",
       "      <td>Neighbourhood Clean</td>\n",
       "      <td>0.042953</td>\n",
       "      <td>0.999962</td>\n",
       "      <td>0.952586</td>\n",
       "      <td>0.820408</td>\n",
       "      <td>0.057825</td>\n",
       "      <td>0.108035</td>\n",
       "      <td>201</td>\n",
       "      <td>44</td>\n",
       "      <td>66480</td>\n",
       "      <td>3275</td>\n",
       "    </tr>\n",
       "    <tr>\n",
       "      <th>21</th>\n",
       "      <td>Ran_FR</td>\n",
       "      <td>Near Miss</td>\n",
       "      <td>0.507383</td>\n",
       "      <td>1.000000</td>\n",
       "      <td>0.763700</td>\n",
       "      <td>0.109464</td>\n",
       "      <td>0.526755</td>\n",
       "      <td>0.181260</td>\n",
       "      <td>1831</td>\n",
       "      <td>14896</td>\n",
       "      <td>51628</td>\n",
       "      <td>1645</td>\n",
       "    </tr>\n",
       "    <tr>\n",
       "      <th>21</th>\n",
       "      <td>Ran_FR</td>\n",
       "      <td>SMOTE</td>\n",
       "      <td>0.034208</td>\n",
       "      <td>1.000000</td>\n",
       "      <td>0.952457</td>\n",
       "      <td>0.974359</td>\n",
       "      <td>0.043728</td>\n",
       "      <td>0.083700</td>\n",
       "      <td>152</td>\n",
       "      <td>4</td>\n",
       "      <td>66520</td>\n",
       "      <td>3324</td>\n",
       "    </tr>\n",
       "    <tr>\n",
       "      <th>21</th>\n",
       "      <td>Ran_FR</td>\n",
       "      <td>Random oversample</td>\n",
       "      <td>0.033491</td>\n",
       "      <td>1.000000</td>\n",
       "      <td>0.952429</td>\n",
       "      <td>0.924419</td>\n",
       "      <td>0.045742</td>\n",
       "      <td>0.087171</td>\n",
       "      <td>159</td>\n",
       "      <td>13</td>\n",
       "      <td>66511</td>\n",
       "      <td>3317</td>\n",
       "    </tr>\n",
       "    <tr>\n",
       "      <th>21</th>\n",
       "      <td>Ran_FR</td>\n",
       "      <td>ADASYN</td>\n",
       "      <td>0.037436</td>\n",
       "      <td>1.000000</td>\n",
       "      <td>0.952329</td>\n",
       "      <td>0.972789</td>\n",
       "      <td>0.041139</td>\n",
       "      <td>0.078940</td>\n",
       "      <td>143</td>\n",
       "      <td>4</td>\n",
       "      <td>66520</td>\n",
       "      <td>3333</td>\n",
       "    </tr>\n",
       "    <tr>\n",
       "      <th>49</th>\n",
       "      <td>GB</td>\n",
       "      <td>Random Under</td>\n",
       "      <td>0.316779</td>\n",
       "      <td>0.782550</td>\n",
       "      <td>0.921443</td>\n",
       "      <td>0.262837</td>\n",
       "      <td>0.322497</td>\n",
       "      <td>0.289627</td>\n",
       "      <td>1121</td>\n",
       "      <td>3144</td>\n",
       "      <td>63380</td>\n",
       "      <td>2355</td>\n",
       "    </tr>\n",
       "    <tr>\n",
       "      <th>49</th>\n",
       "      <td>GB</td>\n",
       "      <td>Tomek Links</td>\n",
       "      <td>0.048322</td>\n",
       "      <td>0.954520</td>\n",
       "      <td>0.951657</td>\n",
       "      <td>0.653333</td>\n",
       "      <td>0.056387</td>\n",
       "      <td>0.103814</td>\n",
       "      <td>196</td>\n",
       "      <td>104</td>\n",
       "      <td>66420</td>\n",
       "      <td>3280</td>\n",
       "    </tr>\n",
       "    <tr>\n",
       "      <th>49</th>\n",
       "      <td>GB</td>\n",
       "      <td>Neighbourhood Clean</td>\n",
       "      <td>0.059060</td>\n",
       "      <td>0.949498</td>\n",
       "      <td>0.951600</td>\n",
       "      <td>0.612821</td>\n",
       "      <td>0.068757</td>\n",
       "      <td>0.123642</td>\n",
       "      <td>239</td>\n",
       "      <td>151</td>\n",
       "      <td>66373</td>\n",
       "      <td>3237</td>\n",
       "    </tr>\n",
       "    <tr>\n",
       "      <th>49</th>\n",
       "      <td>GB</td>\n",
       "      <td>Near Miss</td>\n",
       "      <td>0.447651</td>\n",
       "      <td>0.832215</td>\n",
       "      <td>0.765500</td>\n",
       "      <td>0.095631</td>\n",
       "      <td>0.440161</td>\n",
       "      <td>0.157125</td>\n",
       "      <td>1530</td>\n",
       "      <td>14469</td>\n",
       "      <td>52055</td>\n",
       "      <td>1946</td>\n",
       "    </tr>\n",
       "    <tr>\n",
       "      <th>49</th>\n",
       "      <td>GB</td>\n",
       "      <td>SMOTE</td>\n",
       "      <td>0.069665</td>\n",
       "      <td>0.917316</td>\n",
       "      <td>0.949700</td>\n",
       "      <td>0.459893</td>\n",
       "      <td>0.074223</td>\n",
       "      <td>0.127818</td>\n",
       "      <td>258</td>\n",
       "      <td>303</td>\n",
       "      <td>66221</td>\n",
       "      <td>3218</td>\n",
       "    </tr>\n",
       "    <tr>\n",
       "      <th>49</th>\n",
       "      <td>GB</td>\n",
       "      <td>Random oversample</td>\n",
       "      <td>0.271312</td>\n",
       "      <td>0.772080</td>\n",
       "      <td>0.931000</td>\n",
       "      <td>0.301350</td>\n",
       "      <td>0.295455</td>\n",
       "      <td>0.298373</td>\n",
       "      <td>1027</td>\n",
       "      <td>2381</td>\n",
       "      <td>64143</td>\n",
       "      <td>2449</td>\n",
       "    </tr>\n",
       "    <tr>\n",
       "      <th>49</th>\n",
       "      <td>GB</td>\n",
       "      <td>ADASYN</td>\n",
       "      <td>0.078482</td>\n",
       "      <td>0.916418</td>\n",
       "      <td>0.949443</td>\n",
       "      <td>0.442831</td>\n",
       "      <td>0.070196</td>\n",
       "      <td>0.121182</td>\n",
       "      <td>244</td>\n",
       "      <td>307</td>\n",
       "      <td>66217</td>\n",
       "      <td>3232</td>\n",
       "    </tr>\n",
       "    <tr>\n",
       "      <th>105</th>\n",
       "      <td>M_NB</td>\n",
       "      <td>Random Under</td>\n",
       "      <td>0.663087</td>\n",
       "      <td>0.853915</td>\n",
       "      <td>0.688586</td>\n",
       "      <td>0.103587</td>\n",
       "      <td>0.688723</td>\n",
       "      <td>0.180088</td>\n",
       "      <td>2394</td>\n",
       "      <td>20717</td>\n",
       "      <td>45807</td>\n",
       "      <td>1082</td>\n",
       "    </tr>\n",
       "    <tr>\n",
       "      <th>105</th>\n",
       "      <td>M_NB</td>\n",
       "      <td>Tomek Links</td>\n",
       "      <td>0.432886</td>\n",
       "      <td>0.890178</td>\n",
       "      <td>0.835314</td>\n",
       "      <td>0.147275</td>\n",
       "      <td>0.483602</td>\n",
       "      <td>0.225789</td>\n",
       "      <td>1681</td>\n",
       "      <td>9733</td>\n",
       "      <td>56791</td>\n",
       "      <td>1795</td>\n",
       "    </tr>\n",
       "    <tr>\n",
       "      <th>105</th>\n",
       "      <td>M_NB</td>\n",
       "      <td>Neighbourhood Clean</td>\n",
       "      <td>0.493289</td>\n",
       "      <td>0.897904</td>\n",
       "      <td>0.819157</td>\n",
       "      <td>0.142323</td>\n",
       "      <td>0.525604</td>\n",
       "      <td>0.223993</td>\n",
       "      <td>1827</td>\n",
       "      <td>11010</td>\n",
       "      <td>55514</td>\n",
       "      <td>1649</td>\n",
       "    </tr>\n",
       "    <tr>\n",
       "      <th>105</th>\n",
       "      <td>M_NB</td>\n",
       "      <td>Near Miss</td>\n",
       "      <td>0.812752</td>\n",
       "      <td>0.844295</td>\n",
       "      <td>0.501743</td>\n",
       "      <td>0.074867</td>\n",
       "      <td>0.795455</td>\n",
       "      <td>0.136854</td>\n",
       "      <td>2765</td>\n",
       "      <td>34167</td>\n",
       "      <td>32357</td>\n",
       "      <td>711</td>\n",
       "    </tr>\n",
       "    <tr>\n",
       "      <th>105</th>\n",
       "      <td>M_NB</td>\n",
       "      <td>SMOTE</td>\n",
       "      <td>0.574417</td>\n",
       "      <td>0.856846</td>\n",
       "      <td>0.776557</td>\n",
       "      <td>0.125162</td>\n",
       "      <td>0.584292</td>\n",
       "      <td>0.206161</td>\n",
       "      <td>2031</td>\n",
       "      <td>14196</td>\n",
       "      <td>52328</td>\n",
       "      <td>1445</td>\n",
       "    </tr>\n",
       "    <tr>\n",
       "      <th>105</th>\n",
       "      <td>M_NB</td>\n",
       "      <td>Random oversample</td>\n",
       "      <td>0.549135</td>\n",
       "      <td>0.855232</td>\n",
       "      <td>0.791171</td>\n",
       "      <td>0.129243</td>\n",
       "      <td>0.558688</td>\n",
       "      <td>0.209923</td>\n",
       "      <td>1942</td>\n",
       "      <td>13084</td>\n",
       "      <td>53440</td>\n",
       "      <td>1534</td>\n",
       "    </tr>\n",
       "    <tr>\n",
       "      <th>105</th>\n",
       "      <td>M_NB</td>\n",
       "      <td>ADASYN</td>\n",
       "      <td>0.575048</td>\n",
       "      <td>0.854209</td>\n",
       "      <td>0.768043</td>\n",
       "      <td>0.121358</td>\n",
       "      <td>0.588320</td>\n",
       "      <td>0.201210</td>\n",
       "      <td>2045</td>\n",
       "      <td>14806</td>\n",
       "      <td>51718</td>\n",
       "      <td>1431</td>\n",
       "    </tr>\n",
       "  </tbody>\n",
       "</table>\n",
       "</div>"
      ],
      "text/plain": [
       "        Model               Method  cv_score  training_score  accuracy  \\\n",
       "0         KNN               ADASYN  0.587643        0.742510  0.537571   \n",
       "7    Dec_Tree         Random Under  0.526174        0.921924  0.784057   \n",
       "7    Dec_Tree          Tomek Links  0.136242        0.977527  0.936329   \n",
       "7    Dec_Tree  Neighbourhood Clean  0.164430        0.975614  0.933500   \n",
       "7    Dec_Tree            Near Miss  0.663087        0.940268  0.544157   \n",
       "7    Dec_Tree                SMOTE  0.153017        0.979750  0.926414   \n",
       "7    Dec_Tree    Random oversample  0.275975        0.966725  0.885757   \n",
       "7    Dec_Tree               ADASYN  0.151043        0.980656  0.926857   \n",
       "0         KNN         Random Under  0.512081        0.729306  0.624129   \n",
       "0         KNN          Tomek Links  0.059060        0.945490  0.929600   \n",
       "0         KNN  Neighbourhood Clean  0.216779        0.929440  0.863186   \n",
       "0         KNN            Near Miss  0.288591        0.765996  0.801286   \n",
       "0         KNN                SMOTE  0.570444        0.746685  0.549043   \n",
       "0         KNN    Random oversample  0.338899        0.905881  0.776114   \n",
       "0         KNN               ADASYN  0.587643        0.742510  0.537571   \n",
       "0         KNN         Random Under  0.512081        0.729306  0.624129   \n",
       "0         KNN          Tomek Links  0.059060        0.945490  0.929600   \n",
       "0         KNN  Neighbourhood Clean  0.216779        0.929440  0.863186   \n",
       "0         KNN            Near Miss  0.288591        0.765996  0.801286   \n",
       "0         KNN                SMOTE  0.570444        0.746685  0.549043   \n",
       "0         KNN    Random oversample  0.338899        0.905881  0.776114   \n",
       "0         KNN               ADASYN  0.587643        0.742510  0.537571   \n",
       "7    Dec_Tree         Random Under  0.526174        0.921924  0.784057   \n",
       "7    Dec_Tree          Tomek Links  0.136242        0.977527  0.936329   \n",
       "7    Dec_Tree  Neighbourhood Clean  0.164430        0.975614  0.933500   \n",
       "7    Dec_Tree            Near Miss  0.663087        0.940268  0.544157   \n",
       "7    Dec_Tree                SMOTE  0.153017        0.979750  0.926414   \n",
       "7    Dec_Tree    Random oversample  0.275975        0.966725  0.885757   \n",
       "7    Dec_Tree               ADASYN  0.151043        0.980656  0.926857   \n",
       "21     Ran_FR         Random Under  0.389262        1.000000  0.911786   \n",
       "21     Ran_FR          Tomek Links  0.036242        0.999967  0.952243   \n",
       "21     Ran_FR  Neighbourhood Clean  0.042953        0.999962  0.952586   \n",
       "21     Ran_FR            Near Miss  0.507383        1.000000  0.763700   \n",
       "21     Ran_FR                SMOTE  0.034208        1.000000  0.952457   \n",
       "21     Ran_FR    Random oversample  0.033491        1.000000  0.952429   \n",
       "21     Ran_FR               ADASYN  0.037436        1.000000  0.952329   \n",
       "49         GB         Random Under  0.316779        0.782550  0.921443   \n",
       "49         GB          Tomek Links  0.048322        0.954520  0.951657   \n",
       "49         GB  Neighbourhood Clean  0.059060        0.949498  0.951600   \n",
       "49         GB            Near Miss  0.447651        0.832215  0.765500   \n",
       "49         GB                SMOTE  0.069665        0.917316  0.949700   \n",
       "49         GB    Random oversample  0.271312        0.772080  0.931000   \n",
       "49         GB               ADASYN  0.078482        0.916418  0.949443   \n",
       "105      M_NB         Random Under  0.663087        0.853915  0.688586   \n",
       "105      M_NB          Tomek Links  0.432886        0.890178  0.835314   \n",
       "105      M_NB  Neighbourhood Clean  0.493289        0.897904  0.819157   \n",
       "105      M_NB            Near Miss  0.812752        0.844295  0.501743   \n",
       "105      M_NB                SMOTE  0.574417        0.856846  0.776557   \n",
       "105      M_NB    Random oversample  0.549135        0.855232  0.791171   \n",
       "105      M_NB               ADASYN  0.575048        0.854209  0.768043   \n",
       "\n",
       "     precision   recall  f1-score    TP     FP     TN    FN  \n",
       "0     0.060454 0.571634  0.109344  1987  30881  35643  1489  \n",
       "7     0.119558 0.526180  0.194844  1829  13469  53055  1647  \n",
       "7     0.243596 0.134062  0.172945   466   1447  65077  3010  \n",
       "7     0.243584 0.161105  0.193939   560   1739  64785  2916  \n",
       "7     0.068635 0.650748  0.124173  2262  30695  35829  1214  \n",
       "7     0.219242 0.188147  0.202508   654   2329  64195  2822  \n",
       "7     0.161754 0.310990  0.212816  1081   5602  60922  2395  \n",
       "7     0.222297 0.189298  0.204475   658   2302  64222  2818  \n",
       "0     0.067601 0.513521  0.119474  1785  24620  41904  1691  \n",
       "0     0.104144 0.054948  0.071940   191   1643  64881  3285  \n",
       "0     0.092560 0.199367  0.126425   693   6794  59730  2783  \n",
       "0     0.076954 0.273015  0.120066   949  11383  55141  2527  \n",
       "0     0.061530 0.567031  0.111014  1971  30062  36462  1505  \n",
       "0     0.082615 0.347238  0.133473  1207  13403  53121  2269  \n",
       "0     0.060454 0.571634  0.109344  1987  30881  35643  1489  \n",
       "0     0.067601 0.513521  0.119474  1785  24620  41904  1691  \n",
       "0     0.104144 0.054948  0.071940   191   1643  64881  3285  \n",
       "0     0.092560 0.199367  0.126425   693   6794  59730  2783  \n",
       "0     0.076954 0.273015  0.120066   949  11383  55141  2527  \n",
       "0     0.061530 0.567031  0.111014  1971  30062  36462  1505  \n",
       "0     0.082615 0.347238  0.133473  1207  13403  53121  2269  \n",
       "0     0.060454 0.571634  0.109344  1987  30881  35643  1489  \n",
       "7     0.119558 0.526180  0.194844  1829  13469  53055  1647  \n",
       "7     0.243596 0.134062  0.172945   466   1447  65077  3010  \n",
       "7     0.243584 0.161105  0.193939   560   1739  64785  2916  \n",
       "7     0.068635 0.650748  0.124173  2262  30695  35829  1214  \n",
       "7     0.219242 0.188147  0.202508   654   2329  64195  2822  \n",
       "7     0.161754 0.310990  0.212816  1081   5602  60922  2395  \n",
       "7     0.222297 0.189298  0.204475   658   2302  64222  2818  \n",
       "21    0.264855 0.437284  0.329897  1520   4219  62305  1956  \n",
       "21    0.875706 0.044591  0.084862   155     22  66502  3321  \n",
       "21    0.820408 0.057825  0.108035   201     44  66480  3275  \n",
       "21    0.109464 0.526755  0.181260  1831  14896  51628  1645  \n",
       "21    0.974359 0.043728  0.083700   152      4  66520  3324  \n",
       "21    0.924419 0.045742  0.087171   159     13  66511  3317  \n",
       "21    0.972789 0.041139  0.078940   143      4  66520  3333  \n",
       "49    0.262837 0.322497  0.289627  1121   3144  63380  2355  \n",
       "49    0.653333 0.056387  0.103814   196    104  66420  3280  \n",
       "49    0.612821 0.068757  0.123642   239    151  66373  3237  \n",
       "49    0.095631 0.440161  0.157125  1530  14469  52055  1946  \n",
       "49    0.459893 0.074223  0.127818   258    303  66221  3218  \n",
       "49    0.301350 0.295455  0.298373  1027   2381  64143  2449  \n",
       "49    0.442831 0.070196  0.121182   244    307  66217  3232  \n",
       "105   0.103587 0.688723  0.180088  2394  20717  45807  1082  \n",
       "105   0.147275 0.483602  0.225789  1681   9733  56791  1795  \n",
       "105   0.142323 0.525604  0.223993  1827  11010  55514  1649  \n",
       "105   0.074867 0.795455  0.136854  2765  34167  32357   711  \n",
       "105   0.125162 0.584292  0.206161  2031  14196  52328  1445  \n",
       "105   0.129243 0.558688  0.209923  1942  13084  53440  1534  \n",
       "105   0.121358 0.588320  0.201210  2045  14806  51718  1431  "
      ]
     },
     "execution_count": 318,
     "metadata": {},
     "output_type": "execute_result"
    }
   ],
   "source": [
    "model_tracker.tail(50)"
   ]
  },
  {
   "cell_type": "code",
   "execution_count": 319,
   "metadata": {
    "ExecuteTime": {
     "end_time": "2020-05-20T23:42:14.656878Z",
     "start_time": "2020-05-20T23:42:14.650585Z"
    }
   },
   "outputs": [],
   "source": [
    "model_tracker = model_tracker.iloc[-(6*7):, :]"
   ]
  },
  {
   "cell_type": "code",
   "execution_count": 320,
   "metadata": {
    "ExecuteTime": {
     "end_time": "2020-05-20T23:42:14.703341Z",
     "start_time": "2020-05-20T23:42:14.659757Z"
    }
   },
   "outputs": [],
   "source": [
    "model_tracker.to_csv(\"/Users/samholt/GA/DSI12-lessons/projects/Capstone_Project/Capstone_MKII_Model_tracker.csv'\")"
   ]
  },
  {
   "cell_type": "code",
   "execution_count": 321,
   "metadata": {
    "ExecuteTime": {
     "end_time": "2020-05-20T23:42:14.746507Z",
     "start_time": "2020-05-20T23:42:14.707181Z"
    },
    "scrolled": true
   },
   "outputs": [
    {
     "data": {
      "text/html": [
       "<div>\n",
       "<style scoped>\n",
       "    .dataframe tbody tr th:only-of-type {\n",
       "        vertical-align: middle;\n",
       "    }\n",
       "\n",
       "    .dataframe tbody tr th {\n",
       "        vertical-align: top;\n",
       "    }\n",
       "\n",
       "    .dataframe thead th {\n",
       "        text-align: right;\n",
       "    }\n",
       "</style>\n",
       "<table border=\"1\" class=\"dataframe\">\n",
       "  <thead>\n",
       "    <tr style=\"text-align: right;\">\n",
       "      <th></th>\n",
       "      <th>Model</th>\n",
       "      <th>Method</th>\n",
       "      <th>cv_score</th>\n",
       "      <th>training_score</th>\n",
       "      <th>accuracy</th>\n",
       "      <th>precision</th>\n",
       "      <th>recall</th>\n",
       "      <th>f1-score</th>\n",
       "      <th>TP</th>\n",
       "      <th>FP</th>\n",
       "      <th>TN</th>\n",
       "      <th>FN</th>\n",
       "    </tr>\n",
       "  </thead>\n",
       "  <tbody>\n",
       "    <tr>\n",
       "      <th>105</th>\n",
       "      <td>M_NB</td>\n",
       "      <td>Near Miss</td>\n",
       "      <td>0.812752</td>\n",
       "      <td>0.844295</td>\n",
       "      <td>0.501743</td>\n",
       "      <td>0.074867</td>\n",
       "      <td>0.795455</td>\n",
       "      <td>0.136854</td>\n",
       "      <td>2765</td>\n",
       "      <td>34167</td>\n",
       "      <td>32357</td>\n",
       "      <td>711</td>\n",
       "    </tr>\n",
       "    <tr>\n",
       "      <th>105</th>\n",
       "      <td>M_NB</td>\n",
       "      <td>Random Under</td>\n",
       "      <td>0.663087</td>\n",
       "      <td>0.853915</td>\n",
       "      <td>0.688586</td>\n",
       "      <td>0.103587</td>\n",
       "      <td>0.688723</td>\n",
       "      <td>0.180088</td>\n",
       "      <td>2394</td>\n",
       "      <td>20717</td>\n",
       "      <td>45807</td>\n",
       "      <td>1082</td>\n",
       "    </tr>\n",
       "    <tr>\n",
       "      <th>7</th>\n",
       "      <td>Dec_Tree</td>\n",
       "      <td>Near Miss</td>\n",
       "      <td>0.663087</td>\n",
       "      <td>0.940268</td>\n",
       "      <td>0.544157</td>\n",
       "      <td>0.068635</td>\n",
       "      <td>0.650748</td>\n",
       "      <td>0.124173</td>\n",
       "      <td>2262</td>\n",
       "      <td>30695</td>\n",
       "      <td>35829</td>\n",
       "      <td>1214</td>\n",
       "    </tr>\n",
       "    <tr>\n",
       "      <th>105</th>\n",
       "      <td>M_NB</td>\n",
       "      <td>ADASYN</td>\n",
       "      <td>0.575048</td>\n",
       "      <td>0.854209</td>\n",
       "      <td>0.768043</td>\n",
       "      <td>0.121358</td>\n",
       "      <td>0.588320</td>\n",
       "      <td>0.201210</td>\n",
       "      <td>2045</td>\n",
       "      <td>14806</td>\n",
       "      <td>51718</td>\n",
       "      <td>1431</td>\n",
       "    </tr>\n",
       "    <tr>\n",
       "      <th>105</th>\n",
       "      <td>M_NB</td>\n",
       "      <td>SMOTE</td>\n",
       "      <td>0.574417</td>\n",
       "      <td>0.856846</td>\n",
       "      <td>0.776557</td>\n",
       "      <td>0.125162</td>\n",
       "      <td>0.584292</td>\n",
       "      <td>0.206161</td>\n",
       "      <td>2031</td>\n",
       "      <td>14196</td>\n",
       "      <td>52328</td>\n",
       "      <td>1445</td>\n",
       "    </tr>\n",
       "    <tr>\n",
       "      <th>0</th>\n",
       "      <td>KNN</td>\n",
       "      <td>ADASYN</td>\n",
       "      <td>0.587643</td>\n",
       "      <td>0.742510</td>\n",
       "      <td>0.537571</td>\n",
       "      <td>0.060454</td>\n",
       "      <td>0.571634</td>\n",
       "      <td>0.109344</td>\n",
       "      <td>1987</td>\n",
       "      <td>30881</td>\n",
       "      <td>35643</td>\n",
       "      <td>1489</td>\n",
       "    </tr>\n",
       "    <tr>\n",
       "      <th>0</th>\n",
       "      <td>KNN</td>\n",
       "      <td>ADASYN</td>\n",
       "      <td>0.587643</td>\n",
       "      <td>0.742510</td>\n",
       "      <td>0.537571</td>\n",
       "      <td>0.060454</td>\n",
       "      <td>0.571634</td>\n",
       "      <td>0.109344</td>\n",
       "      <td>1987</td>\n",
       "      <td>30881</td>\n",
       "      <td>35643</td>\n",
       "      <td>1489</td>\n",
       "    </tr>\n",
       "    <tr>\n",
       "      <th>0</th>\n",
       "      <td>KNN</td>\n",
       "      <td>SMOTE</td>\n",
       "      <td>0.570444</td>\n",
       "      <td>0.746685</td>\n",
       "      <td>0.549043</td>\n",
       "      <td>0.061530</td>\n",
       "      <td>0.567031</td>\n",
       "      <td>0.111014</td>\n",
       "      <td>1971</td>\n",
       "      <td>30062</td>\n",
       "      <td>36462</td>\n",
       "      <td>1505</td>\n",
       "    </tr>\n",
       "    <tr>\n",
       "      <th>0</th>\n",
       "      <td>KNN</td>\n",
       "      <td>SMOTE</td>\n",
       "      <td>0.570444</td>\n",
       "      <td>0.746685</td>\n",
       "      <td>0.549043</td>\n",
       "      <td>0.061530</td>\n",
       "      <td>0.567031</td>\n",
       "      <td>0.111014</td>\n",
       "      <td>1971</td>\n",
       "      <td>30062</td>\n",
       "      <td>36462</td>\n",
       "      <td>1505</td>\n",
       "    </tr>\n",
       "    <tr>\n",
       "      <th>105</th>\n",
       "      <td>M_NB</td>\n",
       "      <td>Random oversample</td>\n",
       "      <td>0.549135</td>\n",
       "      <td>0.855232</td>\n",
       "      <td>0.791171</td>\n",
       "      <td>0.129243</td>\n",
       "      <td>0.558688</td>\n",
       "      <td>0.209923</td>\n",
       "      <td>1942</td>\n",
       "      <td>13084</td>\n",
       "      <td>53440</td>\n",
       "      <td>1534</td>\n",
       "    </tr>\n",
       "    <tr>\n",
       "      <th>21</th>\n",
       "      <td>Ran_FR</td>\n",
       "      <td>Near Miss</td>\n",
       "      <td>0.507383</td>\n",
       "      <td>1.000000</td>\n",
       "      <td>0.763700</td>\n",
       "      <td>0.109464</td>\n",
       "      <td>0.526755</td>\n",
       "      <td>0.181260</td>\n",
       "      <td>1831</td>\n",
       "      <td>14896</td>\n",
       "      <td>51628</td>\n",
       "      <td>1645</td>\n",
       "    </tr>\n",
       "    <tr>\n",
       "      <th>7</th>\n",
       "      <td>Dec_Tree</td>\n",
       "      <td>Random Under</td>\n",
       "      <td>0.526174</td>\n",
       "      <td>0.921924</td>\n",
       "      <td>0.784057</td>\n",
       "      <td>0.119558</td>\n",
       "      <td>0.526180</td>\n",
       "      <td>0.194844</td>\n",
       "      <td>1829</td>\n",
       "      <td>13469</td>\n",
       "      <td>53055</td>\n",
       "      <td>1647</td>\n",
       "    </tr>\n",
       "    <tr>\n",
       "      <th>105</th>\n",
       "      <td>M_NB</td>\n",
       "      <td>Neighbourhood Clean</td>\n",
       "      <td>0.493289</td>\n",
       "      <td>0.897904</td>\n",
       "      <td>0.819157</td>\n",
       "      <td>0.142323</td>\n",
       "      <td>0.525604</td>\n",
       "      <td>0.223993</td>\n",
       "      <td>1827</td>\n",
       "      <td>11010</td>\n",
       "      <td>55514</td>\n",
       "      <td>1649</td>\n",
       "    </tr>\n",
       "    <tr>\n",
       "      <th>0</th>\n",
       "      <td>KNN</td>\n",
       "      <td>Random Under</td>\n",
       "      <td>0.512081</td>\n",
       "      <td>0.729306</td>\n",
       "      <td>0.624129</td>\n",
       "      <td>0.067601</td>\n",
       "      <td>0.513521</td>\n",
       "      <td>0.119474</td>\n",
       "      <td>1785</td>\n",
       "      <td>24620</td>\n",
       "      <td>41904</td>\n",
       "      <td>1691</td>\n",
       "    </tr>\n",
       "    <tr>\n",
       "      <th>0</th>\n",
       "      <td>KNN</td>\n",
       "      <td>Random Under</td>\n",
       "      <td>0.512081</td>\n",
       "      <td>0.729306</td>\n",
       "      <td>0.624129</td>\n",
       "      <td>0.067601</td>\n",
       "      <td>0.513521</td>\n",
       "      <td>0.119474</td>\n",
       "      <td>1785</td>\n",
       "      <td>24620</td>\n",
       "      <td>41904</td>\n",
       "      <td>1691</td>\n",
       "    </tr>\n",
       "    <tr>\n",
       "      <th>105</th>\n",
       "      <td>M_NB</td>\n",
       "      <td>Tomek Links</td>\n",
       "      <td>0.432886</td>\n",
       "      <td>0.890178</td>\n",
       "      <td>0.835314</td>\n",
       "      <td>0.147275</td>\n",
       "      <td>0.483602</td>\n",
       "      <td>0.225789</td>\n",
       "      <td>1681</td>\n",
       "      <td>9733</td>\n",
       "      <td>56791</td>\n",
       "      <td>1795</td>\n",
       "    </tr>\n",
       "    <tr>\n",
       "      <th>49</th>\n",
       "      <td>GB</td>\n",
       "      <td>Near Miss</td>\n",
       "      <td>0.447651</td>\n",
       "      <td>0.832215</td>\n",
       "      <td>0.765500</td>\n",
       "      <td>0.095631</td>\n",
       "      <td>0.440161</td>\n",
       "      <td>0.157125</td>\n",
       "      <td>1530</td>\n",
       "      <td>14469</td>\n",
       "      <td>52055</td>\n",
       "      <td>1946</td>\n",
       "    </tr>\n",
       "    <tr>\n",
       "      <th>21</th>\n",
       "      <td>Ran_FR</td>\n",
       "      <td>Random Under</td>\n",
       "      <td>0.389262</td>\n",
       "      <td>1.000000</td>\n",
       "      <td>0.911786</td>\n",
       "      <td>0.264855</td>\n",
       "      <td>0.437284</td>\n",
       "      <td>0.329897</td>\n",
       "      <td>1520</td>\n",
       "      <td>4219</td>\n",
       "      <td>62305</td>\n",
       "      <td>1956</td>\n",
       "    </tr>\n",
       "    <tr>\n",
       "      <th>0</th>\n",
       "      <td>KNN</td>\n",
       "      <td>Random oversample</td>\n",
       "      <td>0.338899</td>\n",
       "      <td>0.905881</td>\n",
       "      <td>0.776114</td>\n",
       "      <td>0.082615</td>\n",
       "      <td>0.347238</td>\n",
       "      <td>0.133473</td>\n",
       "      <td>1207</td>\n",
       "      <td>13403</td>\n",
       "      <td>53121</td>\n",
       "      <td>2269</td>\n",
       "    </tr>\n",
       "    <tr>\n",
       "      <th>0</th>\n",
       "      <td>KNN</td>\n",
       "      <td>Random oversample</td>\n",
       "      <td>0.338899</td>\n",
       "      <td>0.905881</td>\n",
       "      <td>0.776114</td>\n",
       "      <td>0.082615</td>\n",
       "      <td>0.347238</td>\n",
       "      <td>0.133473</td>\n",
       "      <td>1207</td>\n",
       "      <td>13403</td>\n",
       "      <td>53121</td>\n",
       "      <td>2269</td>\n",
       "    </tr>\n",
       "    <tr>\n",
       "      <th>49</th>\n",
       "      <td>GB</td>\n",
       "      <td>Random Under</td>\n",
       "      <td>0.316779</td>\n",
       "      <td>0.782550</td>\n",
       "      <td>0.921443</td>\n",
       "      <td>0.262837</td>\n",
       "      <td>0.322497</td>\n",
       "      <td>0.289627</td>\n",
       "      <td>1121</td>\n",
       "      <td>3144</td>\n",
       "      <td>63380</td>\n",
       "      <td>2355</td>\n",
       "    </tr>\n",
       "    <tr>\n",
       "      <th>7</th>\n",
       "      <td>Dec_Tree</td>\n",
       "      <td>Random oversample</td>\n",
       "      <td>0.275975</td>\n",
       "      <td>0.966725</td>\n",
       "      <td>0.885757</td>\n",
       "      <td>0.161754</td>\n",
       "      <td>0.310990</td>\n",
       "      <td>0.212816</td>\n",
       "      <td>1081</td>\n",
       "      <td>5602</td>\n",
       "      <td>60922</td>\n",
       "      <td>2395</td>\n",
       "    </tr>\n",
       "    <tr>\n",
       "      <th>49</th>\n",
       "      <td>GB</td>\n",
       "      <td>Random oversample</td>\n",
       "      <td>0.271312</td>\n",
       "      <td>0.772080</td>\n",
       "      <td>0.931000</td>\n",
       "      <td>0.301350</td>\n",
       "      <td>0.295455</td>\n",
       "      <td>0.298373</td>\n",
       "      <td>1027</td>\n",
       "      <td>2381</td>\n",
       "      <td>64143</td>\n",
       "      <td>2449</td>\n",
       "    </tr>\n",
       "    <tr>\n",
       "      <th>0</th>\n",
       "      <td>KNN</td>\n",
       "      <td>Near Miss</td>\n",
       "      <td>0.288591</td>\n",
       "      <td>0.765996</td>\n",
       "      <td>0.801286</td>\n",
       "      <td>0.076954</td>\n",
       "      <td>0.273015</td>\n",
       "      <td>0.120066</td>\n",
       "      <td>949</td>\n",
       "      <td>11383</td>\n",
       "      <td>55141</td>\n",
       "      <td>2527</td>\n",
       "    </tr>\n",
       "    <tr>\n",
       "      <th>0</th>\n",
       "      <td>KNN</td>\n",
       "      <td>Near Miss</td>\n",
       "      <td>0.288591</td>\n",
       "      <td>0.765996</td>\n",
       "      <td>0.801286</td>\n",
       "      <td>0.076954</td>\n",
       "      <td>0.273015</td>\n",
       "      <td>0.120066</td>\n",
       "      <td>949</td>\n",
       "      <td>11383</td>\n",
       "      <td>55141</td>\n",
       "      <td>2527</td>\n",
       "    </tr>\n",
       "    <tr>\n",
       "      <th>0</th>\n",
       "      <td>KNN</td>\n",
       "      <td>Neighbourhood Clean</td>\n",
       "      <td>0.216779</td>\n",
       "      <td>0.929440</td>\n",
       "      <td>0.863186</td>\n",
       "      <td>0.092560</td>\n",
       "      <td>0.199367</td>\n",
       "      <td>0.126425</td>\n",
       "      <td>693</td>\n",
       "      <td>6794</td>\n",
       "      <td>59730</td>\n",
       "      <td>2783</td>\n",
       "    </tr>\n",
       "    <tr>\n",
       "      <th>0</th>\n",
       "      <td>KNN</td>\n",
       "      <td>Neighbourhood Clean</td>\n",
       "      <td>0.216779</td>\n",
       "      <td>0.929440</td>\n",
       "      <td>0.863186</td>\n",
       "      <td>0.092560</td>\n",
       "      <td>0.199367</td>\n",
       "      <td>0.126425</td>\n",
       "      <td>693</td>\n",
       "      <td>6794</td>\n",
       "      <td>59730</td>\n",
       "      <td>2783</td>\n",
       "    </tr>\n",
       "    <tr>\n",
       "      <th>7</th>\n",
       "      <td>Dec_Tree</td>\n",
       "      <td>ADASYN</td>\n",
       "      <td>0.151043</td>\n",
       "      <td>0.980656</td>\n",
       "      <td>0.926857</td>\n",
       "      <td>0.222297</td>\n",
       "      <td>0.189298</td>\n",
       "      <td>0.204475</td>\n",
       "      <td>658</td>\n",
       "      <td>2302</td>\n",
       "      <td>64222</td>\n",
       "      <td>2818</td>\n",
       "    </tr>\n",
       "    <tr>\n",
       "      <th>7</th>\n",
       "      <td>Dec_Tree</td>\n",
       "      <td>SMOTE</td>\n",
       "      <td>0.153017</td>\n",
       "      <td>0.979750</td>\n",
       "      <td>0.926414</td>\n",
       "      <td>0.219242</td>\n",
       "      <td>0.188147</td>\n",
       "      <td>0.202508</td>\n",
       "      <td>654</td>\n",
       "      <td>2329</td>\n",
       "      <td>64195</td>\n",
       "      <td>2822</td>\n",
       "    </tr>\n",
       "    <tr>\n",
       "      <th>7</th>\n",
       "      <td>Dec_Tree</td>\n",
       "      <td>Neighbourhood Clean</td>\n",
       "      <td>0.164430</td>\n",
       "      <td>0.975614</td>\n",
       "      <td>0.933500</td>\n",
       "      <td>0.243584</td>\n",
       "      <td>0.161105</td>\n",
       "      <td>0.193939</td>\n",
       "      <td>560</td>\n",
       "      <td>1739</td>\n",
       "      <td>64785</td>\n",
       "      <td>2916</td>\n",
       "    </tr>\n",
       "    <tr>\n",
       "      <th>7</th>\n",
       "      <td>Dec_Tree</td>\n",
       "      <td>Tomek Links</td>\n",
       "      <td>0.136242</td>\n",
       "      <td>0.977527</td>\n",
       "      <td>0.936329</td>\n",
       "      <td>0.243596</td>\n",
       "      <td>0.134062</td>\n",
       "      <td>0.172945</td>\n",
       "      <td>466</td>\n",
       "      <td>1447</td>\n",
       "      <td>65077</td>\n",
       "      <td>3010</td>\n",
       "    </tr>\n",
       "    <tr>\n",
       "      <th>49</th>\n",
       "      <td>GB</td>\n",
       "      <td>SMOTE</td>\n",
       "      <td>0.069665</td>\n",
       "      <td>0.917316</td>\n",
       "      <td>0.949700</td>\n",
       "      <td>0.459893</td>\n",
       "      <td>0.074223</td>\n",
       "      <td>0.127818</td>\n",
       "      <td>258</td>\n",
       "      <td>303</td>\n",
       "      <td>66221</td>\n",
       "      <td>3218</td>\n",
       "    </tr>\n",
       "    <tr>\n",
       "      <th>49</th>\n",
       "      <td>GB</td>\n",
       "      <td>ADASYN</td>\n",
       "      <td>0.078482</td>\n",
       "      <td>0.916418</td>\n",
       "      <td>0.949443</td>\n",
       "      <td>0.442831</td>\n",
       "      <td>0.070196</td>\n",
       "      <td>0.121182</td>\n",
       "      <td>244</td>\n",
       "      <td>307</td>\n",
       "      <td>66217</td>\n",
       "      <td>3232</td>\n",
       "    </tr>\n",
       "    <tr>\n",
       "      <th>49</th>\n",
       "      <td>GB</td>\n",
       "      <td>Neighbourhood Clean</td>\n",
       "      <td>0.059060</td>\n",
       "      <td>0.949498</td>\n",
       "      <td>0.951600</td>\n",
       "      <td>0.612821</td>\n",
       "      <td>0.068757</td>\n",
       "      <td>0.123642</td>\n",
       "      <td>239</td>\n",
       "      <td>151</td>\n",
       "      <td>66373</td>\n",
       "      <td>3237</td>\n",
       "    </tr>\n",
       "    <tr>\n",
       "      <th>21</th>\n",
       "      <td>Ran_FR</td>\n",
       "      <td>Neighbourhood Clean</td>\n",
       "      <td>0.042953</td>\n",
       "      <td>0.999962</td>\n",
       "      <td>0.952586</td>\n",
       "      <td>0.820408</td>\n",
       "      <td>0.057825</td>\n",
       "      <td>0.108035</td>\n",
       "      <td>201</td>\n",
       "      <td>44</td>\n",
       "      <td>66480</td>\n",
       "      <td>3275</td>\n",
       "    </tr>\n",
       "    <tr>\n",
       "      <th>49</th>\n",
       "      <td>GB</td>\n",
       "      <td>Tomek Links</td>\n",
       "      <td>0.048322</td>\n",
       "      <td>0.954520</td>\n",
       "      <td>0.951657</td>\n",
       "      <td>0.653333</td>\n",
       "      <td>0.056387</td>\n",
       "      <td>0.103814</td>\n",
       "      <td>196</td>\n",
       "      <td>104</td>\n",
       "      <td>66420</td>\n",
       "      <td>3280</td>\n",
       "    </tr>\n",
       "    <tr>\n",
       "      <th>0</th>\n",
       "      <td>KNN</td>\n",
       "      <td>Tomek Links</td>\n",
       "      <td>0.059060</td>\n",
       "      <td>0.945490</td>\n",
       "      <td>0.929600</td>\n",
       "      <td>0.104144</td>\n",
       "      <td>0.054948</td>\n",
       "      <td>0.071940</td>\n",
       "      <td>191</td>\n",
       "      <td>1643</td>\n",
       "      <td>64881</td>\n",
       "      <td>3285</td>\n",
       "    </tr>\n",
       "    <tr>\n",
       "      <th>0</th>\n",
       "      <td>KNN</td>\n",
       "      <td>Tomek Links</td>\n",
       "      <td>0.059060</td>\n",
       "      <td>0.945490</td>\n",
       "      <td>0.929600</td>\n",
       "      <td>0.104144</td>\n",
       "      <td>0.054948</td>\n",
       "      <td>0.071940</td>\n",
       "      <td>191</td>\n",
       "      <td>1643</td>\n",
       "      <td>64881</td>\n",
       "      <td>3285</td>\n",
       "    </tr>\n",
       "    <tr>\n",
       "      <th>21</th>\n",
       "      <td>Ran_FR</td>\n",
       "      <td>Random oversample</td>\n",
       "      <td>0.033491</td>\n",
       "      <td>1.000000</td>\n",
       "      <td>0.952429</td>\n",
       "      <td>0.924419</td>\n",
       "      <td>0.045742</td>\n",
       "      <td>0.087171</td>\n",
       "      <td>159</td>\n",
       "      <td>13</td>\n",
       "      <td>66511</td>\n",
       "      <td>3317</td>\n",
       "    </tr>\n",
       "    <tr>\n",
       "      <th>21</th>\n",
       "      <td>Ran_FR</td>\n",
       "      <td>Tomek Links</td>\n",
       "      <td>0.036242</td>\n",
       "      <td>0.999967</td>\n",
       "      <td>0.952243</td>\n",
       "      <td>0.875706</td>\n",
       "      <td>0.044591</td>\n",
       "      <td>0.084862</td>\n",
       "      <td>155</td>\n",
       "      <td>22</td>\n",
       "      <td>66502</td>\n",
       "      <td>3321</td>\n",
       "    </tr>\n",
       "    <tr>\n",
       "      <th>21</th>\n",
       "      <td>Ran_FR</td>\n",
       "      <td>SMOTE</td>\n",
       "      <td>0.034208</td>\n",
       "      <td>1.000000</td>\n",
       "      <td>0.952457</td>\n",
       "      <td>0.974359</td>\n",
       "      <td>0.043728</td>\n",
       "      <td>0.083700</td>\n",
       "      <td>152</td>\n",
       "      <td>4</td>\n",
       "      <td>66520</td>\n",
       "      <td>3324</td>\n",
       "    </tr>\n",
       "    <tr>\n",
       "      <th>21</th>\n",
       "      <td>Ran_FR</td>\n",
       "      <td>ADASYN</td>\n",
       "      <td>0.037436</td>\n",
       "      <td>1.000000</td>\n",
       "      <td>0.952329</td>\n",
       "      <td>0.972789</td>\n",
       "      <td>0.041139</td>\n",
       "      <td>0.078940</td>\n",
       "      <td>143</td>\n",
       "      <td>4</td>\n",
       "      <td>66520</td>\n",
       "      <td>3333</td>\n",
       "    </tr>\n",
       "  </tbody>\n",
       "</table>\n",
       "</div>"
      ],
      "text/plain": [
       "        Model               Method  cv_score  training_score  accuracy  \\\n",
       "105      M_NB            Near Miss  0.812752        0.844295  0.501743   \n",
       "105      M_NB         Random Under  0.663087        0.853915  0.688586   \n",
       "7    Dec_Tree            Near Miss  0.663087        0.940268  0.544157   \n",
       "105      M_NB               ADASYN  0.575048        0.854209  0.768043   \n",
       "105      M_NB                SMOTE  0.574417        0.856846  0.776557   \n",
       "0         KNN               ADASYN  0.587643        0.742510  0.537571   \n",
       "0         KNN               ADASYN  0.587643        0.742510  0.537571   \n",
       "0         KNN                SMOTE  0.570444        0.746685  0.549043   \n",
       "0         KNN                SMOTE  0.570444        0.746685  0.549043   \n",
       "105      M_NB    Random oversample  0.549135        0.855232  0.791171   \n",
       "21     Ran_FR            Near Miss  0.507383        1.000000  0.763700   \n",
       "7    Dec_Tree         Random Under  0.526174        0.921924  0.784057   \n",
       "105      M_NB  Neighbourhood Clean  0.493289        0.897904  0.819157   \n",
       "0         KNN         Random Under  0.512081        0.729306  0.624129   \n",
       "0         KNN         Random Under  0.512081        0.729306  0.624129   \n",
       "105      M_NB          Tomek Links  0.432886        0.890178  0.835314   \n",
       "49         GB            Near Miss  0.447651        0.832215  0.765500   \n",
       "21     Ran_FR         Random Under  0.389262        1.000000  0.911786   \n",
       "0         KNN    Random oversample  0.338899        0.905881  0.776114   \n",
       "0         KNN    Random oversample  0.338899        0.905881  0.776114   \n",
       "49         GB         Random Under  0.316779        0.782550  0.921443   \n",
       "7    Dec_Tree    Random oversample  0.275975        0.966725  0.885757   \n",
       "49         GB    Random oversample  0.271312        0.772080  0.931000   \n",
       "0         KNN            Near Miss  0.288591        0.765996  0.801286   \n",
       "0         KNN            Near Miss  0.288591        0.765996  0.801286   \n",
       "0         KNN  Neighbourhood Clean  0.216779        0.929440  0.863186   \n",
       "0         KNN  Neighbourhood Clean  0.216779        0.929440  0.863186   \n",
       "7    Dec_Tree               ADASYN  0.151043        0.980656  0.926857   \n",
       "7    Dec_Tree                SMOTE  0.153017        0.979750  0.926414   \n",
       "7    Dec_Tree  Neighbourhood Clean  0.164430        0.975614  0.933500   \n",
       "7    Dec_Tree          Tomek Links  0.136242        0.977527  0.936329   \n",
       "49         GB                SMOTE  0.069665        0.917316  0.949700   \n",
       "49         GB               ADASYN  0.078482        0.916418  0.949443   \n",
       "49         GB  Neighbourhood Clean  0.059060        0.949498  0.951600   \n",
       "21     Ran_FR  Neighbourhood Clean  0.042953        0.999962  0.952586   \n",
       "49         GB          Tomek Links  0.048322        0.954520  0.951657   \n",
       "0         KNN          Tomek Links  0.059060        0.945490  0.929600   \n",
       "0         KNN          Tomek Links  0.059060        0.945490  0.929600   \n",
       "21     Ran_FR    Random oversample  0.033491        1.000000  0.952429   \n",
       "21     Ran_FR          Tomek Links  0.036242        0.999967  0.952243   \n",
       "21     Ran_FR                SMOTE  0.034208        1.000000  0.952457   \n",
       "21     Ran_FR               ADASYN  0.037436        1.000000  0.952329   \n",
       "\n",
       "     precision   recall  f1-score    TP     FP     TN    FN  \n",
       "105   0.074867 0.795455  0.136854  2765  34167  32357   711  \n",
       "105   0.103587 0.688723  0.180088  2394  20717  45807  1082  \n",
       "7     0.068635 0.650748  0.124173  2262  30695  35829  1214  \n",
       "105   0.121358 0.588320  0.201210  2045  14806  51718  1431  \n",
       "105   0.125162 0.584292  0.206161  2031  14196  52328  1445  \n",
       "0     0.060454 0.571634  0.109344  1987  30881  35643  1489  \n",
       "0     0.060454 0.571634  0.109344  1987  30881  35643  1489  \n",
       "0     0.061530 0.567031  0.111014  1971  30062  36462  1505  \n",
       "0     0.061530 0.567031  0.111014  1971  30062  36462  1505  \n",
       "105   0.129243 0.558688  0.209923  1942  13084  53440  1534  \n",
       "21    0.109464 0.526755  0.181260  1831  14896  51628  1645  \n",
       "7     0.119558 0.526180  0.194844  1829  13469  53055  1647  \n",
       "105   0.142323 0.525604  0.223993  1827  11010  55514  1649  \n",
       "0     0.067601 0.513521  0.119474  1785  24620  41904  1691  \n",
       "0     0.067601 0.513521  0.119474  1785  24620  41904  1691  \n",
       "105   0.147275 0.483602  0.225789  1681   9733  56791  1795  \n",
       "49    0.095631 0.440161  0.157125  1530  14469  52055  1946  \n",
       "21    0.264855 0.437284  0.329897  1520   4219  62305  1956  \n",
       "0     0.082615 0.347238  0.133473  1207  13403  53121  2269  \n",
       "0     0.082615 0.347238  0.133473  1207  13403  53121  2269  \n",
       "49    0.262837 0.322497  0.289627  1121   3144  63380  2355  \n",
       "7     0.161754 0.310990  0.212816  1081   5602  60922  2395  \n",
       "49    0.301350 0.295455  0.298373  1027   2381  64143  2449  \n",
       "0     0.076954 0.273015  0.120066   949  11383  55141  2527  \n",
       "0     0.076954 0.273015  0.120066   949  11383  55141  2527  \n",
       "0     0.092560 0.199367  0.126425   693   6794  59730  2783  \n",
       "0     0.092560 0.199367  0.126425   693   6794  59730  2783  \n",
       "7     0.222297 0.189298  0.204475   658   2302  64222  2818  \n",
       "7     0.219242 0.188147  0.202508   654   2329  64195  2822  \n",
       "7     0.243584 0.161105  0.193939   560   1739  64785  2916  \n",
       "7     0.243596 0.134062  0.172945   466   1447  65077  3010  \n",
       "49    0.459893 0.074223  0.127818   258    303  66221  3218  \n",
       "49    0.442831 0.070196  0.121182   244    307  66217  3232  \n",
       "49    0.612821 0.068757  0.123642   239    151  66373  3237  \n",
       "21    0.820408 0.057825  0.108035   201     44  66480  3275  \n",
       "49    0.653333 0.056387  0.103814   196    104  66420  3280  \n",
       "0     0.104144 0.054948  0.071940   191   1643  64881  3285  \n",
       "0     0.104144 0.054948  0.071940   191   1643  64881  3285  \n",
       "21    0.924419 0.045742  0.087171   159     13  66511  3317  \n",
       "21    0.875706 0.044591  0.084862   155     22  66502  3321  \n",
       "21    0.974359 0.043728  0.083700   152      4  66520  3324  \n",
       "21    0.972789 0.041139  0.078940   143      4  66520  3333  "
      ]
     },
     "execution_count": 321,
     "metadata": {},
     "output_type": "execute_result"
    }
   ],
   "source": [
    "model_tracker.sort_values(by = \"recall\", ascending= False)"
   ]
  },
  {
   "cell_type": "code",
   "execution_count": 322,
   "metadata": {
    "ExecuteTime": {
     "end_time": "2020-05-20T23:42:15.443019Z",
     "start_time": "2020-05-20T23:42:14.751679Z"
    }
   },
   "outputs": [
    {
     "data": {
      "image/png": "[encoded data removed]",
      "text/plain": [
       "<Figure size 576x576 with 1 Axes>"
      ]
     },
     "metadata": {
      "needs_background": "light"
     },
     "output_type": "display_data"
    }
   ],
   "source": [
    "# Visualisation of accuracy vs. recall for these models show a distinct trade-off, the model(s) to\n",
    "# take forward are the ones which minimize the accuracy recall trade-off\n",
    "\n",
    "plt.figure(figsize=(8, 8))\n",
    "plt.rcParams.update({'font.size': 18})\n",
    "sns.scatterplot(model_tracker[\"recall\"], model_tracker[\"accuracy\"], hue= model_tracker[\"Model\"])\n",
    "\n",
    "plt.xlabel(\"Recall\")\n",
    "plt.ylabel(\"Accuracy\")\n",
    "plt.show()"
   ]
  },
  {
   "cell_type": "code",
   "execution_count": 323,
   "metadata": {
    "ExecuteTime": {
     "end_time": "2020-05-20T23:42:15.456758Z",
     "start_time": "2020-05-20T23:42:15.447121Z"
    }
   },
   "outputs": [
    {
     "data": {
      "text/html": [
       "<div>\n",
       "<style scoped>\n",
       "    .dataframe tbody tr th:only-of-type {\n",
       "        vertical-align: middle;\n",
       "    }\n",
       "\n",
       "    .dataframe tbody tr th {\n",
       "        vertical-align: top;\n",
       "    }\n",
       "\n",
       "    .dataframe thead th {\n",
       "        text-align: right;\n",
       "    }\n",
       "</style>\n",
       "<table border=\"1\" class=\"dataframe\">\n",
       "  <thead>\n",
       "    <tr style=\"text-align: right;\">\n",
       "      <th></th>\n",
       "      <th>Model</th>\n",
       "      <th>Method</th>\n",
       "      <th>accuracy</th>\n",
       "      <th>recall</th>\n",
       "    </tr>\n",
       "  </thead>\n",
       "  <tbody>\n",
       "    <tr>\n",
       "      <th>105</th>\n",
       "      <td>M_NB</td>\n",
       "      <td>Neighbourhood Clean</td>\n",
       "      <td>0.819157</td>\n",
       "      <td>0.525604</td>\n",
       "    </tr>\n",
       "    <tr>\n",
       "      <th>105</th>\n",
       "      <td>M_NB</td>\n",
       "      <td>Random oversample</td>\n",
       "      <td>0.791171</td>\n",
       "      <td>0.558688</td>\n",
       "    </tr>\n",
       "  </tbody>\n",
       "</table>\n",
       "</div>"
      ],
      "text/plain": [
       "    Model               Method  accuracy   recall\n",
       "105  M_NB  Neighbourhood Clean  0.819157 0.525604\n",
       "105  M_NB    Random oversample  0.791171 0.558688"
      ]
     },
     "execution_count": 323,
     "metadata": {},
     "output_type": "execute_result"
    }
   ],
   "source": [
    "#select models which maximize both accuracy & recall, defined as 80% accuracy and 50% recall\n",
    "model_tracker[(model_tracker[\"recall\"] > 0.49) & (model_tracker[\"accuracy\"] > 0.79)][[\"Model\", \"Method\", \"accuracy\", \"recall\"]]"
   ]
  },
  {
   "cell_type": "markdown",
   "metadata": {},
   "source": [
    "#### Gridsearch & Optimize Best Model\n",
    "* Due to time constraints one logistic regression model was taken forward for analysis & gridsearch on the full dataset\n",
    "* Gridsearching based on our best model, logistic regression combined with random undersampling\n",
    "* Random undersampling loses a lot of data so we are using the model on the full sparse DF"
   ]
  },
  {
   "cell_type": "code",
   "execution_count": 324,
   "metadata": {
    "ExecuteTime": {
     "end_time": "2020-05-20T23:42:16.419580Z",
     "start_time": "2020-05-20T23:42:15.459810Z"
    },
    "scrolled": true
   },
   "outputs": [
    {
     "data": {
      "text/plain": [
       "800528"
      ]
     },
     "execution_count": 324,
     "metadata": {},
     "output_type": "execute_result"
    }
   ],
   "source": [
    "# split sample into target and predictor variables\n",
    "X = sparse_df[:,:-1]\n",
    "y = sparse_df[:, -1].toarray().ravel()\n",
    "\n",
    "X\n",
    "len(y)"
   ]
  },
  {
   "cell_type": "code",
   "execution_count": 325,
   "metadata": {
    "ExecuteTime": {
     "end_time": "2020-05-20T23:42:17.083870Z",
     "start_time": "2020-05-20T23:42:16.422868Z"
    }
   },
   "outputs": [],
   "source": [
    "# fit sampler\n",
    "\n",
    "sampler = RandomUnderSampler(sampling_strategy= 0.5, random_state= 13)\n",
    "\n",
    "X_train, X_test, y_train, y_test = train_test_split(X, y, train_size = 0.3, stratify = y, random_state = 13)\n",
    "\n",
    "X_train_new, y_train_new = sampler.fit_resample(X_train, y_train)"
   ]
  },
  {
   "cell_type": "code",
   "execution_count": 329,
   "metadata": {
    "ExecuteTime": {
     "end_time": "2020-05-20T23:42:17.165800Z",
     "start_time": "2020-05-20T23:42:17.111485Z"
    }
   },
   "outputs": [],
   "source": [
    "model = LogisticRegression(solver = \"sag\", max_iter = 10000)\n",
    "params = {'C':[0.001, 0.01, 1, 10,25],\n",
    "          'fit_intercept': [True, False]}\n",
    "\n",
    "model_GS = GridSearchCV(estimator=model,\n",
    "                param_grid=params,\n",
    "                cv=5,\n",
    "                scoring='recall',\n",
    "                return_train_score=True, verbose= 2)"
   ]
  },
  {
   "cell_type": "code",
   "execution_count": 330,
   "metadata": {
    "ExecuteTime": {
     "end_time": "2020-05-21T03:40:12.915871Z",
     "start_time": "2020-05-20T23:42:17.170314Z"
    }
   },
   "outputs": [
    {
     "name": "stdout",
     "output_type": "stream",
     "text": [
      "Fitting 5 folds for each of 10 candidates, totalling 50 fits\n",
      "[CV] C=0.001, fit_intercept=True .....................................\n"
     ]
    },
    {
     "name": "stderr",
     "output_type": "stream",
     "text": [
      "[Parallel(n_jobs=1)]: Using backend SequentialBackend with 1 concurrent workers.\n"
     ]
    },
    {
     "name": "stdout",
     "output_type": "stream",
     "text": [
      "[CV] ...................... C=0.001, fit_intercept=True, total=  27.2s\n",
      "[CV] C=0.001, fit_intercept=True .....................................\n"
     ]
    },
    {
     "name": "stderr",
     "output_type": "stream",
     "text": [
      "[Parallel(n_jobs=1)]: Done   1 out of   1 | elapsed:   27.2s remaining:    0.0s\n"
     ]
    },
    {
     "name": "stdout",
     "output_type": "stream",
     "text": [
      "[CV] ...................... C=0.001, fit_intercept=True, total=  40.8s\n",
      "[CV] C=0.001, fit_intercept=True .....................................\n",
      "[CV] ...................... C=0.001, fit_intercept=True, total=  40.2s\n",
      "[CV] C=0.001, fit_intercept=True .....................................\n",
      "[CV] ...................... C=0.001, fit_intercept=True, total=  40.4s\n",
      "[CV] C=0.001, fit_intercept=True .....................................\n",
      "[CV] ...................... C=0.001, fit_intercept=True, total=  40.5s\n",
      "[CV] C=0.001, fit_intercept=False ....................................\n",
      "[CV] ..................... C=0.001, fit_intercept=False, total=  27.8s\n",
      "[CV] C=0.001, fit_intercept=False ....................................\n",
      "[CV] ..................... C=0.001, fit_intercept=False, total=  41.2s\n",
      "[CV] C=0.001, fit_intercept=False ....................................\n",
      "[CV] ..................... C=0.001, fit_intercept=False, total=  40.8s\n",
      "[CV] C=0.001, fit_intercept=False ....................................\n",
      "[CV] ..................... C=0.001, fit_intercept=False, total=  40.7s\n",
      "[CV] C=0.001, fit_intercept=False ....................................\n",
      "[CV] ..................... C=0.001, fit_intercept=False, total=  40.8s\n",
      "[CV] C=0.01, fit_intercept=True ......................................\n",
      "[CV] ....................... C=0.01, fit_intercept=True, total=  43.5s\n",
      "[CV] C=0.01, fit_intercept=True ......................................\n",
      "[CV] ....................... C=0.01, fit_intercept=True, total= 1.0min\n",
      "[CV] C=0.01, fit_intercept=True ......................................\n",
      "[CV] ....................... C=0.01, fit_intercept=True, total=  59.9s\n",
      "[CV] C=0.01, fit_intercept=True ......................................\n",
      "[CV] ....................... C=0.01, fit_intercept=True, total= 1.0min\n",
      "[CV] C=0.01, fit_intercept=True ......................................\n",
      "[CV] ....................... C=0.01, fit_intercept=True, total=  59.1s\n",
      "[CV] C=0.01, fit_intercept=False .....................................\n",
      "[CV] ...................... C=0.01, fit_intercept=False, total=  45.2s\n",
      "[CV] C=0.01, fit_intercept=False .....................................\n",
      "[CV] ...................... C=0.01, fit_intercept=False, total= 1.0min\n",
      "[CV] C=0.01, fit_intercept=False .....................................\n",
      "[CV] ...................... C=0.01, fit_intercept=False, total= 1.0min\n",
      "[CV] C=0.01, fit_intercept=False .....................................\n",
      "[CV] ...................... C=0.01, fit_intercept=False, total= 1.0min\n",
      "[CV] C=0.01, fit_intercept=False .....................................\n",
      "[CV] ...................... C=0.01, fit_intercept=False, total= 1.0min\n",
      "[CV] C=1, fit_intercept=True .........................................\n",
      "[CV] .......................... C=1, fit_intercept=True, total=  48.1s\n",
      "[CV] C=1, fit_intercept=True .........................................\n",
      "[CV] .......................... C=1, fit_intercept=True, total= 1.1min\n",
      "[CV] C=1, fit_intercept=True .........................................\n",
      "[CV] .......................... C=1, fit_intercept=True, total= 1.1min\n",
      "[CV] C=1, fit_intercept=True .........................................\n",
      "[CV] .......................... C=1, fit_intercept=True, total= 1.1min\n",
      "[CV] C=1, fit_intercept=True .........................................\n",
      "[CV] .......................... C=1, fit_intercept=True, total= 1.1min\n",
      "[CV] C=1, fit_intercept=False ........................................\n",
      "[CV] ......................... C=1, fit_intercept=False, total=  49.5s\n",
      "[CV] C=1, fit_intercept=False ........................................\n",
      "[CV] ......................... C=1, fit_intercept=False, total= 1.1min\n",
      "[CV] C=1, fit_intercept=False ........................................\n",
      "[CV] ......................... C=1, fit_intercept=False, total= 1.1min\n",
      "[CV] C=1, fit_intercept=False ........................................\n",
      "[CV] ......................... C=1, fit_intercept=False, total= 1.1min\n",
      "[CV] C=1, fit_intercept=False ........................................\n",
      "[CV] ......................... C=1, fit_intercept=False, total= 1.1min\n",
      "[CV] C=10, fit_intercept=True ........................................\n",
      "[CV] ......................... C=10, fit_intercept=True, total=  48.2s\n",
      "[CV] C=10, fit_intercept=True ........................................\n",
      "[CV] ......................... C=10, fit_intercept=True, total= 1.1min\n",
      "[CV] C=10, fit_intercept=True ........................................\n",
      "[CV] ......................... C=10, fit_intercept=True, total= 1.1min\n",
      "[CV] C=10, fit_intercept=True ........................................\n",
      "[CV] ......................... C=10, fit_intercept=True, total= 1.1min\n",
      "[CV] C=10, fit_intercept=True ........................................\n",
      "[CV] ......................... C=10, fit_intercept=True, total= 1.1min\n",
      "[CV] C=10, fit_intercept=False .......................................\n",
      "[CV] ........................ C=10, fit_intercept=False, total=  49.6s\n",
      "[CV] C=10, fit_intercept=False .......................................\n",
      "[CV] ........................ C=10, fit_intercept=False, total= 1.1min\n",
      "[CV] C=10, fit_intercept=False .......................................\n",
      "[CV] ........................ C=10, fit_intercept=False, total= 1.1min\n",
      "[CV] C=10, fit_intercept=False .......................................\n",
      "[CV] ........................ C=10, fit_intercept=False, total= 1.1min\n",
      "[CV] C=10, fit_intercept=False .......................................\n",
      "[CV] ........................ C=10, fit_intercept=False, total= 1.1min\n",
      "[CV] C=25, fit_intercept=True ........................................\n",
      "[CV] ......................... C=25, fit_intercept=True, total=  48.0s\n",
      "[CV] C=25, fit_intercept=True ........................................\n",
      "[CV] ......................... C=25, fit_intercept=True, total= 1.1min\n",
      "[CV] C=25, fit_intercept=True ........................................\n",
      "[CV] ......................... C=25, fit_intercept=True, total= 1.1min\n",
      "[CV] C=25, fit_intercept=True ........................................\n",
      "[CV] ......................... C=25, fit_intercept=True, total= 1.1min\n",
      "[CV] C=25, fit_intercept=True ........................................\n",
      "[CV] ......................... C=25, fit_intercept=True, total= 1.1min\n",
      "[CV] C=25, fit_intercept=False .......................................\n",
      "[CV] ........................ C=25, fit_intercept=False, total=  49.9s\n",
      "[CV] C=25, fit_intercept=False .......................................\n",
      "[CV] ........................ C=25, fit_intercept=False, total= 1.1min\n",
      "[CV] C=25, fit_intercept=False .......................................\n",
      "[CV] ........................ C=25, fit_intercept=False, total= 1.1min\n",
      "[CV] C=25, fit_intercept=False .......................................\n",
      "[CV] ........................ C=25, fit_intercept=False, total= 1.1min\n",
      "[CV] C=25, fit_intercept=False .......................................\n",
      "[CV] ........................ C=25, fit_intercept=False, total= 1.1min\n"
     ]
    },
    {
     "name": "stderr",
     "output_type": "stream",
     "text": [
      "[Parallel(n_jobs=1)]: Done  50 out of  50 | elapsed: 46.6min finished\n"
     ]
    },
    {
     "name": "stdout",
     "output_type": "stream",
     "text": [
      "Baseline testing score was: 0.000000   0.950340\n",
      "1.000000   0.049660\n",
      "Name: 0, dtype: float64\n",
      "Fitting 5 folds for each of 10 candidates, totalling 50 fits\n",
      "[CV] C=0.001, fit_intercept=True .....................................\n"
     ]
    },
    {
     "name": "stderr",
     "output_type": "stream",
     "text": [
      "[Parallel(n_jobs=1)]: Using backend SequentialBackend with 1 concurrent workers.\n"
     ]
    },
    {
     "name": "stdout",
     "output_type": "stream",
     "text": [
      "[CV] ...................... C=0.001, fit_intercept=True, total=  21.8s\n",
      "[CV] C=0.001, fit_intercept=True .....................................\n"
     ]
    },
    {
     "name": "stderr",
     "output_type": "stream",
     "text": [
      "[Parallel(n_jobs=1)]: Done   1 out of   1 | elapsed:   21.8s remaining:    0.0s\n"
     ]
    },
    {
     "name": "stdout",
     "output_type": "stream",
     "text": [
      "[CV] ...................... C=0.001, fit_intercept=True, total=  21.9s\n",
      "[CV] C=0.001, fit_intercept=True .....................................\n",
      "[CV] ...................... C=0.001, fit_intercept=True, total=  19.6s\n",
      "[CV] C=0.001, fit_intercept=True .....................................\n",
      "[CV] ...................... C=0.001, fit_intercept=True, total=  22.0s\n",
      "[CV] C=0.001, fit_intercept=True .....................................\n",
      "[CV] ...................... C=0.001, fit_intercept=True, total=  21.5s\n",
      "[CV] C=0.001, fit_intercept=False ....................................\n",
      "[CV] ..................... C=0.001, fit_intercept=False, total=  22.4s\n",
      "[CV] C=0.001, fit_intercept=False ....................................\n",
      "[CV] ..................... C=0.001, fit_intercept=False, total=  22.4s\n",
      "[CV] C=0.001, fit_intercept=False ....................................\n",
      "[CV] ..................... C=0.001, fit_intercept=False, total=  20.3s\n",
      "[CV] C=0.001, fit_intercept=False ....................................\n",
      "[CV] ..................... C=0.001, fit_intercept=False, total=  22.7s\n",
      "[CV] C=0.001, fit_intercept=False ....................................\n",
      "[CV] ..................... C=0.001, fit_intercept=False, total=  22.2s\n",
      "[CV] C=0.01, fit_intercept=True ......................................\n",
      "[CV] ....................... C=0.01, fit_intercept=True, total=  37.1s\n",
      "[CV] C=0.01, fit_intercept=True ......................................\n",
      "[CV] ....................... C=0.01, fit_intercept=True, total=  36.6s\n",
      "[CV] C=0.01, fit_intercept=True ......................................\n",
      "[CV] ....................... C=0.01, fit_intercept=True, total=  34.7s\n",
      "[CV] C=0.01, fit_intercept=True ......................................\n",
      "[CV] ....................... C=0.01, fit_intercept=True, total=  37.1s\n",
      "[CV] C=0.01, fit_intercept=True ......................................\n",
      "[CV] ....................... C=0.01, fit_intercept=True, total=  36.6s\n",
      "[CV] C=0.01, fit_intercept=False .....................................\n",
      "[CV] ...................... C=0.01, fit_intercept=False, total=  38.1s\n",
      "[CV] C=0.01, fit_intercept=False .....................................\n",
      "[CV] ...................... C=0.01, fit_intercept=False, total=  37.7s\n",
      "[CV] C=0.01, fit_intercept=False .....................................\n",
      "[CV] ...................... C=0.01, fit_intercept=False, total=  35.7s\n",
      "[CV] C=0.01, fit_intercept=False .....................................\n",
      "[CV] ...................... C=0.01, fit_intercept=False, total=  38.4s\n",
      "[CV] C=0.01, fit_intercept=False .....................................\n",
      "[CV] ...................... C=0.01, fit_intercept=False, total=  37.8s\n",
      "[CV] C=1, fit_intercept=True .........................................\n",
      "[CV] .......................... C=1, fit_intercept=True, total=  41.4s\n",
      "[CV] C=1, fit_intercept=True .........................................\n",
      "[CV] .......................... C=1, fit_intercept=True, total=  40.6s\n",
      "[CV] C=1, fit_intercept=True .........................................\n",
      "[CV] .......................... C=1, fit_intercept=True, total=  38.9s\n",
      "[CV] C=1, fit_intercept=True .........................................\n",
      "[CV] .......................... C=1, fit_intercept=True, total=  41.1s\n",
      "[CV] C=1, fit_intercept=True .........................................\n",
      "[CV] .......................... C=1, fit_intercept=True, total=  40.4s\n",
      "[CV] C=1, fit_intercept=False ........................................\n",
      "[CV] ......................... C=1, fit_intercept=False, total=  42.3s\n",
      "[CV] C=1, fit_intercept=False ........................................\n",
      "[CV] ......................... C=1, fit_intercept=False, total=  42.0s\n",
      "[CV] C=1, fit_intercept=False ........................................\n",
      "[CV] ......................... C=1, fit_intercept=False, total=  40.3s\n",
      "[CV] C=1, fit_intercept=False ........................................\n",
      "[CV] ......................... C=1, fit_intercept=False, total=  42.5s\n",
      "[CV] C=1, fit_intercept=False ........................................\n",
      "[CV] ......................... C=1, fit_intercept=False, total=  41.9s\n",
      "[CV] C=10, fit_intercept=True ........................................\n",
      "[CV] ......................... C=10, fit_intercept=True, total=  41.3s\n",
      "[CV] C=10, fit_intercept=True ........................................\n",
      "[CV] ......................... C=10, fit_intercept=True, total=  40.7s\n",
      "[CV] C=10, fit_intercept=True ........................................\n",
      "[CV] ......................... C=10, fit_intercept=True, total=  39.0s\n",
      "[CV] C=10, fit_intercept=True ........................................\n",
      "[CV] ......................... C=10, fit_intercept=True, total=  41.6s\n",
      "[CV] C=10, fit_intercept=True ........................................\n",
      "[CV] ......................... C=10, fit_intercept=True, total=  40.9s\n",
      "[CV] C=10, fit_intercept=False .......................................\n",
      "[CV] ........................ C=10, fit_intercept=False, total=  42.5s\n",
      "[CV] C=10, fit_intercept=False .......................................\n",
      "[CV] ........................ C=10, fit_intercept=False, total=  41.7s\n",
      "[CV] C=10, fit_intercept=False .......................................\n",
      "[CV] ........................ C=10, fit_intercept=False, total=  40.1s\n",
      "[CV] C=10, fit_intercept=False .......................................\n",
      "[CV] ........................ C=10, fit_intercept=False, total=  42.9s\n",
      "[CV] C=10, fit_intercept=False .......................................\n",
      "[CV] ........................ C=10, fit_intercept=False, total=  41.8s\n",
      "[CV] C=25, fit_intercept=True ........................................\n",
      "[CV] ......................... C=25, fit_intercept=True, total=  41.1s\n",
      "[CV] C=25, fit_intercept=True ........................................\n",
      "[CV] ......................... C=25, fit_intercept=True, total=  40.7s\n",
      "[CV] C=25, fit_intercept=True ........................................\n",
      "[CV] ......................... C=25, fit_intercept=True, total=  38.8s\n",
      "[CV] C=25, fit_intercept=True ........................................\n",
      "[CV] ......................... C=25, fit_intercept=True, total=  41.1s\n",
      "[CV] C=25, fit_intercept=True ........................................\n",
      "[CV] ......................... C=25, fit_intercept=True, total=  40.5s\n",
      "[CV] C=25, fit_intercept=False .......................................\n",
      "[CV] ........................ C=25, fit_intercept=False, total=  42.5s\n",
      "[CV] C=25, fit_intercept=False .......................................\n",
      "[CV] ........................ C=25, fit_intercept=False, total=  41.7s\n",
      "[CV] C=25, fit_intercept=False .......................................\n",
      "[CV] ........................ C=25, fit_intercept=False, total=  40.1s\n",
      "[CV] C=25, fit_intercept=False .......................................\n",
      "[CV] ........................ C=25, fit_intercept=False, total=  42.6s\n",
      "[CV] C=25, fit_intercept=False .......................................\n",
      "[CV] ........................ C=25, fit_intercept=False, total=  41.9s\n"
     ]
    },
    {
     "name": "stderr",
     "output_type": "stream",
     "text": [
      "[Parallel(n_jobs=1)]: Done  50 out of  50 | elapsed: 30.4min finished\n"
     ]
    },
    {
     "name": "stdout",
     "output_type": "stream",
     "text": [
      "Fitting 5 folds for each of 10 candidates, totalling 50 fits\n",
      "[CV] C=0.001, fit_intercept=True .....................................\n"
     ]
    },
    {
     "name": "stderr",
     "output_type": "stream",
     "text": [
      "[Parallel(n_jobs=1)]: Using backend SequentialBackend with 1 concurrent workers.\n"
     ]
    },
    {
     "name": "stdout",
     "output_type": "stream",
     "text": [
      "[CV] ...................... C=0.001, fit_intercept=True, total=  22.1s\n",
      "[CV] C=0.001, fit_intercept=True .....................................\n"
     ]
    },
    {
     "name": "stderr",
     "output_type": "stream",
     "text": [
      "[Parallel(n_jobs=1)]: Done   1 out of   1 | elapsed:   22.1s remaining:    0.0s\n"
     ]
    },
    {
     "name": "stdout",
     "output_type": "stream",
     "text": [
      "[CV] ...................... C=0.001, fit_intercept=True, total=  32.7s\n",
      "[CV] C=0.001, fit_intercept=True .....................................\n",
      "[CV] ...................... C=0.001, fit_intercept=True, total=  33.2s\n",
      "[CV] C=0.001, fit_intercept=True .....................................\n",
      "[CV] ...................... C=0.001, fit_intercept=True, total=  33.2s\n",
      "[CV] C=0.001, fit_intercept=True .....................................\n",
      "[CV] ...................... C=0.001, fit_intercept=True, total=  33.0s\n",
      "[CV] C=0.001, fit_intercept=False ....................................\n",
      "[CV] ..................... C=0.001, fit_intercept=False, total=  22.9s\n",
      "[CV] C=0.001, fit_intercept=False ....................................\n",
      "[CV] ..................... C=0.001, fit_intercept=False, total=  33.6s\n",
      "[CV] C=0.001, fit_intercept=False ....................................\n",
      "[CV] ..................... C=0.001, fit_intercept=False, total=  33.6s\n",
      "[CV] C=0.001, fit_intercept=False ....................................\n",
      "[CV] ..................... C=0.001, fit_intercept=False, total=  33.6s\n",
      "[CV] C=0.001, fit_intercept=False ....................................\n",
      "[CV] ..................... C=0.001, fit_intercept=False, total=  33.4s\n",
      "[CV] C=0.01, fit_intercept=True ......................................\n",
      "[CV] ....................... C=0.01, fit_intercept=True, total=  37.8s\n",
      "[CV] C=0.01, fit_intercept=True ......................................\n",
      "[CV] ....................... C=0.01, fit_intercept=True, total=  49.7s\n",
      "[CV] C=0.01, fit_intercept=True ......................................\n",
      "[CV] ....................... C=0.01, fit_intercept=True, total=  50.8s\n",
      "[CV] C=0.01, fit_intercept=True ......................................\n",
      "[CV] ....................... C=0.01, fit_intercept=True, total=  50.5s\n",
      "[CV] C=0.01, fit_intercept=True ......................................\n",
      "[CV] ....................... C=0.01, fit_intercept=True, total=  49.9s\n",
      "[CV] C=0.01, fit_intercept=False .....................................\n",
      "[CV] ...................... C=0.01, fit_intercept=False, total=  38.6s\n",
      "[CV] C=0.01, fit_intercept=False .....................................\n",
      "[CV] ...................... C=0.01, fit_intercept=False, total=  50.2s\n",
      "[CV] C=0.01, fit_intercept=False .....................................\n",
      "[CV] ...................... C=0.01, fit_intercept=False, total=  51.1s\n",
      "[CV] C=0.01, fit_intercept=False .....................................\n",
      "[CV] ...................... C=0.01, fit_intercept=False, total=  51.1s\n",
      "[CV] C=0.01, fit_intercept=False .....................................\n",
      "[CV] ...................... C=0.01, fit_intercept=False, total=  50.7s\n",
      "[CV] C=1, fit_intercept=True .........................................\n",
      "[CV] .......................... C=1, fit_intercept=True, total=  42.2s\n",
      "[CV] C=1, fit_intercept=True .........................................\n",
      "[CV] .......................... C=1, fit_intercept=True, total=  53.6s\n",
      "[CV] C=1, fit_intercept=True .........................................\n",
      "[CV] .......................... C=1, fit_intercept=True, total=  55.1s\n",
      "[CV] C=1, fit_intercept=True .........................................\n",
      "[CV] .......................... C=1, fit_intercept=True, total=  54.5s\n",
      "[CV] C=1, fit_intercept=True .........................................\n",
      "[CV] .......................... C=1, fit_intercept=True, total=  53.7s\n",
      "[CV] C=1, fit_intercept=False ........................................\n",
      "[CV] ......................... C=1, fit_intercept=False, total=  43.0s\n",
      "[CV] C=1, fit_intercept=False ........................................\n",
      "[CV] ......................... C=1, fit_intercept=False, total=  54.0s\n",
      "[CV] C=1, fit_intercept=False ........................................\n",
      "[CV] ......................... C=1, fit_intercept=False, total=  55.9s\n",
      "[CV] C=1, fit_intercept=False ........................................\n",
      "[CV] ......................... C=1, fit_intercept=False, total=  54.9s\n",
      "[CV] C=1, fit_intercept=False ........................................\n",
      "[CV] ......................... C=1, fit_intercept=False, total=  54.5s\n",
      "[CV] C=10, fit_intercept=True ........................................\n",
      "[CV] ......................... C=10, fit_intercept=True, total=  42.2s\n",
      "[CV] C=10, fit_intercept=True ........................................\n",
      "[CV] ......................... C=10, fit_intercept=True, total=  53.0s\n",
      "[CV] C=10, fit_intercept=True ........................................\n",
      "[CV] ......................... C=10, fit_intercept=True, total=  55.1s\n",
      "[CV] C=10, fit_intercept=True ........................................\n",
      "[CV] ......................... C=10, fit_intercept=True, total=  54.6s\n",
      "[CV] C=10, fit_intercept=True ........................................\n",
      "[CV] ......................... C=10, fit_intercept=True, total=  53.6s\n",
      "[CV] C=10, fit_intercept=False .......................................\n",
      "[CV] ........................ C=10, fit_intercept=False, total=  42.9s\n",
      "[CV] C=10, fit_intercept=False .......................................\n",
      "[CV] ........................ C=10, fit_intercept=False, total=  53.5s\n",
      "[CV] C=10, fit_intercept=False .......................................\n",
      "[CV] ........................ C=10, fit_intercept=False, total=  55.0s\n",
      "[CV] C=10, fit_intercept=False .......................................\n",
      "[CV] ........................ C=10, fit_intercept=False, total=  54.6s\n",
      "[CV] C=10, fit_intercept=False .......................................\n",
      "[CV] ........................ C=10, fit_intercept=False, total=  54.2s\n",
      "[CV] C=25, fit_intercept=True ........................................\n",
      "[CV] ......................... C=25, fit_intercept=True, total=  42.1s\n",
      "[CV] C=25, fit_intercept=True ........................................\n",
      "[CV] ......................... C=25, fit_intercept=True, total=  52.9s\n",
      "[CV] C=25, fit_intercept=True ........................................\n",
      "[CV] ......................... C=25, fit_intercept=True, total=  54.5s\n",
      "[CV] C=25, fit_intercept=True ........................................\n",
      "[CV] ......................... C=25, fit_intercept=True, total=  53.9s\n",
      "[CV] C=25, fit_intercept=True ........................................\n",
      "[CV] ......................... C=25, fit_intercept=True, total=  53.9s\n",
      "[CV] C=25, fit_intercept=False .......................................\n",
      "[CV] ........................ C=25, fit_intercept=False, total=  42.9s\n",
      "[CV] C=25, fit_intercept=False .......................................\n",
      "[CV] ........................ C=25, fit_intercept=False, total=  54.3s\n",
      "[CV] C=25, fit_intercept=False .......................................\n",
      "[CV] ........................ C=25, fit_intercept=False, total=  54.9s\n",
      "[CV] C=25, fit_intercept=False .......................................\n",
      "[CV] ........................ C=25, fit_intercept=False, total=  55.0s\n",
      "[CV] C=25, fit_intercept=False .......................................\n",
      "[CV] ........................ C=25, fit_intercept=False, total=  54.8s\n"
     ]
    },
    {
     "name": "stderr",
     "output_type": "stream",
     "text": [
      "[Parallel(n_jobs=1)]: Done  50 out of  50 | elapsed: 39.2min finished\n"
     ]
    },
    {
     "name": "stdout",
     "output_type": "stream",
     "text": [
      "Fitting 5 folds for each of 10 candidates, totalling 50 fits\n",
      "[CV] C=0.001, fit_intercept=True .....................................\n"
     ]
    },
    {
     "name": "stderr",
     "output_type": "stream",
     "text": [
      "[Parallel(n_jobs=1)]: Using backend SequentialBackend with 1 concurrent workers.\n"
     ]
    },
    {
     "name": "stdout",
     "output_type": "stream",
     "text": [
      "[CV] ...................... C=0.001, fit_intercept=True, total=  19.8s\n",
      "[CV] C=0.001, fit_intercept=True .....................................\n"
     ]
    },
    {
     "name": "stderr",
     "output_type": "stream",
     "text": [
      "[Parallel(n_jobs=1)]: Done   1 out of   1 | elapsed:   19.9s remaining:    0.0s\n"
     ]
    },
    {
     "name": "stdout",
     "output_type": "stream",
     "text": [
      "[CV] ...................... C=0.001, fit_intercept=True, total=  33.0s\n",
      "[CV] C=0.001, fit_intercept=True .....................................\n",
      "[CV] ...................... C=0.001, fit_intercept=True, total=  32.9s\n",
      "[CV] C=0.001, fit_intercept=True .....................................\n",
      "[CV] ...................... C=0.001, fit_intercept=True, total=  33.1s\n",
      "[CV] C=0.001, fit_intercept=True .....................................\n",
      "[CV] ...................... C=0.001, fit_intercept=True, total=  32.5s\n",
      "[CV] C=0.001, fit_intercept=False ....................................\n",
      "[CV] ..................... C=0.001, fit_intercept=False, total=  20.6s\n",
      "[CV] C=0.001, fit_intercept=False ....................................\n",
      "[CV] ..................... C=0.001, fit_intercept=False, total=  33.0s\n",
      "[CV] C=0.001, fit_intercept=False ....................................\n",
      "[CV] ..................... C=0.001, fit_intercept=False, total=  32.9s\n",
      "[CV] C=0.001, fit_intercept=False ....................................\n",
      "[CV] ..................... C=0.001, fit_intercept=False, total=  33.7s\n",
      "[CV] C=0.001, fit_intercept=False ....................................\n",
      "[CV] ..................... C=0.001, fit_intercept=False, total=  33.1s\n",
      "[CV] C=0.01, fit_intercept=True ......................................\n",
      "[CV] ....................... C=0.01, fit_intercept=True, total=  34.4s\n",
      "[CV] C=0.01, fit_intercept=True ......................................\n",
      "[CV] ....................... C=0.01, fit_intercept=True, total=  49.9s\n",
      "[CV] C=0.01, fit_intercept=True ......................................\n",
      "[CV] ....................... C=0.01, fit_intercept=True, total=  49.5s\n",
      "[CV] C=0.01, fit_intercept=True ......................................\n",
      "[CV] ....................... C=0.01, fit_intercept=True, total=  49.8s\n",
      "[CV] C=0.01, fit_intercept=True ......................................\n",
      "[CV] ....................... C=0.01, fit_intercept=True, total=  49.3s\n",
      "[CV] C=0.01, fit_intercept=False .....................................\n",
      "[CV] ...................... C=0.01, fit_intercept=False, total=  35.2s\n",
      "[CV] C=0.01, fit_intercept=False .....................................\n",
      "[CV] ...................... C=0.01, fit_intercept=False, total=  50.0s\n",
      "[CV] C=0.01, fit_intercept=False .....................................\n",
      "[CV] ...................... C=0.01, fit_intercept=False, total=  49.7s\n",
      "[CV] C=0.01, fit_intercept=False .....................................\n",
      "[CV] ...................... C=0.01, fit_intercept=False, total=  51.0s\n",
      "[CV] C=0.01, fit_intercept=False .....................................\n",
      "[CV] ...................... C=0.01, fit_intercept=False, total=  49.8s\n",
      "[CV] C=1, fit_intercept=True .........................................\n",
      "[CV] .......................... C=1, fit_intercept=True, total=  38.1s\n",
      "[CV] C=1, fit_intercept=True .........................................\n",
      "[CV] .......................... C=1, fit_intercept=True, total=  52.9s\n",
      "[CV] C=1, fit_intercept=True .........................................\n",
      "[CV] .......................... C=1, fit_intercept=True, total=  52.9s\n",
      "[CV] C=1, fit_intercept=True .........................................\n",
      "[CV] .......................... C=1, fit_intercept=True, total=  53.5s\n",
      "[CV] C=1, fit_intercept=True .........................................\n",
      "[CV] .......................... C=1, fit_intercept=True, total=  52.8s\n",
      "[CV] C=1, fit_intercept=False ........................................\n",
      "[CV] ......................... C=1, fit_intercept=False, total=  39.6s\n",
      "[CV] C=1, fit_intercept=False ........................................\n",
      "[CV] ......................... C=1, fit_intercept=False, total=  54.1s\n",
      "[CV] C=1, fit_intercept=False ........................................\n",
      "[CV] ......................... C=1, fit_intercept=False, total=  53.8s\n",
      "[CV] C=1, fit_intercept=False ........................................\n",
      "[CV] ......................... C=1, fit_intercept=False, total=  54.3s\n",
      "[CV] C=1, fit_intercept=False ........................................\n",
      "[CV] ......................... C=1, fit_intercept=False, total=  53.3s\n",
      "[CV] C=10, fit_intercept=True ........................................\n",
      "[CV] ......................... C=10, fit_intercept=True, total=  38.2s\n",
      "[CV] C=10, fit_intercept=True ........................................\n",
      "[CV] ......................... C=10, fit_intercept=True, total=  53.1s\n",
      "[CV] C=10, fit_intercept=True ........................................\n",
      "[CV] ......................... C=10, fit_intercept=True, total=  53.4s\n",
      "[CV] C=10, fit_intercept=True ........................................\n",
      "[CV] ......................... C=10, fit_intercept=True, total=  53.8s\n",
      "[CV] C=10, fit_intercept=True ........................................\n",
      "[CV] ......................... C=10, fit_intercept=True, total=  52.7s\n",
      "[CV] C=10, fit_intercept=False .......................................\n",
      "[CV] ........................ C=10, fit_intercept=False, total=  39.9s\n",
      "[CV] C=10, fit_intercept=False .......................................\n",
      "[CV] ........................ C=10, fit_intercept=False, total=  53.6s\n",
      "[CV] C=10, fit_intercept=False .......................................\n",
      "[CV] ........................ C=10, fit_intercept=False, total=  53.7s\n",
      "[CV] C=10, fit_intercept=False .......................................\n",
      "[CV] ........................ C=10, fit_intercept=False, total=  54.0s\n",
      "[CV] C=10, fit_intercept=False .......................................\n",
      "[CV] ........................ C=10, fit_intercept=False, total=  53.5s\n",
      "[CV] C=25, fit_intercept=True ........................................\n",
      "[CV] ......................... C=25, fit_intercept=True, total=  38.0s\n",
      "[CV] C=25, fit_intercept=True ........................................\n",
      "[CV] ......................... C=25, fit_intercept=True, total=  53.0s\n",
      "[CV] C=25, fit_intercept=True ........................................\n",
      "[CV] ......................... C=25, fit_intercept=True, total=  53.2s\n",
      "[CV] C=25, fit_intercept=True ........................................\n",
      "[CV] ......................... C=25, fit_intercept=True, total=  53.6s\n",
      "[CV] C=25, fit_intercept=True ........................................\n",
      "[CV] ......................... C=25, fit_intercept=True, total=  52.8s\n",
      "[CV] C=25, fit_intercept=False .......................................\n",
      "[CV] ........................ C=25, fit_intercept=False, total=  39.9s\n",
      "[CV] C=25, fit_intercept=False .......................................\n",
      "[CV] ........................ C=25, fit_intercept=False, total=  53.8s\n",
      "[CV] C=25, fit_intercept=False .......................................\n",
      "[CV] ........................ C=25, fit_intercept=False, total=  54.3s\n",
      "[CV] C=25, fit_intercept=False .......................................\n",
      "[CV] ........................ C=25, fit_intercept=False, total=  54.6s\n",
      "[CV] C=25, fit_intercept=False .......................................\n",
      "[CV] ........................ C=25, fit_intercept=False, total=  53.5s\n"
     ]
    },
    {
     "name": "stderr",
     "output_type": "stream",
     "text": [
      "[Parallel(n_jobs=1)]: Done  50 out of  50 | elapsed: 38.2min finished\n"
     ]
    },
    {
     "name": "stdout",
     "output_type": "stream",
     "text": [
      "Fitting 5 folds for each of 10 candidates, totalling 50 fits\n",
      "[CV] C=0.001, fit_intercept=True .....................................\n"
     ]
    },
    {
     "name": "stderr",
     "output_type": "stream",
     "text": [
      "[Parallel(n_jobs=1)]: Using backend SequentialBackend with 1 concurrent workers.\n"
     ]
    },
    {
     "name": "stdout",
     "output_type": "stream",
     "text": [
      "[CV] ...................... C=0.001, fit_intercept=True, total=  21.9s\n",
      "[CV] C=0.001, fit_intercept=True .....................................\n"
     ]
    },
    {
     "name": "stderr",
     "output_type": "stream",
     "text": [
      "[Parallel(n_jobs=1)]: Done   1 out of   1 | elapsed:   21.9s remaining:    0.0s\n"
     ]
    },
    {
     "name": "stdout",
     "output_type": "stream",
     "text": [
      "[CV] ...................... C=0.001, fit_intercept=True, total=  32.8s\n",
      "[CV] C=0.001, fit_intercept=True .....................................\n",
      "[CV] ...................... C=0.001, fit_intercept=True, total=  32.7s\n",
      "[CV] C=0.001, fit_intercept=True .....................................\n",
      "[CV] ...................... C=0.001, fit_intercept=True, total=  32.9s\n",
      "[CV] C=0.001, fit_intercept=True .....................................\n",
      "[CV] ...................... C=0.001, fit_intercept=True, total=  32.4s\n",
      "[CV] C=0.001, fit_intercept=False ....................................\n",
      "[CV] ..................... C=0.001, fit_intercept=False, total=  22.5s\n",
      "[CV] C=0.001, fit_intercept=False ....................................\n",
      "[CV] ..................... C=0.001, fit_intercept=False, total=  33.2s\n",
      "[CV] C=0.001, fit_intercept=False ....................................\n",
      "[CV] ..................... C=0.001, fit_intercept=False, total=  33.3s\n",
      "[CV] C=0.001, fit_intercept=False ....................................\n",
      "[CV] ..................... C=0.001, fit_intercept=False, total=  33.6s\n",
      "[CV] C=0.001, fit_intercept=False ....................................\n",
      "[CV] ..................... C=0.001, fit_intercept=False, total=  33.1s\n",
      "[CV] C=0.01, fit_intercept=True ......................................\n",
      "[CV] ....................... C=0.01, fit_intercept=True, total=  37.2s\n",
      "[CV] C=0.01, fit_intercept=True ......................................\n",
      "[CV] ....................... C=0.01, fit_intercept=True, total=  49.8s\n",
      "[CV] C=0.01, fit_intercept=True ......................................\n",
      "[CV] ....................... C=0.01, fit_intercept=True, total=  49.2s\n",
      "[CV] C=0.01, fit_intercept=True ......................................\n",
      "[CV] ....................... C=0.01, fit_intercept=True, total=  50.3s\n",
      "[CV] C=0.01, fit_intercept=True ......................................\n",
      "[CV] ....................... C=0.01, fit_intercept=True, total=  49.1s\n",
      "[CV] C=0.01, fit_intercept=False .....................................\n",
      "[CV] ...................... C=0.01, fit_intercept=False, total=  38.1s\n",
      "[CV] C=0.01, fit_intercept=False .....................................\n",
      "[CV] ...................... C=0.01, fit_intercept=False, total=  50.4s\n",
      "[CV] C=0.01, fit_intercept=False .....................................\n",
      "[CV] ...................... C=0.01, fit_intercept=False, total=  49.9s\n",
      "[CV] C=0.01, fit_intercept=False .....................................\n",
      "[CV] ...................... C=0.01, fit_intercept=False, total=  50.6s\n",
      "[CV] C=0.01, fit_intercept=False .....................................\n",
      "[CV] ...................... C=0.01, fit_intercept=False, total=  49.7s\n",
      "[CV] C=1, fit_intercept=True .........................................\n",
      "[CV] .......................... C=1, fit_intercept=True, total=  41.5s\n",
      "[CV] C=1, fit_intercept=True .........................................\n",
      "[CV] .......................... C=1, fit_intercept=True, total=  53.3s\n",
      "[CV] C=1, fit_intercept=True .........................................\n",
      "[CV] .......................... C=1, fit_intercept=True, total=  52.8s\n",
      "[CV] C=1, fit_intercept=True .........................................\n",
      "[CV] .......................... C=1, fit_intercept=True, total=  53.5s\n",
      "[CV] C=1, fit_intercept=True .........................................\n",
      "[CV] .......................... C=1, fit_intercept=True, total=  52.5s\n",
      "[CV] C=1, fit_intercept=False ........................................\n",
      "[CV] ......................... C=1, fit_intercept=False, total=  42.5s\n",
      "[CV] C=1, fit_intercept=False ........................................\n",
      "[CV] ......................... C=1, fit_intercept=False, total=  54.0s\n",
      "[CV] C=1, fit_intercept=False ........................................\n",
      "[CV] ......................... C=1, fit_intercept=False, total=  53.8s\n",
      "[CV] C=1, fit_intercept=False ........................................\n",
      "[CV] ......................... C=1, fit_intercept=False, total=  54.8s\n",
      "[CV] C=1, fit_intercept=False ........................................\n",
      "[CV] ......................... C=1, fit_intercept=False, total=  53.5s\n",
      "[CV] C=10, fit_intercept=True ........................................\n",
      "[CV] ......................... C=10, fit_intercept=True, total=  41.5s\n",
      "[CV] C=10, fit_intercept=True ........................................\n",
      "[CV] ......................... C=10, fit_intercept=True, total=  53.6s\n",
      "[CV] C=10, fit_intercept=True ........................................\n",
      "[CV] ......................... C=10, fit_intercept=True, total=  53.3s\n",
      "[CV] C=10, fit_intercept=True ........................................\n",
      "[CV] ......................... C=10, fit_intercept=True, total=  54.4s\n",
      "[CV] C=10, fit_intercept=True ........................................\n",
      "[CV] ......................... C=10, fit_intercept=True, total=  53.4s\n",
      "[CV] C=10, fit_intercept=False .......................................\n",
      "[CV] ........................ C=10, fit_intercept=False, total=  43.2s\n",
      "[CV] C=10, fit_intercept=False .......................................\n",
      "[CV] ........................ C=10, fit_intercept=False, total=  54.3s\n",
      "[CV] C=10, fit_intercept=False .......................................\n",
      "[CV] ........................ C=10, fit_intercept=False, total=  53.4s\n",
      "[CV] C=10, fit_intercept=False .......................................\n",
      "[CV] ........................ C=10, fit_intercept=False, total=  54.8s\n",
      "[CV] C=10, fit_intercept=False .......................................\n",
      "[CV] ........................ C=10, fit_intercept=False, total=  53.2s\n",
      "[CV] C=25, fit_intercept=True ........................................\n",
      "[CV] ......................... C=25, fit_intercept=True, total=  41.9s\n",
      "[CV] C=25, fit_intercept=True ........................................\n",
      "[CV] ......................... C=25, fit_intercept=True, total=  53.6s\n",
      "[CV] C=25, fit_intercept=True ........................................\n",
      "[CV] ......................... C=25, fit_intercept=True, total=  53.2s\n",
      "[CV] C=25, fit_intercept=True ........................................\n",
      "[CV] ......................... C=25, fit_intercept=True, total=  54.0s\n",
      "[CV] C=25, fit_intercept=True ........................................\n",
      "[CV] ......................... C=25, fit_intercept=True, total=  52.9s\n",
      "[CV] C=25, fit_intercept=False .......................................\n",
      "[CV] ........................ C=25, fit_intercept=False, total=  42.6s\n",
      "[CV] C=25, fit_intercept=False .......................................\n",
      "[CV] ........................ C=25, fit_intercept=False, total=  54.5s\n",
      "[CV] C=25, fit_intercept=False .......................................\n",
      "[CV] ........................ C=25, fit_intercept=False, total=  53.9s\n",
      "[CV] C=25, fit_intercept=False .......................................\n",
      "[CV] ........................ C=25, fit_intercept=False, total=  55.0s\n",
      "[CV] C=25, fit_intercept=False .......................................\n",
      "[CV] ........................ C=25, fit_intercept=False, total=  53.4s\n"
     ]
    },
    {
     "name": "stderr",
     "output_type": "stream",
     "text": [
      "[Parallel(n_jobs=1)]: Done  50 out of  50 | elapsed: 38.8min finished\n"
     ]
    },
    {
     "name": "stdout",
     "output_type": "stream",
     "text": [
      "Fitting 5 folds for each of 10 candidates, totalling 50 fits\n",
      "[CV] C=0.001, fit_intercept=True .....................................\n"
     ]
    },
    {
     "name": "stderr",
     "output_type": "stream",
     "text": [
      "[Parallel(n_jobs=1)]: Using backend SequentialBackend with 1 concurrent workers.\n"
     ]
    },
    {
     "name": "stdout",
     "output_type": "stream",
     "text": [
      "[CV] ...................... C=0.001, fit_intercept=True, total=  21.7s\n",
      "[CV] C=0.001, fit_intercept=True .....................................\n"
     ]
    },
    {
     "name": "stderr",
     "output_type": "stream",
     "text": [
      "[Parallel(n_jobs=1)]: Done   1 out of   1 | elapsed:   21.7s remaining:    0.0s\n"
     ]
    },
    {
     "name": "stdout",
     "output_type": "stream",
     "text": [
      "[CV] ...................... C=0.001, fit_intercept=True, total=  32.5s\n",
      "[CV] C=0.001, fit_intercept=True .....................................\n",
      "[CV] ...................... C=0.001, fit_intercept=True, total=  32.6s\n",
      "[CV] C=0.001, fit_intercept=True .....................................\n",
      "[CV] ...................... C=0.001, fit_intercept=True, total=  32.7s\n",
      "[CV] C=0.001, fit_intercept=True .....................................\n",
      "[CV] ...................... C=0.001, fit_intercept=True, total=  32.7s\n",
      "[CV] C=0.001, fit_intercept=False ....................................\n",
      "[CV] ..................... C=0.001, fit_intercept=False, total=  22.4s\n",
      "[CV] C=0.001, fit_intercept=False ....................................\n",
      "[CV] ..................... C=0.001, fit_intercept=False, total=  33.2s\n",
      "[CV] C=0.001, fit_intercept=False ....................................\n",
      "[CV] ..................... C=0.001, fit_intercept=False, total=  33.1s\n",
      "[CV] C=0.001, fit_intercept=False ....................................\n",
      "[CV] ..................... C=0.001, fit_intercept=False, total=  33.3s\n",
      "[CV] C=0.001, fit_intercept=False ....................................\n",
      "[CV] ..................... C=0.001, fit_intercept=False, total=  32.7s\n",
      "[CV] C=0.01, fit_intercept=True ......................................\n",
      "[CV] ....................... C=0.01, fit_intercept=True, total=  36.5s\n",
      "[CV] C=0.01, fit_intercept=True ......................................\n",
      "[CV] ....................... C=0.01, fit_intercept=True, total=  48.9s\n",
      "[CV] C=0.01, fit_intercept=True ......................................\n",
      "[CV] ....................... C=0.01, fit_intercept=True, total=  48.8s\n",
      "[CV] C=0.01, fit_intercept=True ......................................\n",
      "[CV] ....................... C=0.01, fit_intercept=True, total=  49.7s\n",
      "[CV] C=0.01, fit_intercept=True ......................................\n",
      "[CV] ....................... C=0.01, fit_intercept=True, total=  49.1s\n",
      "[CV] C=0.01, fit_intercept=False .....................................\n",
      "[CV] ...................... C=0.01, fit_intercept=False, total=  37.8s\n",
      "[CV] C=0.01, fit_intercept=False .....................................\n",
      "[CV] ...................... C=0.01, fit_intercept=False, total=  49.9s\n",
      "[CV] C=0.01, fit_intercept=False .....................................\n",
      "[CV] ...................... C=0.01, fit_intercept=False, total=  50.0s\n",
      "[CV] C=0.01, fit_intercept=False .....................................\n",
      "[CV] ...................... C=0.01, fit_intercept=False, total=  50.5s\n",
      "[CV] C=0.01, fit_intercept=False .....................................\n",
      "[CV] ...................... C=0.01, fit_intercept=False, total=  49.6s\n",
      "[CV] C=1, fit_intercept=True .........................................\n",
      "[CV] .......................... C=1, fit_intercept=True, total=  40.7s\n",
      "[CV] C=1, fit_intercept=True .........................................\n",
      "[CV] .......................... C=1, fit_intercept=True, total=  53.0s\n",
      "[CV] C=1, fit_intercept=True .........................................\n",
      "[CV] .......................... C=1, fit_intercept=True, total=  52.9s\n",
      "[CV] C=1, fit_intercept=True .........................................\n",
      "[CV] .......................... C=1, fit_intercept=True, total=  53.4s\n",
      "[CV] C=1, fit_intercept=True .........................................\n",
      "[CV] .......................... C=1, fit_intercept=True, total=  52.6s\n",
      "[CV] C=1, fit_intercept=False ........................................\n",
      "[CV] ......................... C=1, fit_intercept=False, total=  42.3s\n",
      "[CV] C=1, fit_intercept=False ........................................\n",
      "[CV] ......................... C=1, fit_intercept=False, total=  53.4s\n",
      "[CV] C=1, fit_intercept=False ........................................\n",
      "[CV] ......................... C=1, fit_intercept=False, total=  53.5s\n",
      "[CV] C=1, fit_intercept=False ........................................\n",
      "[CV] ......................... C=1, fit_intercept=False, total=  53.8s\n",
      "[CV] C=1, fit_intercept=False ........................................\n",
      "[CV] ......................... C=1, fit_intercept=False, total=  53.0s\n",
      "[CV] C=10, fit_intercept=True ........................................\n",
      "[CV] ......................... C=10, fit_intercept=True, total=  41.0s\n",
      "[CV] C=10, fit_intercept=True ........................................\n",
      "[CV] ......................... C=10, fit_intercept=True, total=  52.5s\n",
      "[CV] C=10, fit_intercept=True ........................................\n",
      "[CV] ......................... C=10, fit_intercept=True, total=  52.5s\n",
      "[CV] C=10, fit_intercept=True ........................................\n",
      "[CV] ......................... C=10, fit_intercept=True, total=  53.2s\n",
      "[CV] C=10, fit_intercept=True ........................................\n",
      "[CV] ......................... C=10, fit_intercept=True, total=  52.9s\n",
      "[CV] C=10, fit_intercept=False .......................................\n",
      "[CV] ........................ C=10, fit_intercept=False, total=  42.1s\n",
      "[CV] C=10, fit_intercept=False .......................................\n",
      "[CV] ........................ C=10, fit_intercept=False, total=  53.5s\n",
      "[CV] C=10, fit_intercept=False .......................................\n",
      "[CV] ........................ C=10, fit_intercept=False, total=  53.4s\n",
      "[CV] C=10, fit_intercept=False .......................................\n",
      "[CV] ........................ C=10, fit_intercept=False, total=  54.4s\n",
      "[CV] C=10, fit_intercept=False .......................................\n",
      "[CV] ........................ C=10, fit_intercept=False, total=  53.3s\n",
      "[CV] C=25, fit_intercept=True ........................................\n",
      "[CV] ......................... C=25, fit_intercept=True, total=  40.6s\n",
      "[CV] C=25, fit_intercept=True ........................................\n",
      "[CV] ......................... C=25, fit_intercept=True, total=  52.6s\n",
      "[CV] C=25, fit_intercept=True ........................................\n",
      "[CV] ......................... C=25, fit_intercept=True, total=  52.7s\n",
      "[CV] C=25, fit_intercept=True ........................................\n",
      "[CV] ......................... C=25, fit_intercept=True, total=  53.7s\n",
      "[CV] C=25, fit_intercept=True ........................................\n",
      "[CV] ......................... C=25, fit_intercept=True, total=  52.6s\n",
      "[CV] C=25, fit_intercept=False .......................................\n",
      "[CV] ........................ C=25, fit_intercept=False, total=  41.9s\n",
      "[CV] C=25, fit_intercept=False .......................................\n",
      "[CV] ........................ C=25, fit_intercept=False, total=  53.8s\n",
      "[CV] C=25, fit_intercept=False .......................................\n",
      "[CV] ........................ C=25, fit_intercept=False, total=  53.4s\n",
      "[CV] C=25, fit_intercept=False .......................................\n",
      "[CV] ........................ C=25, fit_intercept=False, total=  54.5s\n",
      "[CV] C=25, fit_intercept=False .......................................\n",
      "[CV] ........................ C=25, fit_intercept=False, total=  53.5s\n"
     ]
    },
    {
     "name": "stderr",
     "output_type": "stream",
     "text": [
      "[Parallel(n_jobs=1)]: Done  50 out of  50 | elapsed: 38.4min finished\n"
     ]
    },
    {
     "name": "stdout",
     "output_type": "stream",
     "text": [
      "Logistic regression best mean cross val score was: 0.5507286402632505\n",
      "Logistic regression best training score was : 0.6025364721485411\n"
     ]
    }
   ],
   "source": [
    "# fit model and assess classification report\n",
    "model_GS.fit(X_train_new,y_train_new)\n",
    "print(\"Baseline testing score was: {}\".format(str(baseline)))\n",
    "print(\"Logistic regression best mean cross val score was: {}\".format(str(cross_val_score(model_GS, X_train_new, y_train_new, cv=5).mean())))\n",
    "print(\"Logistic regression best training score was : {}\".format(str(model_GS.score(X_train_new, y_train_new))))\n",
    "predictions = model_GS.predict(X_test)\n"
   ]
  },
  {
   "cell_type": "code",
   "execution_count": 331,
   "metadata": {
    "ExecuteTime": {
     "end_time": "2020-05-21T03:40:14.223128Z",
     "start_time": "2020-05-21T03:40:12.926289Z"
    }
   },
   "outputs": [
    {
     "name": "stdout",
     "output_type": "stream",
     "text": [
      "              precision    recall  f1-score   support\n",
      "\n",
      "         0.0       0.97      0.85      0.91    532222\n",
      "         1.0       0.16      0.56      0.25     28148\n",
      "\n",
      "    accuracy                           0.83    560370\n",
      "   macro avg       0.57      0.70      0.58    560370\n",
      "weighted avg       0.93      0.83      0.87    560370\n",
      "\n"
     ]
    }
   ],
   "source": [
    "print(classification_report(y_test, predictions))"
   ]
  },
  {
   "cell_type": "code",
   "execution_count": 338,
   "metadata": {
    "ExecuteTime": {
     "end_time": "2020-05-21T07:27:24.340284Z",
     "start_time": "2020-05-21T07:27:23.423201Z"
    }
   },
   "outputs": [
    {
     "data": {
      "image/png": "[encoded data removed]",
      "text/plain": [
       "<Figure size 432x432 with 2 Axes>"
      ]
     },
     "metadata": {
      "needs_background": "light"
     },
     "output_type": "display_data"
    }
   ],
   "source": [
    "fig, ax = plt.subplots(figsize=(6, 6))\n",
    "\n",
    "plot_confusion_matrix(model_GS,X_test, y_test, ax = ax, values_format=\"\")\n",
    "plt.ylim()\n",
    "plt.show()"
   ]
  },
  {
   "cell_type": "code",
   "execution_count": 333,
   "metadata": {
    "ExecuteTime": {
     "end_time": "2020-05-21T06:44:18.463366Z",
     "start_time": "2020-05-21T06:44:17.619118Z"
    }
   },
   "outputs": [
    {
     "data": {
      "text/html": [
       "<div>\n",
       "<style scoped>\n",
       "    .dataframe tbody tr th:only-of-type {\n",
       "        vertical-align: middle;\n",
       "    }\n",
       "\n",
       "    .dataframe tbody tr th {\n",
       "        vertical-align: top;\n",
       "    }\n",
       "\n",
       "    .dataframe thead th {\n",
       "        text-align: right;\n",
       "    }\n",
       "</style>\n",
       "<table border=\"1\" class=\"dataframe\">\n",
       "  <thead>\n",
       "    <tr style=\"text-align: right;\">\n",
       "      <th></th>\n",
       "      <th>coefficients</th>\n",
       "      <th>coef_abs</th>\n",
       "    </tr>\n",
       "  </thead>\n",
       "  <tbody>\n",
       "    <tr>\n",
       "      <th>CircleofTrust</th>\n",
       "      <td>-0.404487</td>\n",
       "      <td>0.404487</td>\n",
       "    </tr>\n",
       "    <tr>\n",
       "      <th>offmychest</th>\n",
       "      <td>0.251068</td>\n",
       "      <td>0.251068</td>\n",
       "    </tr>\n",
       "    <tr>\n",
       "      <th>AskDocs</th>\n",
       "      <td>0.240672</td>\n",
       "      <td>0.240672</td>\n",
       "    </tr>\n",
       "    <tr>\n",
       "      <th>BPD</th>\n",
       "      <td>0.220959</td>\n",
       "      <td>0.220959</td>\n",
       "    </tr>\n",
       "    <tr>\n",
       "      <th>Advice</th>\n",
       "      <td>0.206055</td>\n",
       "      <td>0.206055</td>\n",
       "    </tr>\n",
       "  </tbody>\n",
       "</table>\n",
       "</div>"
      ],
      "text/plain": [
       "               coefficients  coef_abs\n",
       "CircleofTrust     -0.404487  0.404487\n",
       "offmychest         0.251068  0.251068\n",
       "AskDocs            0.240672  0.240672\n",
       "BPD                0.220959  0.220959\n",
       "Advice             0.206055  0.206055"
      ]
     },
     "execution_count": 333,
     "metadata": {},
     "output_type": "execute_result"
    }
   ],
   "source": [
    "# collect the model coefficients in a dataframe\n",
    "df_coef = pd.DataFrame(model_GS.best_estimator_.coef_, columns= unique_subs[:-1],\n",
    "                       index=['coefficients'])\n",
    "# calculate the absolute values of the coefficients\n",
    "df_coef = df_coef.T\n",
    "df_coef['coef_abs'] = df_coef.coefficients.abs()\n",
    "df_coef.sort_values(by = \"coef_abs\", ascending = False).head(5)"
   ]
  },
  {
   "cell_type": "code",
   "execution_count": 337,
   "metadata": {
    "ExecuteTime": {
     "end_time": "2020-05-21T07:22:10.512801Z",
     "start_time": "2020-05-21T07:22:10.128296Z"
    },
    "scrolled": false
   },
   "outputs": [
    {
     "data": {
      "image/png": "[encoded data removed]",
      "text/plain": [
       "<Figure size 576x936 with 1 Axes>"
      ]
     },
     "metadata": {
      "needs_background": "light"
     },
     "output_type": "display_data"
    }
   ],
   "source": [
    "f, ax = plt.subplots(figsize = (8, 13))\n",
    "df_coef['coef_abs'].sort_values(ascending = False).head(15).plot(kind='barh');\n",
    "plt.show()"
   ]
  },
  {
   "cell_type": "markdown",
   "metadata": {},
   "source": [
    "## Summary & Next Steps\n",
    "* Overall the evaluated models offer potential for identifying mental health risk in internet forum users\n",
    "* In particular, the greatest potential use case is likely to be identifying users who may not currently be aware of, and post to, support forums but who could benefit from their supports & thus promotion on over popular subreddits\n",
    "* The high recall at the expense at accuracy is too much in some cases, though a high number of false positives is not as much of an issue for a risk analyses, and indeed may reflect current sufferers of mental health issues who simply do not post to reddit about their issues\n",
    "* Their are some potential risks & limitations for this research:\n",
    "    * The demographic used in the sample is likely to be younger & focused on North America & Europe \n",
    "    * The majority of users on any website are ‘lurkers’ and do not post, this research assumes that they are represented & do not differ significantly in personality etc. than those who do post\n",
    "    * Key assumption is that posting on mental health forums is indicative of mental health risk \n",
    "* Next steps would include:\n",
    "    * Grid Searching & fine tuning remaining models\n",
    "    * Expanding data set to incorporate additional years for greater breadth of sample\n",
    "    * Network analysis to flesh out those subreddits most closely related to mental health \n"
   ]
  },
  {
   "cell_type": "code",
   "execution_count": null,
   "metadata": {},
   "outputs": [],
   "source": []
  }
 ],
 "metadata": {
  "kernelspec": {
   "display_name": "Python 3",
   "language": "python",
   "name": "python3"
  },
  "language_info": {
   "codemirror_mode": {
    "name": "ipython",
    "version": 3
   },
   "file_extension": ".py",
   "mimetype": "text/x-python",
   "name": "python",
   "nbconvert_exporter": "python",
   "pygments_lexer": "ipython3",
   "version": "3.7.6"
  },
  "varInspector": {
   "cols": {
    "lenName": 16,
    "lenType": 16,
    "lenVar": 40
   },
   "kernels_config": {
    "python": {
     "delete_cmd_postfix": "",
     "delete_cmd_prefix": "del ",
     "library": "var_list.py",
     "varRefreshCmd": "print(var_dic_list())"
    },
    "r": {
     "delete_cmd_postfix": ") ",
     "delete_cmd_prefix": "rm(",
     "library": "var_list.r",
     "varRefreshCmd": "cat(var_dic_list()) "
    }
   },
   "position": {
    "height": "378.212px",
    "left": "1755.56px",
    "right": "20px",
    "top": "120px",
    "width": "357.778px"
   },
   "types_to_exclude": [
    "module",
    "function",
    "builtin_function_or_method",
    "instance",
    "_Feature"
   ],
   "window_display": true
  }
 },
 "nbformat": 4,
 "nbformat_minor": 4
}
