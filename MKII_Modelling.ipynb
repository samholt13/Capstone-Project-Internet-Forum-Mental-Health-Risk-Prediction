{
 "cells": [
  {
   "cell_type": "code",
   "execution_count": 1,
   "metadata": {
    "ExecuteTime": {
     "end_time": "2020-06-04T14:12:27.448733Z",
     "start_time": "2020-06-04T14:12:25.719386Z"
    }
   },
   "outputs": [],
   "source": [
    "import pandas as pd\n",
    "import datetime as dt\n",
    "import seaborn as sns\n",
    "import matplotlib.pyplot as plt\n",
    "import numpy as np\n",
    "import scipy as scipy\n",
    "from tqdm import tqdm\n",
    "from scipy.sparse import csr_matrix\n",
    "from pandas.api.types import CategoricalDtype\n",
    "\n",
    "from sklearn.preprocessing import StandardScaler, MaxAbsScaler\n",
    "from sklearn.model_selection import train_test_split,cross_val_score, StratifiedKFold, GridSearchCV, KFold\n",
    "from sklearn.metrics import classification_report, confusion_matrix, accuracy_score, recall_score\n",
    "\n",
    "from sklearn.utils import resample\n",
    "\n",
    "from sklearn.linear_model import LogisticRegression \n",
    "from sklearn.neighbors import KNeighborsClassifier\n",
    "from sklearn.tree import DecisionTreeClassifier\n",
    "from sklearn.ensemble import BaggingClassifier, RandomForestClassifier, AdaBoostClassifier, GradientBoostingClassifier\n",
    "from sklearn.svm import LinearSVC, SVC\n",
    "from sklearn.neural_network import MLPClassifier\n",
    "from sklearn.naive_bayes import MultinomialNB\n",
    "\n",
    "\n",
    "from sklearn.metrics import plot_confusion_matrix"
   ]
  },
  {
   "cell_type": "code",
   "execution_count": 2,
   "metadata": {
    "ExecuteTime": {
     "end_time": "2020-06-04T14:12:30.846378Z",
     "start_time": "2020-06-04T14:12:27.450127Z"
    }
   },
   "outputs": [],
   "source": [
    "df = pd.read_csv(\"/Users/samholt/GA/DSI12-lessons/projects/Capstone_Project/Capstone_MKII_DataProcessed.csv'\")"
   ]
  },
  {
   "cell_type": "code",
   "execution_count": 3,
   "metadata": {
    "ExecuteTime": {
     "end_time": "2020-06-04T14:12:31.117470Z",
     "start_time": "2020-06-04T14:12:30.848583Z"
    }
   },
   "outputs": [],
   "source": [
    "#set index to unnamed\n",
    "df.drop(\"Unnamed: 0\", axis= 1, inplace= True)"
   ]
  },
  {
   "cell_type": "code",
   "execution_count": 4,
   "metadata": {
    "ExecuteTime": {
     "end_time": "2020-06-04T14:12:31.151189Z",
     "start_time": "2020-06-04T14:12:31.119155Z"
    }
   },
   "outputs": [
    {
     "data": {
      "text/html": [
       "<div>\n",
       "<style scoped>\n",
       "    .dataframe tbody tr th:only-of-type {\n",
       "        vertical-align: middle;\n",
       "    }\n",
       "\n",
       "    .dataframe tbody tr th {\n",
       "        vertical-align: top;\n",
       "    }\n",
       "\n",
       "    .dataframe thead th {\n",
       "        text-align: right;\n",
       "    }\n",
       "</style>\n",
       "<table border=\"1\" class=\"dataframe\">\n",
       "  <thead>\n",
       "    <tr style=\"text-align: right;\">\n",
       "      <th></th>\n",
       "      <th>iphone</th>\n",
       "      <th>news</th>\n",
       "      <th>gaming</th>\n",
       "      <th>DestinyTheGame</th>\n",
       "      <th>MonsterHunter</th>\n",
       "      <th>single_user_subreddits</th>\n",
       "      <th>The_Donald</th>\n",
       "      <th>NoStupidQuestions</th>\n",
       "      <th>Stims</th>\n",
       "      <th>nba</th>\n",
       "      <th>...</th>\n",
       "      <th>AskReddit</th>\n",
       "      <th>FortNiteBR</th>\n",
       "      <th>CircleofTrust</th>\n",
       "      <th>Showerthoughts</th>\n",
       "      <th>fo76</th>\n",
       "      <th>BrandNewSentence</th>\n",
       "      <th>inthesoulstone</th>\n",
       "      <th>pokemongotrades</th>\n",
       "      <th>PushaT</th>\n",
       "      <th>df_target</th>\n",
       "    </tr>\n",
       "  </thead>\n",
       "  <tbody>\n",
       "    <tr>\n",
       "      <th>0</th>\n",
       "      <td>0.0</td>\n",
       "      <td>0.0</td>\n",
       "      <td>0.0</td>\n",
       "      <td>0.0</td>\n",
       "      <td>0.0</td>\n",
       "      <td>0.0</td>\n",
       "      <td>0.0</td>\n",
       "      <td>0.0</td>\n",
       "      <td>0.0</td>\n",
       "      <td>0.0</td>\n",
       "      <td>...</td>\n",
       "      <td>1.0</td>\n",
       "      <td>0.0</td>\n",
       "      <td>0.0</td>\n",
       "      <td>0.0</td>\n",
       "      <td>0.0</td>\n",
       "      <td>0.0</td>\n",
       "      <td>0.0</td>\n",
       "      <td>0.0</td>\n",
       "      <td>0.0</td>\n",
       "      <td>0.0</td>\n",
       "    </tr>\n",
       "    <tr>\n",
       "      <th>1</th>\n",
       "      <td>0.0</td>\n",
       "      <td>0.0</td>\n",
       "      <td>0.0</td>\n",
       "      <td>0.0</td>\n",
       "      <td>0.0</td>\n",
       "      <td>1.0</td>\n",
       "      <td>0.0</td>\n",
       "      <td>0.0</td>\n",
       "      <td>0.0</td>\n",
       "      <td>0.0</td>\n",
       "      <td>...</td>\n",
       "      <td>0.0</td>\n",
       "      <td>0.0</td>\n",
       "      <td>0.0</td>\n",
       "      <td>0.0</td>\n",
       "      <td>0.0</td>\n",
       "      <td>0.0</td>\n",
       "      <td>0.0</td>\n",
       "      <td>0.0</td>\n",
       "      <td>0.0</td>\n",
       "      <td>0.0</td>\n",
       "    </tr>\n",
       "    <tr>\n",
       "      <th>2</th>\n",
       "      <td>0.0</td>\n",
       "      <td>0.0</td>\n",
       "      <td>0.0</td>\n",
       "      <td>0.0</td>\n",
       "      <td>0.0</td>\n",
       "      <td>0.0</td>\n",
       "      <td>0.0</td>\n",
       "      <td>0.0</td>\n",
       "      <td>0.0</td>\n",
       "      <td>0.0</td>\n",
       "      <td>...</td>\n",
       "      <td>0.0</td>\n",
       "      <td>0.0</td>\n",
       "      <td>0.0</td>\n",
       "      <td>0.0</td>\n",
       "      <td>0.0</td>\n",
       "      <td>0.0</td>\n",
       "      <td>0.0</td>\n",
       "      <td>0.0</td>\n",
       "      <td>0.0</td>\n",
       "      <td>0.0</td>\n",
       "    </tr>\n",
       "    <tr>\n",
       "      <th>3</th>\n",
       "      <td>0.0</td>\n",
       "      <td>0.0</td>\n",
       "      <td>0.0</td>\n",
       "      <td>0.0</td>\n",
       "      <td>0.0</td>\n",
       "      <td>0.0</td>\n",
       "      <td>0.0</td>\n",
       "      <td>0.0</td>\n",
       "      <td>0.0</td>\n",
       "      <td>0.0</td>\n",
       "      <td>...</td>\n",
       "      <td>0.0</td>\n",
       "      <td>0.0</td>\n",
       "      <td>0.0</td>\n",
       "      <td>0.0</td>\n",
       "      <td>0.0</td>\n",
       "      <td>0.0</td>\n",
       "      <td>0.0</td>\n",
       "      <td>0.0</td>\n",
       "      <td>0.0</td>\n",
       "      <td>0.0</td>\n",
       "    </tr>\n",
       "    <tr>\n",
       "      <th>4</th>\n",
       "      <td>0.0</td>\n",
       "      <td>0.0</td>\n",
       "      <td>0.0</td>\n",
       "      <td>0.0</td>\n",
       "      <td>0.0</td>\n",
       "      <td>1.0</td>\n",
       "      <td>0.0</td>\n",
       "      <td>0.0</td>\n",
       "      <td>0.0</td>\n",
       "      <td>0.0</td>\n",
       "      <td>...</td>\n",
       "      <td>0.0</td>\n",
       "      <td>0.0</td>\n",
       "      <td>0.0</td>\n",
       "      <td>0.0</td>\n",
       "      <td>0.0</td>\n",
       "      <td>0.0</td>\n",
       "      <td>0.0</td>\n",
       "      <td>0.0</td>\n",
       "      <td>0.0</td>\n",
       "      <td>0.0</td>\n",
       "    </tr>\n",
       "  </tbody>\n",
       "</table>\n",
       "<p>5 rows × 501 columns</p>\n",
       "</div>"
      ],
      "text/plain": [
       "   iphone  news  gaming  DestinyTheGame  MonsterHunter  \\\n",
       "0     0.0   0.0     0.0             0.0            0.0   \n",
       "1     0.0   0.0     0.0             0.0            0.0   \n",
       "2     0.0   0.0     0.0             0.0            0.0   \n",
       "3     0.0   0.0     0.0             0.0            0.0   \n",
       "4     0.0   0.0     0.0             0.0            0.0   \n",
       "\n",
       "   single_user_subreddits  The_Donald  NoStupidQuestions  Stims  nba  ...  \\\n",
       "0                     0.0         0.0                0.0    0.0  0.0  ...   \n",
       "1                     1.0         0.0                0.0    0.0  0.0  ...   \n",
       "2                     0.0         0.0                0.0    0.0  0.0  ...   \n",
       "3                     0.0         0.0                0.0    0.0  0.0  ...   \n",
       "4                     1.0         0.0                0.0    0.0  0.0  ...   \n",
       "\n",
       "   AskReddit  FortNiteBR  CircleofTrust  Showerthoughts  fo76  \\\n",
       "0        1.0         0.0            0.0             0.0   0.0   \n",
       "1        0.0         0.0            0.0             0.0   0.0   \n",
       "2        0.0         0.0            0.0             0.0   0.0   \n",
       "3        0.0         0.0            0.0             0.0   0.0   \n",
       "4        0.0         0.0            0.0             0.0   0.0   \n",
       "\n",
       "   BrandNewSentence  inthesoulstone  pokemongotrades  PushaT  df_target  \n",
       "0               0.0             0.0              0.0     0.0        0.0  \n",
       "1               0.0             0.0              0.0     0.0        0.0  \n",
       "2               0.0             0.0              0.0     0.0        0.0  \n",
       "3               0.0             0.0              0.0     0.0        0.0  \n",
       "4               0.0             0.0              0.0     0.0        0.0  \n",
       "\n",
       "[5 rows x 501 columns]"
      ]
     },
     "execution_count": 4,
     "metadata": {},
     "output_type": "execute_result"
    }
   ],
   "source": [
    "df.head()"
   ]
  },
  {
   "cell_type": "code",
   "execution_count": 5,
   "metadata": {
    "ExecuteTime": {
     "end_time": "2020-06-04T14:12:31.176202Z",
     "start_time": "2020-06-04T14:12:31.152532Z"
    }
   },
   "outputs": [
    {
     "name": "stdout",
     "output_type": "stream",
     "text": [
      "<class 'pandas.core.frame.DataFrame'>\n",
      "RangeIndex: 80000 entries, 0 to 79999\n",
      "Columns: 501 entries, iphone to df_target\n",
      "dtypes: float64(501)\n",
      "memory usage: 305.8 MB\n"
     ]
    }
   ],
   "source": [
    "df.info()"
   ]
  },
  {
   "cell_type": "markdown",
   "metadata": {},
   "source": [
    "#### Proof of Concept modelling\n",
    "* Testing models on sampled data ahead of porting to AWS for greater computational power\n",
    "* Creating class function to assess various resampling methods on our data"
   ]
  },
  {
   "cell_type": "code",
   "execution_count": 6,
   "metadata": {
    "ExecuteTime": {
     "end_time": "2020-06-04T14:12:31.411722Z",
     "start_time": "2020-06-04T14:12:31.177508Z"
    },
    "scrolled": true
   },
   "outputs": [
    {
     "data": {
      "text/plain": [
       "80000"
      ]
     },
     "execution_count": 6,
     "metadata": {},
     "output_type": "execute_result"
    }
   ],
   "source": [
    "# split sample into target and predictor variables\n",
    "y = df.pop(\"df_target\").to_numpy()\n",
    "X = df\n",
    "\n",
    "X\n",
    "len(y)"
   ]
  },
  {
   "cell_type": "code",
   "execution_count": 7,
   "metadata": {
    "ExecuteTime": {
     "end_time": "2020-06-04T14:12:32.967680Z",
     "start_time": "2020-06-04T14:12:31.413314Z"
    }
   },
   "outputs": [],
   "source": [
    "# create train test split\n",
    "X_train, X_test, y_train, y_test = train_test_split(X, y, test_size=0.3, stratify= y, random_state=13)\n",
    "\n",
    "# standardize data, maxabsscaler as to work on sparse data \n",
    "scaler = StandardScaler()\n",
    "X_train = scaler.fit_transform(X_train)\n",
    "X_test = scaler.transform(X_test)"
   ]
  },
  {
   "cell_type": "code",
   "execution_count": 8,
   "metadata": {
    "ExecuteTime": {
     "end_time": "2020-06-04T14:12:32.978244Z",
     "start_time": "2020-06-04T14:12:32.970580Z"
    }
   },
   "outputs": [],
   "source": [
    "# create dataframe to track params & scoring\n",
    "cols = [\"phase\", \"model_type\", \"cv_score\", \"training_score\", \"precision\", \"recall\", \"f1-score\", \"TP\", \"FP\", \"TN\", \"FN\"]\n",
    "model_tracker = pd.DataFrame(columns= cols)"
   ]
  },
  {
   "cell_type": "code",
   "execution_count": 9,
   "metadata": {
    "ExecuteTime": {
     "end_time": "2020-06-04T14:12:32.990301Z",
     "start_time": "2020-06-04T14:12:32.981184Z"
    }
   },
   "outputs": [
    {
     "data": {
      "text/html": [
       "<div>\n",
       "<style scoped>\n",
       "    .dataframe tbody tr th:only-of-type {\n",
       "        vertical-align: middle;\n",
       "    }\n",
       "\n",
       "    .dataframe tbody tr th {\n",
       "        vertical-align: top;\n",
       "    }\n",
       "\n",
       "    .dataframe thead th {\n",
       "        text-align: right;\n",
       "    }\n",
       "</style>\n",
       "<table border=\"1\" class=\"dataframe\">\n",
       "  <thead>\n",
       "    <tr style=\"text-align: right;\">\n",
       "      <th></th>\n",
       "      <th>phase</th>\n",
       "      <th>model_type</th>\n",
       "      <th>cv_score</th>\n",
       "      <th>training_score</th>\n",
       "      <th>precision</th>\n",
       "      <th>recall</th>\n",
       "      <th>f1-score</th>\n",
       "      <th>TP</th>\n",
       "      <th>FP</th>\n",
       "      <th>TN</th>\n",
       "      <th>FN</th>\n",
       "    </tr>\n",
       "  </thead>\n",
       "  <tbody>\n",
       "  </tbody>\n",
       "</table>\n",
       "</div>"
      ],
      "text/plain": [
       "Empty DataFrame\n",
       "Columns: [phase, model_type, cv_score, training_score, precision, recall, f1-score, TP, FP, TN, FN]\n",
       "Index: []"
      ]
     },
     "execution_count": 9,
     "metadata": {},
     "output_type": "execute_result"
    }
   ],
   "source": [
    "model_tracker"
   ]
  },
  {
   "cell_type": "code",
   "execution_count": 10,
   "metadata": {
    "ExecuteTime": {
     "end_time": "2020-06-03T16:19:30.583401Z",
     "start_time": "2020-06-03T16:19:30.577626Z"
    }
   },
   "outputs": [],
   "source": [
    "#create function to run different models\n",
    "def model_run(model):\n",
    "    \"\"\"returns average score, training score, class report metrics and confusion matrix outputs\"\"\"\n",
    "    scores = cross_val_score(model, X_train, y_train, cv=5)\n",
    "    # get cross val score\n",
    "    scores = cross_val_score(model, X_train, y_train, cv=5)\n",
    "\n",
    "    # get training score\n",
    "    model.fit(X_train, y_train)\n",
    "    training_score = model.score(X_train, y_train)\n",
    "\n",
    "    # predict and get classification report & confusion matrix info\n",
    "    predictions = model.predict(X_test)\n",
    "    class_report = classification_report(y_test, predictions, output_dict= True)\n",
    "    tn, fp, fn, tp = confusion_matrix(y_test, predictions).ravel()\n",
    "    \n",
    "    print(\"Model run complete\")\n",
    "    return scores, training_score, class_report, tn, fp, fn, tp"
   ]
  },
  {
   "cell_type": "code",
   "execution_count": 11,
   "metadata": {
    "ExecuteTime": {
     "end_time": "2020-06-03T18:12:30.756579Z",
     "start_time": "2020-06-03T16:19:30.584720Z"
    }
   },
   "outputs": [
    {
     "name": "stdout",
     "output_type": "stream",
     "text": [
      "Model run complete\n"
     ]
    }
   ],
   "source": [
    "# logistic regression, base model\n",
    "model = LogisticRegression(class_weight= \"balanced\", solver = \"sag\", max_iter= 8000)\n",
    "\n",
    "scores, training_score, class_report, tn, fp, fn, tp = model_run(model)\n",
    "\n",
    "# append to model tracker\n",
    "results = pd.Series([\"PoC\", \"log_reg\", scores.mean(), training_score, class_report[\"1.0\"][\"precision\"], class_report[\"1.0\"][\"recall\"], class_report[\"1.0\"][\"f1-score\"],tp, fp, tn, fn], index= model_tracker.columns)\n",
    "model_tracker = model_tracker.append(results, ignore_index= True)"
   ]
  },
  {
   "cell_type": "code",
   "execution_count": 12,
   "metadata": {
    "ExecuteTime": {
     "end_time": "2020-06-03T19:16:15.999894Z",
     "start_time": "2020-06-03T18:12:30.761391Z"
    }
   },
   "outputs": [
    {
     "name": "stdout",
     "output_type": "stream",
     "text": [
      "Model run complete\n"
     ]
    }
   ],
   "source": [
    "# KNN, base model\n",
    "model = KNeighborsClassifier()\n",
    "\n",
    "scores, training_score, class_report, tn, fp, fn, tp = model_run(model)\n",
    "\n",
    "results = pd.Series([\"PoC\", \"KNN\", scores.mean(), training_score, class_report[\"1.0\"][\"precision\"], class_report[\"1.0\"][\"recall\"], class_report[\"1.0\"][\"f1-score\"],tp, fp, tn, fn], index= model_tracker.columns)\n",
    "model_tracker = model_tracker.append(results, ignore_index= True)"
   ]
  },
  {
   "cell_type": "code",
   "execution_count": 13,
   "metadata": {
    "ExecuteTime": {
     "end_time": "2020-06-03T19:26:40.327820Z",
     "start_time": "2020-06-03T19:16:16.004010Z"
    }
   },
   "outputs": [
    {
     "name": "stdout",
     "output_type": "stream",
     "text": [
      "Model run complete\n"
     ]
    }
   ],
   "source": [
    "# Decision tree, base model\n",
    "model = DecisionTreeClassifier(min_samples_split= 50)\n",
    "\n",
    "scores, training_score, class_report, tn, fp, fn, tp = model_run(model)\n",
    "\n",
    "results = pd.Series([\"PoC\", \"D_Tree\", scores.mean(), training_score, class_report[\"1.0\"][\"precision\"], class_report[\"1.0\"][\"recall\"], class_report[\"1.0\"][\"f1-score\"],tp, fp, tn, fn], index= model_tracker.columns)\n",
    "model_tracker = model_tracker.append(results, ignore_index= True)"
   ]
  },
  {
   "cell_type": "code",
   "execution_count": 14,
   "metadata": {
    "ExecuteTime": {
     "end_time": "2020-06-03T19:42:48.822681Z",
     "start_time": "2020-06-03T19:26:40.329720Z"
    }
   },
   "outputs": [
    {
     "name": "stdout",
     "output_type": "stream",
     "text": [
      "Model run complete\n"
     ]
    }
   ],
   "source": [
    "# Random forest, basic model\n",
    "model = RandomForestClassifier(n_estimators= 100, n_jobs= 2)\n",
    "\n",
    "scores, training_score, class_report, tn, fp, fn, tp = model_run(model)\n",
    "\n",
    "results = pd.Series([\"PoC\", \"Rand_Fr\", scores.mean(), training_score, class_report[\"1.0\"][\"precision\"], class_report[\"1.0\"][\"recall\"], class_report[\"1.0\"][\"f1-score\"],tp, fp, tn, fn], index= model_tracker.columns)\n",
    "model_tracker = model_tracker.append(results, ignore_index= True)"
   ]
  },
  {
   "cell_type": "code",
   "execution_count": 15,
   "metadata": {
    "ExecuteTime": {
     "end_time": "2020-06-03T19:58:48.220875Z",
     "start_time": "2020-06-03T19:42:48.826944Z"
    }
   },
   "outputs": [
    {
     "name": "stdout",
     "output_type": "stream",
     "text": [
      "Model run complete\n"
     ]
    }
   ],
   "source": [
    "# Gradient boost, basic model\n",
    "model = model = GradientBoostingClassifier(n_estimators=100, max_depth=3, learning_rate=0.1, random_state=1)\n",
    "\n",
    "scores, training_score, class_report, tn, fp, fn, tp = model_run(model)\n",
    "\n",
    "results = pd.Series([\"PoC\", \"Grad_Bst\", scores.mean(), training_score, class_report[\"1.0\"][\"precision\"], class_report[\"1.0\"][\"recall\"], class_report[\"1.0\"][\"f1-score\"],tp, fp, tn, fn], index= model_tracker.columns)\n",
    "model_tracker = model_tracker.append(results, ignore_index= True)"
   ]
  },
  {
   "cell_type": "code",
   "execution_count": 20,
   "metadata": {
    "ExecuteTime": {
     "end_time": "2020-06-03T20:38:27.663580Z",
     "start_time": "2020-06-03T20:25:07.575332Z"
    }
   },
   "outputs": [
    {
     "name": "stderr",
     "output_type": "stream",
     "text": [
      "/Users/samholt/opt/anaconda3/lib/python3.7/site-packages/sklearn/svm/_base.py:947: ConvergenceWarning: Liblinear failed to converge, increase the number of iterations.\n",
      "  \"the number of iterations.\", ConvergenceWarning)\n",
      "/Users/samholt/opt/anaconda3/lib/python3.7/site-packages/sklearn/svm/_base.py:947: ConvergenceWarning: Liblinear failed to converge, increase the number of iterations.\n",
      "  \"the number of iterations.\", ConvergenceWarning)\n",
      "/Users/samholt/opt/anaconda3/lib/python3.7/site-packages/sklearn/svm/_base.py:947: ConvergenceWarning: Liblinear failed to converge, increase the number of iterations.\n",
      "  \"the number of iterations.\", ConvergenceWarning)\n",
      "/Users/samholt/opt/anaconda3/lib/python3.7/site-packages/sklearn/svm/_base.py:947: ConvergenceWarning: Liblinear failed to converge, increase the number of iterations.\n",
      "  \"the number of iterations.\", ConvergenceWarning)\n",
      "/Users/samholt/opt/anaconda3/lib/python3.7/site-packages/sklearn/svm/_base.py:947: ConvergenceWarning: Liblinear failed to converge, increase the number of iterations.\n",
      "  \"the number of iterations.\", ConvergenceWarning)\n",
      "/Users/samholt/opt/anaconda3/lib/python3.7/site-packages/sklearn/svm/_base.py:947: ConvergenceWarning: Liblinear failed to converge, increase the number of iterations.\n",
      "  \"the number of iterations.\", ConvergenceWarning)\n",
      "/Users/samholt/opt/anaconda3/lib/python3.7/site-packages/sklearn/svm/_base.py:947: ConvergenceWarning: Liblinear failed to converge, increase the number of iterations.\n",
      "  \"the number of iterations.\", ConvergenceWarning)\n",
      "/Users/samholt/opt/anaconda3/lib/python3.7/site-packages/sklearn/svm/_base.py:947: ConvergenceWarning: Liblinear failed to converge, increase the number of iterations.\n",
      "  \"the number of iterations.\", ConvergenceWarning)\n",
      "/Users/samholt/opt/anaconda3/lib/python3.7/site-packages/sklearn/svm/_base.py:947: ConvergenceWarning: Liblinear failed to converge, increase the number of iterations.\n",
      "  \"the number of iterations.\", ConvergenceWarning)\n",
      "/Users/samholt/opt/anaconda3/lib/python3.7/site-packages/sklearn/svm/_base.py:947: ConvergenceWarning: Liblinear failed to converge, increase the number of iterations.\n",
      "  \"the number of iterations.\", ConvergenceWarning)\n",
      "/Users/samholt/opt/anaconda3/lib/python3.7/site-packages/sklearn/svm/_base.py:947: ConvergenceWarning: Liblinear failed to converge, increase the number of iterations.\n",
      "  \"the number of iterations.\", ConvergenceWarning)\n"
     ]
    },
    {
     "name": "stdout",
     "output_type": "stream",
     "text": [
      "Model run complete\n"
     ]
    }
   ],
   "source": [
    "# Linear SVC, basic model\n",
    "model = LinearSVC()\n",
    "\n",
    "scores, training_score, class_report, tn, fp, fn, tp = model_run(model)\n",
    "\n",
    "results = pd.Series([\"PoC\", \"SVC\", scores.mean(), training_score, class_report[\"1.0\"][\"precision\"], class_report[\"1.0\"][\"recall\"], class_report[\"1.0\"][\"f1-score\"],tp, fp, tn, fn], index= model_tracker.columns)\n",
    "model_tracker = model_tracker.append(results, ignore_index= True)"
   ]
  },
  {
   "cell_type": "code",
   "execution_count": 21,
   "metadata": {
    "ExecuteTime": {
     "end_time": "2020-06-03T20:38:27.796309Z",
     "start_time": "2020-06-03T20:38:27.783529Z"
    }
   },
   "outputs": [
    {
     "data": {
      "text/html": [
       "<div>\n",
       "<style scoped>\n",
       "    .dataframe tbody tr th:only-of-type {\n",
       "        vertical-align: middle;\n",
       "    }\n",
       "\n",
       "    .dataframe tbody tr th {\n",
       "        vertical-align: top;\n",
       "    }\n",
       "\n",
       "    .dataframe thead th {\n",
       "        text-align: right;\n",
       "    }\n",
       "</style>\n",
       "<table border=\"1\" class=\"dataframe\">\n",
       "  <thead>\n",
       "    <tr style=\"text-align: right;\">\n",
       "      <th></th>\n",
       "      <th>phase</th>\n",
       "      <th>model_type</th>\n",
       "      <th>cv_score</th>\n",
       "      <th>training_score</th>\n",
       "      <th>precision</th>\n",
       "      <th>recall</th>\n",
       "      <th>f1-score</th>\n",
       "      <th>TP</th>\n",
       "      <th>FP</th>\n",
       "      <th>TN</th>\n",
       "      <th>FN</th>\n",
       "    </tr>\n",
       "  </thead>\n",
       "  <tbody>\n",
       "    <tr>\n",
       "      <th>0</th>\n",
       "      <td>PoC</td>\n",
       "      <td>log_reg</td>\n",
       "      <td>0.859857</td>\n",
       "      <td>0.866929</td>\n",
       "      <td>0.198923</td>\n",
       "      <td>0.551453</td>\n",
       "      <td>0.292378</td>\n",
       "      <td>702</td>\n",
       "      <td>2827</td>\n",
       "      <td>19900</td>\n",
       "      <td>571</td>\n",
       "    </tr>\n",
       "    <tr>\n",
       "      <th>1</th>\n",
       "      <td>PoC</td>\n",
       "      <td>KNN</td>\n",
       "      <td>0.945982</td>\n",
       "      <td>0.951446</td>\n",
       "      <td>0.420382</td>\n",
       "      <td>0.051846</td>\n",
       "      <td>0.092308</td>\n",
       "      <td>66</td>\n",
       "      <td>91</td>\n",
       "      <td>22636</td>\n",
       "      <td>1207</td>\n",
       "    </tr>\n",
       "    <tr>\n",
       "      <th>2</th>\n",
       "      <td>PoC</td>\n",
       "      <td>D_Tree</td>\n",
       "      <td>0.936821</td>\n",
       "      <td>0.969321</td>\n",
       "      <td>0.313869</td>\n",
       "      <td>0.168892</td>\n",
       "      <td>0.219612</td>\n",
       "      <td>215</td>\n",
       "      <td>470</td>\n",
       "      <td>22257</td>\n",
       "      <td>1058</td>\n",
       "    </tr>\n",
       "    <tr>\n",
       "      <th>3</th>\n",
       "      <td>PoC</td>\n",
       "      <td>Rand_Fr</td>\n",
       "      <td>0.949250</td>\n",
       "      <td>0.999000</td>\n",
       "      <td>0.665094</td>\n",
       "      <td>0.110762</td>\n",
       "      <td>0.189899</td>\n",
       "      <td>141</td>\n",
       "      <td>71</td>\n",
       "      <td>22656</td>\n",
       "      <td>1132</td>\n",
       "    </tr>\n",
       "    <tr>\n",
       "      <th>4</th>\n",
       "      <td>PoC</td>\n",
       "      <td>Grad_Bst</td>\n",
       "      <td>0.948286</td>\n",
       "      <td>0.951268</td>\n",
       "      <td>0.606299</td>\n",
       "      <td>0.060487</td>\n",
       "      <td>0.110000</td>\n",
       "      <td>77</td>\n",
       "      <td>50</td>\n",
       "      <td>22677</td>\n",
       "      <td>1196</td>\n",
       "    </tr>\n",
       "    <tr>\n",
       "      <th>5</th>\n",
       "      <td>PoC</td>\n",
       "      <td>SVC</td>\n",
       "      <td>0.945929</td>\n",
       "      <td>0.946982</td>\n",
       "      <td>0.476658</td>\n",
       "      <td>0.152396</td>\n",
       "      <td>0.230952</td>\n",
       "      <td>194</td>\n",
       "      <td>213</td>\n",
       "      <td>22514</td>\n",
       "      <td>1079</td>\n",
       "    </tr>\n",
       "  </tbody>\n",
       "</table>\n",
       "</div>"
      ],
      "text/plain": [
       "  phase model_type  cv_score  training_score  precision    recall  f1-score  \\\n",
       "0   PoC    log_reg  0.859857        0.866929   0.198923  0.551453  0.292378   \n",
       "1   PoC        KNN  0.945982        0.951446   0.420382  0.051846  0.092308   \n",
       "2   PoC     D_Tree  0.936821        0.969321   0.313869  0.168892  0.219612   \n",
       "3   PoC    Rand_Fr  0.949250        0.999000   0.665094  0.110762  0.189899   \n",
       "4   PoC   Grad_Bst  0.948286        0.951268   0.606299  0.060487  0.110000   \n",
       "5   PoC        SVC  0.945929        0.946982   0.476658  0.152396  0.230952   \n",
       "\n",
       "    TP    FP     TN    FN  \n",
       "0  702  2827  19900   571  \n",
       "1   66    91  22636  1207  \n",
       "2  215   470  22257  1058  \n",
       "3  141    71  22656  1132  \n",
       "4   77    50  22677  1196  \n",
       "5  194   213  22514  1079  "
      ]
     },
     "execution_count": 21,
     "metadata": {},
     "output_type": "execute_result"
    }
   ],
   "source": [
    "model_tracker"
   ]
  },
  {
   "cell_type": "code",
   "execution_count": 24,
   "metadata": {
    "ExecuteTime": {
     "end_time": "2020-06-04T07:09:56.540992Z",
     "start_time": "2020-06-04T07:09:55.961327Z"
    }
   },
   "outputs": [
    {
     "data": {
      "image/png": "[encoded data removed]",
      "text/plain": [
       "<Figure size 576x576 with 1 Axes>"
      ]
     },
     "metadata": {
      "needs_background": "light"
     },
     "output_type": "display_data"
    }
   ],
   "source": [
    "# Visualisation of accuracy vs. recall for these models show a distinct trade-off, the model(s) to\n",
    "# take forward are the ones which minimize the accuracy recall trade-off\n",
    "\n",
    "plt.figure(figsize=(8, 8))\n",
    "plt.rcParams.update({'font.size': 18})\n",
    "sns.scatterplot(model_tracker[\"recall\"], model_tracker[\"cv_score\"], hue= model_tracker[\"model_type\"])\n",
    "\n",
    "plt.xlabel(\"Recall\")\n",
    "plt.ylabel(\"cv_score\")\n",
    "plt.show()"
   ]
  },
  {
   "cell_type": "markdown",
   "metadata": {},
   "source": [
    "#### Assess Optimal Sampling Technique with Various Models\n",
    "* To improve the models in terms of identifying the minority class, several under and oversampling methodologies were applied to the training set\n"
   ]
  },
  {
   "cell_type": "code",
   "execution_count": 10,
   "metadata": {
    "ExecuteTime": {
     "end_time": "2020-06-04T14:12:44.243228Z",
     "start_time": "2020-06-04T14:12:44.163824Z"
    }
   },
   "outputs": [],
   "source": [
    "from imblearn.under_sampling import (RandomUnderSampler, \n",
    "                                     ClusterCentroids,\n",
    "                                     TomekLinks,\n",
    "                                     NeighbourhoodCleaningRule,\n",
    "                                     NearMiss)\n",
    "from imblearn.over_sampling import SMOTE, RandomOverSampler, ADASYN"
   ]
  },
  {
   "cell_type": "code",
   "execution_count": 11,
   "metadata": {
    "ExecuteTime": {
     "end_time": "2020-06-04T14:12:45.386424Z",
     "start_time": "2020-06-04T14:12:45.377782Z"
    }
   },
   "outputs": [],
   "source": [
    "# create dataframe to track params & scoring\n",
    "cols = [\"Model\", \"Method\", \"cv_score\", \"training_score\", \"accuracy\", \"precision\", \"recall\", \"f1-score\", \"TP\", \"FP\", \"TN\", \"FN\"]\n",
    "model_tracker = pd.DataFrame(columns= cols)"
   ]
  },
  {
   "cell_type": "code",
   "execution_count": 12,
   "metadata": {
    "ExecuteTime": {
     "end_time": "2020-06-04T14:12:45.962344Z",
     "start_time": "2020-06-04T14:12:45.901733Z"
    }
   },
   "outputs": [],
   "source": [
    "# creating class called tiny target which will evaluate several different sampling techniques on a user selected model\n",
    "class tiny_target:\n",
    "    def __init__(self, X, y, scaler= MaxAbsScaler(), model= LogisticRegression(), sampling_strategy= 0.5, train_size = 0.3, run_all = True, cv_scoring = \"recall\", stratify = y, cv= 5, tracker = None, name = \"model\"):\n",
    "        if tracker is not None:\n",
    "            self.tracker = tracker\n",
    "        else:\n",
    "            cols = [\"Model\", \"Method\", \"cv_score\", \"training_score\", \"accuracy\", \"precision\", \"recall\", \"f1-score\", \"TP\", \"FP\", \"TN\", \"FN\"]\n",
    "            model_tracker = pd.DataFrame(columns= cols)\n",
    "            self.tracker = model_tracker\n",
    "            \n",
    "        self.X = X\n",
    "        self.y = y\n",
    "        self.model = model\n",
    "        self.sampling_strategy = sampling_strategy\n",
    "        self.train_size = train_size\n",
    "        self.stratify = stratify\n",
    "        self.cv = cv\n",
    "        self.name = name\n",
    "        self.cv_scoring = cv_scoring\n",
    "        self.tracker = tracker\n",
    "    \n",
    "    def model_runner(self):\n",
    "        \"\"\"runs models and appends various scoring metrics (y target focused) to model tracker\"\"\"\n",
    "        self.model.fit(self.X_train_new, self.y_train_new)\n",
    "        self.scores = cross_val_score(self.model, self.X_train_new, self.y_train_new, cv= self.cv, scoring = self.cv_scoring)\n",
    "        self.training_score = self.model.score(self.X_train_new, self.y_train_new)\n",
    "\n",
    "        # predict and get classification report & confusion matrix info\n",
    "        self.predictions = self.model.predict(self.X_test)\n",
    "        self.class_report = classification_report(self.y_test, self.predictions, output_dict= True)\n",
    "        self.tn, self.fp, self.fn, self.tp = confusion_matrix(self.y_test, self.predictions).ravel()\n",
    "        \n",
    "        self.model_tracker()\n",
    "        \n",
    "    def model_tracker(self):\n",
    "        self.results = pd.DataFrame({'Model': self.name, 'Method': self.method, 'cv_score': self.scores.mean(), \n",
    "                                'training_score': self.training_score,'accuracy': self.class_report[\"accuracy\"],\n",
    "                                'precision': self.class_report[\"1.0\"][\"precision\"], 'recall': self.class_report[\"1.0\"][\"recall\"],\n",
    "                                'f1-score': self.class_report[\"1.0\"][\"f1-score\"], 'TP': self.tp, 'FP': self.fp,\n",
    "                                'TN': self.tn, 'FN': self.fn}, index=[len(model_tracker.index)])\n",
    "        self.tracker =  pd.concat([self.tracker, self.results])\n",
    "    \n",
    "    def run_all(self):\n",
    "        self.random_under()\n",
    "        \n",
    "        self.tomeklinks()\n",
    "        self.neighbourhoodclean()\n",
    "        self.nearmiss()\n",
    "        self.smote_upsample()\n",
    "        self.random_over()\n",
    "        self.adasyn()\n",
    "        return self.tracker\n",
    "    \n",
    "    def random_under(self):\n",
    "        \"\"\"Randomly undersamples the predictor class. Can lead to loss of information \n",
    "        unless the majority class is relatively uniform\"\"\"\n",
    "        \n",
    "        self.sampler = RandomUnderSampler(sampling_strategy= self.sampling_strategy, random_state= 13)\n",
    "        \n",
    "        self.X_train, self.X_test, self.y_train , self.y_test = train_test_split( \\\n",
    "            self.X, self.y, train_size=self.train_size, stratify=self.stratify, random_state=13)\n",
    "        self.X_train_new, self.y_train_new = self.sampler.fit_resample(self.X_train, self.y_train)\n",
    "        self.method = \"Random Under\"\n",
    "        self.model_runner() \n",
    "        print(\"Random undersample run complete\")\n",
    "        return self.tracker\n",
    "    \n",
    "    def clustercentroids(self):\n",
    "        \"\"\"This method undersamples the majority class by replacing a cluster of majority samples. \n",
    "        Clusters of majority class found with K-mean algorithms. Then it keeps the cluster centroids of the \n",
    "        N clusters as the new majority samples\"\"\"\n",
    "        self.sampler = ClusterCentroids(sampling_strategy= self.sampling_strategy, random_state= 13)\n",
    "        \n",
    "        self.X_train, self.X_test, self.y_train , self.y_test = train_test_split(self.X, self.y, train_size=self.train_size, stratify=self.stratify, random_state=13)\n",
    "        self.X_train_new, self.y_train_new = self.sampler.fit_resample(self.X_train, self.y_train)\n",
    "        self.method = \"Cluster Centroids\"\n",
    "        self.model_runner()\n",
    "        \n",
    "        print(\"Cluster centroids run complete\")\n",
    "        return self.tracker\n",
    "    \n",
    "    def tomeklinks(self):\n",
    "        \"\"\"Finds samples near the borderline of the two classess. Given two instances, a & b seperated by distance\n",
    "        d(a,b) the pair is called a Tomek link if there is no instance c such that d(a,c) < d(a,b) or d(b,c) < d(a,b)\n",
    "        Instances within Tomek links are considered noise or borderline and are thus removed\"\"\"\n",
    "        \n",
    "        self.sampler = TomekLinks()\n",
    "        \n",
    "        self.X_train, self.X_test, self.y_train , self.y_test = train_test_split(self.X, self.y, train_size=self.train_size, stratify=self.stratify, random_state=13)\n",
    "        self.X_train_new, self.y_train_new = self.sampler.fit_resample(self.X_train, self.y_train)\n",
    "        self.method = \"Tomek Links\"\n",
    "        self.model_runner()\n",
    "        \n",
    "        print(\"TomekLinks run complete\")\n",
    "        return self.tracker\n",
    "    \n",
    "    def neighbourhoodclean(self):\n",
    "        \"\"\" Edited Nearest Neighbor Rule (ENN) to remove any instance whose class label is different from the class\n",
    "        of at least two of its three nearest neighbors. Neighbourhood cleaning rule uses ENN to remove majority samples\n",
    "        Finds three nearest neighbors for each training set instance, if majority class and opposite to its neighbours \n",
    "        it is removed. If belongs to the target class than the neighbours are removed\"\"\"\n",
    "        \n",
    "        self.sampler = NeighbourhoodCleaningRule()\n",
    "        \n",
    "        self.X_train, self.X_test, self.y_train , self.y_test = train_test_split(self.X, self.y, train_size=self.train_size, stratify=self.stratify, random_state=13)\n",
    "        self.X_train_new, self.y_train_new = self.sampler.fit_resample(self.X_train, self.y_train)\n",
    "        self.method = \"Neighbourhood Clean\"\n",
    "        self.model_runner()\n",
    "        \n",
    "        print(\"Neighbourhood Cleaning run complete\")\n",
    "        return self.tracker\n",
    "    \n",
    "    def nearmiss(self):\n",
    "        \"\"\"Calculates distances between all instance of majority and minority classes. K instances of the majority\n",
    "        class with smallest distances to minority are selected and removed\"\"\"\n",
    "        \n",
    "        self.sampler = NearMiss(sampling_strategy= self.sampling_strategy)\n",
    "        \n",
    "        self.X_train, self.X_test, self.y_train , self.y_test = train_test_split(self.X, self.y, train_size=self.train_size, stratify=self.stratify, random_state=13)\n",
    "        self.X_train_new, self.y_train_new = self.sampler.fit_resample(self.X_train, self.y_train)\n",
    "        self.method = \"Near Miss\"\n",
    "        self.model_runner()\n",
    "       \n",
    "        print(\"Near Miss run complete\")\n",
    "        return self.tracker\n",
    "        \n",
    "    \n",
    "    def smote_upsample(self, k_neighbors = 5):\n",
    "        self.k_neighbors = k_neighbors\n",
    "        self.sampler = SMOTE(sampling_strategy= self.sampling_strategy, random_state= 13, k_neighbors= self.k_neighbors)\n",
    "        self.X_train, self.X_test, self.y_train , self.y_test = train_test_split(self.X, self.y, train_size=self.train_size, stratify=self.stratify, random_state=13)\n",
    "\n",
    "        cv = KFold(n_splits=5, shuffle = True)\n",
    "        self.scores = np.array([])\n",
    "        for train_fold_index, val_fold_index in cv.split(self.X_train, self.y_train):\n",
    "         \n",
    "             # Get the training data\n",
    "            X_train_fold, y_train_fold = self.X_train.iloc[train_fold_index], self.y_train[train_fold_index]\n",
    "        # Get the validation data\n",
    "            X_val_fold, y_val_fold = self.X_train.iloc[val_fold_index], self.y_train[val_fold_index]\n",
    "\n",
    "        # Upsample only the data in the training section\n",
    "            X_train_fold_upsample, y_train_fold_upsample = self.sampler.fit_resample(X_train_fold,\n",
    "                                                                           y_train_fold)\n",
    "            model_obj = self.model.fit(X_train_fold_upsample, y_train_fold_upsample)\n",
    "            score = recall_score(y_val_fold, model_obj.predict(X_val_fold))\n",
    "            self.scores = np.append(self.scores, score)  \n",
    "        \n",
    "        self.X_train_new, self.y_train_new = self.sampler.fit_resample(self.X_train, self.y_train)\n",
    "        self.model.fit(self.X_train_new, self.y_train_new)\n",
    "        self.training_score = self.model.score(self.X_train_new, self.y_train_new)\n",
    "\n",
    "        # predict and get classification report & confusion matrix info\n",
    "        self.predictions = self.model.predict(self.X_test)\n",
    "        self.class_report = classification_report(self.y_test, self.predictions, output_dict= True)\n",
    "        self.tn, self.fp, self.fn, self.tp = confusion_matrix(self.y_test, self.predictions).ravel()\n",
    "        self.method = \"SMOTE\"\n",
    "        self.model_tracker()\n",
    "        \n",
    "        print(\"SMOTE run complete\")\n",
    "        return self.tracker\n",
    "    \n",
    "    def random_over(self):\n",
    "        self.sampler = RandomOverSampler(sampling_strategy= self.sampling_strategy, random_state= 13)\n",
    "        self.X_train, self.X_test, self.y_train , self.y_test = train_test_split(self.X, self.y, train_size=self.train_size, stratify=self.stratify, random_state=13)\n",
    "\n",
    "        cv = KFold(n_splits=5, shuffle = True)\n",
    "        self.scores = np.array([])\n",
    "        for train_fold_index, val_fold_index in cv.split(self.X_train, self.y_train):\n",
    "         \n",
    "             # Get the training data\n",
    "            X_train_fold, y_train_fold = self.X_train.iloc[train_fold_index], self.y_train[train_fold_index]\n",
    "        # Get the validation data\n",
    "            X_val_fold, y_val_fold = self.X_train.iloc[val_fold_index], self.y_train[val_fold_index]\n",
    "\n",
    "        # Upsample only the data in the training section\n",
    "            X_train_fold_upsample, y_train_fold_upsample = self.sampler.fit_resample(X_train_fold,\n",
    "                                                                           y_train_fold)\n",
    "            model_obj = self.model.fit(X_train_fold_upsample, y_train_fold_upsample)\n",
    "            score = recall_score(y_val_fold, model_obj.predict(X_val_fold))\n",
    "            self.scores = np.append(self.scores, score)  \n",
    "        \n",
    "        self.X_train_new, self.y_train_new = self.sampler.fit_resample(self.X_train, self.y_train)\n",
    "        self.model.fit(self.X_train_new, self.y_train_new)\n",
    "        self.training_score = self.model.score(self.X_train_new, self.y_train_new)\n",
    "      \n",
    "\n",
    "        # predict and get classification report & confusion matrix info\n",
    "        self.predictions = self.model.predict(self.X_test)\n",
    "        self.class_report = classification_report(self.y_test, self.predictions, output_dict= True)\n",
    "        self.tn, self.fp, self.fn, self.tp = confusion_matrix(self.y_test, self.predictions).ravel()\n",
    "        self.method = \"Random oversample\"\n",
    "        self.model_tracker()\n",
    "        \n",
    "        print(\"Random oversample run complete\")\n",
    "        return self.tracker\n",
    "        \n",
    "\n",
    "        \n",
    "    def adasyn(self, n_neighbors = 5):\n",
    "        self.n_neighbors = n_neighbors\n",
    "        self.sampler = ADASYN(sampling_strategy= self.sampling_strategy, random_state= 13, n_neighbors= self.n_neighbors)\n",
    "        self.X_train, self.X_test, self.y_train , self.y_test = train_test_split(self.X, self.y, train_size=self.train_size, stratify=self.stratify, random_state=13)\n",
    "\n",
    "        cv = KFold(n_splits=5, shuffle = True)\n",
    "        self.scores = np.array([])\n",
    "        for train_fold_index, val_fold_index in cv.split(self.X_train, self.y_train):\n",
    "         \n",
    "             # Get the training data\n",
    "            X_train_fold, y_train_fold = self.X_train.iloc[train_fold_index], self.y_train[train_fold_index]\n",
    "        # Get the validation data\n",
    "            X_val_fold, y_val_fold = self.X_train.iloc[val_fold_index], self.y_train[val_fold_index]\n",
    "\n",
    "        # Upsample only the data in the training section\n",
    "            X_train_fold_upsample, y_train_fold_upsample = self.sampler.fit_resample(X_train_fold,\n",
    "                                                                           y_train_fold)\n",
    "            model_obj = self.model.fit(X_train_fold_upsample, y_train_fold_upsample)\n",
    "            score = recall_score(y_val_fold, model_obj.predict(X_val_fold))\n",
    "            self.scores = np.append(self.scores, score)  \n",
    "        \n",
    "        self.X_train_new, self.y_train_new = self.sampler.fit_resample(self.X_train, self.y_train)\n",
    "        self.model.fit(self.X_train_new, self.y_train_new)\n",
    "        self.training_score = self.model.score(self.X_train_new, self.y_train_new)\n",
    "\n",
    "        # predict and get classification report & confusion matrix info\n",
    "        self.predictions = self.model.predict(self.X_test)\n",
    "        self.class_report = classification_report(self.y_test, self.predictions, output_dict= True)\n",
    "        self.tn, self.fp, self.fn, self.tp = confusion_matrix(self.y_test, self.predictions).ravel()\n",
    "        self.method = \"ADASYN\"\n",
    "        self.model_tracker()\n",
    "        \n",
    "        print(\"ADASYN run complete\")\n",
    "        return self.tracker\n",
    "        "
   ]
  },
  {
   "cell_type": "markdown",
   "metadata": {},
   "source": [
    "#### Prioritising for Recall"
   ]
  },
  {
   "cell_type": "code",
   "execution_count": 13,
   "metadata": {
    "ExecuteTime": {
     "end_time": "2020-06-04T14:12:48.086629Z",
     "start_time": "2020-06-04T14:12:48.079678Z"
    }
   },
   "outputs": [],
   "source": [
    "# create dataframe to track params & scoring\n",
    "cols = [\"Model\", \"Method\", \"cv_score\", \"training_score\", \"accuracy\", \"precision\", \"recall\", \"f1-score\", \"TP\", \"FP\", \"TN\", \"FN\"]\n",
    "model_tracker = pd.DataFrame(columns= cols)"
   ]
  },
  {
   "cell_type": "code",
   "execution_count": 14,
   "metadata": {
    "ExecuteTime": {
     "end_time": "2020-06-04T14:12:48.686951Z",
     "start_time": "2020-06-04T14:12:48.678693Z"
    }
   },
   "outputs": [
    {
     "data": {
      "text/html": [
       "<div>\n",
       "<style scoped>\n",
       "    .dataframe tbody tr th:only-of-type {\n",
       "        vertical-align: middle;\n",
       "    }\n",
       "\n",
       "    .dataframe tbody tr th {\n",
       "        vertical-align: top;\n",
       "    }\n",
       "\n",
       "    .dataframe thead th {\n",
       "        text-align: right;\n",
       "    }\n",
       "</style>\n",
       "<table border=\"1\" class=\"dataframe\">\n",
       "  <thead>\n",
       "    <tr style=\"text-align: right;\">\n",
       "      <th></th>\n",
       "      <th>Model</th>\n",
       "      <th>Method</th>\n",
       "      <th>cv_score</th>\n",
       "      <th>training_score</th>\n",
       "      <th>accuracy</th>\n",
       "      <th>precision</th>\n",
       "      <th>recall</th>\n",
       "      <th>f1-score</th>\n",
       "      <th>TP</th>\n",
       "      <th>FP</th>\n",
       "      <th>TN</th>\n",
       "      <th>FN</th>\n",
       "    </tr>\n",
       "  </thead>\n",
       "  <tbody>\n",
       "  </tbody>\n",
       "</table>\n",
       "</div>"
      ],
      "text/plain": [
       "Empty DataFrame\n",
       "Columns: [Model, Method, cv_score, training_score, accuracy, precision, recall, f1-score, TP, FP, TN, FN]\n",
       "Index: []"
      ]
     },
     "execution_count": 14,
     "metadata": {},
     "output_type": "execute_result"
    }
   ],
   "source": [
    "model_tracker"
   ]
  },
  {
   "cell_type": "code",
   "execution_count": 15,
   "metadata": {
    "ExecuteTime": {
     "end_time": "2020-06-04T14:12:49.300798Z",
     "start_time": "2020-06-04T14:12:49.295165Z"
    }
   },
   "outputs": [
    {
     "data": {
      "text/plain": [
       "0.0"
      ]
     },
     "execution_count": 15,
     "metadata": {},
     "output_type": "execute_result"
    }
   ],
   "source": [
    "y[10000]"
   ]
  },
  {
   "cell_type": "code",
   "execution_count": null,
   "metadata": {
    "ExecuteTime": {
     "start_time": "2020-06-04T14:12:49.795Z"
    },
    "scrolled": true
   },
   "outputs": [
    {
     "name": "stdout",
     "output_type": "stream",
     "text": [
      "Random undersample run complete\n"
     ]
    }
   ],
   "source": [
    "# fit log reg instance of tiny target\n",
    "tt = tiny_target(X,y, model= LogisticRegression(solver = \"sag\", max_iter = 10000), tracker = model_tracker, name = \"log_reg\")\n",
    "model_tracker = model_tracker.append(tt.run_all())"
   ]
  },
  {
   "cell_type": "code",
   "execution_count": null,
   "metadata": {
    "ExecuteTime": {
     "start_time": "2020-06-04T14:12:50.587Z"
    }
   },
   "outputs": [],
   "source": [
    "# fit KNN instance of tiny target\n",
    "tt = tiny_target(X,y, model= KNeighborsClassifier(), tracker = model_tracker, name = \"KNN\")\n",
    "model_tracker = model_tracker.append(tt.run_all())"
   ]
  },
  {
   "cell_type": "code",
   "execution_count": null,
   "metadata": {
    "ExecuteTime": {
     "start_time": "2020-06-04T14:12:51.195Z"
    }
   },
   "outputs": [],
   "source": [
    "# fit decision tree instance of tiny target\n",
    "tt = tiny_target(X,y, model= DecisionTreeClassifier(min_samples_split= 50), tracker = model_tracker, name = \"Dec_Tree\")\n",
    "model_tracker = model_tracker.append(tt.run_all())"
   ]
  },
  {
   "cell_type": "code",
   "execution_count": null,
   "metadata": {
    "ExecuteTime": {
     "start_time": "2020-06-04T14:12:51.440Z"
    }
   },
   "outputs": [],
   "source": [
    "# fit random forest instance of tiny target\n",
    "tt = tiny_target(X,y, model= RandomForestClassifier(n_estimators= 100, n_jobs= 2), tracker = model_tracker, name = \"Ran_FR\")\n",
    "model_tracker = model_tracker.append(tt.run_all())"
   ]
  },
  {
   "cell_type": "code",
   "execution_count": null,
   "metadata": {
    "ExecuteTime": {
     "start_time": "2020-06-04T14:12:51.723Z"
    }
   },
   "outputs": [],
   "source": [
    "# fit grad boost instance of tiny target\n",
    "tt = tiny_target(X,y, model= GradientBoostingClassifier(n_estimators=100, max_depth=3, learning_rate=0.1, random_state=1), tracker = model_tracker, name = \"GB\")\n",
    "model_tracker = model_tracker.append(tt.run_all())"
   ]
  },
  {
   "cell_type": "code",
   "execution_count": null,
   "metadata": {
    "ExecuteTime": {
     "start_time": "2020-06-04T14:12:52.004Z"
    }
   },
   "outputs": [],
   "source": [
    "model_tracker.to_csv(\"/Users/samholt/GA/DSI12-lessons/projects/Capstone_Project/Capstone_MKII_Model_tracker.csv'\")"
   ]
  },
  {
   "cell_type": "code",
   "execution_count": null,
   "metadata": {
    "ExecuteTime": {
     "start_time": "2020-06-04T14:12:52.175Z"
    },
    "scrolled": true
   },
   "outputs": [],
   "source": [
    "model_tracker.sort_values(by = \"recall\", ascending= False)"
   ]
  },
  {
   "cell_type": "code",
   "execution_count": null,
   "metadata": {
    "ExecuteTime": {
     "start_time": "2020-06-04T14:12:52.347Z"
    }
   },
   "outputs": [],
   "source": [
    "# Visualisation of accuracy vs. recall for these models show a distinct trade-off, the model(s) to\n",
    "# take forward are the ones which minimize the accuracy recall trade-off\n",
    "\n",
    "plt.figure(figsize=(8, 8))\n",
    "plt.rcParams.update({'font.size': 18})\n",
    "sns.scatterplot(model_tracker[\"recall\"], model_tracker[\"accuracy\"], hue= model_tracker[\"Model\"])\n",
    "\n",
    "plt.xlabel(\"Recall\")\n",
    "plt.ylabel(\"Accuracy\")\n",
    "plt.show()"
   ]
  },
  {
   "cell_type": "code",
   "execution_count": null,
   "metadata": {
    "ExecuteTime": {
     "start_time": "2020-06-04T14:12:52.531Z"
    }
   },
   "outputs": [],
   "source": [
    "#select models which maximize both accuracy & recall, defined as 80% accuracy and 50% recall\n",
    "model_tracker[(model_tracker[\"recall\"] > 0.49) & (model_tracker[\"accuracy\"] > 0.79)][[\"Model\", \"Method\", \"accuracy\", \"recall\"]]"
   ]
  },
  {
   "cell_type": "markdown",
   "metadata": {},
   "source": [
    "#### Gridsearch & Optimize Best Model\n",
    "* Due to time constraints one logistic regression model was taken forward for analysis & gridsearch on the full dataset\n",
    "* Gridsearching based on our best model, logistic regression combined with random undersampling\n",
    "* Random undersampling loses a lot of data so we are using the model on the full sparse DF"
   ]
  },
  {
   "cell_type": "code",
   "execution_count": null,
   "metadata": {
    "ExecuteTime": {
     "start_time": "2020-06-04T14:12:53.419Z"
    },
    "scrolled": true
   },
   "outputs": [],
   "source": [
    "# split sample into target and predictor variables\n",
    "X = sparse_df[:,:-1]\n",
    "y = sparse_df[:, -1].toarray().ravel()\n",
    "\n",
    "X\n",
    "len(y)"
   ]
  },
  {
   "cell_type": "code",
   "execution_count": null,
   "metadata": {
    "ExecuteTime": {
     "start_time": "2020-06-04T14:12:53.679Z"
    }
   },
   "outputs": [],
   "source": [
    "# fit sampler\n",
    "\n",
    "sampler = RandomUnderSampler(sampling_strategy= 0.5, random_state= 13)\n",
    "\n",
    "X_train, X_test, y_train, y_test = train_test_split(X, y, train_size = 0.3, stratify = y, random_state = 13)\n",
    "\n",
    "X_train_new, y_train_new = sampler.fit_resample(X_train, y_train)"
   ]
  },
  {
   "cell_type": "code",
   "execution_count": null,
   "metadata": {
    "ExecuteTime": {
     "start_time": "2020-06-04T14:12:54.218Z"
    }
   },
   "outputs": [],
   "source": [
    "model = LogisticRegression(solver = \"sag\", max_iter = 10000)\n",
    "params = {'C':[0.001, 0.01, 1, 10,25],\n",
    "          'fit_intercept': [True, False]}\n",
    "\n",
    "model_GS = GridSearchCV(estimator=model,\n",
    "                param_grid=params,\n",
    "                cv=5,\n",
    "                scoring='recall',\n",
    "                return_train_score=True, verbose= 2)"
   ]
  },
  {
   "cell_type": "code",
   "execution_count": null,
   "metadata": {
    "ExecuteTime": {
     "start_time": "2020-06-04T14:12:54.499Z"
    }
   },
   "outputs": [],
   "source": [
    "# fit model and assess classification report\n",
    "model_GS.fit(X_train_new,y_train_new)\n",
    "print(\"Baseline testing score was: {}\".format(str(baseline)))\n",
    "print(\"Logistic regression best mean cross val score was: {}\".format(str(cross_val_score(model_GS, X_train_new, y_train_new, cv=5).mean())))\n",
    "print(\"Logistic regression best training score was : {}\".format(str(model_GS.score(X_train_new, y_train_new))))\n",
    "predictions = model_GS.predict(X_test)\n"
   ]
  },
  {
   "cell_type": "code",
   "execution_count": null,
   "metadata": {
    "ExecuteTime": {
     "start_time": "2020-06-04T14:12:54.703Z"
    }
   },
   "outputs": [],
   "source": [
    "print(classification_report(y_test, predictions))"
   ]
  },
  {
   "cell_type": "code",
   "execution_count": null,
   "metadata": {
    "ExecuteTime": {
     "start_time": "2020-06-04T14:12:54.987Z"
    }
   },
   "outputs": [],
   "source": [
    "fig, ax = plt.subplots(figsize=(6, 6))\n",
    "\n",
    "plot_confusion_matrix(model_GS,X_test, y_test, ax = ax, values_format=\"\")\n",
    "plt.ylim()\n",
    "plt.show()"
   ]
  },
  {
   "cell_type": "code",
   "execution_count": null,
   "metadata": {
    "ExecuteTime": {
     "start_time": "2020-06-04T14:12:55.248Z"
    }
   },
   "outputs": [],
   "source": [
    "# collect the model coefficients in a dataframe\n",
    "df_coef = pd.DataFrame(model_GS.best_estimator_.coef_, columns= unique_subs[:-1],\n",
    "                       index=['coefficients'])\n",
    "# calculate the absolute values of the coefficients\n",
    "df_coef = df_coef.T\n",
    "df_coef['coef_abs'] = df_coef.coefficients.abs()\n",
    "df_coef.sort_values(by = \"coef_abs\", ascending = False).head(5)"
   ]
  },
  {
   "cell_type": "code",
   "execution_count": null,
   "metadata": {
    "ExecuteTime": {
     "start_time": "2020-06-04T14:12:55.567Z"
    },
    "scrolled": false
   },
   "outputs": [],
   "source": [
    "f, ax = plt.subplots(figsize = (8, 13))\n",
    "df_coef['coef_abs'].sort_values(ascending = False).head(15).plot(kind='barh');\n",
    "plt.show()"
   ]
  },
  {
   "cell_type": "markdown",
   "metadata": {},
   "source": [
    "## Summary & Next Steps\n",
    "* Overall the evaluated models offer potential for identifying mental health risk in internet forum users\n",
    "* In particular, the greatest potential use case is likely to be identifying users who may not currently be aware of, and post to, support forums but who could benefit from their supports & thus promotion on over popular subreddits\n",
    "* The high recall at the expense at accuracy is too much in some cases, though a high number of false positives is not as much of an issue for a risk analyses, and indeed may reflect current sufferers of mental health issues who simply do not post to reddit about their issues\n",
    "* Their are some potential risks & limitations for this research:\n",
    "    * The demographic used in the sample is likely to be younger & focused on North America & Europe \n",
    "    * The majority of users on any website are ‘lurkers’ and do not post, this research assumes that they are represented & do not differ significantly in personality etc. than those who do post\n",
    "    * Key assumption is that posting on mental health forums is indicative of mental health risk \n",
    "* Next steps would include:\n",
    "    * Grid Searching & fine tuning remaining models\n",
    "    * Expanding data set to incorporate additional years for greater breadth of sample\n",
    "    * Network analysis to flesh out those subreddits most closely related to mental health \n"
   ]
  },
  {
   "cell_type": "code",
   "execution_count": null,
   "metadata": {},
   "outputs": [],
   "source": []
  },
  {
   "cell_type": "code",
   "execution_count": null,
   "metadata": {},
   "outputs": [],
   "source": []
  }
 ],
 "metadata": {
  "kernelspec": {
   "display_name": "Python 3",
   "language": "python",
   "name": "python3"
  },
  "language_info": {
   "codemirror_mode": {
    "name": "ipython",
    "version": 3
   },
   "file_extension": ".py",
   "mimetype": "text/x-python",
   "name": "python",
   "nbconvert_exporter": "python",
   "pygments_lexer": "ipython3",
   "version": "3.7.6"
  },
  "varInspector": {
   "cols": {
    "lenName": 16,
    "lenType": 16,
    "lenVar": 40
   },
   "kernels_config": {
    "python": {
     "delete_cmd_postfix": "",
     "delete_cmd_prefix": "del ",
     "library": "var_list.py",
     "varRefreshCmd": "print(var_dic_list())"
    },
    "r": {
     "delete_cmd_postfix": ") ",
     "delete_cmd_prefix": "rm(",
     "library": "var_list.r",
     "varRefreshCmd": "cat(var_dic_list()) "
    }
   },
   "position": {
    "height": "378.212px",
    "left": "1755.56px",
    "right": "20px",
    "top": "120px",
    "width": "357.778px"
   },
   "types_to_exclude": [
    "module",
    "function",
    "builtin_function_or_method",
    "instance",
    "_Feature"
   ],
   "window_display": true
  }
 },
 "nbformat": 4,
 "nbformat_minor": 4
}
