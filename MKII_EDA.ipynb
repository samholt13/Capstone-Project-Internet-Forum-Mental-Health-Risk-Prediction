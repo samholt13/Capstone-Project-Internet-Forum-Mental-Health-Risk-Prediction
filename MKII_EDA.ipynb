{
 "cells": [
  {
   "cell_type": "code",
   "execution_count": 138,
   "metadata": {
    "ExecuteTime": {
     "end_time": "2020-06-03T15:47:49.322078Z",
     "start_time": "2020-06-03T15:47:49.294499Z"
    }
   },
   "outputs": [],
   "source": [
    "import pandas as pd\n",
    "import datetime as dt\n",
    "import seaborn as sns\n",
    "import matplotlib.pyplot as plt\n",
    "import numpy as np\n",
    "from tqdm import tqdm\n",
    "from scipy.sparse import csr_matrix\n",
    "from pandas.api.types import CategoricalDtype\n",
    "from sklearn.feature_selection import SelectFromModel\n",
    "from sklearn.ensemble import RandomForestClassifier\n",
    "from sklearn.utils import resample"
   ]
  },
  {
   "cell_type": "code",
   "execution_count": 139,
   "metadata": {
    "ExecuteTime": {
     "end_time": "2020-06-03T15:47:58.668262Z",
     "start_time": "2020-06-03T15:47:49.323430Z"
    }
   },
   "outputs": [],
   "source": [
    "# load dataset\n",
    "df = pd.read_csv(\"/Users/samholt/GA/DSI12-lessons/projects/Capstone_Project/Capstone_MKII_DataFinal.csv'\")"
   ]
  },
  {
   "cell_type": "code",
   "execution_count": 140,
   "metadata": {
    "ExecuteTime": {
     "end_time": "2020-06-03T15:47:59.571830Z",
     "start_time": "2020-06-03T15:47:58.696233Z"
    }
   },
   "outputs": [],
   "source": [
    "#set index to unnamed\n",
    "df.drop(\"Unnamed: 0\", axis= 1, inplace= True)"
   ]
  },
  {
   "cell_type": "markdown",
   "metadata": {},
   "source": [
    "## Create Sparse Dataframe\n",
    "* Data is far to large to convert into normal dataframe\n",
    "* Requires creation of a sparse pivot, authors for rows, subreddits for columns & number of posts as variable"
   ]
  },
  {
   "cell_type": "code",
   "execution_count": 141,
   "metadata": {
    "ExecuteTime": {
     "end_time": "2020-06-03T15:48:00.944351Z",
     "start_time": "2020-06-03T15:47:59.574547Z"
    }
   },
   "outputs": [],
   "source": [
    "# creating unique list of subreddits with target as the last value for ease of data manipulation\n",
    "unique_subs = list(df[\"subreddit\"].unique())\n",
    "unique_subs.remove(\"df_target\")\n",
    "unique_subs.append(\"df_target\")"
   ]
  },
  {
   "cell_type": "code",
   "execution_count": 142,
   "metadata": {
    "ExecuteTime": {
     "end_time": "2020-06-03T15:48:00.970039Z",
     "start_time": "2020-06-03T15:48:00.947053Z"
    }
   },
   "outputs": [],
   "source": [
    "# data is to large for a pandas pivot table, creating a function to create a sparse version \n",
    "\n",
    "def create_sparse_pivot(rows, cols, data, values):\n",
    "    ### function creates a sparse pivot table from large datasets\n",
    "    r = CategoricalDtype(sorted(data[rows].unique()), ordered=True)\n",
    "    c = CategoricalDtype(unique_subs)\n",
    "\n",
    "    row = data[rows].astype(r).cat.codes\n",
    "    col = data[cols].astype(c).cat.codes\n",
    "    sparse_matrix = csr_matrix((df[values], (row, col)), \\\n",
    "                           shape=(r.categories.size, c.categories.size))\n",
    "    \n",
    "    return sparse_matrix"
   ]
  },
  {
   "cell_type": "code",
   "execution_count": 143,
   "metadata": {
    "ExecuteTime": {
     "end_time": "2020-06-03T15:48:07.518571Z",
     "start_time": "2020-06-03T15:48:00.977425Z"
    }
   },
   "outputs": [],
   "source": [
    "# create sparse df & column references\n",
    "sparse_df = create_sparse_pivot(\"author\", \"subreddit\", df, \"posts\")"
   ]
  },
  {
   "cell_type": "code",
   "execution_count": 144,
   "metadata": {
    "ExecuteTime": {
     "end_time": "2020-06-03T15:48:07.763083Z",
     "start_time": "2020-06-03T15:48:07.537349Z"
    }
   },
   "outputs": [
    {
     "data": {
      "text/plain": [
       "0.0    0.94675\n",
       "1.0    0.05325\n",
       "Name: 0, dtype: float64"
      ]
     },
     "execution_count": 144,
     "metadata": {},
     "output_type": "execute_result"
    }
   ],
   "source": [
    "# checking baseline prediction for full dataframe\n",
    "baseline = pd.DataFrame(sparse_df[:, -1].todense())[0].value_counts(normalize= True)\n",
    "baseline"
   ]
  },
  {
   "cell_type": "code",
   "execution_count": 145,
   "metadata": {
    "ExecuteTime": {
     "end_time": "2020-06-03T15:48:08.021288Z",
     "start_time": "2020-06-03T15:48:07.765248Z"
    }
   },
   "outputs": [
    {
     "data": {
      "text/plain": [
       "0.0    0.946963\n",
       "1.0    0.053038\n",
       "Name: 0, dtype: float64"
      ]
     },
     "execution_count": 145,
     "metadata": {},
     "output_type": "execute_result"
    }
   ],
   "source": [
    "# create sample dataframe for proof of concept modelling\n",
    "sample_df = resample(sparse_df, n_samples = 80000, random_state = 13)\n",
    "\n",
    "# baseline of XX, high chance of overestimating the non-MH class- similar to the main sample\n",
    "baseline = pd.DataFrame(sample_df[:, -1].todense())[0].value_counts(normalize= True)\n",
    "baseline"
   ]
  },
  {
   "cell_type": "code",
   "execution_count": 146,
   "metadata": {
    "ExecuteTime": {
     "end_time": "2020-06-03T15:48:08.075914Z",
     "start_time": "2020-06-03T15:48:08.023033Z"
    }
   },
   "outputs": [],
   "source": [
    "# creating target and predictor variables\n",
    "X = sample_df[:,:-1]\n",
    "y = sample_df[:,-1].toarray().ravel()"
   ]
  },
  {
   "cell_type": "markdown",
   "metadata": {},
   "source": [
    "## Feature Selection \n",
    "* Given the sheer number of features, using a simple model-based selection process to reduce the number before looking into correlation and other factors"
   ]
  },
  {
   "cell_type": "code",
   "execution_count": 147,
   "metadata": {
    "ExecuteTime": {
     "end_time": "2020-06-03T15:48:08.082149Z",
     "start_time": "2020-06-03T15:48:08.078912Z"
    }
   },
   "outputs": [],
   "source": [
    "# going to take top 300 features through\n",
    "num_feats = 500"
   ]
  },
  {
   "cell_type": "code",
   "execution_count": 148,
   "metadata": {
    "ExecuteTime": {
     "end_time": "2020-06-03T15:57:00.277109Z",
     "start_time": "2020-06-03T15:48:08.086192Z"
    }
   },
   "outputs": [
    {
     "data": {
      "text/plain": [
       "SelectFromModel(estimator=RandomForestClassifier(bootstrap=True, ccp_alpha=0.0,\n",
       "                                                 class_weight=None,\n",
       "                                                 criterion='gini',\n",
       "                                                 max_depth=None,\n",
       "                                                 max_features='auto',\n",
       "                                                 max_leaf_nodes=None,\n",
       "                                                 max_samples=None,\n",
       "                                                 min_impurity_decrease=0.0,\n",
       "                                                 min_impurity_split=None,\n",
       "                                                 min_samples_leaf=1,\n",
       "                                                 min_samples_split=2,\n",
       "                                                 min_weight_fraction_leaf=0.0,\n",
       "                                                 n_estimators=100, n_jobs=None,\n",
       "                                                 oob_score=False,\n",
       "                                                 random_state=None, verbose=0,\n",
       "                                                 warm_start=False),\n",
       "                max_features=500, norm_order=1, prefit=False, threshold=None)"
      ]
     },
     "execution_count": 148,
     "metadata": {},
     "output_type": "execute_result"
    }
   ],
   "source": [
    "# using random forest for feature selection\n",
    "embeded_rf_selector = SelectFromModel(RandomForestClassifier(n_estimators=100), max_features=num_feats)\n",
    "embeded_rf_selector.fit(X, y)\n",
    "\n"
   ]
  },
  {
   "cell_type": "code",
   "execution_count": 149,
   "metadata": {
    "ExecuteTime": {
     "end_time": "2020-06-03T15:57:06.871570Z",
     "start_time": "2020-06-03T15:57:00.293191Z"
    }
   },
   "outputs": [],
   "source": [
    "# get column references and create new X data\n",
    "embeded_rf_support = embeded_rf_selector.get_support()\n",
    "\n",
    "X_new = [X[:,i].todense() for i, j in enumerate(embeded_rf_support) if j == True]\n",
    "X_cols = [unique_subs[i] for i, j in enumerate(embeded_rf_support) if j == True]"
   ]
  },
  {
   "cell_type": "code",
   "execution_count": 150,
   "metadata": {
    "ExecuteTime": {
     "end_time": "2020-06-03T15:57:08.763855Z",
     "start_time": "2020-06-03T15:57:06.887760Z"
    }
   },
   "outputs": [],
   "source": [
    "# create new database containing the relevant data\n",
    "df_select = pd.DataFrame(np.concatenate(X_new, axis=1), columns= X_cols)\n",
    "\n",
    "# append target variable\n",
    "df_select[\"df_target\"] = y\n"
   ]
  },
  {
   "cell_type": "code",
   "execution_count": 156,
   "metadata": {
    "ExecuteTime": {
     "end_time": "2020-06-03T16:02:29.702664Z",
     "start_time": "2020-06-03T16:02:02.730749Z"
    }
   },
   "outputs": [],
   "source": [
    "#final file to take through for processing\n",
    "df_select.to_csv(\"/Users/samholt/GA/DSI12-lessons/projects/Capstone_Project/Capstone_MKII_DataProcessed.csv'\")"
   ]
  },
  {
   "cell_type": "markdown",
   "metadata": {
    "ExecuteTime": {
     "end_time": "2020-06-01T20:18:34.568050Z",
     "start_time": "2020-06-01T20:18:34.564952Z"
    }
   },
   "source": [
    "## Understand correlation between the target and other subreddits"
   ]
  },
  {
   "cell_type": "markdown",
   "metadata": {
    "ExecuteTime": {
     "end_time": "2020-05-09T09:56:53.528071Z",
     "start_time": "2020-05-09T09:56:45.208506Z"
    }
   },
   "source": [
    "#### Understand correlation with target and top subreddits\n",
    "* Given large number of subreddits, only looking at those which are the highest in terms of number of posts\n",
    "* Overall correlation is low with the target variable for the majority of top subreddits, though some increase in correlation with subreddits centred around advice\n",
    "* In the majority of instances correlation is very low (between -5 to 5% correlation with positive target)\n",
    "    * Unsurprising given the significant imbalance within our target class and the fact that these are the most popular subreddits overall\n"
   ]
  },
  {
   "cell_type": "code",
   "execution_count": 153,
   "metadata": {
    "ExecuteTime": {
     "end_time": "2020-06-03T16:00:32.935470Z",
     "start_time": "2020-06-03T16:00:00.300618Z"
    }
   },
   "outputs": [
    {
     "data": {
      "text/html": [
       "<div>\n",
       "<style scoped>\n",
       "    .dataframe tbody tr th:only-of-type {\n",
       "        vertical-align: middle;\n",
       "    }\n",
       "\n",
       "    .dataframe tbody tr th {\n",
       "        vertical-align: top;\n",
       "    }\n",
       "\n",
       "    .dataframe thead th {\n",
       "        text-align: right;\n",
       "    }\n",
       "</style>\n",
       "<table border=\"1\" class=\"dataframe\">\n",
       "  <thead>\n",
       "    <tr style=\"text-align: right;\">\n",
       "      <th></th>\n",
       "      <th>df_target</th>\n",
       "    </tr>\n",
       "  </thead>\n",
       "  <tbody>\n",
       "    <tr>\n",
       "      <th>df_target</th>\n",
       "      <td>1.000000</td>\n",
       "    </tr>\n",
       "    <tr>\n",
       "      <th>Advice</th>\n",
       "      <td>0.105098</td>\n",
       "    </tr>\n",
       "    <tr>\n",
       "      <th>AskDocs</th>\n",
       "      <td>0.096822</td>\n",
       "    </tr>\n",
       "    <tr>\n",
       "      <th>relationships</th>\n",
       "      <td>0.088487</td>\n",
       "    </tr>\n",
       "    <tr>\n",
       "      <th>socialskills</th>\n",
       "      <td>0.074322</td>\n",
       "    </tr>\n",
       "    <tr>\n",
       "      <th>raisedbynarcissists</th>\n",
       "      <td>0.070332</td>\n",
       "    </tr>\n",
       "    <tr>\n",
       "      <th>offmychest</th>\n",
       "      <td>0.069596</td>\n",
       "    </tr>\n",
       "    <tr>\n",
       "      <th>UnsentLetters</th>\n",
       "      <td>0.067035</td>\n",
       "    </tr>\n",
       "    <tr>\n",
       "      <th>confession</th>\n",
       "      <td>0.063294</td>\n",
       "    </tr>\n",
       "    <tr>\n",
       "      <th>lonely</th>\n",
       "      <td>0.063113</td>\n",
       "    </tr>\n",
       "    <tr>\n",
       "      <th>loseit</th>\n",
       "      <td>0.061651</td>\n",
       "    </tr>\n",
       "    <tr>\n",
       "      <th>CasualConversation</th>\n",
       "      <td>0.061566</td>\n",
       "    </tr>\n",
       "    <tr>\n",
       "      <th>relationship_advice</th>\n",
       "      <td>0.061439</td>\n",
       "    </tr>\n",
       "    <tr>\n",
       "      <th>sex</th>\n",
       "      <td>0.060903</td>\n",
       "    </tr>\n",
       "    <tr>\n",
       "      <th>dating_advice</th>\n",
       "      <td>0.060477</td>\n",
       "    </tr>\n",
       "    <tr>\n",
       "      <th>ptsd</th>\n",
       "      <td>0.059440</td>\n",
       "    </tr>\n",
       "    <tr>\n",
       "      <th>sleep</th>\n",
       "      <td>0.053723</td>\n",
       "    </tr>\n",
       "    <tr>\n",
       "      <th>Anger</th>\n",
       "      <td>0.053221</td>\n",
       "    </tr>\n",
       "    <tr>\n",
       "      <th>Drugs</th>\n",
       "      <td>0.051780</td>\n",
       "    </tr>\n",
       "    <tr>\n",
       "      <th>ADHD</th>\n",
       "      <td>0.051719</td>\n",
       "    </tr>\n",
       "    <tr>\n",
       "      <th>aspergers</th>\n",
       "      <td>0.050303</td>\n",
       "    </tr>\n",
       "    <tr>\n",
       "      <th>BPD</th>\n",
       "      <td>0.049432</td>\n",
       "    </tr>\n",
       "    <tr>\n",
       "      <th>TooAfraidToAsk</th>\n",
       "      <td>0.048612</td>\n",
       "    </tr>\n",
       "    <tr>\n",
       "      <th>Vent</th>\n",
       "      <td>0.047338</td>\n",
       "    </tr>\n",
       "    <tr>\n",
       "      <th>CPTSD</th>\n",
       "      <td>0.047039</td>\n",
       "    </tr>\n",
       "  </tbody>\n",
       "</table>\n",
       "</div>"
      ],
      "text/plain": [
       "                     df_target\n",
       "df_target             1.000000\n",
       "Advice                0.105098\n",
       "AskDocs               0.096822\n",
       "relationships         0.088487\n",
       "socialskills          0.074322\n",
       "raisedbynarcissists   0.070332\n",
       "offmychest            0.069596\n",
       "UnsentLetters         0.067035\n",
       "confession            0.063294\n",
       "lonely                0.063113\n",
       "loseit                0.061651\n",
       "CasualConversation    0.061566\n",
       "relationship_advice   0.061439\n",
       "sex                   0.060903\n",
       "dating_advice         0.060477\n",
       "ptsd                  0.059440\n",
       "sleep                 0.053723\n",
       "Anger                 0.053221\n",
       "Drugs                 0.051780\n",
       "ADHD                  0.051719\n",
       "aspergers             0.050303\n",
       "BPD                   0.049432\n",
       "TooAfraidToAsk        0.048612\n",
       "Vent                  0.047338\n",
       "CPTSD                 0.047039"
      ]
     },
     "execution_count": 153,
     "metadata": {},
     "output_type": "execute_result"
    }
   ],
   "source": [
    "# get correlation for all subreddits and target\n",
    "df_corr = df_select.corr()[[\"df_target\"]]\n",
    "\n",
    "# get top 25 correlated\n",
    "df_corr.sort_values(by= \"df_target\", ascending= False)[:25]"
   ]
  },
  {
   "cell_type": "code",
   "execution_count": 154,
   "metadata": {
    "ExecuteTime": {
     "end_time": "2020-06-03T16:00:57.775144Z",
     "start_time": "2020-06-03T16:00:55.588344Z"
    }
   },
   "outputs": [
    {
     "data": {
      "image/png": "[encoded data removed]",
      "text/plain": [
       "<Figure size 576x720 with 2 Axes>"
      ]
     },
     "metadata": {
      "needs_background": "light"
     },
     "output_type": "display_data"
    }
   ],
   "source": [
    "# get top 25 correlated\n",
    "df_top_25_corr = df_corr.sort_values(by = \"df_target\", ascending= False)[:25]\n",
    "\n",
    "f, ax = plt.subplots(figsize = (8, 10))\n",
    "plt.rcParams.update({'font.size': 12})\n",
    "sns.heatmap(df_top_25_corr,cmap=sns.diverging_palette(20, 220, n=200), xticklabels= True, yticklabels= True, annot = True).set_title(\"Correlation of Top Subreddits with Posting to Target Subreddits\")\n",
    "plt.show()"
   ]
  },
  {
   "cell_type": "code",
   "execution_count": 155,
   "metadata": {
    "ExecuteTime": {
     "end_time": "2020-06-03T16:01:03.959558Z",
     "start_time": "2020-06-03T16:01:03.503807Z"
    }
   },
   "outputs": [
    {
     "data": {
      "image/png": "[encoded data removed]",
      "text/plain": [
       "<Figure size 936x504 with 1 Axes>"
      ]
     },
     "metadata": {
      "needs_background": "light"
     },
     "output_type": "display_data"
    }
   ],
   "source": [
    "fig, ax = plt.subplots(figsize=(13, 7))\n",
    "pd.DataFrame(df_select[df_top_25_corr.index].sum()).plot.bar(ax= ax, legend= False)\n",
    "\n",
    "plt.show()"
   ]
  },
  {
   "cell_type": "code",
   "execution_count": null,
   "metadata": {},
   "outputs": [],
   "source": []
  },
  {
   "cell_type": "code",
   "execution_count": null,
   "metadata": {},
   "outputs": [],
   "source": []
  }
 ],
 "metadata": {
  "kernelspec": {
   "display_name": "Python 3",
   "language": "python",
   "name": "python3"
  },
  "language_info": {
   "codemirror_mode": {
    "name": "ipython",
    "version": 3
   },
   "file_extension": ".py",
   "mimetype": "text/x-python",
   "name": "python",
   "nbconvert_exporter": "python",
   "pygments_lexer": "ipython3",
   "version": "3.7.6"
  },
  "varInspector": {
   "cols": {
    "lenName": 16,
    "lenType": 16,
    "lenVar": 40
   },
   "kernels_config": {
    "python": {
     "delete_cmd_postfix": "",
     "delete_cmd_prefix": "del ",
     "library": "var_list.py",
     "varRefreshCmd": "print(var_dic_list())"
    },
    "r": {
     "delete_cmd_postfix": ") ",
     "delete_cmd_prefix": "rm(",
     "library": "var_list.r",
     "varRefreshCmd": "cat(var_dic_list()) "
    }
   },
   "position": {
    "height": "378.212px",
    "left": "1755.56px",
    "right": "20px",
    "top": "120px",
    "width": "357.778px"
   },
   "types_to_exclude": [
    "module",
    "function",
    "builtin_function_or_method",
    "instance",
    "_Feature"
   ],
   "window_display": true
  }
 },
 "nbformat": 4,
 "nbformat_minor": 4
}
