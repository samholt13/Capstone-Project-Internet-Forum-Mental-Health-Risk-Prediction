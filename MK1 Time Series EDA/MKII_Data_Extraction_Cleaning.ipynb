{
 "cells": [
  {
   "cell_type": "markdown",
   "metadata": {},
   "source": [
    "### Import Libraries"
   ]
  },
  {
   "cell_type": "code",
   "execution_count": 3,
   "metadata": {
    "ExecuteTime": {
     "end_time": "2020-06-01T18:54:16.135674Z",
     "start_time": "2020-06-01T18:54:16.131497Z"
    }
   },
   "outputs": [],
   "source": [
    "import pandas as pd\n",
    "import seaborn as sns\n",
    "import matplotlib.pyplot as plt"
   ]
  },
  {
   "cell_type": "markdown",
   "metadata": {},
   "source": [
    "#### Data Import & Initial Munging\n",
    "* Data was pulled from the bigquery pushshift.io dataset via SQL, with author, subreddit and count of number of posts from 2018\n",
    "* Full SQL query:\n",
    "    * SELECT author, subreddit, count(subreddit) FROM [fh-bigquery.reddit_posts.2018_12] WHERE author != \"[deleted]\" AND subreddit IS NOT NULL GROUP BY author, subreddit\n",
    "* Included all months for 2018 within SQL query\n"
   ]
  },
  {
   "cell_type": "code",
   "execution_count": 4,
   "metadata": {
    "ExecuteTime": {
     "end_time": "2020-06-01T18:55:28.599297Z",
     "start_time": "2020-06-01T18:54:16.178486Z"
    }
   },
   "outputs": [],
   "source": [
    "#import data, 3 files with all 2018 posts split into between\n",
    "raw_data_1 = pd.read_csv('/Users/samholt/GA/Capstone_Data_MKII/Capstone_MKII_Data_1.csv', sep = \",\")\n",
    "raw_data_2 = pd.read_csv('/Users/samholt/GA/Capstone_Data_MKII/Capstone_MKII_Data_2.csv', sep = \",\")\n",
    "raw_data_3 = pd.read_csv('/Users/samholt/GA/Capstone_Data_MKII/Capstone_MKII_Data_3.csv', sep = \",\")"
   ]
  },
  {
   "cell_type": "code",
   "execution_count": 5,
   "metadata": {
    "ExecuteTime": {
     "end_time": "2020-06-01T18:59:11.398884Z",
     "start_time": "2020-06-01T18:55:28.713462Z"
    }
   },
   "outputs": [],
   "source": [
    "# merge dataframe\n",
    "df_first = pd.merge(raw_data_1, raw_data_2, on=[\"author\", \"subreddit\"], how= \"outer\" )\n",
    "df= pd.merge(raw_data_3, df_first, on=[\"author\", \"subreddit\"], how= \"outer\" )"
   ]
  },
  {
   "cell_type": "code",
   "execution_count": 6,
   "metadata": {
    "ExecuteTime": {
     "end_time": "2020-06-01T18:59:11.682723Z",
     "start_time": "2020-06-01T18:59:11.565968Z"
    }
   },
   "outputs": [
    {
     "data": {
      "text/html": [
       "<div>\n",
       "<style scoped>\n",
       "    .dataframe tbody tr th:only-of-type {\n",
       "        vertical-align: middle;\n",
       "    }\n",
       "\n",
       "    .dataframe tbody tr th {\n",
       "        vertical-align: top;\n",
       "    }\n",
       "\n",
       "    .dataframe thead th {\n",
       "        text-align: right;\n",
       "    }\n",
       "</style>\n",
       "<table border=\"1\" class=\"dataframe\">\n",
       "  <thead>\n",
       "    <tr style=\"text-align: right;\">\n",
       "      <th></th>\n",
       "      <th>author</th>\n",
       "      <th>subreddit</th>\n",
       "      <th>f0_</th>\n",
       "      <th>f0__x</th>\n",
       "      <th>f0__y</th>\n",
       "    </tr>\n",
       "  </thead>\n",
       "  <tbody>\n",
       "    <tr>\n",
       "      <th>0</th>\n",
       "      <td>businessbrand121</td>\n",
       "      <td>business</td>\n",
       "      <td>8.0</td>\n",
       "      <td>NaN</td>\n",
       "      <td>NaN</td>\n",
       "    </tr>\n",
       "    <tr>\n",
       "      <th>1</th>\n",
       "      <td>GenericManChild</td>\n",
       "      <td>starbound</td>\n",
       "      <td>9.0</td>\n",
       "      <td>1.0</td>\n",
       "      <td>1.0</td>\n",
       "    </tr>\n",
       "    <tr>\n",
       "      <th>2</th>\n",
       "      <td>AutoModerator</td>\n",
       "      <td>AroundTheNFL</td>\n",
       "      <td>9.0</td>\n",
       "      <td>8.0</td>\n",
       "      <td>9.0</td>\n",
       "    </tr>\n",
       "    <tr>\n",
       "      <th>3</th>\n",
       "      <td>sleepinzombie</td>\n",
       "      <td>iphone</td>\n",
       "      <td>8.0</td>\n",
       "      <td>1.0</td>\n",
       "      <td>NaN</td>\n",
       "    </tr>\n",
       "    <tr>\n",
       "      <th>4</th>\n",
       "      <td>switchnbitch</td>\n",
       "      <td>GonewildAudible</td>\n",
       "      <td>8.0</td>\n",
       "      <td>NaN</td>\n",
       "      <td>7.0</td>\n",
       "    </tr>\n",
       "  </tbody>\n",
       "</table>\n",
       "</div>"
      ],
      "text/plain": [
       "             author        subreddit  f0_  f0__x  f0__y\n",
       "0  businessbrand121         business  8.0    NaN    NaN\n",
       "1   GenericManChild        starbound  9.0    1.0    1.0\n",
       "2     AutoModerator     AroundTheNFL  9.0    8.0    9.0\n",
       "3     sleepinzombie           iphone  8.0    1.0    NaN\n",
       "4      switchnbitch  GonewildAudible  8.0    NaN    7.0"
      ]
     },
     "execution_count": 6,
     "metadata": {},
     "output_type": "execute_result"
    }
   ],
   "source": [
    "#  checking to see how the merge has gone, need to deal with null values\n",
    "df.head()"
   ]
  },
  {
   "cell_type": "code",
   "execution_count": 7,
   "metadata": {
    "ExecuteTime": {
     "end_time": "2020-06-01T18:59:32.787129Z",
     "start_time": "2020-06-01T18:59:11.737438Z"
    }
   },
   "outputs": [],
   "source": [
    "#dealing with null values with 0 as they mean a user hasn't posted to that subreddit in one of the three periods\n",
    "df.fillna(0, inplace= True)"
   ]
  },
  {
   "cell_type": "code",
   "execution_count": 8,
   "metadata": {
    "ExecuteTime": {
     "end_time": "2020-06-01T18:59:34.990158Z",
     "start_time": "2020-06-01T18:59:32.874987Z"
    }
   },
   "outputs": [],
   "source": [
    "# create one variable with overall count of posts per subreddit per user\n",
    "df[\"posts\"] = df[\"f0_\"] + df[\"f0__x\"] + df[\"f0__y\"]"
   ]
  },
  {
   "cell_type": "code",
   "execution_count": 9,
   "metadata": {
    "ExecuteTime": {
     "end_time": "2020-06-01T19:00:34.595105Z",
     "start_time": "2020-06-01T18:59:35.072260Z"
    }
   },
   "outputs": [],
   "source": [
    "#drop the remaining variables\n",
    "df.drop(labels= ['f0_', 'f0__x', 'f0__y'], inplace= True, axis= 1)"
   ]
  },
  {
   "cell_type": "code",
   "execution_count": 10,
   "metadata": {
    "ExecuteTime": {
     "end_time": "2020-06-01T19:00:34.745674Z",
     "start_time": "2020-06-01T19:00:34.725963Z"
    }
   },
   "outputs": [
    {
     "name": "stdout",
     "output_type": "stream",
     "text": [
      "<class 'pandas.core.frame.DataFrame'>\n",
      "Int64Index: 40347434 entries, 0 to 40347433\n",
      "Data columns (total 3 columns):\n",
      " #   Column     Dtype  \n",
      "---  ------     -----  \n",
      " 0   author     object \n",
      " 1   subreddit  object \n",
      " 2   posts      float64\n",
      "dtypes: float64(1), object(2)\n",
      "memory usage: 1.2+ GB\n"
     ]
    }
   ],
   "source": [
    "#check for null values, \n",
    "df.info()"
   ]
  },
  {
   "cell_type": "code",
   "execution_count": 14,
   "metadata": {
    "ExecuteTime": {
     "end_time": "2020-06-01T19:01:24.101761Z",
     "start_time": "2020-06-01T19:01:24.095489Z"
    }
   },
   "outputs": [
    {
     "data": {
      "text/plain": [
       "(40347434, 3)"
      ]
     },
     "execution_count": 14,
     "metadata": {},
     "output_type": "execute_result"
    }
   ],
   "source": [
    "df.shape"
   ]
  },
  {
   "cell_type": "code",
   "execution_count": 12,
   "metadata": {
    "ExecuteTime": {
     "end_time": "2020-06-01T19:01:22.987919Z",
     "start_time": "2020-06-01T19:00:43.885515Z"
    }
   },
   "outputs": [],
   "source": [
    "num_authors = len(df[\"author\"].unique())\n",
    "num_subreddits = len(df[\"subreddit\"].unique())\n",
    "num_posts = df[\"posts\"].sum()"
   ]
  },
  {
   "cell_type": "code",
   "execution_count": 15,
   "metadata": {
    "ExecuteTime": {
     "end_time": "2020-06-01T19:42:12.194542Z",
     "start_time": "2020-06-01T19:42:10.278492Z"
    }
   },
   "outputs": [
    {
     "data": {
      "image/png": "[encoded data removed]",
      "text/plain": [
       "<Figure size 576x576 with 1 Axes>"
      ]
     },
     "metadata": {
      "needs_background": "light"
     },
     "output_type": "display_data"
    }
   ],
   "source": [
    "labels = [num_authors, num_subreddits, num_posts]\n",
    "plt.rcParams.update({'font.size': 16})\n",
    "fig, ax = plt.subplots(figsize = (8, 8))\n",
    "plt.bar(x = [\"Users\", \"Subreddits\", \"Posts\"], height= labels, log = True)\n",
    "plt.title(\"Unique Counts within Dataset\")\n",
    "plt.show()"
   ]
  },
  {
   "cell_type": "code",
   "execution_count": null,
   "metadata": {},
   "outputs": [],
   "source": []
  },
  {
   "cell_type": "code",
   "execution_count": null,
   "metadata": {},
   "outputs": [],
   "source": []
  }
 ],
 "metadata": {
  "kernelspec": {
   "display_name": "Python 3",
   "language": "python",
   "name": "python3"
  },
  "language_info": {
   "codemirror_mode": {
    "name": "ipython",
    "version": 3
   },
   "file_extension": ".py",
   "mimetype": "text/x-python",
   "name": "python",
   "nbconvert_exporter": "python",
   "pygments_lexer": "ipython3",
   "version": "3.7.6"
  },
  "varInspector": {
   "cols": {
    "lenName": 16,
    "lenType": 16,
    "lenVar": 40
   },
   "kernels_config": {
    "python": {
     "delete_cmd_postfix": "",
     "delete_cmd_prefix": "del ",
     "library": "var_list.py",
     "varRefreshCmd": "print(var_dic_list())"
    },
    "r": {
     "delete_cmd_postfix": ") ",
     "delete_cmd_prefix": "rm(",
     "library": "var_list.r",
     "varRefreshCmd": "cat(var_dic_list()) "
    }
   },
   "types_to_exclude": [
    "module",
    "function",
    "builtin_function_or_method",
    "instance",
    "_Feature"
   ],
   "window_display": true
  }
 },
 "nbformat": 4,
 "nbformat_minor": 4
}
