{
 "cells": [
  {
   "cell_type": "markdown",
   "metadata": {},
   "source": [
    "## Import Libraries"
   ]
  },
  {
   "cell_type": "code",
   "execution_count": 36,
   "metadata": {
    "ExecuteTime": {
     "end_time": "2020-06-03T14:34:05.371857Z",
     "start_time": "2020-06-03T14:34:05.251194Z"
    }
   },
   "outputs": [],
   "source": [
    "import pandas as pd\n",
    "import seaborn as sns\n",
    "import matplotlib.pyplot as plt"
   ]
  },
  {
   "cell_type": "markdown",
   "metadata": {},
   "source": [
    "## Data Import & Initial Munging\n",
    "* Data was pulled from the bigquery pushshift.io dataset via SQL, with author, subreddit and count of number of posts from 2018\n",
    "* Full SQL query:\n",
    "    * SELECT author, subreddit, count(subreddit) FROM [fh-bigquery.reddit_posts.2018_12] WHERE author != \"[deleted]\" AND subreddit IS NOT NULL GROUP BY author, subreddit\n",
    "* Included all months for 2018 within SQL query\n"
   ]
  },
  {
   "cell_type": "code",
   "execution_count": 37,
   "metadata": {
    "ExecuteTime": {
     "end_time": "2020-06-03T14:37:26.540723Z",
     "start_time": "2020-06-03T14:34:05.379148Z"
    }
   },
   "outputs": [],
   "source": [
    "#import data, 3 files with all 2018 posts split into between\n",
    "raw_data_1 = pd.read_csv('/Users/samholt/GA/Capstone_Data_MKII/Capstone_MKII_Data_1.csv', sep = \",\")\n",
    "raw_data_2 = pd.read_csv('/Users/samholt/GA/Capstone_Data_MKII/Capstone_MKII_Data_2.csv', sep = \",\")\n",
    "raw_data_3 = pd.read_csv('/Users/samholt/GA/Capstone_Data_MKII/Capstone_MKII_Data_3.csv', sep = \",\")"
   ]
  },
  {
   "cell_type": "code",
   "execution_count": 38,
   "metadata": {
    "ExecuteTime": {
     "end_time": "2020-06-03T14:44:21.940634Z",
     "start_time": "2020-06-03T14:37:26.584098Z"
    }
   },
   "outputs": [],
   "source": [
    "# merge dataframe\n",
    "df_first = pd.merge(raw_data_1, raw_data_2, on=[\"author\", \"subreddit\"], how= \"outer\" )\n",
    "df= pd.merge(raw_data_3, df_first, on=[\"author\", \"subreddit\"], how= \"outer\" )"
   ]
  },
  {
   "cell_type": "code",
   "execution_count": 39,
   "metadata": {
    "ExecuteTime": {
     "end_time": "2020-06-03T14:44:22.511805Z",
     "start_time": "2020-06-03T14:44:22.036070Z"
    }
   },
   "outputs": [
    {
     "data": {
      "text/html": [
       "<div>\n",
       "<style scoped>\n",
       "    .dataframe tbody tr th:only-of-type {\n",
       "        vertical-align: middle;\n",
       "    }\n",
       "\n",
       "    .dataframe tbody tr th {\n",
       "        vertical-align: top;\n",
       "    }\n",
       "\n",
       "    .dataframe thead th {\n",
       "        text-align: right;\n",
       "    }\n",
       "</style>\n",
       "<table border=\"1\" class=\"dataframe\">\n",
       "  <thead>\n",
       "    <tr style=\"text-align: right;\">\n",
       "      <th></th>\n",
       "      <th>author</th>\n",
       "      <th>subreddit</th>\n",
       "      <th>f0_</th>\n",
       "      <th>f0__x</th>\n",
       "      <th>f0__y</th>\n",
       "    </tr>\n",
       "  </thead>\n",
       "  <tbody>\n",
       "    <tr>\n",
       "      <th>0</th>\n",
       "      <td>businessbrand121</td>\n",
       "      <td>business</td>\n",
       "      <td>8.000000</td>\n",
       "      <td>nan</td>\n",
       "      <td>nan</td>\n",
       "    </tr>\n",
       "    <tr>\n",
       "      <th>1</th>\n",
       "      <td>GenericManChild</td>\n",
       "      <td>starbound</td>\n",
       "      <td>9.000000</td>\n",
       "      <td>1.000000</td>\n",
       "      <td>1.000000</td>\n",
       "    </tr>\n",
       "    <tr>\n",
       "      <th>2</th>\n",
       "      <td>AutoModerator</td>\n",
       "      <td>AroundTheNFL</td>\n",
       "      <td>9.000000</td>\n",
       "      <td>8.000000</td>\n",
       "      <td>9.000000</td>\n",
       "    </tr>\n",
       "    <tr>\n",
       "      <th>3</th>\n",
       "      <td>sleepinzombie</td>\n",
       "      <td>iphone</td>\n",
       "      <td>8.000000</td>\n",
       "      <td>1.000000</td>\n",
       "      <td>nan</td>\n",
       "    </tr>\n",
       "    <tr>\n",
       "      <th>4</th>\n",
       "      <td>switchnbitch</td>\n",
       "      <td>GonewildAudible</td>\n",
       "      <td>8.000000</td>\n",
       "      <td>nan</td>\n",
       "      <td>7.000000</td>\n",
       "    </tr>\n",
       "  </tbody>\n",
       "</table>\n",
       "</div>"
      ],
      "text/plain": [
       "             author        subreddit      f0_    f0__x    f0__y\n",
       "0  businessbrand121         business 8.000000      nan      nan\n",
       "1   GenericManChild        starbound 9.000000 1.000000 1.000000\n",
       "2     AutoModerator     AroundTheNFL 9.000000 8.000000 9.000000\n",
       "3     sleepinzombie           iphone 8.000000 1.000000      nan\n",
       "4      switchnbitch  GonewildAudible 8.000000      nan 7.000000"
      ]
     },
     "execution_count": 39,
     "metadata": {},
     "output_type": "execute_result"
    }
   ],
   "source": [
    "#  checking to see how the merge has gone, need to deal with null values\n",
    "df.head()"
   ]
  },
  {
   "cell_type": "code",
   "execution_count": 40,
   "metadata": {
    "ExecuteTime": {
     "end_time": "2020-06-03T14:44:58.214442Z",
     "start_time": "2020-06-03T14:44:22.518895Z"
    }
   },
   "outputs": [],
   "source": [
    "#dealing with null values with 0 as they mean a user hasn't posted to that subreddit in one of the three periods\n",
    "df.fillna(0, inplace= True)"
   ]
  },
  {
   "cell_type": "code",
   "execution_count": 41,
   "metadata": {
    "ExecuteTime": {
     "end_time": "2020-06-03T14:45:00.405290Z",
     "start_time": "2020-06-03T14:44:58.238871Z"
    }
   },
   "outputs": [],
   "source": [
    "# create one variable with overall count of posts per subreddit per user\n",
    "df[\"posts\"] = df[\"f0_\"] + df[\"f0__x\"] + df[\"f0__y\"]"
   ]
  },
  {
   "cell_type": "code",
   "execution_count": 42,
   "metadata": {
    "ExecuteTime": {
     "end_time": "2020-06-03T14:46:35.176887Z",
     "start_time": "2020-06-03T14:45:00.422919Z"
    }
   },
   "outputs": [],
   "source": [
    "#drop the remaining variables\n",
    "df.drop(labels= ['f0_', 'f0__x', 'f0__y'], inplace= True, axis= 1)"
   ]
  },
  {
   "cell_type": "code",
   "execution_count": 43,
   "metadata": {
    "ExecuteTime": {
     "end_time": "2020-06-03T14:46:35.310818Z",
     "start_time": "2020-06-03T14:46:35.191383Z"
    }
   },
   "outputs": [
    {
     "name": "stdout",
     "output_type": "stream",
     "text": [
      "<class 'pandas.core.frame.DataFrame'>\n",
      "Int64Index: 40347434 entries, 0 to 40347433\n",
      "Data columns (total 3 columns):\n",
      " #   Column     Dtype  \n",
      "---  ------     -----  \n",
      " 0   author     object \n",
      " 1   subreddit  object \n",
      " 2   posts      float64\n",
      "dtypes: float64(1), object(2)\n",
      "memory usage: 1.2+ GB\n"
     ]
    }
   ],
   "source": [
    "#check for null values, \n",
    "df.info()"
   ]
  },
  {
   "cell_type": "code",
   "execution_count": 44,
   "metadata": {
    "ExecuteTime": {
     "end_time": "2020-06-03T14:46:35.378402Z",
     "start_time": "2020-06-03T14:46:35.330699Z"
    }
   },
   "outputs": [
    {
     "data": {
      "text/plain": [
       "(40347434, 3)"
      ]
     },
     "execution_count": 44,
     "metadata": {},
     "output_type": "execute_result"
    }
   ],
   "source": [
    "df.shape"
   ]
  },
  {
   "cell_type": "code",
   "execution_count": 45,
   "metadata": {
    "ExecuteTime": {
     "end_time": "2020-06-03T14:48:37.901100Z",
     "start_time": "2020-06-03T14:46:35.382519Z"
    }
   },
   "outputs": [],
   "source": [
    "num_authors = len(df[\"author\"].unique())\n",
    "num_subreddits = len(df[\"subreddit\"].unique())\n",
    "num_posts = df[\"posts\"].sum()"
   ]
  },
  {
   "cell_type": "code",
   "execution_count": 46,
   "metadata": {
    "ExecuteTime": {
     "end_time": "2020-06-03T14:48:42.355922Z",
     "start_time": "2020-06-03T14:48:37.936992Z"
    }
   },
   "outputs": [
    {
     "data": {
      "image/png": "[encoded data removed]",
      "text/plain": [
       "<Figure size 576x576 with 1 Axes>"
      ]
     },
     "metadata": {
      "needs_background": "light"
     },
     "output_type": "display_data"
    }
   ],
   "source": [
    "labels = [num_authors, num_subreddits, num_posts]\n",
    "plt.rcParams.update({'font.size': 16})\n",
    "fig, ax = plt.subplots(figsize = (8, 8))\n",
    "plt.bar(x = [\"Users\", \"Subreddits\", \"Posts\"], height= labels, log = True)\n",
    "plt.title(\"Unique Counts within Dataset\")\n",
    "plt.show()"
   ]
  },
  {
   "cell_type": "markdown",
   "metadata": {},
   "source": [
    "## Data Cleaning Steps\n",
    "* Converting authors to numerical key, saves memory & not interested in specific users\n",
    "* Dealing with outliers in number of posts per user\n",
    "* Understanding subreddit usage per user & removing those with limited information (number of subreddits posted to)\n",
    "* Creating target variable\n",
    "    * Boolean for whether a user posted to list of mental health related subreddits\n",
    "* Merging single user subreddits and those with a small number of users in to one variable"
   ]
  },
  {
   "cell_type": "markdown",
   "metadata": {},
   "source": [
    "#### Convert Authors to Numerical Key\n",
    "* As we don't want to delve into individual tastes, and to save on any issues with memory converting authors to a numerical key"
   ]
  },
  {
   "cell_type": "code",
   "execution_count": 47,
   "metadata": {
    "ExecuteTime": {
     "end_time": "2020-06-03T14:51:04.129476Z",
     "start_time": "2020-06-03T14:48:42.364057Z"
    }
   },
   "outputs": [
    {
     "data": {
      "text/plain": [
       "12196808"
      ]
     },
     "execution_count": 47,
     "metadata": {},
     "output_type": "execute_result"
    }
   ],
   "source": [
    "# get list of unique authors\n",
    "authors = df[\"author\"].unique()\n",
    "len(authors)"
   ]
  },
  {
   "cell_type": "code",
   "execution_count": 48,
   "metadata": {
    "ExecuteTime": {
     "end_time": "2020-06-03T14:53:25.407355Z",
     "start_time": "2020-06-03T14:51:04.149141Z"
    }
   },
   "outputs": [],
   "source": [
    "# creating dictionary in order to assign numerical value per author\n",
    "authors_dict = {}\n",
    "counter = 0\n",
    "for i in authors:\n",
    "    authors_dict[i] = counter\n",
    "    counter +=1"
   ]
  },
  {
   "cell_type": "code",
   "execution_count": 49,
   "metadata": {
    "ExecuteTime": {
     "end_time": "2020-06-03T15:05:43.286470Z",
     "start_time": "2020-06-03T14:53:25.428254Z"
    }
   },
   "outputs": [],
   "source": [
    "# replace authors with created numerical key\n",
    "df[\"author\"] = [authors_dict[i] for i in df[\"author\"]]"
   ]
  },
  {
   "cell_type": "markdown",
   "metadata": {},
   "source": [
    "#### Checking for outliers\n",
    "* Visualisation of the data shows a number of outliers in terms of number of posts per user; high posters were often bots or spam and were removed"
   ]
  },
  {
   "cell_type": "code",
   "execution_count": 50,
   "metadata": {
    "ExecuteTime": {
     "end_time": "2020-06-03T15:05:56.340844Z",
     "start_time": "2020-06-03T15:05:43.328963Z"
    }
   },
   "outputs": [
    {
     "data": {
      "text/html": [
       "<div>\n",
       "<style scoped>\n",
       "    .dataframe tbody tr th:only-of-type {\n",
       "        vertical-align: middle;\n",
       "    }\n",
       "\n",
       "    .dataframe tbody tr th {\n",
       "        vertical-align: top;\n",
       "    }\n",
       "\n",
       "    .dataframe thead th {\n",
       "        text-align: right;\n",
       "    }\n",
       "</style>\n",
       "<table border=\"1\" class=\"dataframe\">\n",
       "  <thead>\n",
       "    <tr style=\"text-align: right;\">\n",
       "      <th></th>\n",
       "      <th>author</th>\n",
       "      <th>posts</th>\n",
       "    </tr>\n",
       "  </thead>\n",
       "  <tbody>\n",
       "    <tr>\n",
       "      <th>count</th>\n",
       "      <td>40347434.000000</td>\n",
       "      <td>40347434.000000</td>\n",
       "    </tr>\n",
       "    <tr>\n",
       "      <th>mean</th>\n",
       "      <td>4137176.743367</td>\n",
       "      <td>3.102450</td>\n",
       "    </tr>\n",
       "    <tr>\n",
       "      <th>std</th>\n",
       "      <td>3368923.448197</td>\n",
       "      <td>420.571889</td>\n",
       "    </tr>\n",
       "    <tr>\n",
       "      <th>min</th>\n",
       "      <td>0.000000</td>\n",
       "      <td>1.000000</td>\n",
       "    </tr>\n",
       "    <tr>\n",
       "      <th>25%</th>\n",
       "      <td>1122532.000000</td>\n",
       "      <td>1.000000</td>\n",
       "    </tr>\n",
       "    <tr>\n",
       "      <th>50%</th>\n",
       "      <td>3310141.000000</td>\n",
       "      <td>1.000000</td>\n",
       "    </tr>\n",
       "    <tr>\n",
       "      <th>75%</th>\n",
       "      <td>6514580.750000</td>\n",
       "      <td>2.000000</td>\n",
       "    </tr>\n",
       "    <tr>\n",
       "      <th>max</th>\n",
       "      <td>12196807.000000</td>\n",
       "      <td>2243748.000000</td>\n",
       "    </tr>\n",
       "  </tbody>\n",
       "</table>\n",
       "</div>"
      ],
      "text/plain": [
       "               author           posts\n",
       "count 40347434.000000 40347434.000000\n",
       "mean   4137176.743367        3.102450\n",
       "std    3368923.448197      420.571889\n",
       "min          0.000000        1.000000\n",
       "25%    1122532.000000        1.000000\n",
       "50%    3310141.000000        1.000000\n",
       "75%    6514580.750000        2.000000\n",
       "max   12196807.000000  2243748.000000"
      ]
     },
     "execution_count": 50,
     "metadata": {},
     "output_type": "execute_result"
    }
   ],
   "source": [
    "# every user has posted at least once to a specific subreddit, though seem to be a curiously high number of posts in some instances\n",
    "pd.set_option('float_format', '{:f}'.format)\n",
    "df.describe()"
   ]
  },
  {
   "cell_type": "code",
   "execution_count": 51,
   "metadata": {
    "ExecuteTime": {
     "end_time": "2020-06-03T15:06:19.004866Z",
     "start_time": "2020-06-03T15:05:56.364840Z"
    }
   },
   "outputs": [
    {
     "data": {
      "image/png": "[encoded data removed]",
      "text/plain": [
       "<Figure size 720x360 with 1 Axes>"
      ]
     },
     "metadata": {
      "needs_background": "light"
     },
     "output_type": "display_data"
    }
   ],
   "source": [
    "# check distribution of data, we see a high number of outliers which indicate strange behaviour\n",
    "\n",
    "fig, ax = plt.subplots(figsize=(10, 5))\n",
    "plt.rcParams.update({'font.size': 16})\n",
    "sns.boxplot(data=df[\"posts\"], orient='h', fliersize=5, linewidth=3,\n",
    "            saturation=0.5, ax=ax)\n",
    "\n",
    "ax.set_title('Number of Posts per User, Pre-Outlier Removal')\n",
    "ax.set_xscale(\"log\")\n",
    "plt.show()"
   ]
  },
  {
   "cell_type": "code",
   "execution_count": 52,
   "metadata": {
    "ExecuteTime": {
     "end_time": "2020-06-03T15:06:37.667505Z",
     "start_time": "2020-06-03T15:06:19.008128Z"
    }
   },
   "outputs": [
    {
     "data": {
      "text/html": [
       "<div>\n",
       "<style scoped>\n",
       "    .dataframe tbody tr th:only-of-type {\n",
       "        vertical-align: middle;\n",
       "    }\n",
       "\n",
       "    .dataframe tbody tr th {\n",
       "        vertical-align: top;\n",
       "    }\n",
       "\n",
       "    .dataframe thead th {\n",
       "        text-align: right;\n",
       "    }\n",
       "</style>\n",
       "<table border=\"1\" class=\"dataframe\">\n",
       "  <thead>\n",
       "    <tr style=\"text-align: right;\">\n",
       "      <th></th>\n",
       "      <th>author</th>\n",
       "      <th>subreddit</th>\n",
       "      <th>posts</th>\n",
       "    </tr>\n",
       "  </thead>\n",
       "  <tbody>\n",
       "    <tr>\n",
       "      <th>3993</th>\n",
       "      <td>3932</td>\n",
       "      <td>AutoNewspaper</td>\n",
       "      <td>2243748.000000</td>\n",
       "    </tr>\n",
       "    <tr>\n",
       "      <th>2848</th>\n",
       "      <td>2821</td>\n",
       "      <td>newsbotbot</td>\n",
       "      <td>819895.000000</td>\n",
       "    </tr>\n",
       "    <tr>\n",
       "      <th>4211710</th>\n",
       "      <td>2661946</td>\n",
       "      <td>TranscribersOfReddit</td>\n",
       "      <td>359610.000000</td>\n",
       "    </tr>\n",
       "    <tr>\n",
       "      <th>1702860</th>\n",
       "      <td>1321537</td>\n",
       "      <td>forexhome</td>\n",
       "      <td>345320.000000</td>\n",
       "    </tr>\n",
       "    <tr>\n",
       "      <th>2542328</th>\n",
       "      <td>1822605</td>\n",
       "      <td>removalbot</td>\n",
       "      <td>327779.000000</td>\n",
       "    </tr>\n",
       "    <tr>\n",
       "      <th>...</th>\n",
       "      <td>...</td>\n",
       "      <td>...</td>\n",
       "      <td>...</td>\n",
       "    </tr>\n",
       "    <tr>\n",
       "      <th>17058605</th>\n",
       "      <td>3681505</td>\n",
       "      <td>KotakuInAction</td>\n",
       "      <td>1.000000</td>\n",
       "    </tr>\n",
       "    <tr>\n",
       "      <th>17058604</th>\n",
       "      <td>5070668</td>\n",
       "      <td>BoJackHorseman</td>\n",
       "      <td>1.000000</td>\n",
       "    </tr>\n",
       "    <tr>\n",
       "      <th>17058603</th>\n",
       "      <td>3003823</td>\n",
       "      <td>BipolarSOs</td>\n",
       "      <td>1.000000</td>\n",
       "    </tr>\n",
       "    <tr>\n",
       "      <th>17058602</th>\n",
       "      <td>6964174</td>\n",
       "      <td>AskDocs</td>\n",
       "      <td>1.000000</td>\n",
       "    </tr>\n",
       "    <tr>\n",
       "      <th>20173717</th>\n",
       "      <td>5421151</td>\n",
       "      <td>Blackops4</td>\n",
       "      <td>1.000000</td>\n",
       "    </tr>\n",
       "  </tbody>\n",
       "</table>\n",
       "<p>40347434 rows × 3 columns</p>\n",
       "</div>"
      ],
      "text/plain": [
       "           author             subreddit          posts\n",
       "3993         3932         AutoNewspaper 2243748.000000\n",
       "2848         2821            newsbotbot  819895.000000\n",
       "4211710   2661946  TranscribersOfReddit  359610.000000\n",
       "1702860   1321537             forexhome  345320.000000\n",
       "2542328   1822605            removalbot  327779.000000\n",
       "...           ...                   ...            ...\n",
       "17058605  3681505        KotakuInAction       1.000000\n",
       "17058604  5070668        BoJackHorseman       1.000000\n",
       "17058603  3003823            BipolarSOs       1.000000\n",
       "17058602  6964174               AskDocs       1.000000\n",
       "20173717  5421151             Blackops4       1.000000\n",
       "\n",
       "[40347434 rows x 3 columns]"
      ]
     },
     "execution_count": 52,
     "metadata": {},
     "output_type": "execute_result"
    }
   ],
   "source": [
    "# we see there are a lot of bots included with these outliers which we will need to remove\n",
    "df.sort_values(by = \"posts\", axis= 0, ascending= False)"
   ]
  },
  {
   "cell_type": "code",
   "execution_count": 53,
   "metadata": {
    "ExecuteTime": {
     "end_time": "2020-06-03T15:06:37.894142Z",
     "start_time": "2020-06-03T15:06:37.680034Z"
    }
   },
   "outputs": [],
   "source": [
    "df_mean = df[\"posts\"].mean()\n",
    "df_std = df[\"posts\"].std()\n",
    "df_outliers = df[df[\"posts\"] > df_mean + (df_std * 4)]"
   ]
  },
  {
   "cell_type": "code",
   "execution_count": 54,
   "metadata": {
    "ExecuteTime": {
     "end_time": "2020-06-03T15:06:37.952706Z",
     "start_time": "2020-06-03T15:06:37.895476Z"
    }
   },
   "outputs": [
    {
     "data": {
      "text/html": [
       "<div>\n",
       "<style scoped>\n",
       "    .dataframe tbody tr th:only-of-type {\n",
       "        vertical-align: middle;\n",
       "    }\n",
       "\n",
       "    .dataframe tbody tr th {\n",
       "        vertical-align: top;\n",
       "    }\n",
       "\n",
       "    .dataframe thead th {\n",
       "        text-align: right;\n",
       "    }\n",
       "</style>\n",
       "<table border=\"1\" class=\"dataframe\">\n",
       "  <thead>\n",
       "    <tr style=\"text-align: right;\">\n",
       "      <th></th>\n",
       "      <th>author</th>\n",
       "      <th>subreddit</th>\n",
       "      <th>posts</th>\n",
       "    </tr>\n",
       "  </thead>\n",
       "  <tbody>\n",
       "    <tr>\n",
       "      <th>488</th>\n",
       "      <td>485</td>\n",
       "      <td>BakaNewsJP</td>\n",
       "      <td>2008.000000</td>\n",
       "    </tr>\n",
       "    <tr>\n",
       "      <th>540</th>\n",
       "      <td>537</td>\n",
       "      <td>IceCells</td>\n",
       "      <td>2560.000000</td>\n",
       "    </tr>\n",
       "    <tr>\n",
       "      <th>677</th>\n",
       "      <td>674</td>\n",
       "      <td>de</td>\n",
       "      <td>3326.000000</td>\n",
       "    </tr>\n",
       "    <tr>\n",
       "      <th>890</th>\n",
       "      <td>883</td>\n",
       "      <td>SteamTradingCards</td>\n",
       "      <td>5218.000000</td>\n",
       "    </tr>\n",
       "    <tr>\n",
       "      <th>1341</th>\n",
       "      <td>959</td>\n",
       "      <td>nsfw</td>\n",
       "      <td>2073.000000</td>\n",
       "    </tr>\n",
       "    <tr>\n",
       "      <th>...</th>\n",
       "      <td>...</td>\n",
       "      <td>...</td>\n",
       "      <td>...</td>\n",
       "    </tr>\n",
       "    <tr>\n",
       "      <th>38347910</th>\n",
       "      <td>11873591</td>\n",
       "      <td>u_dof42704</td>\n",
       "      <td>1957.000000</td>\n",
       "    </tr>\n",
       "    <tr>\n",
       "      <th>38348341</th>\n",
       "      <td>11873676</td>\n",
       "      <td>battlemaps</td>\n",
       "      <td>2487.000000</td>\n",
       "    </tr>\n",
       "    <tr>\n",
       "      <th>38348692</th>\n",
       "      <td>11046393</td>\n",
       "      <td>russianworldcup2018</td>\n",
       "      <td>2484.000000</td>\n",
       "    </tr>\n",
       "    <tr>\n",
       "      <th>38349636</th>\n",
       "      <td>5519691</td>\n",
       "      <td>AskRedditUL</td>\n",
       "      <td>2222.000000</td>\n",
       "    </tr>\n",
       "    <tr>\n",
       "      <th>38349805</th>\n",
       "      <td>11873958</td>\n",
       "      <td>TopPicsNSFW</td>\n",
       "      <td>3542.000000</td>\n",
       "    </tr>\n",
       "  </tbody>\n",
       "</table>\n",
       "<p>2207 rows × 3 columns</p>\n",
       "</div>"
      ],
      "text/plain": [
       "            author            subreddit       posts\n",
       "488            485           BakaNewsJP 2008.000000\n",
       "540            537             IceCells 2560.000000\n",
       "677            674                   de 3326.000000\n",
       "890            883    SteamTradingCards 5218.000000\n",
       "1341           959                 nsfw 2073.000000\n",
       "...            ...                  ...         ...\n",
       "38347910  11873591           u_dof42704 1957.000000\n",
       "38348341  11873676           battlemaps 2487.000000\n",
       "38348692  11046393  russianworldcup2018 2484.000000\n",
       "38349636   5519691          AskRedditUL 2222.000000\n",
       "38349805  11873958          TopPicsNSFW 3542.000000\n",
       "\n",
       "[2207 rows x 3 columns]"
      ]
     },
     "execution_count": 54,
     "metadata": {},
     "output_type": "execute_result"
    }
   ],
   "source": [
    "df_outliers"
   ]
  },
  {
   "cell_type": "code",
   "execution_count": 55,
   "metadata": {
    "ExecuteTime": {
     "end_time": "2020-06-03T15:06:43.674321Z",
     "start_time": "2020-06-03T15:06:37.956330Z"
    }
   },
   "outputs": [],
   "source": [
    "# as a large number of posters significantly higher than the mean appear to be bots or marketers, dropping them from the dataset\n",
    "df = df[df[\"posts\"] < df_mean + (df_std * 4)].copy()"
   ]
  },
  {
   "cell_type": "code",
   "execution_count": 56,
   "metadata": {
    "ExecuteTime": {
     "end_time": "2020-06-03T15:06:54.139685Z",
     "start_time": "2020-06-03T15:06:43.678468Z"
    }
   },
   "outputs": [
    {
     "data": {
      "image/png": "[encoded data removed]",
      "text/plain": [
       "<Figure size 720x360 with 1 Axes>"
      ]
     },
     "metadata": {
      "needs_background": "light"
     },
     "output_type": "display_data"
    }
   ],
   "source": [
    "# after dropping outliers we see a more even distribution of data, though still a large number of outliers\n",
    "\n",
    "fig, ax = plt.subplots(figsize=(10, 5))\n",
    "plt.rcParams.update({'font.size': 16})\n",
    "sns.boxplot(data=df[\"posts\"], orient='h', fliersize=5, linewidth=3,\n",
    "            saturation=0.5, ax=ax)\n",
    "\n",
    "ax.set_title('Number of Posts per User, Post-Outlier Removal')\n",
    "\n",
    "ax.set_xscale(\"log\")\n",
    "plt.show()"
   ]
  },
  {
   "cell_type": "markdown",
   "metadata": {},
   "source": [
    "#### Understand Subreddit Usage per User\n",
    "* Additionally, the majority of users only post to a small number of subreddits, any user who posts to less than 10 subreddits was dropped from the analyses\n"
   ]
  },
  {
   "cell_type": "code",
   "execution_count": 57,
   "metadata": {
    "ExecuteTime": {
     "end_time": "2020-06-03T15:07:15.328823Z",
     "start_time": "2020-06-03T15:06:54.143057Z"
    }
   },
   "outputs": [
    {
     "data": {
      "image/png": "[encoded data removed]",
      "text/plain": [
       "<Figure size 720x360 with 1 Axes>"
      ]
     },
     "metadata": {
      "needs_background": "light"
     },
     "output_type": "display_data"
    }
   ],
   "source": [
    "# log scale\n",
    "fig, ax = plt.subplots(figsize=(10, 5))\n",
    "plt.rcParams.update({'font.size': 16})\n",
    "df[\"author\"].value_counts().plot(kind='hist', bins=4000, title='Number of Subreddits per User')\n",
    "plt.xlabel('Author')\n",
    "plt.ylabel('Frequency')\n",
    "ax.set_xscale(\"log\")\n",
    "plt.show()"
   ]
  },
  {
   "cell_type": "code",
   "execution_count": 58,
   "metadata": {
    "ExecuteTime": {
     "end_time": "2020-06-03T15:07:58.539741Z",
     "start_time": "2020-06-03T15:07:15.333724Z"
    }
   },
   "outputs": [],
   "source": [
    "#get dict of unique counts \n",
    "author_count = df[\"author\"].value_counts().to_dict()\n",
    "\n",
    "# add column for frequency of users\n",
    "df[\"freq\"] = [author_count[i] for i in df[\"author\"]]\n"
   ]
  },
  {
   "cell_type": "code",
   "execution_count": 59,
   "metadata": {
    "ExecuteTime": {
     "end_time": "2020-06-03T15:08:10.873609Z",
     "start_time": "2020-06-03T15:07:58.551326Z"
    }
   },
   "outputs": [],
   "source": [
    "# drop users who have posted to less than 10 subreddits, will not be useful for analysis\n",
    "df = df[df[\"freq\"] > 9].copy()\n",
    "\n",
    "# drop frequncy column\n",
    "df.drop(labels = \"freq\", axis= 1, inplace= True)\n",
    "\n",
    "# del author_count to save memory\n",
    "del author_count"
   ]
  },
  {
   "cell_type": "code",
   "execution_count": 60,
   "metadata": {
    "ExecuteTime": {
     "end_time": "2020-06-03T15:08:24.708344Z",
     "start_time": "2020-06-03T15:08:10.883612Z"
    }
   },
   "outputs": [
    {
     "data": {
      "image/png": "[encoded data removed]",
      "text/plain": [
       "<Figure size 720x360 with 1 Axes>"
      ]
     },
     "metadata": {
      "needs_background": "light"
     },
     "output_type": "display_data"
    }
   ],
   "source": [
    "# log scale\n",
    "fig, ax = plt.subplots(figsize=(10, 5))\n",
    "plt.rcParams.update({'font.size': 16})\n",
    "df[\"author\"].value_counts().plot(kind='hist', bins=4000, title='Number of Subreddits per User')\n",
    "plt.xlabel('Author')\n",
    "plt.ylabel('Frequency')\n",
    "ax.set_xscale(\"log\")\n",
    "plt.show()"
   ]
  },
  {
   "cell_type": "markdown",
   "metadata": {},
   "source": [
    "#### Combine mental health related subreddits for target variable\n",
    "* Create target variable\n",
    "* Turn into boolean, 1 for posting to mental health subreddits"
   ]
  },
  {
   "cell_type": "code",
   "execution_count": 61,
   "metadata": {
    "ExecuteTime": {
     "end_time": "2020-06-03T15:08:24.716299Z",
     "start_time": "2020-06-03T15:08:24.711481Z"
    }
   },
   "outputs": [],
   "source": [
    "#target reddits identified from r/anxiety related subreddits\n",
    "string= \"\"\"/r/mentalhealth/r/Anxiety/r/SuicideWatch/r/bipolar/r/bipolarreddit/r/depression/r/detachmentdisorder/r/dpdr/r/GFD/r/MentalHealth/r/mentalillness/r/stopselfharm/r/Agoraphobia/r/anxietydepression/r/HealthAnxiety/r/socialanxiety/r/Anxietyhelp/r/selfharm/r/OCD/r/depression_help/r/AnxietyDepression/r/antidepressants\"\"\"\n",
    "target_reddits = string.split(\"/r/\")[1:]"
   ]
  },
  {
   "cell_type": "code",
   "execution_count": 62,
   "metadata": {
    "ExecuteTime": {
     "end_time": "2020-06-03T15:08:31.693948Z",
     "start_time": "2020-06-03T15:08:24.727151Z"
    }
   },
   "outputs": [
    {
     "data": {
      "text/plain": [
       "369632"
      ]
     },
     "execution_count": 62,
     "metadata": {},
     "output_type": "execute_result"
    }
   ],
   "source": [
    "#get list of unique subreddits\n",
    "subreddits = df[\"subreddit\"].unique()\n",
    "len(subreddits)"
   ]
  },
  {
   "cell_type": "code",
   "execution_count": 63,
   "metadata": {
    "ExecuteTime": {
     "end_time": "2020-06-03T15:08:40.727243Z",
     "start_time": "2020-06-03T15:08:31.703836Z"
    }
   },
   "outputs": [
    {
     "data": {
      "text/html": [
       "<div>\n",
       "<style scoped>\n",
       "    .dataframe tbody tr th:only-of-type {\n",
       "        vertical-align: middle;\n",
       "    }\n",
       "\n",
       "    .dataframe tbody tr th {\n",
       "        vertical-align: top;\n",
       "    }\n",
       "\n",
       "    .dataframe thead th {\n",
       "        text-align: right;\n",
       "    }\n",
       "</style>\n",
       "<table border=\"1\" class=\"dataframe\">\n",
       "  <thead>\n",
       "    <tr style=\"text-align: right;\">\n",
       "      <th></th>\n",
       "      <th>author</th>\n",
       "      <th>subreddit</th>\n",
       "      <th>posts</th>\n",
       "    </tr>\n",
       "  </thead>\n",
       "  <tbody>\n",
       "    <tr>\n",
       "      <th>470</th>\n",
       "      <td>469</td>\n",
       "      <td>df_target</td>\n",
       "      <td>44.000000</td>\n",
       "    </tr>\n",
       "    <tr>\n",
       "      <th>1232</th>\n",
       "      <td>1224</td>\n",
       "      <td>df_target</td>\n",
       "      <td>10.000000</td>\n",
       "    </tr>\n",
       "    <tr>\n",
       "      <th>4581</th>\n",
       "      <td>4495</td>\n",
       "      <td>df_target</td>\n",
       "      <td>28.000000</td>\n",
       "    </tr>\n",
       "    <tr>\n",
       "      <th>5125</th>\n",
       "      <td>5021</td>\n",
       "      <td>df_target</td>\n",
       "      <td>16.000000</td>\n",
       "    </tr>\n",
       "    <tr>\n",
       "      <th>6300</th>\n",
       "      <td>6159</td>\n",
       "      <td>df_target</td>\n",
       "      <td>28.000000</td>\n",
       "    </tr>\n",
       "    <tr>\n",
       "      <th>...</th>\n",
       "      <td>...</td>\n",
       "      <td>...</td>\n",
       "      <td>...</td>\n",
       "    </tr>\n",
       "    <tr>\n",
       "      <th>40275600</th>\n",
       "      <td>3518907</td>\n",
       "      <td>df_target</td>\n",
       "      <td>6.000000</td>\n",
       "    </tr>\n",
       "    <tr>\n",
       "      <th>40276406</th>\n",
       "      <td>2486550</td>\n",
       "      <td>df_target</td>\n",
       "      <td>6.000000</td>\n",
       "    </tr>\n",
       "    <tr>\n",
       "      <th>40277455</th>\n",
       "      <td>6772860</td>\n",
       "      <td>df_target</td>\n",
       "      <td>6.000000</td>\n",
       "    </tr>\n",
       "    <tr>\n",
       "      <th>40278281</th>\n",
       "      <td>366944</td>\n",
       "      <td>df_target</td>\n",
       "      <td>6.000000</td>\n",
       "    </tr>\n",
       "    <tr>\n",
       "      <th>40278719</th>\n",
       "      <td>2562325</td>\n",
       "      <td>df_target</td>\n",
       "      <td>7.000000</td>\n",
       "    </tr>\n",
       "  </tbody>\n",
       "</table>\n",
       "<p>56319 rows × 3 columns</p>\n",
       "</div>"
      ],
      "text/plain": [
       "           author  subreddit     posts\n",
       "470           469  df_target 44.000000\n",
       "1232         1224  df_target 10.000000\n",
       "4581         4495  df_target 28.000000\n",
       "5125         5021  df_target 16.000000\n",
       "6300         6159  df_target 28.000000\n",
       "...           ...        ...       ...\n",
       "40275600  3518907  df_target  6.000000\n",
       "40276406  2486550  df_target  6.000000\n",
       "40277455  6772860  df_target  6.000000\n",
       "40278281   366944  df_target  6.000000\n",
       "40278719  2562325  df_target  7.000000\n",
       "\n",
       "[56319 rows x 3 columns]"
      ]
     },
     "execution_count": 63,
     "metadata": {},
     "output_type": "execute_result"
    }
   ],
   "source": [
    "# group together target variable\n",
    "df[\"subreddit\"] = [\"df_target\" if i in target_reddits else i for i in df[\"subreddit\"]]\n",
    "\n",
    "df[df[\"subreddit\"] == \"df_target\"]"
   ]
  },
  {
   "cell_type": "code",
   "execution_count": 64,
   "metadata": {
    "ExecuteTime": {
     "end_time": "2020-06-03T15:08:42.880485Z",
     "start_time": "2020-06-03T15:08:40.729576Z"
    }
   },
   "outputs": [
    {
     "data": {
      "text/html": [
       "<div>\n",
       "<style scoped>\n",
       "    .dataframe tbody tr th:only-of-type {\n",
       "        vertical-align: middle;\n",
       "    }\n",
       "\n",
       "    .dataframe tbody tr th {\n",
       "        vertical-align: top;\n",
       "    }\n",
       "\n",
       "    .dataframe thead th {\n",
       "        text-align: right;\n",
       "    }\n",
       "</style>\n",
       "<table border=\"1\" class=\"dataframe\">\n",
       "  <thead>\n",
       "    <tr style=\"text-align: right;\">\n",
       "      <th></th>\n",
       "      <th>author</th>\n",
       "      <th>subreddit</th>\n",
       "      <th>posts</th>\n",
       "    </tr>\n",
       "  </thead>\n",
       "  <tbody>\n",
       "    <tr>\n",
       "      <th>470</th>\n",
       "      <td>469</td>\n",
       "      <td>df_target</td>\n",
       "      <td>1.000000</td>\n",
       "    </tr>\n",
       "    <tr>\n",
       "      <th>1232</th>\n",
       "      <td>1224</td>\n",
       "      <td>df_target</td>\n",
       "      <td>1.000000</td>\n",
       "    </tr>\n",
       "    <tr>\n",
       "      <th>4581</th>\n",
       "      <td>4495</td>\n",
       "      <td>df_target</td>\n",
       "      <td>1.000000</td>\n",
       "    </tr>\n",
       "    <tr>\n",
       "      <th>5125</th>\n",
       "      <td>5021</td>\n",
       "      <td>df_target</td>\n",
       "      <td>1.000000</td>\n",
       "    </tr>\n",
       "    <tr>\n",
       "      <th>6300</th>\n",
       "      <td>6159</td>\n",
       "      <td>df_target</td>\n",
       "      <td>1.000000</td>\n",
       "    </tr>\n",
       "    <tr>\n",
       "      <th>...</th>\n",
       "      <td>...</td>\n",
       "      <td>...</td>\n",
       "      <td>...</td>\n",
       "    </tr>\n",
       "    <tr>\n",
       "      <th>40275600</th>\n",
       "      <td>3518907</td>\n",
       "      <td>df_target</td>\n",
       "      <td>1.000000</td>\n",
       "    </tr>\n",
       "    <tr>\n",
       "      <th>40276406</th>\n",
       "      <td>2486550</td>\n",
       "      <td>df_target</td>\n",
       "      <td>1.000000</td>\n",
       "    </tr>\n",
       "    <tr>\n",
       "      <th>40277455</th>\n",
       "      <td>6772860</td>\n",
       "      <td>df_target</td>\n",
       "      <td>1.000000</td>\n",
       "    </tr>\n",
       "    <tr>\n",
       "      <th>40278281</th>\n",
       "      <td>366944</td>\n",
       "      <td>df_target</td>\n",
       "      <td>1.000000</td>\n",
       "    </tr>\n",
       "    <tr>\n",
       "      <th>40278719</th>\n",
       "      <td>2562325</td>\n",
       "      <td>df_target</td>\n",
       "      <td>1.000000</td>\n",
       "    </tr>\n",
       "  </tbody>\n",
       "</table>\n",
       "<p>56319 rows × 3 columns</p>\n",
       "</div>"
      ],
      "text/plain": [
       "           author  subreddit    posts\n",
       "470           469  df_target 1.000000\n",
       "1232         1224  df_target 1.000000\n",
       "4581         4495  df_target 1.000000\n",
       "5125         5021  df_target 1.000000\n",
       "6300         6159  df_target 1.000000\n",
       "...           ...        ...      ...\n",
       "40275600  3518907  df_target 1.000000\n",
       "40276406  2486550  df_target 1.000000\n",
       "40277455  6772860  df_target 1.000000\n",
       "40278281   366944  df_target 1.000000\n",
       "40278719  2562325  df_target 1.000000\n",
       "\n",
       "[56319 rows x 3 columns]"
      ]
     },
     "execution_count": 64,
     "metadata": {},
     "output_type": "execute_result"
    }
   ],
   "source": [
    "#turn to boolean for prediction\n",
    "df.loc[df[\"subreddit\"] == \"df_target\", [\"posts\"]] = 1 \n",
    "df[df[\"subreddit\"] == \"df_target\"]"
   ]
  },
  {
   "cell_type": "code",
   "execution_count": 65,
   "metadata": {
    "ExecuteTime": {
     "end_time": "2020-06-03T15:08:43.754645Z",
     "start_time": "2020-06-03T15:08:42.883034Z"
    }
   },
   "outputs": [
    {
     "data": {
      "text/plain": [
       "470         False\n",
       "1232        False\n",
       "4581        False\n",
       "5125        False\n",
       "6300        False\n",
       "            ...  \n",
       "40275600    False\n",
       "40276406     True\n",
       "40277455     True\n",
       "40278281     True\n",
       "40278719     True\n",
       "Length: 56319, dtype: bool"
      ]
     },
     "execution_count": 65,
     "metadata": {},
     "output_type": "execute_result"
    }
   ],
   "source": [
    "#check for duplicates, boolean now so can remove\n",
    "df[df[\"subreddit\"] == \"df_target\"].duplicated()"
   ]
  },
  {
   "cell_type": "code",
   "execution_count": 66,
   "metadata": {
    "ExecuteTime": {
     "end_time": "2020-06-03T15:08:50.561816Z",
     "start_time": "2020-06-03T15:08:43.756231Z"
    }
   },
   "outputs": [],
   "source": [
    "df.drop_duplicates(inplace= True)"
   ]
  },
  {
   "cell_type": "code",
   "execution_count": 67,
   "metadata": {
    "ExecuteTime": {
     "end_time": "2020-06-03T15:08:51.470023Z",
     "start_time": "2020-06-03T15:08:50.565610Z"
    }
   },
   "outputs": [
    {
     "data": {
      "text/html": [
       "<div>\n",
       "<style scoped>\n",
       "    .dataframe tbody tr th:only-of-type {\n",
       "        vertical-align: middle;\n",
       "    }\n",
       "\n",
       "    .dataframe tbody tr th {\n",
       "        vertical-align: top;\n",
       "    }\n",
       "\n",
       "    .dataframe thead th {\n",
       "        text-align: right;\n",
       "    }\n",
       "</style>\n",
       "<table border=\"1\" class=\"dataframe\">\n",
       "  <thead>\n",
       "    <tr style=\"text-align: right;\">\n",
       "      <th></th>\n",
       "      <th>author</th>\n",
       "      <th>subreddit</th>\n",
       "      <th>posts</th>\n",
       "    </tr>\n",
       "  </thead>\n",
       "  <tbody>\n",
       "    <tr>\n",
       "      <th>470</th>\n",
       "      <td>469</td>\n",
       "      <td>df_target</td>\n",
       "      <td>1.000000</td>\n",
       "    </tr>\n",
       "    <tr>\n",
       "      <th>1232</th>\n",
       "      <td>1224</td>\n",
       "      <td>df_target</td>\n",
       "      <td>1.000000</td>\n",
       "    </tr>\n",
       "    <tr>\n",
       "      <th>4581</th>\n",
       "      <td>4495</td>\n",
       "      <td>df_target</td>\n",
       "      <td>1.000000</td>\n",
       "    </tr>\n",
       "    <tr>\n",
       "      <th>5125</th>\n",
       "      <td>5021</td>\n",
       "      <td>df_target</td>\n",
       "      <td>1.000000</td>\n",
       "    </tr>\n",
       "    <tr>\n",
       "      <th>6300</th>\n",
       "      <td>6159</td>\n",
       "      <td>df_target</td>\n",
       "      <td>1.000000</td>\n",
       "    </tr>\n",
       "    <tr>\n",
       "      <th>...</th>\n",
       "      <td>...</td>\n",
       "      <td>...</td>\n",
       "      <td>...</td>\n",
       "    </tr>\n",
       "    <tr>\n",
       "      <th>40262160</th>\n",
       "      <td>191693</td>\n",
       "      <td>df_target</td>\n",
       "      <td>1.000000</td>\n",
       "    </tr>\n",
       "    <tr>\n",
       "      <th>40271243</th>\n",
       "      <td>2268526</td>\n",
       "      <td>df_target</td>\n",
       "      <td>1.000000</td>\n",
       "    </tr>\n",
       "    <tr>\n",
       "      <th>40274874</th>\n",
       "      <td>2745368</td>\n",
       "      <td>df_target</td>\n",
       "      <td>1.000000</td>\n",
       "    </tr>\n",
       "    <tr>\n",
       "      <th>40275150</th>\n",
       "      <td>6065410</td>\n",
       "      <td>df_target</td>\n",
       "      <td>1.000000</td>\n",
       "    </tr>\n",
       "    <tr>\n",
       "      <th>40275600</th>\n",
       "      <td>3518907</td>\n",
       "      <td>df_target</td>\n",
       "      <td>1.000000</td>\n",
       "    </tr>\n",
       "  </tbody>\n",
       "</table>\n",
       "<p>42628 rows × 3 columns</p>\n",
       "</div>"
      ],
      "text/plain": [
       "           author  subreddit    posts\n",
       "470           469  df_target 1.000000\n",
       "1232         1224  df_target 1.000000\n",
       "4581         4495  df_target 1.000000\n",
       "5125         5021  df_target 1.000000\n",
       "6300         6159  df_target 1.000000\n",
       "...           ...        ...      ...\n",
       "40262160   191693  df_target 1.000000\n",
       "40271243  2268526  df_target 1.000000\n",
       "40274874  2745368  df_target 1.000000\n",
       "40275150  6065410  df_target 1.000000\n",
       "40275600  3518907  df_target 1.000000\n",
       "\n",
       "[42628 rows x 3 columns]"
      ]
     },
     "execution_count": 67,
     "metadata": {},
     "output_type": "execute_result"
    }
   ],
   "source": [
    "df[df[\"subreddit\"] == \"df_target\"]"
   ]
  },
  {
   "cell_type": "markdown",
   "metadata": {},
   "source": [
    "#### Merge Tiny Subreddits\n",
    "* High number of subreddits have less than 10 posters, often related to personal usernames, merging these into one feature \n"
   ]
  },
  {
   "cell_type": "code",
   "execution_count": 68,
   "metadata": {
    "ExecuteTime": {
     "end_time": "2020-06-03T15:08:57.885208Z",
     "start_time": "2020-06-03T15:08:51.473569Z"
    }
   },
   "outputs": [
    {
     "data": {
      "text/html": [
       "<div>\n",
       "<style scoped>\n",
       "    .dataframe tbody tr th:only-of-type {\n",
       "        vertical-align: middle;\n",
       "    }\n",
       "\n",
       "    .dataframe tbody tr th {\n",
       "        vertical-align: top;\n",
       "    }\n",
       "\n",
       "    .dataframe thead th {\n",
       "        text-align: right;\n",
       "    }\n",
       "</style>\n",
       "<table border=\"1\" class=\"dataframe\">\n",
       "  <thead>\n",
       "    <tr style=\"text-align: right;\">\n",
       "      <th></th>\n",
       "      <th>author</th>\n",
       "      <th>posts</th>\n",
       "    </tr>\n",
       "    <tr>\n",
       "      <th>subreddit</th>\n",
       "      <th></th>\n",
       "      <th></th>\n",
       "    </tr>\n",
       "  </thead>\n",
       "  <tbody>\n",
       "    <tr>\n",
       "      <th>*polhold00214</th>\n",
       "      <td>1</td>\n",
       "      <td>1</td>\n",
       "    </tr>\n",
       "    <tr>\n",
       "      <th>000000000000O0000000</th>\n",
       "      <td>1</td>\n",
       "      <td>1</td>\n",
       "    </tr>\n",
       "    <tr>\n",
       "      <th>001</th>\n",
       "      <td>1</td>\n",
       "      <td>1</td>\n",
       "    </tr>\n",
       "    <tr>\n",
       "      <th>0010000010000011001</th>\n",
       "      <td>1</td>\n",
       "      <td>1</td>\n",
       "    </tr>\n",
       "    <tr>\n",
       "      <th>0011110000110011</th>\n",
       "      <td>2</td>\n",
       "      <td>2</td>\n",
       "    </tr>\n",
       "    <tr>\n",
       "      <th>...</th>\n",
       "      <td>...</td>\n",
       "      <td>...</td>\n",
       "    </tr>\n",
       "    <tr>\n",
       "      <th>zzz</th>\n",
       "      <td>1</td>\n",
       "      <td>1</td>\n",
       "    </tr>\n",
       "    <tr>\n",
       "      <th>zzzCOLDPIZZAzzz</th>\n",
       "      <td>1</td>\n",
       "      <td>1</td>\n",
       "    </tr>\n",
       "    <tr>\n",
       "      <th>zzzz</th>\n",
       "      <td>2</td>\n",
       "      <td>2</td>\n",
       "    </tr>\n",
       "    <tr>\n",
       "      <th>zzzzz</th>\n",
       "      <td>1</td>\n",
       "      <td>1</td>\n",
       "    </tr>\n",
       "    <tr>\n",
       "      <th>zzzzzzzzzzzzzzzzzzzz</th>\n",
       "      <td>6</td>\n",
       "      <td>6</td>\n",
       "    </tr>\n",
       "  </tbody>\n",
       "</table>\n",
       "<p>317769 rows × 2 columns</p>\n",
       "</div>"
      ],
      "text/plain": [
       "                      author  posts\n",
       "subreddit                          \n",
       "*polhold00214              1      1\n",
       "000000000000O0000000       1      1\n",
       "001                        1      1\n",
       "0010000010000011001        1      1\n",
       "0011110000110011           2      2\n",
       "...                      ...    ...\n",
       "zzz                        1      1\n",
       "zzzCOLDPIZZAzzz            1      1\n",
       "zzzz                       2      2\n",
       "zzzzz                      1      1\n",
       "zzzzzzzzzzzzzzzzzzzz       6      6\n",
       "\n",
       "[317769 rows x 2 columns]"
      ]
     },
     "execution_count": 68,
     "metadata": {},
     "output_type": "execute_result"
    }
   ],
   "source": [
    "# we see over 1 million subreddits which only have one user, merging these into \"single_user_reddits\"\n",
    "single_df = df.groupby(\"subreddit\").count()[df.groupby(\"subreddit\").count()[\"author\"] < 11]\n",
    "single_df"
   ]
  },
  {
   "cell_type": "code",
   "execution_count": 69,
   "metadata": {
    "ExecuteTime": {
     "end_time": "2020-06-03T15:08:57.895642Z",
     "start_time": "2020-06-03T15:08:57.887441Z"
    }
   },
   "outputs": [],
   "source": [
    "#create list of subreddits to merge\n",
    "single_user_subreddits = single_df.index"
   ]
  },
  {
   "cell_type": "code",
   "execution_count": 70,
   "metadata": {
    "ExecuteTime": {
     "end_time": "2020-06-03T15:09:07.397459Z",
     "start_time": "2020-06-03T15:08:57.898075Z"
    }
   },
   "outputs": [],
   "source": [
    "# renaming single user subreddits to one variable\n",
    "df[\"subreddit\"] = [\"single_user_subreddits\" if i in single_user_subreddits else i for i in df[\"subreddit\"]]\n",
    "\n"
   ]
  },
  {
   "cell_type": "code",
   "execution_count": 71,
   "metadata": {
    "ExecuteTime": {
     "end_time": "2020-06-03T15:09:44.822120Z",
     "start_time": "2020-06-03T15:09:07.401638Z"
    }
   },
   "outputs": [],
   "source": [
    "# file to take through for EDA & Feature Extraction\n",
    "df.to_csv(\"/Users/samholt/GA/DSI12-lessons/projects/Capstone_Project/Capstone_MKII_DataFinal.csv'\")"
   ]
  },
  {
   "cell_type": "code",
   "execution_count": null,
   "metadata": {},
   "outputs": [],
   "source": []
  }
 ],
 "metadata": {
  "kernelspec": {
   "display_name": "Python 3",
   "language": "python",
   "name": "python3"
  },
  "language_info": {
   "codemirror_mode": {
    "name": "ipython",
    "version": 3
   },
   "file_extension": ".py",
   "mimetype": "text/x-python",
   "name": "python",
   "nbconvert_exporter": "python",
   "pygments_lexer": "ipython3",
   "version": "3.7.6"
  },
  "varInspector": {
   "cols": {
    "lenName": 16,
    "lenType": 16,
    "lenVar": 40
   },
   "kernels_config": {
    "python": {
     "delete_cmd_postfix": "",
     "delete_cmd_prefix": "del ",
     "library": "var_list.py",
     "varRefreshCmd": "print(var_dic_list())"
    },
    "r": {
     "delete_cmd_postfix": ") ",
     "delete_cmd_prefix": "rm(",
     "library": "var_list.r",
     "varRefreshCmd": "cat(var_dic_list()) "
    }
   },
   "types_to_exclude": [
    "module",
    "function",
    "builtin_function_or_method",
    "instance",
    "_Feature"
   ],
   "window_display": true
  }
 },
 "nbformat": 4,
 "nbformat_minor": 4
}
