{
 "cells": [
  {
   "cell_type": "code",
   "execution_count": 16,
   "metadata": {
    "ExecuteTime": {
     "end_time": "2020-06-01T20:13:21.482958Z",
     "start_time": "2020-06-01T20:13:21.477772Z"
    }
   },
   "outputs": [],
   "source": [
    "import pandas as pd\n",
    "import datetime as dt\n",
    "import seaborn as sns\n",
    "import matplotlib.pyplot as plt\n",
    "import numpy as np\n",
    "import scipy as scipy\n",
    "from tqdm import tqdm\n",
    "from scipy.sparse import csr_matrix\n",
    "from pandas.api.types import CategoricalDtype\n",
    "\n",
    "from sklearn.preprocessing import StandardScaler, MaxAbsScaler\n",
    "from sklearn.model_selection import train_test_split,cross_val_score, StratifiedKFold, GridSearchCV, KFold\n",
    "from sklearn.metrics import classification_report, confusion_matrix, accuracy_score, recall_score\n",
    "\n",
    "from sklearn.utils import resample\n",
    "\n",
    "from sklearn.linear_model import LogisticRegression \n",
    "from sklearn.neighbors import KNeighborsClassifier\n",
    "from sklearn.tree import DecisionTreeClassifier\n",
    "from sklearn.ensemble import BaggingClassifier, RandomForestClassifier, AdaBoostClassifier, GradientBoostingClassifier\n",
    "from sklearn.svm import LinearSVC, SVC\n",
    "from sklearn.neural_network import MLPClassifier\n",
    "from sklearn.naive_bayes import MultinomialNB\n",
    "\n",
    "\n",
    "from sklearn.metrics import plot_confusion_matrix"
   ]
  },
  {
   "cell_type": "markdown",
   "metadata": {},
   "source": [
    "#### Data Import & Initial Munging\n",
    "* Data was pulled from the bigquery pushshift.io dataset via SQL, with author, subreddit and count of number of posts from 2018\n",
    "* Full SQL query:\n",
    "    * SELECT author, subreddit, count(subreddit) FROM [fh-bigquery.reddit_posts.2018_12] WHERE author != \"[deleted]\" AND subreddit IS NOT NULL GROUP BY author, subreddit\n",
    "* Included all months for 2018 within SQL query\n"
   ]
  },
  {
   "cell_type": "code",
   "execution_count": 6,
   "metadata": {
    "ExecuteTime": {
     "end_time": "2020-06-01T19:31:18.409141Z",
     "start_time": "2020-06-01T19:30:37.092168Z"
    }
   },
   "outputs": [],
   "source": [
    "#import data, 3 files with all 2018 posts split into between\n",
    "raw_data_1 = pd.read_csv('/Users/samholt/GA/Capstone_Data_MKII/Capstone_MKII_Data_1.csv', sep = \",\")\n",
    "raw_data_2 = pd.read_csv('/Users/samholt/GA/Capstone_Data_MKII/Capstone_MKII_Data_2.csv', sep = \",\")\n",
    "raw_data_3 = pd.read_csv('/Users/samholt/GA/Capstone_Data_MKII/Capstone_MKII_Data_3.csv', sep = \",\")"
   ]
  },
  {
   "cell_type": "code",
   "execution_count": 7,
   "metadata": {
    "ExecuteTime": {
     "end_time": "2020-06-01T19:35:07.569692Z",
     "start_time": "2020-06-01T19:31:18.418877Z"
    }
   },
   "outputs": [],
   "source": [
    "# merge dataframe\n",
    "df_first = pd.merge(raw_data_1, raw_data_2, on=[\"author\", \"subreddit\"], how= \"outer\" )\n",
    "df= pd.merge(raw_data_3, df_first, on=[\"author\", \"subreddit\"], how= \"outer\" )"
   ]
  },
  {
   "cell_type": "code",
   "execution_count": 8,
   "metadata": {
    "ExecuteTime": {
     "end_time": "2020-06-01T19:35:07.829579Z",
     "start_time": "2020-06-01T19:35:07.589955Z"
    }
   },
   "outputs": [
    {
     "data": {
      "text/html": [
       "<div>\n",
       "<style scoped>\n",
       "    .dataframe tbody tr th:only-of-type {\n",
       "        vertical-align: middle;\n",
       "    }\n",
       "\n",
       "    .dataframe tbody tr th {\n",
       "        vertical-align: top;\n",
       "    }\n",
       "\n",
       "    .dataframe thead th {\n",
       "        text-align: right;\n",
       "    }\n",
       "</style>\n",
       "<table border=\"1\" class=\"dataframe\">\n",
       "  <thead>\n",
       "    <tr style=\"text-align: right;\">\n",
       "      <th></th>\n",
       "      <th>author</th>\n",
       "      <th>subreddit</th>\n",
       "      <th>f0_</th>\n",
       "      <th>f0__x</th>\n",
       "      <th>f0__y</th>\n",
       "    </tr>\n",
       "  </thead>\n",
       "  <tbody>\n",
       "    <tr>\n",
       "      <th>0</th>\n",
       "      <td>businessbrand121</td>\n",
       "      <td>business</td>\n",
       "      <td>8.0</td>\n",
       "      <td>NaN</td>\n",
       "      <td>NaN</td>\n",
       "    </tr>\n",
       "    <tr>\n",
       "      <th>1</th>\n",
       "      <td>GenericManChild</td>\n",
       "      <td>starbound</td>\n",
       "      <td>9.0</td>\n",
       "      <td>1.0</td>\n",
       "      <td>1.0</td>\n",
       "    </tr>\n",
       "    <tr>\n",
       "      <th>2</th>\n",
       "      <td>AutoModerator</td>\n",
       "      <td>AroundTheNFL</td>\n",
       "      <td>9.0</td>\n",
       "      <td>8.0</td>\n",
       "      <td>9.0</td>\n",
       "    </tr>\n",
       "    <tr>\n",
       "      <th>3</th>\n",
       "      <td>sleepinzombie</td>\n",
       "      <td>iphone</td>\n",
       "      <td>8.0</td>\n",
       "      <td>1.0</td>\n",
       "      <td>NaN</td>\n",
       "    </tr>\n",
       "    <tr>\n",
       "      <th>4</th>\n",
       "      <td>switchnbitch</td>\n",
       "      <td>GonewildAudible</td>\n",
       "      <td>8.0</td>\n",
       "      <td>NaN</td>\n",
       "      <td>7.0</td>\n",
       "    </tr>\n",
       "  </tbody>\n",
       "</table>\n",
       "</div>"
      ],
      "text/plain": [
       "             author        subreddit  f0_  f0__x  f0__y\n",
       "0  businessbrand121         business  8.0    NaN    NaN\n",
       "1   GenericManChild        starbound  9.0    1.0    1.0\n",
       "2     AutoModerator     AroundTheNFL  9.0    8.0    9.0\n",
       "3     sleepinzombie           iphone  8.0    1.0    NaN\n",
       "4      switchnbitch  GonewildAudible  8.0    NaN    7.0"
      ]
     },
     "execution_count": 8,
     "metadata": {},
     "output_type": "execute_result"
    }
   ],
   "source": [
    "#  checking to see how the merge has gone, need to deal with null values\n",
    "df.head()"
   ]
  },
  {
   "cell_type": "code",
   "execution_count": 9,
   "metadata": {
    "ExecuteTime": {
     "end_time": "2020-06-01T19:35:30.572131Z",
     "start_time": "2020-06-01T19:35:07.833019Z"
    }
   },
   "outputs": [],
   "source": [
    "#dealing with null values with 0 as they mean a user hasn't posted to that subreddit in one of the three periods\n",
    "df.fillna(0, inplace= True)"
   ]
  },
  {
   "cell_type": "code",
   "execution_count": 10,
   "metadata": {
    "ExecuteTime": {
     "end_time": "2020-06-01T19:35:30.640846Z",
     "start_time": "2020-06-01T19:35:30.578278Z"
    }
   },
   "outputs": [
    {
     "data": {
      "text/html": [
       "<div>\n",
       "<style scoped>\n",
       "    .dataframe tbody tr th:only-of-type {\n",
       "        vertical-align: middle;\n",
       "    }\n",
       "\n",
       "    .dataframe tbody tr th {\n",
       "        vertical-align: top;\n",
       "    }\n",
       "\n",
       "    .dataframe thead th {\n",
       "        text-align: right;\n",
       "    }\n",
       "</style>\n",
       "<table border=\"1\" class=\"dataframe\">\n",
       "  <thead>\n",
       "    <tr style=\"text-align: right;\">\n",
       "      <th></th>\n",
       "      <th>author</th>\n",
       "      <th>subreddit</th>\n",
       "      <th>f0_</th>\n",
       "      <th>f0__x</th>\n",
       "      <th>f0__y</th>\n",
       "    </tr>\n",
       "  </thead>\n",
       "  <tbody>\n",
       "    <tr>\n",
       "      <th>0</th>\n",
       "      <td>businessbrand121</td>\n",
       "      <td>business</td>\n",
       "      <td>8.0</td>\n",
       "      <td>0.0</td>\n",
       "      <td>0.0</td>\n",
       "    </tr>\n",
       "    <tr>\n",
       "      <th>1</th>\n",
       "      <td>GenericManChild</td>\n",
       "      <td>starbound</td>\n",
       "      <td>9.0</td>\n",
       "      <td>1.0</td>\n",
       "      <td>1.0</td>\n",
       "    </tr>\n",
       "    <tr>\n",
       "      <th>2</th>\n",
       "      <td>AutoModerator</td>\n",
       "      <td>AroundTheNFL</td>\n",
       "      <td>9.0</td>\n",
       "      <td>8.0</td>\n",
       "      <td>9.0</td>\n",
       "    </tr>\n",
       "    <tr>\n",
       "      <th>3</th>\n",
       "      <td>sleepinzombie</td>\n",
       "      <td>iphone</td>\n",
       "      <td>8.0</td>\n",
       "      <td>1.0</td>\n",
       "      <td>0.0</td>\n",
       "    </tr>\n",
       "    <tr>\n",
       "      <th>4</th>\n",
       "      <td>switchnbitch</td>\n",
       "      <td>GonewildAudible</td>\n",
       "      <td>8.0</td>\n",
       "      <td>0.0</td>\n",
       "      <td>7.0</td>\n",
       "    </tr>\n",
       "    <tr>\n",
       "      <th>...</th>\n",
       "      <td>...</td>\n",
       "      <td>...</td>\n",
       "      <td>...</td>\n",
       "      <td>...</td>\n",
       "      <td>...</td>\n",
       "    </tr>\n",
       "    <tr>\n",
       "      <th>40347429</th>\n",
       "      <td>RadiationDM</td>\n",
       "      <td>thanosdidnothingwrong</td>\n",
       "      <td>0.0</td>\n",
       "      <td>0.0</td>\n",
       "      <td>7.0</td>\n",
       "    </tr>\n",
       "    <tr>\n",
       "      <th>40347430</th>\n",
       "      <td>MrMQuackens</td>\n",
       "      <td>thanosdidnothingwrong</td>\n",
       "      <td>0.0</td>\n",
       "      <td>0.0</td>\n",
       "      <td>7.0</td>\n",
       "    </tr>\n",
       "    <tr>\n",
       "      <th>40347431</th>\n",
       "      <td>shahkabra</td>\n",
       "      <td>thanosdidnothingwrong</td>\n",
       "      <td>0.0</td>\n",
       "      <td>0.0</td>\n",
       "      <td>7.0</td>\n",
       "    </tr>\n",
       "    <tr>\n",
       "      <th>40347432</th>\n",
       "      <td>himanxk</td>\n",
       "      <td>thanosdidnothingwrong</td>\n",
       "      <td>0.0</td>\n",
       "      <td>0.0</td>\n",
       "      <td>7.0</td>\n",
       "    </tr>\n",
       "    <tr>\n",
       "      <th>40347433</th>\n",
       "      <td>BeyondDoggyHorror</td>\n",
       "      <td>thanosdidnothingwrong</td>\n",
       "      <td>0.0</td>\n",
       "      <td>0.0</td>\n",
       "      <td>7.0</td>\n",
       "    </tr>\n",
       "  </tbody>\n",
       "</table>\n",
       "<p>40347434 rows × 5 columns</p>\n",
       "</div>"
      ],
      "text/plain": [
       "                     author              subreddit  f0_  f0__x  f0__y\n",
       "0          businessbrand121               business  8.0    0.0    0.0\n",
       "1           GenericManChild              starbound  9.0    1.0    1.0\n",
       "2             AutoModerator           AroundTheNFL  9.0    8.0    9.0\n",
       "3             sleepinzombie                 iphone  8.0    1.0    0.0\n",
       "4              switchnbitch        GonewildAudible  8.0    0.0    7.0\n",
       "...                     ...                    ...  ...    ...    ...\n",
       "40347429        RadiationDM  thanosdidnothingwrong  0.0    0.0    7.0\n",
       "40347430        MrMQuackens  thanosdidnothingwrong  0.0    0.0    7.0\n",
       "40347431          shahkabra  thanosdidnothingwrong  0.0    0.0    7.0\n",
       "40347432            himanxk  thanosdidnothingwrong  0.0    0.0    7.0\n",
       "40347433  BeyondDoggyHorror  thanosdidnothingwrong  0.0    0.0    7.0\n",
       "\n",
       "[40347434 rows x 5 columns]"
      ]
     },
     "execution_count": 10,
     "metadata": {},
     "output_type": "execute_result"
    }
   ],
   "source": [
    "df"
   ]
  },
  {
   "cell_type": "code",
   "execution_count": 11,
   "metadata": {
    "ExecuteTime": {
     "end_time": "2020-06-01T19:35:32.141777Z",
     "start_time": "2020-06-01T19:35:30.642779Z"
    }
   },
   "outputs": [],
   "source": [
    "# create one variable with overall count of posts per subreddit per user\n",
    "df[\"posts\"] = df[\"f0_\"] + df[\"f0__x\"] + df[\"f0__y\"]"
   ]
  },
  {
   "cell_type": "code",
   "execution_count": 12,
   "metadata": {
    "ExecuteTime": {
     "end_time": "2020-06-01T19:36:36.100396Z",
     "start_time": "2020-06-01T19:35:32.144135Z"
    }
   },
   "outputs": [],
   "source": [
    "#drop the remaining variables\n",
    "df.drop(labels= ['f0_', 'f0__x', 'f0__y'], inplace= True, axis= 1)"
   ]
  },
  {
   "cell_type": "code",
   "execution_count": 13,
   "metadata": {
    "ExecuteTime": {
     "end_time": "2020-06-01T19:36:36.196456Z",
     "start_time": "2020-06-01T19:36:36.125627Z"
    }
   },
   "outputs": [
    {
     "name": "stdout",
     "output_type": "stream",
     "text": [
      "<class 'pandas.core.frame.DataFrame'>\n",
      "Int64Index: 40347434 entries, 0 to 40347433\n",
      "Data columns (total 3 columns):\n",
      " #   Column     Dtype  \n",
      "---  ------     -----  \n",
      " 0   author     object \n",
      " 1   subreddit  object \n",
      " 2   posts      float64\n",
      "dtypes: float64(1), object(2)\n",
      "memory usage: 1.2+ GB\n"
     ]
    }
   ],
   "source": [
    "#check for null values, \n",
    "df.info()"
   ]
  },
  {
   "cell_type": "code",
   "execution_count": 14,
   "metadata": {
    "ExecuteTime": {
     "end_time": "2020-06-01T19:36:42.945619Z",
     "start_time": "2020-06-01T19:36:36.200172Z"
    }
   },
   "outputs": [],
   "source": [
    "# overwrite raw_data to save on memory usage\n",
    "raw_data_1 = []\n",
    "raw_data_2 = []\n",
    "raw_data_3 = []"
   ]
  },
  {
   "cell_type": "code",
   "execution_count": 15,
   "metadata": {
    "ExecuteTime": {
     "end_time": "2020-06-01T19:37:15.892640Z",
     "start_time": "2020-06-01T19:36:42.948661Z"
    }
   },
   "outputs": [],
   "source": [
    "num_authors = len(df[\"author\"].unique())\n",
    "num_subreddits = len(df[\"subreddit\"].unique())\n",
    "num_posts = df[\"posts\"].sum()"
   ]
  },
  {
   "cell_type": "code",
   "execution_count": 16,
   "metadata": {
    "ExecuteTime": {
     "end_time": "2020-06-01T19:37:16.959462Z",
     "start_time": "2020-06-01T19:37:15.904440Z"
    }
   },
   "outputs": [
    {
     "data": {
      "image/png": "[encoded data removed]",
      "text/plain": [
       "<Figure size 576x576 with 1 Axes>"
      ]
     },
     "metadata": {
      "needs_background": "light"
     },
     "output_type": "display_data"
    }
   ],
   "source": [
    "labels = [num_authors, num_subreddits, num_posts]\n",
    "plt.rcParams.update({'font.size': 16})\n",
    "fig, ax = plt.subplots(figsize = (8, 8))\n",
    "plt.bar(x = [\"Users\", \"Subreddits\", \"Posts\"], height= labels, log = True)\n",
    "ax.set_ylabel(\"Unique Counts\")\n",
    "plt.show()\n"
   ]
  },
  {
   "cell_type": "markdown",
   "metadata": {},
   "source": [
    "#### Convert Authors to Numerical Key\n",
    "* As we don't want to delve into individual tastes, and to save on any issues with memory converting authors to a numerical key"
   ]
  },
  {
   "cell_type": "code",
   "execution_count": 17,
   "metadata": {
    "ExecuteTime": {
     "end_time": "2020-06-01T19:37:45.781529Z",
     "start_time": "2020-06-01T19:37:16.963077Z"
    }
   },
   "outputs": [
    {
     "data": {
      "text/plain": [
       "12196808"
      ]
     },
     "execution_count": 17,
     "metadata": {},
     "output_type": "execute_result"
    }
   ],
   "source": [
    "# get list of unique authors\n",
    "authors = df[\"author\"].unique()\n",
    "len(authors)"
   ]
  },
  {
   "cell_type": "code",
   "execution_count": 18,
   "metadata": {
    "ExecuteTime": {
     "end_time": "2020-06-01T19:37:58.073115Z",
     "start_time": "2020-06-01T19:37:45.787400Z"
    }
   },
   "outputs": [],
   "source": [
    "# creating dictionary in order to assign numerical value per author\n",
    "authors_dict = {}\n",
    "counter = 0\n",
    "for i in authors:\n",
    "    authors_dict[i] = counter\n",
    "    counter +=1"
   ]
  },
  {
   "cell_type": "code",
   "execution_count": 19,
   "metadata": {
    "ExecuteTime": {
     "end_time": "2020-06-01T19:39:53.616360Z",
     "start_time": "2020-06-01T19:37:58.085536Z"
    }
   },
   "outputs": [],
   "source": [
    "# replace authors with created numerical key\n",
    "df[\"author\"] = [authors_dict[i] for i in df[\"author\"]]"
   ]
  },
  {
   "cell_type": "code",
   "execution_count": 20,
   "metadata": {
    "ExecuteTime": {
     "end_time": "2020-06-01T19:40:07.739928Z",
     "start_time": "2020-06-01T19:39:53.634938Z"
    }
   },
   "outputs": [],
   "source": [
    "# delete dict to save memory\n",
    "del authors_dict\n",
    "del authors"
   ]
  },
  {
   "cell_type": "markdown",
   "metadata": {},
   "source": [
    "#### Checking for outliers\n",
    "* Visualisation of the data shows a number of outliers in terms of number of posts per user; high posters were often bots or spam and were removed\n"
   ]
  },
  {
   "cell_type": "code",
   "execution_count": 21,
   "metadata": {
    "ExecuteTime": {
     "end_time": "2020-06-01T19:40:15.434951Z",
     "start_time": "2020-06-01T19:40:07.754553Z"
    }
   },
   "outputs": [
    {
     "data": {
      "text/html": [
       "<div>\n",
       "<style scoped>\n",
       "    .dataframe tbody tr th:only-of-type {\n",
       "        vertical-align: middle;\n",
       "    }\n",
       "\n",
       "    .dataframe tbody tr th {\n",
       "        vertical-align: top;\n",
       "    }\n",
       "\n",
       "    .dataframe thead th {\n",
       "        text-align: right;\n",
       "    }\n",
       "</style>\n",
       "<table border=\"1\" class=\"dataframe\">\n",
       "  <thead>\n",
       "    <tr style=\"text-align: right;\">\n",
       "      <th></th>\n",
       "      <th>author</th>\n",
       "      <th>posts</th>\n",
       "    </tr>\n",
       "  </thead>\n",
       "  <tbody>\n",
       "    <tr>\n",
       "      <th>count</th>\n",
       "      <td>40347434.000000</td>\n",
       "      <td>40347434.000000</td>\n",
       "    </tr>\n",
       "    <tr>\n",
       "      <th>mean</th>\n",
       "      <td>4137176.743367</td>\n",
       "      <td>3.102450</td>\n",
       "    </tr>\n",
       "    <tr>\n",
       "      <th>std</th>\n",
       "      <td>3368923.448197</td>\n",
       "      <td>420.571889</td>\n",
       "    </tr>\n",
       "    <tr>\n",
       "      <th>min</th>\n",
       "      <td>0.000000</td>\n",
       "      <td>1.000000</td>\n",
       "    </tr>\n",
       "    <tr>\n",
       "      <th>25%</th>\n",
       "      <td>1122532.000000</td>\n",
       "      <td>1.000000</td>\n",
       "    </tr>\n",
       "    <tr>\n",
       "      <th>50%</th>\n",
       "      <td>3310141.000000</td>\n",
       "      <td>1.000000</td>\n",
       "    </tr>\n",
       "    <tr>\n",
       "      <th>75%</th>\n",
       "      <td>6514580.750000</td>\n",
       "      <td>2.000000</td>\n",
       "    </tr>\n",
       "    <tr>\n",
       "      <th>max</th>\n",
       "      <td>12196807.000000</td>\n",
       "      <td>2243748.000000</td>\n",
       "    </tr>\n",
       "  </tbody>\n",
       "</table>\n",
       "</div>"
      ],
      "text/plain": [
       "               author           posts\n",
       "count 40347434.000000 40347434.000000\n",
       "mean   4137176.743367        3.102450\n",
       "std    3368923.448197      420.571889\n",
       "min          0.000000        1.000000\n",
       "25%    1122532.000000        1.000000\n",
       "50%    3310141.000000        1.000000\n",
       "75%    6514580.750000        2.000000\n",
       "max   12196807.000000  2243748.000000"
      ]
     },
     "execution_count": 21,
     "metadata": {},
     "output_type": "execute_result"
    }
   ],
   "source": [
    "# every user has posted at least once to a specific subreddit, though seem to be a curiously high number of posts in some instances\n",
    "pd.set_option('float_format', '{:f}'.format)\n",
    "df.describe()"
   ]
  },
  {
   "cell_type": "code",
   "execution_count": 22,
   "metadata": {
    "ExecuteTime": {
     "end_time": "2020-06-01T19:40:27.898274Z",
     "start_time": "2020-06-01T19:40:15.440272Z"
    }
   },
   "outputs": [
    {
     "data": {
      "image/png": "[encoded data removed]",
      "text/plain": [
       "<Figure size 720x360 with 1 Axes>"
      ]
     },
     "metadata": {
      "needs_background": "light"
     },
     "output_type": "display_data"
    }
   ],
   "source": [
    "# check distribution of data, we see a high number of outliers which indicate strange behaviour\n",
    "\n",
    "fig, ax = plt.subplots(figsize=(10, 5))\n",
    "plt.rcParams.update({'font.size': 16})\n",
    "sns.boxplot(data=df[\"posts\"], orient='h', fliersize=5, linewidth=3,\n",
    "            saturation=0.5, ax=ax)\n",
    "\n",
    "ax.set_title('Distribution of Posts')\n",
    "ax.set_xscale(\"log\")\n",
    "plt.show()"
   ]
  },
  {
   "cell_type": "code",
   "execution_count": 23,
   "metadata": {
    "ExecuteTime": {
     "end_time": "2020-06-01T19:40:40.003281Z",
     "start_time": "2020-06-01T19:40:27.900292Z"
    }
   },
   "outputs": [
    {
     "data": {
      "text/html": [
       "<div>\n",
       "<style scoped>\n",
       "    .dataframe tbody tr th:only-of-type {\n",
       "        vertical-align: middle;\n",
       "    }\n",
       "\n",
       "    .dataframe tbody tr th {\n",
       "        vertical-align: top;\n",
       "    }\n",
       "\n",
       "    .dataframe thead th {\n",
       "        text-align: right;\n",
       "    }\n",
       "</style>\n",
       "<table border=\"1\" class=\"dataframe\">\n",
       "  <thead>\n",
       "    <tr style=\"text-align: right;\">\n",
       "      <th></th>\n",
       "      <th>author</th>\n",
       "      <th>subreddit</th>\n",
       "      <th>posts</th>\n",
       "    </tr>\n",
       "  </thead>\n",
       "  <tbody>\n",
       "    <tr>\n",
       "      <th>3993</th>\n",
       "      <td>3932</td>\n",
       "      <td>AutoNewspaper</td>\n",
       "      <td>2243748.000000</td>\n",
       "    </tr>\n",
       "    <tr>\n",
       "      <th>2848</th>\n",
       "      <td>2821</td>\n",
       "      <td>newsbotbot</td>\n",
       "      <td>819895.000000</td>\n",
       "    </tr>\n",
       "    <tr>\n",
       "      <th>4211710</th>\n",
       "      <td>2661946</td>\n",
       "      <td>TranscribersOfReddit</td>\n",
       "      <td>359610.000000</td>\n",
       "    </tr>\n",
       "    <tr>\n",
       "      <th>1702860</th>\n",
       "      <td>1321537</td>\n",
       "      <td>forexhome</td>\n",
       "      <td>345320.000000</td>\n",
       "    </tr>\n",
       "    <tr>\n",
       "      <th>2542328</th>\n",
       "      <td>1822605</td>\n",
       "      <td>removalbot</td>\n",
       "      <td>327779.000000</td>\n",
       "    </tr>\n",
       "    <tr>\n",
       "      <th>...</th>\n",
       "      <td>...</td>\n",
       "      <td>...</td>\n",
       "      <td>...</td>\n",
       "    </tr>\n",
       "    <tr>\n",
       "      <th>17058605</th>\n",
       "      <td>3681505</td>\n",
       "      <td>KotakuInAction</td>\n",
       "      <td>1.000000</td>\n",
       "    </tr>\n",
       "    <tr>\n",
       "      <th>17058604</th>\n",
       "      <td>5070668</td>\n",
       "      <td>BoJackHorseman</td>\n",
       "      <td>1.000000</td>\n",
       "    </tr>\n",
       "    <tr>\n",
       "      <th>17058603</th>\n",
       "      <td>3003823</td>\n",
       "      <td>BipolarSOs</td>\n",
       "      <td>1.000000</td>\n",
       "    </tr>\n",
       "    <tr>\n",
       "      <th>17058602</th>\n",
       "      <td>6964174</td>\n",
       "      <td>AskDocs</td>\n",
       "      <td>1.000000</td>\n",
       "    </tr>\n",
       "    <tr>\n",
       "      <th>20173717</th>\n",
       "      <td>5421151</td>\n",
       "      <td>Blackops4</td>\n",
       "      <td>1.000000</td>\n",
       "    </tr>\n",
       "  </tbody>\n",
       "</table>\n",
       "<p>40347434 rows × 3 columns</p>\n",
       "</div>"
      ],
      "text/plain": [
       "           author             subreddit          posts\n",
       "3993         3932         AutoNewspaper 2243748.000000\n",
       "2848         2821            newsbotbot  819895.000000\n",
       "4211710   2661946  TranscribersOfReddit  359610.000000\n",
       "1702860   1321537             forexhome  345320.000000\n",
       "2542328   1822605            removalbot  327779.000000\n",
       "...           ...                   ...            ...\n",
       "17058605  3681505        KotakuInAction       1.000000\n",
       "17058604  5070668        BoJackHorseman       1.000000\n",
       "17058603  3003823            BipolarSOs       1.000000\n",
       "17058602  6964174               AskDocs       1.000000\n",
       "20173717  5421151             Blackops4       1.000000\n",
       "\n",
       "[40347434 rows x 3 columns]"
      ]
     },
     "execution_count": 23,
     "metadata": {},
     "output_type": "execute_result"
    }
   ],
   "source": [
    "# we see there are a lot of bots included with these outliers which we will need to remove\n",
    "df.sort_values(by = \"posts\", axis= 0, ascending= False)"
   ]
  },
  {
   "cell_type": "code",
   "execution_count": 24,
   "metadata": {
    "ExecuteTime": {
     "end_time": "2020-06-01T19:40:40.244930Z",
     "start_time": "2020-06-01T19:40:40.008365Z"
    }
   },
   "outputs": [],
   "source": [
    "# checking how many rows are more than 4 standard deviations from the mean number of posts\n",
    "df_mean = df[\"posts\"].mean()\n",
    "df_std = df[\"posts\"].std()\n",
    "df_outliers = df[df[\"posts\"] > df_mean + (df_std * 4)]"
   ]
  },
  {
   "cell_type": "code",
   "execution_count": 25,
   "metadata": {
    "ExecuteTime": {
     "end_time": "2020-06-01T19:40:40.261797Z",
     "start_time": "2020-06-01T19:40:40.246670Z"
    }
   },
   "outputs": [
    {
     "data": {
      "text/html": [
       "<div>\n",
       "<style scoped>\n",
       "    .dataframe tbody tr th:only-of-type {\n",
       "        vertical-align: middle;\n",
       "    }\n",
       "\n",
       "    .dataframe tbody tr th {\n",
       "        vertical-align: top;\n",
       "    }\n",
       "\n",
       "    .dataframe thead th {\n",
       "        text-align: right;\n",
       "    }\n",
       "</style>\n",
       "<table border=\"1\" class=\"dataframe\">\n",
       "  <thead>\n",
       "    <tr style=\"text-align: right;\">\n",
       "      <th></th>\n",
       "      <th>author</th>\n",
       "      <th>subreddit</th>\n",
       "      <th>posts</th>\n",
       "    </tr>\n",
       "  </thead>\n",
       "  <tbody>\n",
       "    <tr>\n",
       "      <th>488</th>\n",
       "      <td>485</td>\n",
       "      <td>BakaNewsJP</td>\n",
       "      <td>2008.000000</td>\n",
       "    </tr>\n",
       "    <tr>\n",
       "      <th>540</th>\n",
       "      <td>537</td>\n",
       "      <td>IceCells</td>\n",
       "      <td>2560.000000</td>\n",
       "    </tr>\n",
       "    <tr>\n",
       "      <th>677</th>\n",
       "      <td>674</td>\n",
       "      <td>de</td>\n",
       "      <td>3326.000000</td>\n",
       "    </tr>\n",
       "    <tr>\n",
       "      <th>890</th>\n",
       "      <td>883</td>\n",
       "      <td>SteamTradingCards</td>\n",
       "      <td>5218.000000</td>\n",
       "    </tr>\n",
       "    <tr>\n",
       "      <th>1341</th>\n",
       "      <td>959</td>\n",
       "      <td>nsfw</td>\n",
       "      <td>2073.000000</td>\n",
       "    </tr>\n",
       "    <tr>\n",
       "      <th>...</th>\n",
       "      <td>...</td>\n",
       "      <td>...</td>\n",
       "      <td>...</td>\n",
       "    </tr>\n",
       "    <tr>\n",
       "      <th>38347910</th>\n",
       "      <td>11873591</td>\n",
       "      <td>u_dof42704</td>\n",
       "      <td>1957.000000</td>\n",
       "    </tr>\n",
       "    <tr>\n",
       "      <th>38348341</th>\n",
       "      <td>11873676</td>\n",
       "      <td>battlemaps</td>\n",
       "      <td>2487.000000</td>\n",
       "    </tr>\n",
       "    <tr>\n",
       "      <th>38348692</th>\n",
       "      <td>11046393</td>\n",
       "      <td>russianworldcup2018</td>\n",
       "      <td>2484.000000</td>\n",
       "    </tr>\n",
       "    <tr>\n",
       "      <th>38349636</th>\n",
       "      <td>5519691</td>\n",
       "      <td>AskRedditUL</td>\n",
       "      <td>2222.000000</td>\n",
       "    </tr>\n",
       "    <tr>\n",
       "      <th>38349805</th>\n",
       "      <td>11873958</td>\n",
       "      <td>TopPicsNSFW</td>\n",
       "      <td>3542.000000</td>\n",
       "    </tr>\n",
       "  </tbody>\n",
       "</table>\n",
       "<p>2207 rows × 3 columns</p>\n",
       "</div>"
      ],
      "text/plain": [
       "            author            subreddit       posts\n",
       "488            485           BakaNewsJP 2008.000000\n",
       "540            537             IceCells 2560.000000\n",
       "677            674                   de 3326.000000\n",
       "890            883    SteamTradingCards 5218.000000\n",
       "1341           959                 nsfw 2073.000000\n",
       "...            ...                  ...         ...\n",
       "38347910  11873591           u_dof42704 1957.000000\n",
       "38348341  11873676           battlemaps 2487.000000\n",
       "38348692  11046393  russianworldcup2018 2484.000000\n",
       "38349636   5519691          AskRedditUL 2222.000000\n",
       "38349805  11873958          TopPicsNSFW 3542.000000\n",
       "\n",
       "[2207 rows x 3 columns]"
      ]
     },
     "execution_count": 25,
     "metadata": {},
     "output_type": "execute_result"
    }
   ],
   "source": [
    "df_outliers"
   ]
  },
  {
   "cell_type": "code",
   "execution_count": 26,
   "metadata": {
    "ExecuteTime": {
     "end_time": "2020-06-01T19:40:45.977917Z",
     "start_time": "2020-06-01T19:40:40.263226Z"
    }
   },
   "outputs": [],
   "source": [
    "# as a large number of posters significantly higher than the mean appear to be bots or marketers, dropping them from the dataset\n",
    "df = df[df[\"posts\"] < df_mean + (df_std * 4)].copy()"
   ]
  },
  {
   "cell_type": "code",
   "execution_count": 27,
   "metadata": {
    "ExecuteTime": {
     "end_time": "2020-06-01T19:40:56.824178Z",
     "start_time": "2020-06-01T19:40:45.981815Z"
    }
   },
   "outputs": [
    {
     "data": {
      "image/png": "[encoded data removed]",
      "text/plain": [
       "<Figure size 720x360 with 1 Axes>"
      ]
     },
     "metadata": {
      "needs_background": "light"
     },
     "output_type": "display_data"
    }
   ],
   "source": [
    "# after dropping outliers we see a more even distribution of data, though still a large number of outliers\n",
    "\n",
    "fig, ax = plt.subplots(figsize=(10, 5))\n",
    "plt.rcParams.update({'font.size': 16})\n",
    "sns.boxplot(data=df[\"posts\"], orient='h', fliersize=5, linewidth=3,\n",
    "            saturation=0.5, ax=ax)\n",
    "\n",
    "ax.set_title('Distribution of Posts')\n",
    "ax.set_xscale(\"log\")\n",
    "plt.show()"
   ]
  },
  {
   "cell_type": "code",
   "execution_count": 28,
   "metadata": {
    "ExecuteTime": {
     "end_time": "2020-06-01T19:40:56.836348Z",
     "start_time": "2020-06-01T19:40:56.825831Z"
    }
   },
   "outputs": [
    {
     "name": "stdout",
     "output_type": "stream",
     "text": [
      "<class 'pandas.core.frame.DataFrame'>\n",
      "Int64Index: 40345227 entries, 0 to 40347433\n",
      "Data columns (total 3 columns):\n",
      " #   Column     Dtype  \n",
      "---  ------     -----  \n",
      " 0   author     int64  \n",
      " 1   subreddit  object \n",
      " 2   posts      float64\n",
      "dtypes: float64(1), int64(1), object(1)\n",
      "memory usage: 1.2+ GB\n"
     ]
    }
   ],
   "source": [
    "df.info()"
   ]
  },
  {
   "cell_type": "markdown",
   "metadata": {},
   "source": [
    "#### Understand Subreddit Usage per User\n",
    "* Additionally, the majority of users only post to a small number of subreddits, any user who posts to less than 10 subreddits was dropped from the analyses\n"
   ]
  },
  {
   "cell_type": "code",
   "execution_count": 29,
   "metadata": {
    "ExecuteTime": {
     "end_time": "2020-06-01T19:40:56.912131Z",
     "start_time": "2020-06-01T19:40:56.839405Z"
    }
   },
   "outputs": [
    {
     "data": {
      "text/html": [
       "<div>\n",
       "<style scoped>\n",
       "    .dataframe tbody tr th:only-of-type {\n",
       "        vertical-align: middle;\n",
       "    }\n",
       "\n",
       "    .dataframe tbody tr th {\n",
       "        vertical-align: top;\n",
       "    }\n",
       "\n",
       "    .dataframe thead th {\n",
       "        text-align: right;\n",
       "    }\n",
       "</style>\n",
       "<table border=\"1\" class=\"dataframe\">\n",
       "  <thead>\n",
       "    <tr style=\"text-align: right;\">\n",
       "      <th></th>\n",
       "      <th>author</th>\n",
       "      <th>subreddit</th>\n",
       "      <th>posts</th>\n",
       "    </tr>\n",
       "  </thead>\n",
       "  <tbody>\n",
       "    <tr>\n",
       "      <th>4</th>\n",
       "      <td>4</td>\n",
       "      <td>GonewildAudible</td>\n",
       "      <td>15.000000</td>\n",
       "    </tr>\n",
       "    <tr>\n",
       "      <th>1693352</th>\n",
       "      <td>4</td>\n",
       "      <td>switchnbitch</td>\n",
       "      <td>35.000000</td>\n",
       "    </tr>\n",
       "    <tr>\n",
       "      <th>2777521</th>\n",
       "      <td>4</td>\n",
       "      <td>cassratesdickpics</td>\n",
       "      <td>1.000000</td>\n",
       "    </tr>\n",
       "    <tr>\n",
       "      <th>4205588</th>\n",
       "      <td>4</td>\n",
       "      <td>gonewildaudio</td>\n",
       "      <td>42.000000</td>\n",
       "    </tr>\n",
       "    <tr>\n",
       "      <th>4714720</th>\n",
       "      <td>4</td>\n",
       "      <td>GWABackstage</td>\n",
       "      <td>4.000000</td>\n",
       "    </tr>\n",
       "    <tr>\n",
       "      <th>6200926</th>\n",
       "      <td>4</td>\n",
       "      <td>PlayfulsIdeaBox</td>\n",
       "      <td>1.000000</td>\n",
       "    </tr>\n",
       "    <tr>\n",
       "      <th>9177783</th>\n",
       "      <td>4</td>\n",
       "      <td>winterspineapples</td>\n",
       "      <td>2.000000</td>\n",
       "    </tr>\n",
       "    <tr>\n",
       "      <th>12143326</th>\n",
       "      <td>4</td>\n",
       "      <td>DarkSidePlayground</td>\n",
       "      <td>4.000000</td>\n",
       "    </tr>\n",
       "    <tr>\n",
       "      <th>15869484</th>\n",
       "      <td>4</td>\n",
       "      <td>bubblegumfetish</td>\n",
       "      <td>1.000000</td>\n",
       "    </tr>\n",
       "    <tr>\n",
       "      <th>19397261</th>\n",
       "      <td>4</td>\n",
       "      <td>ShittyVeganFoodPorn</td>\n",
       "      <td>1.000000</td>\n",
       "    </tr>\n",
       "    <tr>\n",
       "      <th>20225125</th>\n",
       "      <td>4</td>\n",
       "      <td>WhereTheVoicesAre</td>\n",
       "      <td>10.000000</td>\n",
       "    </tr>\n",
       "    <tr>\n",
       "      <th>22672567</th>\n",
       "      <td>4</td>\n",
       "      <td>veganpizza</td>\n",
       "      <td>1.000000</td>\n",
       "    </tr>\n",
       "    <tr>\n",
       "      <th>37331785</th>\n",
       "      <td>4</td>\n",
       "      <td>gonewildaudioCafe</td>\n",
       "      <td>3.000000</td>\n",
       "    </tr>\n",
       "  </tbody>\n",
       "</table>\n",
       "</div>"
      ],
      "text/plain": [
       "          author            subreddit     posts\n",
       "4              4      GonewildAudible 15.000000\n",
       "1693352        4         switchnbitch 35.000000\n",
       "2777521        4    cassratesdickpics  1.000000\n",
       "4205588        4        gonewildaudio 42.000000\n",
       "4714720        4         GWABackstage  4.000000\n",
       "6200926        4      PlayfulsIdeaBox  1.000000\n",
       "9177783        4    winterspineapples  2.000000\n",
       "12143326       4   DarkSidePlayground  4.000000\n",
       "15869484       4      bubblegumfetish  1.000000\n",
       "19397261       4  ShittyVeganFoodPorn  1.000000\n",
       "20225125       4    WhereTheVoicesAre 10.000000\n",
       "22672567       4           veganpizza  1.000000\n",
       "37331785       4    gonewildaudioCafe  3.000000"
      ]
     },
     "execution_count": 29,
     "metadata": {},
     "output_type": "execute_result"
    }
   ],
   "source": [
    "df[df[\"author\"] == 4]"
   ]
  },
  {
   "cell_type": "code",
   "execution_count": 30,
   "metadata": {
    "ExecuteTime": {
     "end_time": "2020-06-01T19:41:15.146705Z",
     "start_time": "2020-06-01T19:40:56.914126Z"
    }
   },
   "outputs": [
    {
     "data": {
      "image/png": "[encoded data removed]",
      "text/plain": [
       "<Figure size 720x360 with 1 Axes>"
      ]
     },
     "metadata": {
      "needs_background": "light"
     },
     "output_type": "display_data"
    }
   ],
   "source": [
    "# log scale\n",
    "fig, ax = plt.subplots(figsize=(10, 5))\n",
    "plt.rcParams.update({'font.size': 16})\n",
    "df[\"author\"].value_counts().plot(kind='hist', bins=4000, title='Distribution of Subreddits per User')\n",
    "plt.xlabel('Author')\n",
    "plt.ylabel('Frequency')\n",
    "ax.set_xscale(\"log\")\n",
    "plt.show()"
   ]
  },
  {
   "cell_type": "code",
   "execution_count": 31,
   "metadata": {
    "ExecuteTime": {
     "end_time": "2020-06-01T19:41:56.526932Z",
     "start_time": "2020-06-01T19:41:15.167064Z"
    }
   },
   "outputs": [],
   "source": [
    "#get dict of unique counts \n",
    "author_count = df[\"author\"].value_counts().to_dict()\n",
    "\n",
    "# add column for frequency of users\n",
    "df[\"freq\"] = [author_count[i] for i in df[\"author\"]]\n"
   ]
  },
  {
   "cell_type": "code",
   "execution_count": 32,
   "metadata": {
    "ExecuteTime": {
     "end_time": "2020-06-01T19:42:04.969400Z",
     "start_time": "2020-06-01T19:41:56.562451Z"
    }
   },
   "outputs": [],
   "source": [
    "# drop users who have posted to less than 10 subreddits, will not be useful for analysis\n",
    "df = df[df[\"freq\"] > 9].copy()\n",
    "\n",
    "# drop frequncy column\n",
    "df.drop(labels = \"freq\", axis= 1, inplace= True)\n",
    "\n",
    "# del author_count to save memory\n",
    "del author_count"
   ]
  },
  {
   "cell_type": "code",
   "execution_count": 33,
   "metadata": {
    "ExecuteTime": {
     "end_time": "2020-06-01T19:42:14.096349Z",
     "start_time": "2020-06-01T19:42:04.971070Z"
    }
   },
   "outputs": [
    {
     "data": {
      "image/png": "[encoded data removed]",
      "text/plain": [
       "<Figure size 720x360 with 1 Axes>"
      ]
     },
     "metadata": {
      "needs_background": "light"
     },
     "output_type": "display_data"
    }
   ],
   "source": [
    "# log scale\n",
    "fig, ax = plt.subplots(figsize=(10, 5))\n",
    "plt.rcParams.update({'font.size': 16})\n",
    "df[\"author\"].value_counts().plot(kind='hist', bins=4000, title='Distribution of Subreddits per User')\n",
    "plt.xlabel('Author')\n",
    "plt.ylabel('Frequency')\n",
    "ax.set_xscale(\"log\")\n",
    "plt.show()"
   ]
  },
  {
   "cell_type": "code",
   "execution_count": 34,
   "metadata": {
    "ExecuteTime": {
     "end_time": "2020-06-01T19:42:14.109114Z",
     "start_time": "2020-06-01T19:42:14.097799Z"
    }
   },
   "outputs": [
    {
     "data": {
      "text/html": [
       "<div>\n",
       "<style scoped>\n",
       "    .dataframe tbody tr th:only-of-type {\n",
       "        vertical-align: middle;\n",
       "    }\n",
       "\n",
       "    .dataframe tbody tr th {\n",
       "        vertical-align: top;\n",
       "    }\n",
       "\n",
       "    .dataframe thead th {\n",
       "        text-align: right;\n",
       "    }\n",
       "</style>\n",
       "<table border=\"1\" class=\"dataframe\">\n",
       "  <thead>\n",
       "    <tr style=\"text-align: right;\">\n",
       "      <th></th>\n",
       "      <th>author</th>\n",
       "      <th>subreddit</th>\n",
       "      <th>posts</th>\n",
       "    </tr>\n",
       "  </thead>\n",
       "  <tbody>\n",
       "    <tr>\n",
       "      <th>1</th>\n",
       "      <td>1</td>\n",
       "      <td>starbound</td>\n",
       "      <td>11.000000</td>\n",
       "    </tr>\n",
       "    <tr>\n",
       "      <th>2</th>\n",
       "      <td>2</td>\n",
       "      <td>AroundTheNFL</td>\n",
       "      <td>26.000000</td>\n",
       "    </tr>\n",
       "    <tr>\n",
       "      <th>3</th>\n",
       "      <td>3</td>\n",
       "      <td>iphone</td>\n",
       "      <td>9.000000</td>\n",
       "    </tr>\n",
       "    <tr>\n",
       "      <th>4</th>\n",
       "      <td>4</td>\n",
       "      <td>GonewildAudible</td>\n",
       "      <td>15.000000</td>\n",
       "    </tr>\n",
       "    <tr>\n",
       "      <th>5</th>\n",
       "      <td>5</td>\n",
       "      <td>news</td>\n",
       "      <td>15.000000</td>\n",
       "    </tr>\n",
       "    <tr>\n",
       "      <th>...</th>\n",
       "      <td>...</td>\n",
       "      <td>...</td>\n",
       "      <td>...</td>\n",
       "    </tr>\n",
       "    <tr>\n",
       "      <th>40347429</th>\n",
       "      <td>258854</td>\n",
       "      <td>thanosdidnothingwrong</td>\n",
       "      <td>7.000000</td>\n",
       "    </tr>\n",
       "    <tr>\n",
       "      <th>40347430</th>\n",
       "      <td>3021827</td>\n",
       "      <td>thanosdidnothingwrong</td>\n",
       "      <td>7.000000</td>\n",
       "    </tr>\n",
       "    <tr>\n",
       "      <th>40347431</th>\n",
       "      <td>218376</td>\n",
       "      <td>thanosdidnothingwrong</td>\n",
       "      <td>7.000000</td>\n",
       "    </tr>\n",
       "    <tr>\n",
       "      <th>40347432</th>\n",
       "      <td>268449</td>\n",
       "      <td>thanosdidnothingwrong</td>\n",
       "      <td>7.000000</td>\n",
       "    </tr>\n",
       "    <tr>\n",
       "      <th>40347433</th>\n",
       "      <td>1128992</td>\n",
       "      <td>thanosdidnothingwrong</td>\n",
       "      <td>7.000000</td>\n",
       "    </tr>\n",
       "  </tbody>\n",
       "</table>\n",
       "<p>15277324 rows × 3 columns</p>\n",
       "</div>"
      ],
      "text/plain": [
       "           author              subreddit     posts\n",
       "1               1              starbound 11.000000\n",
       "2               2           AroundTheNFL 26.000000\n",
       "3               3                 iphone  9.000000\n",
       "4               4        GonewildAudible 15.000000\n",
       "5               5                   news 15.000000\n",
       "...           ...                    ...       ...\n",
       "40347429   258854  thanosdidnothingwrong  7.000000\n",
       "40347430  3021827  thanosdidnothingwrong  7.000000\n",
       "40347431   218376  thanosdidnothingwrong  7.000000\n",
       "40347432   268449  thanosdidnothingwrong  7.000000\n",
       "40347433  1128992  thanosdidnothingwrong  7.000000\n",
       "\n",
       "[15277324 rows x 3 columns]"
      ]
     },
     "execution_count": 34,
     "metadata": {},
     "output_type": "execute_result"
    }
   ],
   "source": [
    "df"
   ]
  },
  {
   "cell_type": "markdown",
   "metadata": {},
   "source": [
    "\n",
    "#### Combine mental health related subreddits for target variable\n",
    "* Create target variable\n",
    "* Turn into boolean, 1 for posting to mental health subreddits"
   ]
  },
  {
   "cell_type": "code",
   "execution_count": 35,
   "metadata": {
    "ExecuteTime": {
     "end_time": "2020-06-01T19:42:14.114601Z",
     "start_time": "2020-06-01T19:42:14.110941Z"
    }
   },
   "outputs": [],
   "source": [
    "#target reddits identified from r/anxiety related subreddits\n",
    "string= \"\"\"/r/mentalhealth/r/Anxiety/r/SuicideWatch/r/bipolar/r/bipolarreddit/r/depression/r/detachmentdisorder/r/dpdr/r/GFD/r/MentalHealth/r/mentalillness/r/stopselfharm/r/Agoraphobia/r/anxietydepression/r/HealthAnxiety/r/socialanxiety/r/Anxietyhelp\"\"\"\n",
    "target_reddits = string.split(\"/r/\")[1:]\n"
   ]
  },
  {
   "cell_type": "code",
   "execution_count": 36,
   "metadata": {
    "ExecuteTime": {
     "end_time": "2020-06-01T19:42:15.018006Z",
     "start_time": "2020-06-01T19:42:14.116633Z"
    }
   },
   "outputs": [
    {
     "data": {
      "text/html": [
       "<div>\n",
       "<style scoped>\n",
       "    .dataframe tbody tr th:only-of-type {\n",
       "        vertical-align: middle;\n",
       "    }\n",
       "\n",
       "    .dataframe tbody tr th {\n",
       "        vertical-align: top;\n",
       "    }\n",
       "\n",
       "    .dataframe thead th {\n",
       "        text-align: right;\n",
       "    }\n",
       "</style>\n",
       "<table border=\"1\" class=\"dataframe\">\n",
       "  <thead>\n",
       "    <tr style=\"text-align: right;\">\n",
       "      <th></th>\n",
       "      <th>author</th>\n",
       "      <th>subreddit</th>\n",
       "      <th>posts</th>\n",
       "    </tr>\n",
       "  </thead>\n",
       "  <tbody>\n",
       "    <tr>\n",
       "      <th>470</th>\n",
       "      <td>469</td>\n",
       "      <td>depression</td>\n",
       "      <td>44.000000</td>\n",
       "    </tr>\n",
       "    <tr>\n",
       "      <th>1232</th>\n",
       "      <td>1224</td>\n",
       "      <td>depression</td>\n",
       "      <td>10.000000</td>\n",
       "    </tr>\n",
       "    <tr>\n",
       "      <th>4581</th>\n",
       "      <td>4495</td>\n",
       "      <td>depression</td>\n",
       "      <td>28.000000</td>\n",
       "    </tr>\n",
       "    <tr>\n",
       "      <th>5125</th>\n",
       "      <td>5021</td>\n",
       "      <td>depression</td>\n",
       "      <td>16.000000</td>\n",
       "    </tr>\n",
       "    <tr>\n",
       "      <th>6345</th>\n",
       "      <td>6204</td>\n",
       "      <td>depression</td>\n",
       "      <td>17.000000</td>\n",
       "    </tr>\n",
       "    <tr>\n",
       "      <th>...</th>\n",
       "      <td>...</td>\n",
       "      <td>...</td>\n",
       "      <td>...</td>\n",
       "    </tr>\n",
       "    <tr>\n",
       "      <th>40262160</th>\n",
       "      <td>191693</td>\n",
       "      <td>depression</td>\n",
       "      <td>4.000000</td>\n",
       "    </tr>\n",
       "    <tr>\n",
       "      <th>40274874</th>\n",
       "      <td>2745368</td>\n",
       "      <td>depression</td>\n",
       "      <td>6.000000</td>\n",
       "    </tr>\n",
       "    <tr>\n",
       "      <th>40275600</th>\n",
       "      <td>3518907</td>\n",
       "      <td>depression</td>\n",
       "      <td>6.000000</td>\n",
       "    </tr>\n",
       "    <tr>\n",
       "      <th>40276406</th>\n",
       "      <td>2486550</td>\n",
       "      <td>depression</td>\n",
       "      <td>6.000000</td>\n",
       "    </tr>\n",
       "    <tr>\n",
       "      <th>40277455</th>\n",
       "      <td>6772860</td>\n",
       "      <td>depression</td>\n",
       "      <td>6.000000</td>\n",
       "    </tr>\n",
       "  </tbody>\n",
       "</table>\n",
       "<p>19119 rows × 3 columns</p>\n",
       "</div>"
      ],
      "text/plain": [
       "           author   subreddit     posts\n",
       "470           469  depression 44.000000\n",
       "1232         1224  depression 10.000000\n",
       "4581         4495  depression 28.000000\n",
       "5125         5021  depression 16.000000\n",
       "6345         6204  depression 17.000000\n",
       "...           ...         ...       ...\n",
       "40262160   191693  depression  4.000000\n",
       "40274874  2745368  depression  6.000000\n",
       "40275600  3518907  depression  6.000000\n",
       "40276406  2486550  depression  6.000000\n",
       "40277455  6772860  depression  6.000000\n",
       "\n",
       "[19119 rows x 3 columns]"
      ]
     },
     "execution_count": 36,
     "metadata": {},
     "output_type": "execute_result"
    }
   ],
   "source": [
    "df[df[\"subreddit\"] == \"depression\"]"
   ]
  },
  {
   "cell_type": "code",
   "execution_count": 37,
   "metadata": {
    "ExecuteTime": {
     "end_time": "2020-06-01T19:42:16.609025Z",
     "start_time": "2020-06-01T19:42:15.019875Z"
    }
   },
   "outputs": [
    {
     "data": {
      "text/plain": [
       "369632"
      ]
     },
     "execution_count": 37,
     "metadata": {},
     "output_type": "execute_result"
    }
   ],
   "source": [
    "#get list of unique subreddits\n",
    "subreddits = df[\"subreddit\"].unique()\n",
    "len(subreddits)"
   ]
  },
  {
   "cell_type": "code",
   "execution_count": 38,
   "metadata": {
    "ExecuteTime": {
     "end_time": "2020-06-01T19:42:22.731980Z",
     "start_time": "2020-06-01T19:42:16.610729Z"
    }
   },
   "outputs": [
    {
     "data": {
      "text/html": [
       "<div>\n",
       "<style scoped>\n",
       "    .dataframe tbody tr th:only-of-type {\n",
       "        vertical-align: middle;\n",
       "    }\n",
       "\n",
       "    .dataframe tbody tr th {\n",
       "        vertical-align: top;\n",
       "    }\n",
       "\n",
       "    .dataframe thead th {\n",
       "        text-align: right;\n",
       "    }\n",
       "</style>\n",
       "<table border=\"1\" class=\"dataframe\">\n",
       "  <thead>\n",
       "    <tr style=\"text-align: right;\">\n",
       "      <th></th>\n",
       "      <th>author</th>\n",
       "      <th>subreddit</th>\n",
       "      <th>posts</th>\n",
       "    </tr>\n",
       "  </thead>\n",
       "  <tbody>\n",
       "    <tr>\n",
       "      <th>470</th>\n",
       "      <td>469</td>\n",
       "      <td>df_target</td>\n",
       "      <td>44.000000</td>\n",
       "    </tr>\n",
       "    <tr>\n",
       "      <th>1232</th>\n",
       "      <td>1224</td>\n",
       "      <td>df_target</td>\n",
       "      <td>10.000000</td>\n",
       "    </tr>\n",
       "    <tr>\n",
       "      <th>4581</th>\n",
       "      <td>4495</td>\n",
       "      <td>df_target</td>\n",
       "      <td>28.000000</td>\n",
       "    </tr>\n",
       "    <tr>\n",
       "      <th>5125</th>\n",
       "      <td>5021</td>\n",
       "      <td>df_target</td>\n",
       "      <td>16.000000</td>\n",
       "    </tr>\n",
       "    <tr>\n",
       "      <th>6300</th>\n",
       "      <td>6159</td>\n",
       "      <td>df_target</td>\n",
       "      <td>28.000000</td>\n",
       "    </tr>\n",
       "    <tr>\n",
       "      <th>...</th>\n",
       "      <td>...</td>\n",
       "      <td>...</td>\n",
       "      <td>...</td>\n",
       "    </tr>\n",
       "    <tr>\n",
       "      <th>40274874</th>\n",
       "      <td>2745368</td>\n",
       "      <td>df_target</td>\n",
       "      <td>6.000000</td>\n",
       "    </tr>\n",
       "    <tr>\n",
       "      <th>40275600</th>\n",
       "      <td>3518907</td>\n",
       "      <td>df_target</td>\n",
       "      <td>6.000000</td>\n",
       "    </tr>\n",
       "    <tr>\n",
       "      <th>40276406</th>\n",
       "      <td>2486550</td>\n",
       "      <td>df_target</td>\n",
       "      <td>6.000000</td>\n",
       "    </tr>\n",
       "    <tr>\n",
       "      <th>40277455</th>\n",
       "      <td>6772860</td>\n",
       "      <td>df_target</td>\n",
       "      <td>6.000000</td>\n",
       "    </tr>\n",
       "    <tr>\n",
       "      <th>40278719</th>\n",
       "      <td>2562325</td>\n",
       "      <td>df_target</td>\n",
       "      <td>7.000000</td>\n",
       "    </tr>\n",
       "  </tbody>\n",
       "</table>\n",
       "<p>50928 rows × 3 columns</p>\n",
       "</div>"
      ],
      "text/plain": [
       "           author  subreddit     posts\n",
       "470           469  df_target 44.000000\n",
       "1232         1224  df_target 10.000000\n",
       "4581         4495  df_target 28.000000\n",
       "5125         5021  df_target 16.000000\n",
       "6300         6159  df_target 28.000000\n",
       "...           ...        ...       ...\n",
       "40274874  2745368  df_target  6.000000\n",
       "40275600  3518907  df_target  6.000000\n",
       "40276406  2486550  df_target  6.000000\n",
       "40277455  6772860  df_target  6.000000\n",
       "40278719  2562325  df_target  7.000000\n",
       "\n",
       "[50928 rows x 3 columns]"
      ]
     },
     "execution_count": 38,
     "metadata": {},
     "output_type": "execute_result"
    }
   ],
   "source": [
    "# group together target variable\n",
    "df[\"subreddit\"] = [\"df_target\" if i in target_reddits else i for i in df[\"subreddit\"]]\n",
    "\n",
    "df[df[\"subreddit\"] == \"df_target\"]"
   ]
  },
  {
   "cell_type": "code",
   "execution_count": 39,
   "metadata": {
    "ExecuteTime": {
     "end_time": "2020-06-01T19:42:24.469056Z",
     "start_time": "2020-06-01T19:42:22.733783Z"
    }
   },
   "outputs": [
    {
     "data": {
      "text/html": [
       "<div>\n",
       "<style scoped>\n",
       "    .dataframe tbody tr th:only-of-type {\n",
       "        vertical-align: middle;\n",
       "    }\n",
       "\n",
       "    .dataframe tbody tr th {\n",
       "        vertical-align: top;\n",
       "    }\n",
       "\n",
       "    .dataframe thead th {\n",
       "        text-align: right;\n",
       "    }\n",
       "</style>\n",
       "<table border=\"1\" class=\"dataframe\">\n",
       "  <thead>\n",
       "    <tr style=\"text-align: right;\">\n",
       "      <th></th>\n",
       "      <th>author</th>\n",
       "      <th>subreddit</th>\n",
       "      <th>posts</th>\n",
       "    </tr>\n",
       "  </thead>\n",
       "  <tbody>\n",
       "    <tr>\n",
       "      <th>470</th>\n",
       "      <td>469</td>\n",
       "      <td>df_target</td>\n",
       "      <td>1.000000</td>\n",
       "    </tr>\n",
       "    <tr>\n",
       "      <th>1232</th>\n",
       "      <td>1224</td>\n",
       "      <td>df_target</td>\n",
       "      <td>1.000000</td>\n",
       "    </tr>\n",
       "    <tr>\n",
       "      <th>4581</th>\n",
       "      <td>4495</td>\n",
       "      <td>df_target</td>\n",
       "      <td>1.000000</td>\n",
       "    </tr>\n",
       "    <tr>\n",
       "      <th>5125</th>\n",
       "      <td>5021</td>\n",
       "      <td>df_target</td>\n",
       "      <td>1.000000</td>\n",
       "    </tr>\n",
       "    <tr>\n",
       "      <th>6300</th>\n",
       "      <td>6159</td>\n",
       "      <td>df_target</td>\n",
       "      <td>1.000000</td>\n",
       "    </tr>\n",
       "    <tr>\n",
       "      <th>...</th>\n",
       "      <td>...</td>\n",
       "      <td>...</td>\n",
       "      <td>...</td>\n",
       "    </tr>\n",
       "    <tr>\n",
       "      <th>40274874</th>\n",
       "      <td>2745368</td>\n",
       "      <td>df_target</td>\n",
       "      <td>1.000000</td>\n",
       "    </tr>\n",
       "    <tr>\n",
       "      <th>40275600</th>\n",
       "      <td>3518907</td>\n",
       "      <td>df_target</td>\n",
       "      <td>1.000000</td>\n",
       "    </tr>\n",
       "    <tr>\n",
       "      <th>40276406</th>\n",
       "      <td>2486550</td>\n",
       "      <td>df_target</td>\n",
       "      <td>1.000000</td>\n",
       "    </tr>\n",
       "    <tr>\n",
       "      <th>40277455</th>\n",
       "      <td>6772860</td>\n",
       "      <td>df_target</td>\n",
       "      <td>1.000000</td>\n",
       "    </tr>\n",
       "    <tr>\n",
       "      <th>40278719</th>\n",
       "      <td>2562325</td>\n",
       "      <td>df_target</td>\n",
       "      <td>1.000000</td>\n",
       "    </tr>\n",
       "  </tbody>\n",
       "</table>\n",
       "<p>50928 rows × 3 columns</p>\n",
       "</div>"
      ],
      "text/plain": [
       "           author  subreddit    posts\n",
       "470           469  df_target 1.000000\n",
       "1232         1224  df_target 1.000000\n",
       "4581         4495  df_target 1.000000\n",
       "5125         5021  df_target 1.000000\n",
       "6300         6159  df_target 1.000000\n",
       "...           ...        ...      ...\n",
       "40274874  2745368  df_target 1.000000\n",
       "40275600  3518907  df_target 1.000000\n",
       "40276406  2486550  df_target 1.000000\n",
       "40277455  6772860  df_target 1.000000\n",
       "40278719  2562325  df_target 1.000000\n",
       "\n",
       "[50928 rows x 3 columns]"
      ]
     },
     "execution_count": 39,
     "metadata": {},
     "output_type": "execute_result"
    }
   ],
   "source": [
    "#turn to boolean for prediction\n",
    "df.loc[df[\"subreddit\"] == \"df_target\", [\"posts\"]] = 1 \n",
    "df[df[\"subreddit\"] == \"df_target\"]"
   ]
  },
  {
   "cell_type": "code",
   "execution_count": 40,
   "metadata": {
    "ExecuteTime": {
     "end_time": "2020-06-01T19:42:25.305968Z",
     "start_time": "2020-06-01T19:42:24.470622Z"
    }
   },
   "outputs": [
    {
     "data": {
      "text/plain": [
       "470         False\n",
       "1232        False\n",
       "4581        False\n",
       "5125        False\n",
       "6300        False\n",
       "            ...  \n",
       "40274874    False\n",
       "40275600    False\n",
       "40276406     True\n",
       "40277455     True\n",
       "40278719     True\n",
       "Length: 50928, dtype: bool"
      ]
     },
     "execution_count": 40,
     "metadata": {},
     "output_type": "execute_result"
    }
   ],
   "source": [
    "#check for duplicates, boolean now so can remove\n",
    "df[df[\"subreddit\"] == \"df_target\"].duplicated()"
   ]
  },
  {
   "cell_type": "code",
   "execution_count": 41,
   "metadata": {
    "ExecuteTime": {
     "end_time": "2020-06-01T19:42:31.678369Z",
     "start_time": "2020-06-01T19:42:25.307380Z"
    }
   },
   "outputs": [],
   "source": [
    "df.drop_duplicates(inplace= True)"
   ]
  },
  {
   "cell_type": "code",
   "execution_count": 42,
   "metadata": {
    "ExecuteTime": {
     "end_time": "2020-06-01T19:42:32.578699Z",
     "start_time": "2020-06-01T19:42:31.682998Z"
    }
   },
   "outputs": [
    {
     "data": {
      "text/html": [
       "<div>\n",
       "<style scoped>\n",
       "    .dataframe tbody tr th:only-of-type {\n",
       "        vertical-align: middle;\n",
       "    }\n",
       "\n",
       "    .dataframe tbody tr th {\n",
       "        vertical-align: top;\n",
       "    }\n",
       "\n",
       "    .dataframe thead th {\n",
       "        text-align: right;\n",
       "    }\n",
       "</style>\n",
       "<table border=\"1\" class=\"dataframe\">\n",
       "  <thead>\n",
       "    <tr style=\"text-align: right;\">\n",
       "      <th></th>\n",
       "      <th>author</th>\n",
       "      <th>subreddit</th>\n",
       "      <th>posts</th>\n",
       "    </tr>\n",
       "  </thead>\n",
       "  <tbody>\n",
       "    <tr>\n",
       "      <th>470</th>\n",
       "      <td>469</td>\n",
       "      <td>df_target</td>\n",
       "      <td>1.000000</td>\n",
       "    </tr>\n",
       "    <tr>\n",
       "      <th>1232</th>\n",
       "      <td>1224</td>\n",
       "      <td>df_target</td>\n",
       "      <td>1.000000</td>\n",
       "    </tr>\n",
       "    <tr>\n",
       "      <th>4581</th>\n",
       "      <td>4495</td>\n",
       "      <td>df_target</td>\n",
       "      <td>1.000000</td>\n",
       "    </tr>\n",
       "    <tr>\n",
       "      <th>5125</th>\n",
       "      <td>5021</td>\n",
       "      <td>df_target</td>\n",
       "      <td>1.000000</td>\n",
       "    </tr>\n",
       "    <tr>\n",
       "      <th>6300</th>\n",
       "      <td>6159</td>\n",
       "      <td>df_target</td>\n",
       "      <td>1.000000</td>\n",
       "    </tr>\n",
       "    <tr>\n",
       "      <th>...</th>\n",
       "      <td>...</td>\n",
       "      <td>...</td>\n",
       "      <td>...</td>\n",
       "    </tr>\n",
       "    <tr>\n",
       "      <th>40261395</th>\n",
       "      <td>862669</td>\n",
       "      <td>df_target</td>\n",
       "      <td>1.000000</td>\n",
       "    </tr>\n",
       "    <tr>\n",
       "      <th>40262160</th>\n",
       "      <td>191693</td>\n",
       "      <td>df_target</td>\n",
       "      <td>1.000000</td>\n",
       "    </tr>\n",
       "    <tr>\n",
       "      <th>40271243</th>\n",
       "      <td>2268526</td>\n",
       "      <td>df_target</td>\n",
       "      <td>1.000000</td>\n",
       "    </tr>\n",
       "    <tr>\n",
       "      <th>40274874</th>\n",
       "      <td>2745368</td>\n",
       "      <td>df_target</td>\n",
       "      <td>1.000000</td>\n",
       "    </tr>\n",
       "    <tr>\n",
       "      <th>40275600</th>\n",
       "      <td>3518907</td>\n",
       "      <td>df_target</td>\n",
       "      <td>1.000000</td>\n",
       "    </tr>\n",
       "  </tbody>\n",
       "</table>\n",
       "<p>40212 rows × 3 columns</p>\n",
       "</div>"
      ],
      "text/plain": [
       "           author  subreddit    posts\n",
       "470           469  df_target 1.000000\n",
       "1232         1224  df_target 1.000000\n",
       "4581         4495  df_target 1.000000\n",
       "5125         5021  df_target 1.000000\n",
       "6300         6159  df_target 1.000000\n",
       "...           ...        ...      ...\n",
       "40261395   862669  df_target 1.000000\n",
       "40262160   191693  df_target 1.000000\n",
       "40271243  2268526  df_target 1.000000\n",
       "40274874  2745368  df_target 1.000000\n",
       "40275600  3518907  df_target 1.000000\n",
       "\n",
       "[40212 rows x 3 columns]"
      ]
     },
     "execution_count": 42,
     "metadata": {},
     "output_type": "execute_result"
    }
   ],
   "source": [
    "df[df[\"subreddit\"] == \"df_target\"]"
   ]
  },
  {
   "cell_type": "markdown",
   "metadata": {},
   "source": [
    "#### Merge Tiny Subreddits\n",
    "* High number of subreddits have less than 10 posters, often related to personal usernames, merging these into one feature \n"
   ]
  },
  {
   "cell_type": "code",
   "execution_count": 43,
   "metadata": {
    "ExecuteTime": {
     "end_time": "2020-06-01T19:42:38.826670Z",
     "start_time": "2020-06-01T19:42:32.584969Z"
    }
   },
   "outputs": [
    {
     "data": {
      "text/html": [
       "<div>\n",
       "<style scoped>\n",
       "    .dataframe tbody tr th:only-of-type {\n",
       "        vertical-align: middle;\n",
       "    }\n",
       "\n",
       "    .dataframe tbody tr th {\n",
       "        vertical-align: top;\n",
       "    }\n",
       "\n",
       "    .dataframe thead th {\n",
       "        text-align: right;\n",
       "    }\n",
       "</style>\n",
       "<table border=\"1\" class=\"dataframe\">\n",
       "  <thead>\n",
       "    <tr style=\"text-align: right;\">\n",
       "      <th></th>\n",
       "      <th>author</th>\n",
       "      <th>posts</th>\n",
       "    </tr>\n",
       "    <tr>\n",
       "      <th>subreddit</th>\n",
       "      <th></th>\n",
       "      <th></th>\n",
       "    </tr>\n",
       "  </thead>\n",
       "  <tbody>\n",
       "    <tr>\n",
       "      <th>*polhold00214</th>\n",
       "      <td>1</td>\n",
       "      <td>1</td>\n",
       "    </tr>\n",
       "    <tr>\n",
       "      <th>000000000000O0000000</th>\n",
       "      <td>1</td>\n",
       "      <td>1</td>\n",
       "    </tr>\n",
       "    <tr>\n",
       "      <th>001</th>\n",
       "      <td>1</td>\n",
       "      <td>1</td>\n",
       "    </tr>\n",
       "    <tr>\n",
       "      <th>0010000010000011001</th>\n",
       "      <td>1</td>\n",
       "      <td>1</td>\n",
       "    </tr>\n",
       "    <tr>\n",
       "      <th>0011110000110011</th>\n",
       "      <td>2</td>\n",
       "      <td>2</td>\n",
       "    </tr>\n",
       "    <tr>\n",
       "      <th>...</th>\n",
       "      <td>...</td>\n",
       "      <td>...</td>\n",
       "    </tr>\n",
       "    <tr>\n",
       "      <th>zzz</th>\n",
       "      <td>1</td>\n",
       "      <td>1</td>\n",
       "    </tr>\n",
       "    <tr>\n",
       "      <th>zzzCOLDPIZZAzzz</th>\n",
       "      <td>1</td>\n",
       "      <td>1</td>\n",
       "    </tr>\n",
       "    <tr>\n",
       "      <th>zzzz</th>\n",
       "      <td>2</td>\n",
       "      <td>2</td>\n",
       "    </tr>\n",
       "    <tr>\n",
       "      <th>zzzzz</th>\n",
       "      <td>1</td>\n",
       "      <td>1</td>\n",
       "    </tr>\n",
       "    <tr>\n",
       "      <th>zzzzzzzzzzzzzzzzzzzz</th>\n",
       "      <td>6</td>\n",
       "      <td>6</td>\n",
       "    </tr>\n",
       "  </tbody>\n",
       "</table>\n",
       "<p>317769 rows × 2 columns</p>\n",
       "</div>"
      ],
      "text/plain": [
       "                      author  posts\n",
       "subreddit                          \n",
       "*polhold00214              1      1\n",
       "000000000000O0000000       1      1\n",
       "001                        1      1\n",
       "0010000010000011001        1      1\n",
       "0011110000110011           2      2\n",
       "...                      ...    ...\n",
       "zzz                        1      1\n",
       "zzzCOLDPIZZAzzz            1      1\n",
       "zzzz                       2      2\n",
       "zzzzz                      1      1\n",
       "zzzzzzzzzzzzzzzzzzzz       6      6\n",
       "\n",
       "[317769 rows x 2 columns]"
      ]
     },
     "execution_count": 43,
     "metadata": {},
     "output_type": "execute_result"
    }
   ],
   "source": [
    "# we see over 1 million subreddits which only have one user, merging these into \"single_user_reddits\"\n",
    "single_df = df.groupby(\"subreddit\").count()[df.groupby(\"subreddit\").count()[\"author\"] < 11]\n",
    "single_df"
   ]
  },
  {
   "cell_type": "code",
   "execution_count": 44,
   "metadata": {
    "ExecuteTime": {
     "end_time": "2020-06-01T19:42:38.831379Z",
     "start_time": "2020-06-01T19:42:38.827971Z"
    }
   },
   "outputs": [],
   "source": [
    "single_user_subreddits = single_df.index"
   ]
  },
  {
   "cell_type": "code",
   "execution_count": 45,
   "metadata": {
    "ExecuteTime": {
     "end_time": "2020-06-01T19:42:49.616908Z",
     "start_time": "2020-06-01T19:42:38.832859Z"
    }
   },
   "outputs": [],
   "source": [
    "# renaming single user subreddits to one variable\n",
    "df[\"subreddit\"] = [\"single_user_subreddits\" if i in single_user_subreddits else i for i in df[\"subreddit\"]]\n",
    "\n",
    "# delete for memory\n",
    "del single_user_subreddits\n",
    "del single_df"
   ]
  },
  {
   "cell_type": "code",
   "execution_count": 273,
   "metadata": {
    "ExecuteTime": {
     "end_time": "2020-05-20T20:27:19.104706Z",
     "start_time": "2020-05-20T20:26:40.549625Z"
    }
   },
   "outputs": [],
   "source": [
    "#final file to take through for processing\n",
    "df.to_csv(\"/Users/samholt/GA/DSI12-lessons/projects/Capstone_Project/Capstone_MKII_DataFinal.csv'\")"
   ]
  }
 ],
 "metadata": {
  "kernelspec": {
   "display_name": "Python 3",
   "language": "python",
   "name": "python3"
  },
  "language_info": {
   "codemirror_mode": {
    "name": "ipython",
    "version": 3
   },
   "file_extension": ".py",
   "mimetype": "text/x-python",
   "name": "python",
   "nbconvert_exporter": "python",
   "pygments_lexer": "ipython3",
   "version": "3.7.6"
  },
  "varInspector": {
   "cols": {
    "lenName": 16,
    "lenType": 16,
    "lenVar": 40
   },
   "kernels_config": {
    "python": {
     "delete_cmd_postfix": "",
     "delete_cmd_prefix": "del ",
     "library": "var_list.py",
     "varRefreshCmd": "print(var_dic_list())"
    },
    "r": {
     "delete_cmd_postfix": ") ",
     "delete_cmd_prefix": "rm(",
     "library": "var_list.r",
     "varRefreshCmd": "cat(var_dic_list()) "
    }
   },
   "position": {
    "height": "378.212px",
    "left": "1755.56px",
    "right": "20px",
    "top": "120px",
    "width": "357.778px"
   },
   "types_to_exclude": [
    "module",
    "function",
    "builtin_function_or_method",
    "instance",
    "_Feature"
   ],
   "window_display": true
  }
 },
 "nbformat": 4,
 "nbformat_minor": 4
}
